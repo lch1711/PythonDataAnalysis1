{
 "cells": [
  {
   "cell_type": "code",
   "execution_count": 1,
   "id": "01051760",
   "metadata": {},
   "outputs": [],
   "source": [
    "import os\n",
    "import chardet\n",
    "import joblib\n",
    "import numpy as np\n",
    "import pandas as pd"
   ]
  },
  {
   "cell_type": "code",
   "execution_count": 2,
   "id": "1769680b",
   "metadata": {},
   "outputs": [
    {
     "data": {
      "text/plain": [
       "'C:\\\\Users\\\\hdsce\\\\Documents\\\\PythonDataAnalysis1\\\\live'"
      ]
     },
     "execution_count": 2,
     "metadata": {},
     "output_type": "execute_result"
    }
   ],
   "source": [
    "os.getcwd()"
   ]
  },
  {
   "cell_type": "code",
   "execution_count": 3,
   "id": "baabdd8f",
   "metadata": {},
   "outputs": [],
   "source": [
    "os.chdir(path = '../data')"
   ]
  },
  {
   "cell_type": "code",
   "execution_count": 4,
   "id": "0115fb4f",
   "metadata": {},
   "outputs": [
    {
     "data": {
      "text/plain": [
       "['APT_Detail_Seoul_2022.csv',\n",
       " 'APT_Detail_Seoul_2022.xlsx',\n",
       " 'APT_Merged.csv',\n",
       " 'APT_Merged.xlsx',\n",
       " 'APT_Price_Prep.z',\n",
       " 'APT_Price_Seoul_2020.csv',\n",
       " 'APT_Price_Seoul_2020_2022.csv',\n",
       " 'APT_Price_Seoul_2020_2022.xlsx',\n",
       " 'APT_Price_Seoul_2021.csv',\n",
       " 'APT_Price_Seoul_2022.csv',\n",
       " 'df1.csv',\n",
       " 'df2.csv',\n",
       " 'NA_Sample.xlsx',\n",
       " 'pivot_table.xlsx',\n",
       " 'price.csv']"
      ]
     },
     "execution_count": 4,
     "metadata": {},
     "output_type": "execute_result"
    }
   ],
   "source": [
    "os.listdir()"
   ]
  },
  {
   "cell_type": "code",
   "execution_count": 5,
   "id": "9799c00a",
   "metadata": {},
   "outputs": [],
   "source": [
    "apt = pd.read_csv('APT_Merged.csv')"
   ]
  },
  {
   "cell_type": "code",
   "execution_count": 6,
   "id": "eeab7551",
   "metadata": {},
   "outputs": [
    {
     "name": "stdout",
     "output_type": "stream",
     "text": [
      "<class 'pandas.core.frame.DataFrame'>\n",
      "RangeIndex: 132813 entries, 0 to 132812\n",
      "Data columns (total 24 columns):\n",
      " #   Column  Non-Null Count   Dtype  \n",
      "---  ------  --------------   -----  \n",
      " 0   아파트     132813 non-null  object \n",
      " 1   시       132813 non-null  object \n",
      " 2   구       132813 non-null  object \n",
      " 3   동       132813 non-null  object \n",
      " 4   지번      132813 non-null  object \n",
      " 5   건축년도    132813 non-null  int64  \n",
      " 6   거래일     132813 non-null  object \n",
      " 7   전용면적    132813 non-null  float64\n",
      " 8   층       132813 non-null  int64  \n",
      " 9   거래금액    132813 non-null  float64\n",
      " 10  평당금액    132813 non-null  float64\n",
      " 11  거래년도    132813 non-null  int64  \n",
      " 12  경과년수    132813 non-null  int64  \n",
      " 13  거래월     132813 non-null  object \n",
      " 14  금액구간    132813 non-null  object \n",
      " 15  위도      132813 non-null  float64\n",
      " 16  경도      132813 non-null  float64\n",
      " 17  동수      132813 non-null  int64  \n",
      " 18  세대수     132813 non-null  int64  \n",
      " 19  임대수     132813 non-null  int64  \n",
      " 20  용적률     132813 non-null  int64  \n",
      " 21  건폐율     132813 non-null  int64  \n",
      " 22  주차대수    132813 non-null  int64  \n",
      " 23  건설사     129990 non-null  object \n",
      "dtypes: float64(5), int64(10), object(9)\n",
      "memory usage: 24.3+ MB\n"
     ]
    }
   ],
   "source": [
    "apt.info()"
   ]
  },
  {
   "cell_type": "code",
   "execution_count": 7,
   "id": "ca140317",
   "metadata": {},
   "outputs": [
    {
     "data": {
      "text/html": [
       "<div>\n",
       "<style scoped>\n",
       "    .dataframe tbody tr th:only-of-type {\n",
       "        vertical-align: middle;\n",
       "    }\n",
       "\n",
       "    .dataframe tbody tr th {\n",
       "        vertical-align: top;\n",
       "    }\n",
       "\n",
       "    .dataframe thead th {\n",
       "        text-align: right;\n",
       "    }\n",
       "</style>\n",
       "<table border=\"1\" class=\"dataframe\">\n",
       "  <thead>\n",
       "    <tr style=\"text-align: right;\">\n",
       "      <th></th>\n",
       "      <th>아파트</th>\n",
       "      <th>시</th>\n",
       "      <th>구</th>\n",
       "      <th>동</th>\n",
       "      <th>지번</th>\n",
       "      <th>건축년도</th>\n",
       "      <th>거래일</th>\n",
       "      <th>전용면적</th>\n",
       "      <th>층</th>\n",
       "      <th>거래금액</th>\n",
       "      <th>...</th>\n",
       "      <th>금액구간</th>\n",
       "      <th>위도</th>\n",
       "      <th>경도</th>\n",
       "      <th>동수</th>\n",
       "      <th>세대수</th>\n",
       "      <th>임대수</th>\n",
       "      <th>용적률</th>\n",
       "      <th>건폐율</th>\n",
       "      <th>주차대수</th>\n",
       "      <th>건설사</th>\n",
       "    </tr>\n",
       "  </thead>\n",
       "  <tbody>\n",
       "    <tr>\n",
       "      <th>0</th>\n",
       "      <td>경희궁의아침3단지</td>\n",
       "      <td>서울특별시</td>\n",
       "      <td>종로구</td>\n",
       "      <td>내수동</td>\n",
       "      <td>72</td>\n",
       "      <td>2004</td>\n",
       "      <td>2022-01-14</td>\n",
       "      <td>150.48</td>\n",
       "      <td>3</td>\n",
       "      <td>20.00</td>\n",
       "      <td>...</td>\n",
       "      <td>5천 미만</td>\n",
       "      <td>37.573599</td>\n",
       "      <td>126.971957</td>\n",
       "      <td>1</td>\n",
       "      <td>150</td>\n",
       "      <td>0</td>\n",
       "      <td>590</td>\n",
       "      <td>47</td>\n",
       "      <td>128</td>\n",
       "      <td>쌍용건설(주)</td>\n",
       "    </tr>\n",
       "    <tr>\n",
       "      <th>1</th>\n",
       "      <td>경희궁의아침3단지</td>\n",
       "      <td>서울특별시</td>\n",
       "      <td>종로구</td>\n",
       "      <td>내수동</td>\n",
       "      <td>72</td>\n",
       "      <td>2004</td>\n",
       "      <td>2022-05-10</td>\n",
       "      <td>174.55</td>\n",
       "      <td>4</td>\n",
       "      <td>20.01</td>\n",
       "      <td>...</td>\n",
       "      <td>5천 미만</td>\n",
       "      <td>37.573599</td>\n",
       "      <td>126.971957</td>\n",
       "      <td>1</td>\n",
       "      <td>150</td>\n",
       "      <td>0</td>\n",
       "      <td>590</td>\n",
       "      <td>47</td>\n",
       "      <td>128</td>\n",
       "      <td>쌍용건설(주)</td>\n",
       "    </tr>\n",
       "    <tr>\n",
       "      <th>2</th>\n",
       "      <td>경희궁의아침3단지</td>\n",
       "      <td>서울특별시</td>\n",
       "      <td>종로구</td>\n",
       "      <td>내수동</td>\n",
       "      <td>72</td>\n",
       "      <td>2004</td>\n",
       "      <td>2020-05-19</td>\n",
       "      <td>174.55</td>\n",
       "      <td>14</td>\n",
       "      <td>17.50</td>\n",
       "      <td>...</td>\n",
       "      <td>5천 미만</td>\n",
       "      <td>37.573599</td>\n",
       "      <td>126.971957</td>\n",
       "      <td>1</td>\n",
       "      <td>150</td>\n",
       "      <td>0</td>\n",
       "      <td>590</td>\n",
       "      <td>47</td>\n",
       "      <td>128</td>\n",
       "      <td>쌍용건설(주)</td>\n",
       "    </tr>\n",
       "    <tr>\n",
       "      <th>3</th>\n",
       "      <td>경희궁의아침3단지</td>\n",
       "      <td>서울특별시</td>\n",
       "      <td>종로구</td>\n",
       "      <td>내수동</td>\n",
       "      <td>72</td>\n",
       "      <td>2004</td>\n",
       "      <td>2020-06-05</td>\n",
       "      <td>174.55</td>\n",
       "      <td>11</td>\n",
       "      <td>17.20</td>\n",
       "      <td>...</td>\n",
       "      <td>5천 미만</td>\n",
       "      <td>37.573599</td>\n",
       "      <td>126.971957</td>\n",
       "      <td>1</td>\n",
       "      <td>150</td>\n",
       "      <td>0</td>\n",
       "      <td>590</td>\n",
       "      <td>47</td>\n",
       "      <td>128</td>\n",
       "      <td>쌍용건설(주)</td>\n",
       "    </tr>\n",
       "    <tr>\n",
       "      <th>4</th>\n",
       "      <td>경희궁의아침3단지</td>\n",
       "      <td>서울특별시</td>\n",
       "      <td>종로구</td>\n",
       "      <td>내수동</td>\n",
       "      <td>72</td>\n",
       "      <td>2004</td>\n",
       "      <td>2020-06-09</td>\n",
       "      <td>149.00</td>\n",
       "      <td>14</td>\n",
       "      <td>15.50</td>\n",
       "      <td>...</td>\n",
       "      <td>5천 미만</td>\n",
       "      <td>37.573599</td>\n",
       "      <td>126.971957</td>\n",
       "      <td>1</td>\n",
       "      <td>150</td>\n",
       "      <td>0</td>\n",
       "      <td>590</td>\n",
       "      <td>47</td>\n",
       "      <td>128</td>\n",
       "      <td>쌍용건설(주)</td>\n",
       "    </tr>\n",
       "  </tbody>\n",
       "</table>\n",
       "<p>5 rows × 24 columns</p>\n",
       "</div>"
      ],
      "text/plain": [
       "         아파트      시    구    동  지번  건축년도         거래일    전용면적   층   거래금액  ...   \n",
       "0  경희궁의아침3단지  서울특별시  종로구  내수동  72  2004  2022-01-14  150.48   3  20.00  ...  \\\n",
       "1  경희궁의아침3단지  서울특별시  종로구  내수동  72  2004  2022-05-10  174.55   4  20.01  ...   \n",
       "2  경희궁의아침3단지  서울특별시  종로구  내수동  72  2004  2020-05-19  174.55  14  17.50  ...   \n",
       "3  경희궁의아침3단지  서울특별시  종로구  내수동  72  2004  2020-06-05  174.55  11  17.20  ...   \n",
       "4  경희궁의아침3단지  서울특별시  종로구  내수동  72  2004  2020-06-09  149.00  14  15.50  ...   \n",
       "\n",
       "    금액구간         위도          경도 동수  세대수  임대수  용적률  건폐율  주차대수      건설사  \n",
       "0  5천 미만  37.573599  126.971957  1  150    0  590   47   128  쌍용건설(주)  \n",
       "1  5천 미만  37.573599  126.971957  1  150    0  590   47   128  쌍용건설(주)  \n",
       "2  5천 미만  37.573599  126.971957  1  150    0  590   47   128  쌍용건설(주)  \n",
       "3  5천 미만  37.573599  126.971957  1  150    0  590   47   128  쌍용건설(주)  \n",
       "4  5천 미만  37.573599  126.971957  1  150    0  590   47   128  쌍용건설(주)  \n",
       "\n",
       "[5 rows x 24 columns]"
      ]
     },
     "execution_count": 7,
     "metadata": {},
     "output_type": "execute_result"
    }
   ],
   "source": [
    "apt.head()"
   ]
  },
  {
   "cell_type": "raw",
   "id": "55994679",
   "metadata": {},
   "source": [
    "import seaborn as sns\n",
    "import matplotlib.pyplot as plt\n",
    "import matplotlib.font_manager as fm"
   ]
  },
  {
   "cell_type": "raw",
   "id": "48449556",
   "metadata": {},
   "source": [
    "sns.histplot(data = apt, x = '거래금액');"
   ]
  },
  {
   "cell_type": "raw",
   "id": "4798fc1c",
   "metadata": {},
   "source": [
    "fontList = fm.findSystemFonts(fontext = 'ttf')"
   ]
  },
  {
   "cell_type": "raw",
   "id": "7db86f66",
   "metadata": {},
   "source": [
    "fontPath = [font for font in fontList if 'Gowun' in font]\n",
    "fontPath"
   ]
  },
  {
   "cell_type": "raw",
   "id": "81b5705c",
   "metadata": {},
   "source": [
    "for font in fontPath:\n",
    "    print(fm.FontProperties(fname = font).get_name())"
   ]
  },
  {
   "cell_type": "raw",
   "id": "f3c2db0e",
   "metadata": {},
   "source": [
    "plt.rc(group = 'font', family = 'Gowun Dodum', size = 10)\n",
    "plt.rc(group = 'figure', figsize = (8, 4), dpi = 100)\n",
    "plt.rc(group = 'axes', unicode_minus = False)\n",
    "plt.rc(group = 'legend', frameon = True, fc = '1', ec = '0')"
   ]
  },
  {
   "cell_type": "code",
   "execution_count": 8,
   "id": "0b1e29f0",
   "metadata": {},
   "outputs": [],
   "source": [
    "from GraphicSetting import *"
   ]
  },
  {
   "cell_type": "code",
   "execution_count": 9,
   "id": "558c2ba0",
   "metadata": {},
   "outputs": [
    {
     "data": {
      "image/png": "[encoded data removed]",
      "text/plain": [
       "<Figure size 800x400 with 1 Axes>"
      ]
     },
     "metadata": {},
     "output_type": "display_data"
    }
   ],
   "source": [
    "sns.histplot(data = apt, x = '거래금액');"
   ]
  },
  {
   "cell_type": "code",
   "execution_count": 13,
   "id": "250f61e9",
   "metadata": {},
   "outputs": [
    {
     "data": {
      "image/png": "[encoded data removed]",
      "text/plain": [
       "<Figure size 800x400 with 1 Axes>"
      ]
     },
     "metadata": {},
     "output_type": "display_data"
    }
   ],
   "source": [
    "sns.histplot(data = apt, x = '거래금액', bins = 75, fc = 'orange', ec = 'red');"
   ]
  },
  {
   "cell_type": "code",
   "execution_count": null,
   "id": "382515e9",
   "metadata": {},
   "outputs": [],
   "source": []
  }
 ],
 "metadata": {
  "kernelspec": {
   "display_name": "Python 3 (ipykernel)",
   "language": "python",
   "name": "python3"
  },
  "language_info": {
   "codemirror_mode": {
    "name": "ipython",
    "version": 3
   },
   "file_extension": ".py",
   "mimetype": "text/x-python",
   "name": "python",
   "nbconvert_exporter": "python",
   "pygments_lexer": "ipython3",
   "version": "3.11.3"
  }
 },
 "nbformat": 4,
 "nbformat_minor": 5
}
