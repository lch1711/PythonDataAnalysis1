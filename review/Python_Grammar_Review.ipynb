{
 "cells": [
  {
   "cell_type": "markdown",
   "id": "5ade97e4",
   "metadata": {},
   "source": [
    "## 파이썬 기초 문법 리뷰\n",
    "\n",
    "- 파이썬 자료형에 대한 특징은 충분히 파악하고 있다는 가정하에서<br>\n",
    "  데이터 분석에 필요한 제어문과 함수를 위주로 리뷰합니다."
   ]
  },
  {
   "cell_type": "markdown",
   "id": "f0102845",
   "metadata": {},
   "source": [
    "### 조건문\n",
    "\n",
    "- 조건문 기본 구조\n",
    "- 조건문에서 에러 발생"
   ]
  },
  {
   "cell_type": "markdown",
   "id": "78955b84",
   "metadata": {},
   "source": [
    "#### 조건문 기본 구조"
   ]
  },
  {
   "cell_type": "code",
   "execution_count": null,
   "id": "8924716e",
   "metadata": {},
   "outputs": [],
   "source": [
    "# 사용자가 입력한 값을 문자열로 변환하여 변수에 할당합니다.\n",
    "score = input('점수: ')\n",
    "score"
   ]
  },
  {
   "cell_type": "code",
   "execution_count": null,
   "id": "e56efebe",
   "metadata": {},
   "outputs": [],
   "source": [
    "# score를 실수로 변환합니다.\n",
    "# [참고] float(실수), int(정수), str(문자열) 클래스 함수는 값을 변환합니다.\n",
    "score = float(score)\n",
    "score"
   ]
  },
  {
   "cell_type": "code",
   "execution_count": null,
   "id": "2e8756b2",
   "metadata": {},
   "outputs": [],
   "source": [
    "# 조건문을 실행하고 점수에 따라 합격 여부를 출력합니다.\n",
    "if score >= 90:\n",
    "    print('합격')\n",
    "elif score >= 80:\n",
    "    print('재검사')\n",
    "else:\n",
    "    print('불합격')"
   ]
  },
  {
   "cell_type": "markdown",
   "id": "bf738650",
   "metadata": {},
   "source": [
    "#### 조건문에서 에러 발생"
   ]
  },
  {
   "cell_type": "code",
   "execution_count": null,
   "id": "c6f609bc",
   "metadata": {},
   "outputs": [],
   "source": [
    "# 관련 라이브러리를 호출합니다.\n",
    "import numpy as np"
   ]
  },
  {
   "cell_type": "code",
   "execution_count": null,
   "id": "40d94d91",
   "metadata": {},
   "outputs": [],
   "source": [
    "# 1차원 배열을 생성합니다.\n",
    "scores = np.array(object = range(60, 101, 10))\n",
    "scores"
   ]
  },
  {
   "cell_type": "code",
   "execution_count": null,
   "id": "4f8bae9a",
   "metadata": {},
   "outputs": [],
   "source": [
    "# 1차원 배열로 비교 연산한 결과를 출력합니다.\n",
    "scores >= 90"
   ]
  },
  {
   "cell_type": "raw",
   "id": "8cf9eb1f",
   "metadata": {},
   "source": [
    "# 1차원 배열로 비교 연산한 코드를 조건문에 지정합니다.\n",
    "# [주의] 아래 코드를 실행하면 에러를 반환합니다.\n",
    "if scores >= 90:\n",
    "    print('합격')\n",
    "elif scores >= 80:\n",
    "    print('재검사')\n",
    "else:\n",
    "    print('불합격')"
   ]
  },
  {
   "cell_type": "code",
   "execution_count": null,
   "id": "3ce5c3af",
   "metadata": {},
   "outputs": [],
   "source": [
    "# 1차원 배열의 첫 번째 원소로 비교 연산한 결과를 출력합니다.\n",
    "score = scores[0]\n",
    "score"
   ]
  },
  {
   "cell_type": "code",
   "execution_count": null,
   "id": "07bfe7bf",
   "metadata": {},
   "outputs": [],
   "source": [
    "# 1차원 배열의 첫 번째 원소로 비교 연산한 코드를 조건문에 지정합니다.\n",
    "if score >= 90:\n",
    "    print('합격')\n",
    "elif score >= 80:\n",
    "    print('재검사')\n",
    "else:\n",
    "    print('불합격')"
   ]
  },
  {
   "cell_type": "markdown",
   "id": "d0a94960",
   "metadata": {},
   "source": [
    "### 반복문\n",
    "\n",
    "- for 반복문의 기본 구조\n",
    "- 리스트 컴프리헨션\n",
    "- enumerate() 함수 사용법\n",
    "- zip() 함수 사용법"
   ]
  },
  {
   "cell_type": "markdown",
   "id": "86840e9c",
   "metadata": {},
   "source": [
    "#### for 반복문의 기본 구조"
   ]
  },
  {
   "cell_type": "code",
   "execution_count": null,
   "id": "b8087a4f",
   "metadata": {},
   "outputs": [],
   "source": [
    "# 중식당 메뉴로 리스트를 생성합니다.\n",
    "menu = ['짜장면', '탕수육', '깐풍기', '짬뽕', '전가복', '샥스핀']"
   ]
  },
  {
   "cell_type": "code",
   "execution_count": null,
   "id": "5b6d2a3f",
   "metadata": {},
   "outputs": [],
   "source": [
    "# 반복문을 사용하여 중식당 메뉴를 차례대로 출력합니다.\n",
    "for item in menu:\n",
    "    print(item)"
   ]
  },
  {
   "cell_type": "code",
   "execution_count": null,
   "id": "34e7fcb4",
   "metadata": {},
   "outputs": [],
   "source": [
    "# 여러 객체를 결합한 문자열을 출력합니다.\n",
    "for item in menu:\n",
    "    print(item, '시킬까요?', sep = ' ', end = '\\n')"
   ]
  },
  {
   "cell_type": "code",
   "execution_count": null,
   "id": "a8de7fab",
   "metadata": {},
   "outputs": [],
   "source": [
    "# 1차원 배열 원소로 반복문을 실행합니다.\n",
    "for score in scores:\n",
    "    if score >= 90:\n",
    "        print('합격')\n",
    "    elif score >= 80:\n",
    "        print('재검사')\n",
    "    else:\n",
    "        print('불합격')"
   ]
  },
  {
   "cell_type": "code",
   "execution_count": null,
   "id": "15b193db",
   "metadata": {},
   "outputs": [],
   "source": [
    "# 빈 리스트를 미리 생성합니다.\n",
    "result = []\n",
    "\n",
    "# 반복문 실행 결과를 리스트 원소로 추가합니다.\n",
    "for score in scores:\n",
    "    if score >= 90:\n",
    "        result.append('합격')\n",
    "    elif score >= 80:\n",
    "        result.append('재검사')\n",
    "    else:\n",
    "        result.append('불합격')\n",
    "\n",
    "# result를 출력합니다.\n",
    "result"
   ]
  },
  {
   "cell_type": "code",
   "execution_count": null,
   "id": "f8e81b1c",
   "metadata": {},
   "outputs": [],
   "source": [
    "# 빈 리스트를 미리 생성합니다.\n",
    "sqrs = []\n",
    "\n",
    "# 반복문으로 생성한 값을 리스트 원소로 추가합니다.\n",
    "# [주의] sqrs를 미리 생성하지 않으면 에러를 반환합니다.\n",
    "for i in range(1, 11):\n",
    "    sqrs.append(i ** 2)\n",
    "\n",
    "# sqrs를 출력합니다.\n",
    "sqrs"
   ]
  },
  {
   "cell_type": "code",
   "execution_count": null,
   "id": "9d312099",
   "metadata": {},
   "outputs": [],
   "source": [
    "# 빈 리스트로 미리 생성합니다.\n",
    "sqrs = []\n",
    "\n",
    "# 1~10의 정수에서 짝수만 제곱한 값을 원소로 갖는 리스트를 생성합니다.\n",
    "for i in range(1, 11):\n",
    "    if i % 2 == 0:\n",
    "        sqrs.append(i ** 2)\n",
    "\n",
    "# sqrs를 출력합니다.\n",
    "sqrs"
   ]
  },
  {
   "cell_type": "markdown",
   "id": "cecbd7b1",
   "metadata": {},
   "source": [
    "#### 리스트 컴프리헨션"
   ]
  },
  {
   "cell_type": "code",
   "execution_count": null,
   "id": "f8728a60",
   "metadata": {},
   "outputs": [],
   "source": [
    "# 한 줄 코드로 for 반복문과 같은 결과를 반환합니다.\n",
    "# [참고] 빈 리스트를 미리 생성하지 않아도 됩니다.\n",
    "[i ** 2 for i in range(1, 11)]"
   ]
  },
  {
   "cell_type": "code",
   "execution_count": null,
   "id": "84e0f810",
   "metadata": {},
   "outputs": [],
   "source": [
    "# 반복문 뒤에 조건문을 추가하면 조건을 만족하는 원소만 리스트에 포함시킵니다.\n",
    "[i ** 2 for i in range(1, 11) if i % 2 == 0]"
   ]
  },
  {
   "cell_type": "code",
   "execution_count": null,
   "id": "297b2e3b",
   "metadata": {},
   "outputs": [],
   "source": [
    "# scores로 실행한 조건문을 리스트 컴프리헨션으로 실행합니다.\n",
    "# [참고] 리스트 컴프리헨션에는 if와 else만 추가할 수 있습니다.\n",
    "# [참고] 고려할 조건을 추가하려면 else 뒤에 if문을 추가합니다.\n",
    "['합격' if score >= 90 else '재검사' if score >= 80 else '불합격' for score in scores]"
   ]
  },
  {
   "cell_type": "markdown",
   "id": "61a069b4",
   "metadata": {},
   "source": [
    "#### enumerate() 함수 사용법"
   ]
  },
  {
   "cell_type": "code",
   "execution_count": null,
   "id": "1c90ad77",
   "metadata": {},
   "outputs": [],
   "source": [
    "# menu를 출력합니다.\n",
    "menu"
   ]
  },
  {
   "cell_type": "code",
   "execution_count": null,
   "id": "e2b3001c",
   "metadata": {},
   "outputs": [],
   "source": [
    "# enumerate() 함수는 괄호 안 객체의 인덱스와 원소 쌍을 튜플로 반환합니다.\n",
    "for i in enumerate(menu):\n",
    "    print(i)"
   ]
  },
  {
   "cell_type": "code",
   "execution_count": null,
   "id": "aba4adec",
   "metadata": {},
   "outputs": [],
   "source": [
    "# 객체의 인덱스와 원소를 변수 i와 v로 받아서 반복문을 실행합니다.\n",
    "for i, v in enumerate(menu):\n",
    "    print(f'{i+1}번 메뉴는 {v}입니다.')"
   ]
  },
  {
   "cell_type": "markdown",
   "id": "b6aadc75",
   "metadata": {},
   "source": [
    "#### zip() 함수 사용법"
   ]
  },
  {
   "cell_type": "code",
   "execution_count": null,
   "id": "954e41d1",
   "metadata": {},
   "outputs": [],
   "source": [
    "# menu와 원소 개수가 같은 리스트를 생성합니다.\n",
    "price = [8000, 20000, 28000, 11000, 60000, 60000]"
   ]
  },
  {
   "cell_type": "code",
   "execution_count": null,
   "id": "24cb8ea4",
   "metadata": {},
   "outputs": [],
   "source": [
    "# zip() 함수는 괄호 안 여러 객체에서 같은 인덱스 원소 쌍을 튜플로 반환합니다.\n",
    "for i in zip(menu, price):\n",
    "    print(i)"
   ]
  },
  {
   "cell_type": "code",
   "execution_count": null,
   "id": "5e28919d",
   "metadata": {},
   "outputs": [],
   "source": [
    "# 두 객체에서 같은 인덱스 원소를 변수 i와 j로 받아서 반복문을 실행합니다.\n",
    "for i, j in zip(menu, price):\n",
    "    print(f'{i} 가격은 {j:,}원입니다.')"
   ]
  },
  {
   "cell_type": "markdown",
   "id": "fed4abf8",
   "metadata": {},
   "source": [
    "### 사용자 정의 함수\n",
    "\n",
    "- 사용자 정의 함수 기본 구조\n",
    "- 람다 표현식\n",
    "- 모듈 호출"
   ]
  },
  {
   "cell_type": "markdown",
   "id": "c2f29c5f",
   "metadata": {},
   "source": [
    "#### 사용자 정의 함수 기본 구조"
   ]
  },
  {
   "cell_type": "code",
   "execution_count": null,
   "id": "68951855",
   "metadata": {},
   "outputs": [],
   "source": [
    "# 체질량지수를 반환하는 사용자 정의 함수를 생성합니다.\n",
    "def BMI(hgt, wgt):\n",
    "    return wgt / (hgt/100) ** 2"
   ]
  },
  {
   "cell_type": "code",
   "execution_count": null,
   "id": "63179810",
   "metadata": {},
   "outputs": [],
   "source": [
    "# 실수를 출력할 소수점 자리수를 지정합니다.\n",
    "# [참고] 원본 데이터를 그대로 유지하므로 정보의 손실이 없습니다.\n",
    "%precision 3"
   ]
  },
  {
   "cell_type": "code",
   "execution_count": null,
   "id": "4e4115b4",
   "metadata": {},
   "outputs": [],
   "source": [
    "# 매개변수 없이 인수만 지정하여 사용자 정의 함수를 실행합니다.\n",
    "# [참고] 매개변수 없는 인수의 위치를 바꾸면 함수 실행 결과가 달라집니다.\n",
    "BMI(175, 65)"
   ]
  },
  {
   "cell_type": "code",
   "execution_count": null,
   "id": "49be5ba8",
   "metadata": {},
   "outputs": [],
   "source": [
    "# 매개변수와 인수를 등호로 연결하면 위치를 바꿔도 실행 결과가 같습니다.\n",
    "BMI(hgt = 175, wgt = 65)"
   ]
  },
  {
   "cell_type": "markdown",
   "id": "d9200fc8",
   "metadata": {},
   "source": [
    "#### 람다 표현식"
   ]
  },
  {
   "cell_type": "code",
   "execution_count": null,
   "id": "bac777ac",
   "metadata": {},
   "outputs": [],
   "source": [
    "# 람다 표현식은 한 줄 코드로 함수를 만들 때 사용합니다.\n",
    "BMI2 = lambda hgt, wgt: wgt / (hgt/100) ** 2"
   ]
  },
  {
   "cell_type": "code",
   "execution_count": null,
   "id": "b0c12b8e",
   "metadata": {},
   "outputs": [],
   "source": [
    "# 람다 표현식으로 정의한 함수를 실행합니다.\n",
    "BMI2(hgt = 190, wgt = 85)"
   ]
  },
  {
   "cell_type": "code",
   "execution_count": null,
   "id": "e5b8790f",
   "metadata": {},
   "outputs": [],
   "source": [
    "# 람다 표현식을 괄호로 감싸면 함수처럼 실행할 수 있으므로 익명함수라 합니다.\n",
    "(lambda hgt, wgt: wgt / (hgt/100) ** 2)(190, 85)"
   ]
  },
  {
   "cell_type": "markdown",
   "id": "d1ae682a",
   "metadata": {},
   "source": [
    "#### 모듈 호출\n",
    "\n",
    "사용자 정의 함수를 모듈(py 파일)로 저장하면 필요할 때 호출할 수 있습니다."
   ]
  },
  {
   "cell_type": "code",
   "execution_count": null,
   "id": "4c3939c3",
   "metadata": {},
   "outputs": [],
   "source": [
    "# myFuncs 모듈을 호출합니다.\n",
    "import myFuncs"
   ]
  },
  {
   "cell_type": "code",
   "execution_count": null,
   "id": "44a06511",
   "metadata": {},
   "outputs": [],
   "source": [
    "# 전역 변수 목록을 출력하면 myFuncs 모듈이 있습니다.\n",
    "%whos"
   ]
  },
  {
   "cell_type": "code",
   "execution_count": null,
   "id": "47762bd6",
   "metadata": {},
   "outputs": [],
   "source": [
    "# 함수명 앞에 myFuncs를 추가해야 함수를 실행할 수 있습니다.\n",
    "myFuncs.BMI(hgt = 175, wgt = 65)"
   ]
  },
  {
   "cell_type": "code",
   "execution_count": null,
   "id": "0271ffc3",
   "metadata": {},
   "outputs": [],
   "source": [
    "# myFuncs 모듈을 mf라는 가명으로 호출합니다.\n",
    "import myFuncs as mf"
   ]
  },
  {
   "cell_type": "code",
   "execution_count": null,
   "id": "68f3c560",
   "metadata": {},
   "outputs": [],
   "source": [
    "# 전역 변수 목록을 출력하면 mf 모듈이 있습니다.\n",
    "%whos"
   ]
  },
  {
   "cell_type": "code",
   "execution_count": null,
   "id": "a4ba0ea7",
   "metadata": {},
   "outputs": [],
   "source": [
    "# 함수명 앞에 mf를 추가해야 함수를 실행할 수 있습니다.\n",
    "mf.BMI(hgt = 175, wgt = 65)"
   ]
  },
  {
   "cell_type": "code",
   "execution_count": null,
   "id": "e8be3774",
   "metadata": {},
   "outputs": [],
   "source": [
    "# myFuncs 모듈에서 일부 함수만 호출합니다.\n",
    "# [참고] 호출할 함수가 여러 개일 때 콤마로 나열합니다.\n",
    "from myFuncs import BMI"
   ]
  },
  {
   "cell_type": "code",
   "execution_count": null,
   "id": "ae1c353c",
   "metadata": {},
   "outputs": [],
   "source": [
    "# 전역 변수 목록을 출력하면 BMI 함수가 있습니다.\n",
    "%whos"
   ]
  },
  {
   "cell_type": "code",
   "execution_count": null,
   "id": "c4269629",
   "metadata": {},
   "outputs": [],
   "source": [
    "# 함수명 앞에 모듈명을 추가할 수 없습니다.\n",
    "BMI(hgt = 175, wgt = 65)"
   ]
  },
  {
   "cell_type": "markdown",
   "id": "alive-supply",
   "metadata": {},
   "source": [
    "## End of Document"
   ]
  }
 ],
 "metadata": {
  "kernelspec": {
   "display_name": "Python 3",
   "language": "python",
   "name": "python3"
  },
  "language_info": {
   "codemirror_mode": {
    "name": "ipython",
    "version": 3
   },
   "file_extension": ".py",
   "mimetype": "text/x-python",
   "name": "python",
   "nbconvert_exporter": "python",
   "pygments_lexer": "ipython3",
   "version": "3.10.9"
  },
  "varInspector": {
   "cols": {
    "lenName": 16,
    "lenType": 16,
    "lenVar": 40
   },
   "kernels_config": {
    "python": {
     "delete_cmd_postfix": "",
     "delete_cmd_prefix": "del ",
     "library": "var_list.py",
     "varRefreshCmd": "print(var_dic_list())"
    },
    "r": {
     "delete_cmd_postfix": ") ",
     "delete_cmd_prefix": "rm(",
     "library": "var_list.r",
     "varRefreshCmd": "cat(var_dic_list()) "
    }
   },
   "types_to_exclude": [
    "module",
    "function",
    "builtin_function_or_method",
    "instance",
    "_Feature"
   ],
   "window_display": false
  }
 },
 "nbformat": 4,
 "nbformat_minor": 5
}
