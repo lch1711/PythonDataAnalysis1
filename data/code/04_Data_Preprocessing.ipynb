{
 "cells": [
  {
   "cell_type": "markdown",
   "id": "a97a133f",
   "metadata": {},
   "source": [
    "## 데이터 전처리"
   ]
  },
  {
   "cell_type": "markdown",
   "id": "fbe39f19",
   "metadata": {},
   "source": [
    "### 관련 라이브러리 호출"
   ]
  },
  {
   "cell_type": "code",
   "execution_count": null,
   "id": "2e13bffb",
   "metadata": {
    "ExecuteTime": {
     "end_time": "2022-06-09T13:19:45.243532Z",
     "start_time": "2022-06-09T13:19:44.919275Z"
    }
   },
   "outputs": [],
   "source": [
    "# 관련 라이브러리를 호출합니다.\n",
    "import os\n",
    "import chardet\n",
    "import joblib\n",
    "import numpy as np\n",
    "import pandas as pd"
   ]
  },
  {
   "cell_type": "markdown",
   "id": "28f5cd4f",
   "metadata": {},
   "source": [
    "### 작업 경로 확인 및 변경"
   ]
  },
  {
   "cell_type": "code",
   "execution_count": null,
   "id": "712f520f",
   "metadata": {
    "ExecuteTime": {
     "end_time": "2022-06-09T13:19:45.253369Z",
     "start_time": "2022-06-09T13:19:45.245902Z"
    }
   },
   "outputs": [],
   "source": [
    "# 현재 작업 경로를 확인합니다.\n",
    "os.getcwd()"
   ]
  },
  {
   "cell_type": "code",
   "execution_count": null,
   "id": "bdcd919f",
   "metadata": {
    "ExecuteTime": {
     "end_time": "2022-06-09T13:19:45.257301Z",
     "start_time": "2022-06-09T13:19:45.255000Z"
    }
   },
   "outputs": [],
   "source": [
    "# data 폴더로 작업 경로를 변경합니다.\n",
    "os.chdir(path = '../data')"
   ]
  },
  {
   "cell_type": "code",
   "execution_count": null,
   "id": "billion-insider",
   "metadata": {
    "ExecuteTime": {
     "end_time": "2022-06-09T13:19:45.263021Z",
     "start_time": "2022-06-09T13:19:45.259794Z"
    }
   },
   "outputs": [],
   "source": [
    "# 현재 작업 경로에 있는 폴더명과 파일명을 출력합니다.\n",
    "sorted(os.listdir())"
   ]
  },
  {
   "cell_type": "markdown",
   "id": "4186817c",
   "metadata": {},
   "source": [
    "### 실습 데이터셋 준비"
   ]
  },
  {
   "cell_type": "code",
   "execution_count": null,
   "id": "3b2c5b1b",
   "metadata": {},
   "outputs": [],
   "source": [
    "# z 파일을 읽고 price에 할당합니다.\n",
    "price = joblib.load(filename = 'APT_Price_Data.z')"
   ]
  },
  {
   "cell_type": "code",
   "execution_count": null,
   "id": "eae603a5",
   "metadata": {},
   "outputs": [],
   "source": [
    "# price의 정보를 확인합니다.\n",
    "price.info()"
   ]
  },
  {
   "cell_type": "code",
   "execution_count": null,
   "id": "owned-possession",
   "metadata": {
    "ExecuteTime": {
     "end_time": "2022-06-09T13:19:51.402781Z",
     "start_time": "2022-06-09T13:19:51.398623Z"
    }
   },
   "outputs": [],
   "source": [
    "# price의 처음 5행을 출력합니다.\n",
    "price.head()"
   ]
  },
  {
   "cell_type": "markdown",
   "id": "amateur-compression",
   "metadata": {},
   "source": [
    "### 열이름으로 열 선택"
   ]
  },
  {
   "cell_type": "code",
   "execution_count": null,
   "id": "impossible-marker",
   "metadata": {
    "ExecuteTime": {
     "end_time": "2022-06-09T13:19:51.409883Z",
     "start_time": "2022-06-09T13:19:51.404956Z"
    }
   },
   "outputs": [],
   "source": [
    "# 열이름을 문자열 스칼라로 지정하면 시리즈로 반환합니다.\n",
    "price['지역코드']"
   ]
  },
  {
   "cell_type": "code",
   "execution_count": null,
   "id": "9d414ef9",
   "metadata": {},
   "outputs": [],
   "source": [
    "# 열이름을 리스트로 지정하면 데이터프레임으로 반환합니다.\n",
    "price[['지역코드']]"
   ]
  },
  {
   "cell_type": "code",
   "execution_count": null,
   "id": "general-frederick",
   "metadata": {
    "ExecuteTime": {
     "end_time": "2022-06-09T13:19:51.438028Z",
     "start_time": "2022-06-09T13:19:51.428723Z"
    }
   },
   "outputs": [],
   "source": [
    "# 2개 이상의 열을 선택하려면 반드시 리스트로 지정해야 합니다.(배열 인덱싱)\n",
    "# [참고] 열이름 순서를 변경하면 위치를 바꿔서 반환합니다.\n",
    "price[['거래일', '전용면적', '층', '거래금액']]"
   ]
  },
  {
   "cell_type": "raw",
   "id": "840e7218",
   "metadata": {
    "scrolled": true
   },
   "source": [
    "# 연속하는 열을 슬라이싱하려고 하면 에러를 반환합니다.\n",
    "price['거래일':'거래금액']"
   ]
  },
  {
   "cell_type": "code",
   "execution_count": null,
   "id": "b0fe5019",
   "metadata": {
    "ExecuteTime": {
     "end_time": "2022-06-09T13:19:51.449973Z",
     "start_time": "2022-06-09T13:19:51.439519Z"
    }
   },
   "outputs": [],
   "source": [
    "# 연속하는 열을 선택하려면 loc 인덱서를 추가해야 합니다.(슬라이싱)\n",
    "# [주의] loc 인덱서를 추가했다면 열을 선택할 때 반드시 콤마를 추가해야 합니다.\n",
    "price.loc[:, '거래일':'거래금액']"
   ]
  },
  {
   "cell_type": "markdown",
   "id": "7098bbf2",
   "metadata": {},
   "source": [
    "### 조건에 맞는 열 선택"
   ]
  },
  {
   "cell_type": "code",
   "execution_count": null,
   "id": "30bba353",
   "metadata": {},
   "outputs": [],
   "source": [
    "# price의 열별 자료형이 정수형이면 True, 아니면 False를 반환합니다.\n",
    "price.dtypes == 'int64'"
   ]
  },
  {
   "cell_type": "code",
   "execution_count": null,
   "id": "33531278",
   "metadata": {
    "ExecuteTime": {
     "end_time": "2022-06-09T13:19:51.459195Z",
     "start_time": "2022-06-09T13:19:51.452315Z"
    }
   },
   "outputs": [],
   "source": [
    "# price에서 정수형인 열을 선택합니다.(불리언 인덱싱)\n",
    "price.loc[:, price.dtypes == 'int64']"
   ]
  },
  {
   "cell_type": "code",
   "execution_count": null,
   "id": "c1ecb347",
   "metadata": {},
   "outputs": [],
   "source": [
    "# price의 열별 자료형의 수치(정수, 실수)형이면 True, 아니면 False를 반환합니다.\n",
    "# [참고] 실행 결과를 1차원 시리즈로 반환합니다.\n",
    "(price.dtypes == 'int64') | (price.dtypes == 'float64')"
   ]
  },
  {
   "cell_type": "code",
   "execution_count": null,
   "id": "30320290",
   "metadata": {},
   "outputs": [],
   "source": [
    "# price의 열별 자료형의 수치(정수, 실수)형이면 True, 아니면 False를 반환합니다.\n",
    "# [참고] 위 코드와 결과가 같습니다.\n",
    "price.dtypes.astype(str).isin(values = ['int64', 'float64'])"
   ]
  },
  {
   "cell_type": "code",
   "execution_count": null,
   "id": "0629febf",
   "metadata": {},
   "outputs": [],
   "source": [
    "# price의 열이름에서 '거래'를 포함하면 True, 아니면 False를 반환합니다.\n",
    "# [참고] 실행 결과를 1차원 배열로 반환합니다.\n",
    "price.columns.str.contains(pat = '거래')"
   ]
  },
  {
   "cell_type": "markdown",
   "id": "768b703a",
   "metadata": {},
   "source": [
    "### 열이름으로 열 삭제"
   ]
  },
  {
   "cell_type": "code",
   "execution_count": null,
   "id": "burning-contribution",
   "metadata": {
    "ExecuteTime": {
     "end_time": "2022-06-09T13:19:51.473344Z",
     "start_time": "2022-06-09T13:19:51.461268Z"
    },
    "scrolled": true
   },
   "outputs": [],
   "source": [
    "# price에서 열이름으로 삭제한 결과를 출력합니다.\n",
    "# [주의] columns 매개변수를 생략하면 인덱스에서 찾습니다.\n",
    "# [참고] 삭제할 열이 2개 이상이면 리스트를 지정합니다.\n",
    "price.drop(columns = '지역코드')"
   ]
  },
  {
   "cell_type": "code",
   "execution_count": null,
   "id": "c021725b",
   "metadata": {},
   "outputs": [],
   "source": [
    "# price의 처음 5행을 출력합니다.\n",
    "# [참고] price는 여전히 지역코드를 포함하고 있습니다.\n",
    "price.head()"
   ]
  },
  {
   "cell_type": "code",
   "execution_count": null,
   "id": "simple-stevens",
   "metadata": {
    "ExecuteTime": {
     "end_time": "2022-06-09T13:19:51.486989Z",
     "start_time": "2022-06-09T13:19:51.474919Z"
    }
   },
   "outputs": [],
   "source": [
    "# 열이름으로 삭제한 결과를 price에 재할당합니다.\n",
    "price = price.drop(columns = '지역코드')\n",
    "price.head()"
   ]
  },
  {
   "cell_type": "markdown",
   "id": "buried-partition",
   "metadata": {},
   "source": [
    "### 열이름 변경"
   ]
  },
  {
   "cell_type": "code",
   "execution_count": null,
   "id": "employed-swaziland",
   "metadata": {
    "ExecuteTime": {
     "end_time": "2022-06-09T13:19:51.503000Z",
     "start_time": "2022-06-09T13:19:51.488793Z"
    },
    "scrolled": true
   },
   "outputs": [],
   "source": [
    "# price에서 일부 열이름을 변경한 결과를 출력합니다.\n",
    "# [주의] columns 매개변수를 생략하면 안됩니다!\n",
    "price.rename(columns = {'시도명': '시', '시군구': '구', '법정동': '동'})"
   ]
  },
  {
   "cell_type": "code",
   "execution_count": null,
   "id": "7cd556c9",
   "metadata": {
    "ExecuteTime": {
     "end_time": "2022-06-09T13:19:51.508072Z",
     "start_time": "2022-06-09T13:19:51.504736Z"
    }
   },
   "outputs": [],
   "source": [
    "# price의 열이름을 출력합니다.\n",
    "price.columns"
   ]
  },
  {
   "cell_type": "code",
   "execution_count": null,
   "id": "corrected-grave",
   "metadata": {
    "ExecuteTime": {
     "end_time": "2022-06-09T13:19:51.527035Z",
     "start_time": "2022-06-09T13:19:51.517927Z"
    }
   },
   "outputs": [],
   "source": [
    "# price의 열이름을 일괄 변경합니다.\n",
    "# [주의] 데이터프레임의 열 개수와 같은 길이의 리스트를 지정해야 합니다.\n",
    "price.columns = ['아파트', '시', '구', '동', '지번', '건축년도', \n",
    "                 '거래일', '전용면적', '층', '거래금액']\n",
    "price.head()"
   ]
  },
  {
   "cell_type": "markdown",
   "id": "changed-gates",
   "metadata": {},
   "source": [
    "### 열별 자료형 변환"
   ]
  },
  {
   "cell_type": "raw",
   "id": "a4ed58a8",
   "metadata": {
    "scrolled": true
   },
   "source": [
    "# 거래금액의 원소 자료형을 실수형으로 변환합니다.\n",
    "# [참고] 거래금액 원소에 콤마가 있으므로 실수로 변환할 수 없습니다.\n",
    "price['거래금액'].astype(dtype = float)"
   ]
  },
  {
   "cell_type": "code",
   "execution_count": null,
   "id": "dbdfdd12",
   "metadata": {
    "ExecuteTime": {
     "end_time": "2022-06-09T13:19:51.547725Z",
     "start_time": "2022-06-09T13:19:51.528863Z"
    }
   },
   "outputs": [],
   "source": [
    "# 거래금액 원소에 있는 콤마를 삭제하고 재할당합니다.\n",
    "price['거래금액'] = price['거래금액'].str.replace(pat = ',', repl = '') \\\n",
    "                                     .astype(dtype = float)"
   ]
  },
  {
   "cell_type": "code",
   "execution_count": null,
   "id": "destroyed-colon",
   "metadata": {
    "ExecuteTime": {
     "end_time": "2022-06-09T13:19:51.788741Z",
     "start_time": "2022-06-09T13:19:51.784566Z"
    }
   },
   "outputs": [],
   "source": [
    "# price의 열별 자료형을 확인합니다.\n",
    "price.dtypes"
   ]
  },
  {
   "cell_type": "raw",
   "id": "c6e6d81e",
   "metadata": {
    "scrolled": true
   },
   "source": [
    "# 건축년도의 원소 자료형을 정수형으로 변환을 시도합니다.\n",
    "price['건축년도'].astype(dtype = int)"
   ]
  },
  {
   "cell_type": "code",
   "execution_count": null,
   "id": "creative-burton",
   "metadata": {
    "ExecuteTime": {
     "end_time": "2022-06-09T13:19:51.804614Z",
     "start_time": "2022-06-09T13:19:51.790498Z"
    }
   },
   "outputs": [],
   "source": [
    "# price에서 일부 열의 자료형을 변환합니다.\n",
    "price = price.astype(dtype = {'거래일': 'datetime64[ns]', '층': float})\n",
    "price.dtypes"
   ]
  },
  {
   "cell_type": "code",
   "execution_count": null,
   "id": "74a8d2be",
   "metadata": {
    "ExecuteTime": {
     "end_time": "2022-06-09T13:19:51.809200Z",
     "start_time": "2022-06-09T13:19:51.806727Z"
    }
   },
   "outputs": [],
   "source": [
    "# 정수형으로 변환할 열이름으로 리스트를 생성합니다.\n",
    "cols = ['층', '거래금액']"
   ]
  },
  {
   "cell_type": "code",
   "execution_count": null,
   "id": "hollow-capability",
   "metadata": {
    "ExecuteTime": {
     "end_time": "2022-06-09T13:19:51.821603Z",
     "start_time": "2022-06-09T13:19:51.811152Z"
    }
   },
   "outputs": [],
   "source": [
    "# price에서 일부 열을 선택하고 정수형으로 일괄 변환합니다.\n",
    "price[cols] = price[cols].astype(dtype = int)\n",
    "price.dtypes"
   ]
  },
  {
   "cell_type": "markdown",
   "id": "external-military",
   "metadata": {},
   "source": [
    "### [참고] 문자열을 날짜형으로 변환"
   ]
  },
  {
   "cell_type": "code",
   "execution_count": null,
   "id": "aware-factor",
   "metadata": {
    "ExecuteTime": {
     "end_time": "2022-06-09T13:19:51.827553Z",
     "start_time": "2022-06-09T13:19:51.823330Z"
    }
   },
   "outputs": [],
   "source": [
    "# 날짜 기본형이 아닌 문자열 리스트로 시리즈를 생성합니다.\n",
    "birth = pd.Series(data = ['2000년 1월 1일'])\n",
    "birth"
   ]
  },
  {
   "cell_type": "raw",
   "id": "bdcec981",
   "metadata": {},
   "source": [
    "# birth를 날짜형으로 변환하려고 하면 에러를 반환합니다.\n",
    "birth.astype(dtype = 'datetime64[ns]')"
   ]
  },
  {
   "cell_type": "code",
   "execution_count": null,
   "id": "novel-setting",
   "metadata": {
    "ExecuteTime": {
     "end_time": "2022-06-09T13:19:51.835794Z",
     "start_time": "2022-06-09T13:19:51.829660Z"
    }
   },
   "outputs": [],
   "source": [
    "# 날짜 기본형이 아닌 문자열 리스트를 날짜형으로 변환합니다.\n",
    "birth = pd.to_datetime(arg = birth, format = '%Y년 %m월 %d일')"
   ]
  },
  {
   "cell_type": "code",
   "execution_count": null,
   "id": "d7345e02",
   "metadata": {},
   "outputs": [],
   "source": [
    "# birth의 첫 번째 원소를 선택합니다.\n",
    "# [참고] 날짜시간 자료형은 '년-월-일 시:분:초.마이크로초' 형태로 출력합니다.\n",
    "birth.iloc[0]"
   ]
  },
  {
   "cell_type": "markdown",
   "id": "c4461ac6",
   "metadata": {},
   "source": [
    "### [참고] 날짜시간 자료형 연산"
   ]
  },
  {
   "cell_type": "code",
   "execution_count": null,
   "id": "976ff980",
   "metadata": {
    "ExecuteTime": {
     "end_time": "2022-06-09T13:19:51.842745Z",
     "start_time": "2022-06-09T13:19:51.837782Z"
    }
   },
   "outputs": [],
   "source": [
    "# 현재 날짜시간 데이터를 생성합니다.\n",
    "today = pd.Timestamp.today()"
   ]
  },
  {
   "cell_type": "code",
   "execution_count": null,
   "id": "8fec6bd3",
   "metadata": {},
   "outputs": [],
   "source": [
    "# today의 타임스태프를 출력합니다.\n",
    "today.timestamp()"
   ]
  },
  {
   "cell_type": "code",
   "execution_count": null,
   "id": "d803e760",
   "metadata": {
    "ExecuteTime": {
     "end_time": "2022-06-09T13:19:51.847627Z",
     "start_time": "2022-06-09T13:19:51.844999Z"
    }
   },
   "outputs": [],
   "source": [
    "# 태어나서 현재까지 살아온 기간을 출력합니다.\n",
    "# [참고] 날짜시간 자료형은 실수이므로 산술 연산이 가능합니다.\n",
    "today - birth.iloc[0]"
   ]
  },
  {
   "cell_type": "markdown",
   "id": "olympic-holiday",
   "metadata": {},
   "source": [
    "### [참고] 날짜시간 자료형 분해 함수"
   ]
  },
  {
   "cell_type": "code",
   "execution_count": null,
   "id": "celtic-alignment",
   "metadata": {
    "ExecuteTime": {
     "end_time": "2022-06-09T13:19:51.861382Z",
     "start_time": "2022-06-09T13:19:51.856018Z"
    }
   },
   "outputs": [],
   "source": [
    "# 거래일에서 년(year)을 정수형 시리즈로 반환합니다.\n",
    "price['거래일'].dt.year"
   ]
  },
  {
   "cell_type": "code",
   "execution_count": null,
   "id": "inappropriate-printer",
   "metadata": {
    "ExecuteTime": {
     "end_time": "2022-06-09T13:19:51.879807Z",
     "start_time": "2022-06-09T13:19:51.863696Z"
    }
   },
   "outputs": [],
   "source": [
    "# 거래일에서 월(month)을 정수형 시리즈로 반환합니다.\n",
    "price['거래일'].dt.month"
   ]
  },
  {
   "cell_type": "code",
   "execution_count": null,
   "id": "nearby-marine",
   "metadata": {
    "ExecuteTime": {
     "end_time": "2022-06-09T13:19:51.887573Z",
     "start_time": "2022-06-09T13:19:51.881603Z"
    }
   },
   "outputs": [],
   "source": [
    "# 거래일에서 일(day)을 정수형 시리즈로 반환합니다.\n",
    "price['거래일'].dt.day"
   ]
  },
  {
   "cell_type": "code",
   "execution_count": null,
   "id": "78d34407",
   "metadata": {
    "ExecuteTime": {
     "end_time": "2022-06-09T13:19:51.901570Z",
     "start_time": "2022-06-09T13:19:51.889349Z"
    }
   },
   "outputs": [],
   "source": [
    "# 거래일에서 영문 요일을 문자형 시리즈로 반환합니다.\n",
    "price['거래일'].dt.day_name()"
   ]
  },
  {
   "cell_type": "code",
   "execution_count": null,
   "id": "a8246fcc",
   "metadata": {
    "ExecuteTime": {
     "end_time": "2022-06-09T13:19:51.916860Z",
     "start_time": "2022-06-09T13:19:51.903306Z"
    }
   },
   "outputs": [],
   "source": [
    "# 거래일에서 한글 요일을 문자형 시리즈로 반환합니다.\n",
    "price['거래일'].dt.day_name(locale = 'ko_KR')"
   ]
  },
  {
   "cell_type": "code",
   "execution_count": null,
   "id": "eb613e3c",
   "metadata": {},
   "outputs": [],
   "source": [
    "# 거래일에서 요일을 문자형 시리즈로 반환합니다.(로케일에 따라 결과가 달라집니다.)\n",
    "price['거래일'].dt.strftime(date_format = '%A')"
   ]
  },
  {
   "cell_type": "markdown",
   "id": "potential-bookmark",
   "metadata": {},
   "source": [
    "### 조건에 맞는 행 선택: 연속형 변수"
   ]
  },
  {
   "cell_type": "code",
   "execution_count": null,
   "id": "a57800b0",
   "metadata": {},
   "outputs": [],
   "source": [
    "# 거래금액이 120억 이상인 행을 선택하여 df1에 할당합니다.\n",
    "df1 = price[price['거래금액'] >= 1200000]\n",
    "df1"
   ]
  },
  {
   "cell_type": "code",
   "execution_count": null,
   "id": "generous-sodium",
   "metadata": {
    "ExecuteTime": {
     "end_time": "2022-06-09T13:19:51.960916Z",
     "start_time": "2022-06-09T13:19:51.948031Z"
    }
   },
   "outputs": [],
   "source": [
    "# 거래금액이 120억 미만이고 65층 이상인 행을 선택하여 df2에 할당합니다.\n",
    "df2 = price[(price['거래금액'] < 1200000) & (price['층'] >= 65)]\n",
    "df2"
   ]
  },
  {
   "cell_type": "markdown",
   "id": "9cbfe16f",
   "metadata": {},
   "source": [
    "### [참고] 시리즈의 비교 연산 함수"
   ]
  },
  {
   "cell_type": "code",
   "execution_count": null,
   "id": "73f04563",
   "metadata": {
    "ExecuteTime": {
     "end_time": "2022-06-09T13:19:51.966511Z",
     "start_time": "2022-06-09T13:19:51.962646Z"
    }
   },
   "outputs": [],
   "source": [
    "# 층이 65 초과면 True, 아니면 False인 부울형 시리즈를 반환합니다.\n",
    "price['층'].gt(65).sum()"
   ]
  },
  {
   "cell_type": "code",
   "execution_count": null,
   "id": "0e201a22",
   "metadata": {
    "ExecuteTime": {
     "end_time": "2022-06-09T13:19:51.972470Z",
     "start_time": "2022-06-09T13:19:51.968250Z"
    }
   },
   "outputs": [],
   "source": [
    "# 층이 65 이상이면 True, 아니면 False인 부울형 시리즈를 반환합니다.\n",
    "price['층'].ge(65).sum()"
   ]
  },
  {
   "cell_type": "code",
   "execution_count": null,
   "id": "905f7993",
   "metadata": {
    "ExecuteTime": {
     "end_time": "2022-06-09T13:19:51.977492Z",
     "start_time": "2022-06-09T13:19:51.973960Z"
    }
   },
   "outputs": [],
   "source": [
    "# 층이 65 미만이면 True, 아니면 False인 부울형 시리즈를 반환합니다.\n",
    "price['층'].lt(65).sum()"
   ]
  },
  {
   "cell_type": "code",
   "execution_count": null,
   "id": "d123d764",
   "metadata": {
    "ExecuteTime": {
     "end_time": "2022-06-09T13:19:51.983243Z",
     "start_time": "2022-06-09T13:19:51.979240Z"
    }
   },
   "outputs": [],
   "source": [
    "# 층이 65 이하면 True, 아니면 False인 부울형 시리즈를 반환합니다.\n",
    "price['층'].le(65).sum()"
   ]
  },
  {
   "cell_type": "code",
   "execution_count": null,
   "id": "d417bd44",
   "metadata": {
    "ExecuteTime": {
     "end_time": "2022-06-09T13:19:51.990895Z",
     "start_time": "2022-06-09T13:19:51.986020Z"
    }
   },
   "outputs": [],
   "source": [
    "# 층이 65이면 True, 65가 아니면 False인 부울형 시리즈를 반환합니다.\n",
    "price['층'].eq(65).sum()"
   ]
  },
  {
   "cell_type": "code",
   "execution_count": null,
   "id": "9f73a941",
   "metadata": {
    "ExecuteTime": {
     "end_time": "2022-06-09T13:19:51.996368Z",
     "start_time": "2022-06-09T13:19:51.992911Z"
    }
   },
   "outputs": [],
   "source": [
    "# 층이 65가 아니면 True, 65이면 False인 부울형 시리즈를 반환합니다.\n",
    "price['층'].ne(65).sum()"
   ]
  },
  {
   "cell_type": "code",
   "execution_count": null,
   "id": "3534a04c",
   "metadata": {
    "ExecuteTime": {
     "end_time": "2022-06-09T13:19:52.005605Z",
     "start_time": "2022-06-09T13:19:51.998065Z"
    }
   },
   "outputs": [],
   "source": [
    "# 비교 연산 함수는 시리즈이므로 소괄호로 감싸지 않아도 됩니다.\n",
    "price['거래금액'].lt(1200000) & price['층'].ge(65)"
   ]
  },
  {
   "cell_type": "markdown",
   "id": "9660af79",
   "metadata": {},
   "source": [
    "### 조건에 맞는 행 선택: 범주형 변수"
   ]
  },
  {
   "cell_type": "code",
   "execution_count": null,
   "id": "f0107bd1",
   "metadata": {
    "ExecuteTime": {
     "end_time": "2022-06-09T13:19:52.022190Z",
     "start_time": "2022-06-09T13:19:52.007369Z"
    },
    "scrolled": true
   },
   "outputs": [],
   "source": [
    "# 구가 '강남구'인 행을 선택합니다.\n",
    "price[price['구'].eq('강남구')]"
   ]
  },
  {
   "cell_type": "code",
   "execution_count": null,
   "id": "5f29108b",
   "metadata": {
    "ExecuteTime": {
     "end_time": "2022-06-09T13:19:52.040561Z",
     "start_time": "2022-06-09T13:19:52.023820Z"
    },
    "scrolled": true
   },
   "outputs": [],
   "source": [
    "# 구가 '강남구' 또는 '서초구'인 행을 선택합니다.\n",
    "price[price['구'].eq('강남구') | price['구'].eq('서초구')]"
   ]
  },
  {
   "cell_type": "code",
   "execution_count": null,
   "id": "a5b1ea4c",
   "metadata": {
    "ExecuteTime": {
     "end_time": "2022-06-09T13:19:52.055487Z",
     "start_time": "2022-06-09T13:19:52.042302Z"
    },
    "scrolled": true
   },
   "outputs": [],
   "source": [
    "# isin()은 시리즈 원소가 리스트에 있으면 True, 없으면 False로 반환합니다.\n",
    "price[price['구'].isin(values = ['강남구', '서초구'])]"
   ]
  },
  {
   "cell_type": "code",
   "execution_count": null,
   "id": "2e9b4594",
   "metadata": {
    "ExecuteTime": {
     "end_time": "2022-06-09T13:19:52.086418Z",
     "start_time": "2022-06-09T13:19:52.057198Z"
    },
    "scrolled": true
   },
   "outputs": [],
   "source": [
    "# str.contains()는 원소에 패턴 포함 여부를 True 또는 False로 반환합니다.\n",
    "price[price['구'].str.contains(pat = '강남|서초')]"
   ]
  },
  {
   "cell_type": "markdown",
   "id": "bacf5651",
   "metadata": {},
   "source": [
    "### [참고] 시리즈를 문자열로 처리하는 주요 함수"
   ]
  },
  {
   "cell_type": "code",
   "execution_count": null,
   "id": "e46bc313",
   "metadata": {
    "ExecuteTime": {
     "end_time": "2022-06-09T13:19:52.090951Z",
     "start_time": "2022-06-09T13:19:52.088279Z"
    }
   },
   "outputs": [],
   "source": [
    "# 실습용 시리즈를 생성합니다.\n",
    "addr = pd.Series(data = ['서울특별시 강남구', '경기도 성남시 분당구'])"
   ]
  },
  {
   "cell_type": "code",
   "execution_count": null,
   "id": "26ff3d5c",
   "metadata": {
    "ExecuteTime": {
     "end_time": "2022-06-09T13:19:52.111128Z",
     "start_time": "2022-06-09T13:19:52.107036Z"
    }
   },
   "outputs": [],
   "source": [
    "# 문자열(원소)마다 지정한 패턴을 변경합니다.\n",
    "addr.str.replace(pat = ' ', repl = '')"
   ]
  },
  {
   "cell_type": "code",
   "execution_count": null,
   "id": "fdf06c0b",
   "metadata": {
    "ExecuteTime": {
     "end_time": "2022-06-09T13:19:52.099187Z",
     "start_time": "2022-06-09T13:19:52.092646Z"
    }
   },
   "outputs": [],
   "source": [
    "# 문자열(원소)을 지정한 패턴으로 분리한 결과를 데이터프레임으로 반환합니다.\n",
    "addr.str.split(pat = ' ', expand = True)"
   ]
  },
  {
   "cell_type": "code",
   "execution_count": null,
   "id": "764c4049",
   "metadata": {
    "ExecuteTime": {
     "end_time": "2022-06-09T13:19:52.105378Z",
     "start_time": "2022-06-09T13:19:52.101129Z"
    }
   },
   "outputs": [],
   "source": [
    "# 문자열(원소)마다 지정한 패턴이 있으면 시작 인덱스를 반환합니다.\n",
    "# [참고] 지정한 패턴이 없으면 -1을 반환합니다.\n",
    "addr.str.find(sub = '시')"
   ]
  },
  {
   "cell_type": "code",
   "execution_count": null,
   "id": "9d7c3af2",
   "metadata": {
    "ExecuteTime": {
     "end_time": "2022-06-09T13:19:52.117269Z",
     "start_time": "2022-06-09T13:19:52.113044Z"
    }
   },
   "outputs": [],
   "source": [
    "# 문자열(원소)을 지정한 인덱스로 자릅니다.\n",
    "addr.str.slice(start = 0, stop = 2)"
   ]
  },
  {
   "cell_type": "code",
   "execution_count": null,
   "id": "2227d7a6",
   "metadata": {
    "ExecuteTime": {
     "end_time": "2022-06-09T13:19:52.124844Z",
     "start_time": "2022-06-09T13:19:52.118899Z"
    }
   },
   "outputs": [],
   "source": [
    "# 문자열(원소)마다 지정한 패턴에 해당하는 문자열을 추출합니다.\n",
    "# [주의] 패턴을 소괄호로 감싸야 합니다.\n",
    "addr.str.extract(pat = '([가-힣]+구)')"
   ]
  },
  {
   "cell_type": "markdown",
   "id": "58bddf8a",
   "metadata": {},
   "source": [
    "### 행이름으로 행 삭제"
   ]
  },
  {
   "cell_type": "code",
   "execution_count": null,
   "id": "23e92b07",
   "metadata": {},
   "outputs": [],
   "source": [
    "# df1의 처음 5행을 출력합니다.\n",
    "df1.head()"
   ]
  },
  {
   "cell_type": "code",
   "execution_count": null,
   "id": "adopted-spyware",
   "metadata": {
    "ExecuteTime": {
     "end_time": "2022-06-09T13:19:52.146373Z",
     "start_time": "2022-06-09T13:19:52.137156Z"
    }
   },
   "outputs": [],
   "source": [
    "# 삭제할 행이름을 drop()의 index 매개변수에 리스트로 지정합니다.\n",
    "# [주의] 행이름에 없는 값을 지정하면 에러를 반환합니다.\n",
    "df1.drop(index = [3571, 5067])"
   ]
  },
  {
   "cell_type": "code",
   "execution_count": null,
   "id": "adcd0232",
   "metadata": {},
   "outputs": [],
   "source": [
    "# df1의 인덱스(행이름)를 출력합니다.\n",
    "df1.index"
   ]
  },
  {
   "cell_type": "code",
   "execution_count": null,
   "id": "c77c9a0a",
   "metadata": {},
   "outputs": [],
   "source": [
    "# 행이름을 슬라이싱한 코드로 행이름 리스트를 대신할 수 있습니다.\n",
    "df1.drop(index = df1.index[0:2])"
   ]
  },
  {
   "cell_type": "markdown",
   "id": "iraqi-roman",
   "metadata": {},
   "source": [
    "### 행이름 초기화"
   ]
  },
  {
   "cell_type": "code",
   "execution_count": null,
   "id": "611b0333",
   "metadata": {},
   "outputs": [],
   "source": [
    "# 행이름을 초기화한 결과를 출력합니다.\n",
    "# [참고] 기존 행이름을 데이터프레임의 첫 번째 열로 추가합니다.\n",
    "df1.reset_index()"
   ]
  },
  {
   "cell_type": "code",
   "execution_count": null,
   "id": "empty-lightweight",
   "metadata": {
    "ExecuteTime": {
     "end_time": "2022-06-09T13:19:52.173434Z",
     "start_time": "2022-06-09T13:19:52.170928Z"
    }
   },
   "outputs": [],
   "source": [
    "# 행이름을 초기화하지만 기존 행이름을 열로 추가하지 않습니다.\n",
    "# [참고] drop 매개변수에 True를 지정하면 기존 행이름을 열로 추가하지 않습니다.\n",
    "df1.reset_index(drop = True)"
   ]
  },
  {
   "cell_type": "code",
   "execution_count": null,
   "id": "e83457e5",
   "metadata": {},
   "outputs": [],
   "source": [
    "# 행이름을 초기화하면서 기존 행이름을 열로 추가하지 않고 df1에 재할당합니다.\n",
    "df1 = df1.reset_index(drop = True)"
   ]
  },
  {
   "cell_type": "code",
   "execution_count": null,
   "id": "07daafc0",
   "metadata": {},
   "outputs": [],
   "source": [
    "# 특정 열을 인덱스로 지정한 결과를 출력합니다.\n",
    "# [참고] 여러 열을 인덱스로 설정할 때 keys 매개변수에 열이름을 원소로 갖는\n",
    "# 리스트를 지정합니다.\n",
    "df1.set_index(keys = '아파트')"
   ]
  },
  {
   "cell_type": "markdown",
   "id": "c1f6305f",
   "metadata": {},
   "source": [
    "### 결측값 처리: 원본 데이터로 채워넣기"
   ]
  },
  {
   "cell_type": "code",
   "execution_count": null,
   "id": "martial-album",
   "metadata": {
    "ExecuteTime": {
     "end_time": "2022-06-09T13:19:52.237983Z",
     "start_time": "2022-06-09T13:19:52.209873Z"
    }
   },
   "outputs": [],
   "source": [
    "# price의 열별 결측값 개수를 확인합니다.\n",
    "price.isna().sum()"
   ]
  },
  {
   "cell_type": "code",
   "execution_count": null,
   "id": "d6a12c54",
   "metadata": {
    "ExecuteTime": {
     "end_time": "2022-06-09T13:19:52.251661Z",
     "start_time": "2022-06-09T13:19:52.239589Z"
    },
    "scrolled": true
   },
   "outputs": [],
   "source": [
    "# 지번이 결측값인 행을 선택합니다.\n",
    "price[price['지번'].isna()]"
   ]
  },
  {
   "cell_type": "code",
   "execution_count": null,
   "id": "28b1638c",
   "metadata": {},
   "outputs": [],
   "source": [
    "# 지번이 결측인 아파트별로 원본 데이터를 채워넣습니다.\n",
    "price.loc[price['아파트'].eq('서초포레스타2단지'), '지번'] = '384'\n",
    "price.loc[price['아파트'].eq('힐스테이트 서초 젠트리스'), '지번'] = '557'"
   ]
  },
  {
   "cell_type": "markdown",
   "id": "rational-burns",
   "metadata": {},
   "source": [
    "### 결측값 처리: 단순대체"
   ]
  },
  {
   "cell_type": "code",
   "execution_count": null,
   "id": "480631f0",
   "metadata": {},
   "outputs": [],
   "source": [
    "# price의 열별 결측값 개수를 확인합니다.\n",
    "price.isna().sum()"
   ]
  },
  {
   "cell_type": "code",
   "execution_count": null,
   "id": "c9d68099",
   "metadata": {},
   "outputs": [],
   "source": [
    "# 건축년도가 결측값인 행을 선택합니다.\n",
    "price[price['건축년도'].isna()]"
   ]
  },
  {
   "cell_type": "code",
   "execution_count": null,
   "id": "4590160a",
   "metadata": {
    "ExecuteTime": {
     "end_time": "2022-06-09T13:19:52.265959Z",
     "start_time": "2022-06-09T13:19:52.253397Z"
    }
   },
   "outputs": [],
   "source": [
    "# 건축년도가 결측값인 행에서 결측값을 특정 값으로 대체한 결과를 반환합니다.\n",
    "price[price['건축년도'].isna()].fillna(value = 9999)"
   ]
  },
  {
   "cell_type": "markdown",
   "id": "7130765e",
   "metadata": {},
   "source": [
    "### [참고] 결측값을 이전 셀 값으로 채우기"
   ]
  },
  {
   "cell_type": "code",
   "execution_count": null,
   "id": "78a88025",
   "metadata": {
    "ExecuteTime": {
     "end_time": "2022-06-09T13:19:52.271379Z",
     "start_time": "2022-06-09T13:19:52.267625Z"
    }
   },
   "outputs": [],
   "source": [
    "# 현재 작업 경로에 있는 폴더명과 파일명을 출력합니다.\n",
    "sorted(os.listdir())"
   ]
  },
  {
   "cell_type": "code",
   "execution_count": null,
   "id": "89cf2e20",
   "metadata": {
    "ExecuteTime": {
     "end_time": "2022-06-09T13:19:52.299207Z",
     "start_time": "2022-06-09T13:19:52.273032Z"
    }
   },
   "outputs": [],
   "source": [
    "# 결측값 처리 예제 파일을 읽고 데이터프레임을 생성합니다.\n",
    "na = pd.read_excel(io = 'NA_Sample.xlsx')"
   ]
  },
  {
   "cell_type": "code",
   "execution_count": null,
   "id": "6f4b46a8",
   "metadata": {
    "ExecuteTime": {
     "end_time": "2022-06-09T13:19:52.307844Z",
     "start_time": "2022-06-09T13:19:52.301013Z"
    }
   },
   "outputs": [],
   "source": [
    "# na를 출력합니다. 구분에 결측값이 많습니다.\n",
    "# [참고] xlsx에서 병합한 셀은 처음 값만 제대로 읽고 나머지는 결측값으로 채웁니다.\n",
    "na"
   ]
  },
  {
   "cell_type": "code",
   "execution_count": null,
   "id": "ee2bc07a",
   "metadata": {
    "ExecuteTime": {
     "end_time": "2022-06-09T13:19:52.319727Z",
     "start_time": "2022-06-09T13:19:52.309375Z"
    }
   },
   "outputs": [],
   "source": [
    "# 결측값을 이전 셀 값으로 채웁니다.\n",
    "# [참고] method 매개변수에 'bfill'을 지정하면 결측값을 이후 셀 값으로 채웁니다.\n",
    "na.fillna(method = 'ffill')"
   ]
  },
  {
   "cell_type": "markdown",
   "id": "e8decc16",
   "metadata": {},
   "source": [
    "### 결측값 처리: 행 삭제"
   ]
  },
  {
   "cell_type": "code",
   "execution_count": null,
   "id": "narrow-soundtrack",
   "metadata": {
    "ExecuteTime": {
     "end_time": "2022-06-09T13:19:52.352362Z",
     "start_time": "2022-06-09T13:19:52.321469Z"
    },
    "scrolled": true
   },
   "outputs": [],
   "source": [
    "# price에서 결측값이 있는 모든 행을 삭제한 결과를 반환합니다.\n",
    "price.dropna()"
   ]
  },
  {
   "cell_type": "code",
   "execution_count": null,
   "id": "outstanding-brazil",
   "metadata": {
    "ExecuteTime": {
     "end_time": "2022-06-09T13:19:52.359844Z",
     "start_time": "2022-06-09T13:19:52.354113Z"
    },
    "scrolled": true
   },
   "outputs": [],
   "source": [
    "# 건축년도에서 결측값이 없는 행을 선택한 결과를 반환합니다.\n",
    "# [참고] ~ 연산자는 isna() 실행 결과를 반전합니다.\n",
    "# [참고] notna()를 대신 사용할 수 있습니다.\n",
    "price[~price['건축년도'].isna()]"
   ]
  },
  {
   "cell_type": "code",
   "execution_count": null,
   "id": "e0472564",
   "metadata": {
    "ExecuteTime": {
     "end_time": "2022-06-09T13:19:52.380317Z",
     "start_time": "2022-06-09T13:19:52.372588Z"
    }
   },
   "outputs": [],
   "source": [
    "# 건축년도에서 결측값이 없는 행을 선택하고 price에 재할당합니다.\n",
    "# [참고] 행 개수가 감소했습니다.(139919 -> 139917)\n",
    "price = price[price['건축년도'].notna()]"
   ]
  },
  {
   "cell_type": "code",
   "execution_count": null,
   "id": "6595b11c",
   "metadata": {},
   "outputs": [],
   "source": [
    "# 건축년도를 정수형으로 변환합니다.\n",
    "# [참고] 결측값(np.NAN)을 삭제하면 정수형으로 변환할 수 있습니다.\n",
    "price['건축년도'] = price['건축년도'].astype(int)"
   ]
  },
  {
   "cell_type": "markdown",
   "id": "american-milan",
   "metadata": {},
   "source": [
    "### 파생변수 생성 : 연속형 변수"
   ]
  },
  {
   "cell_type": "code",
   "execution_count": null,
   "id": "dependent-modification",
   "metadata": {
    "ExecuteTime": {
     "end_time": "2022-06-09T13:19:52.393116Z",
     "start_time": "2022-06-09T13:19:52.382084Z"
    }
   },
   "outputs": [],
   "source": [
    "# 거래금액을 전용면적으로 나누고 3.3을 곱한 평당금액을 생성합니다.\n",
    "price['평당금액'] = price['거래금액'] / price['전용면적'] * 3.3\n",
    "price.head()"
   ]
  },
  {
   "cell_type": "code",
   "execution_count": null,
   "id": "9364a3e9",
   "metadata": {},
   "outputs": [],
   "source": [
    "# pandas 옵션에서 실수를 출력하는 소수점 자리수를 설정합니다.\n",
    "pd.set_option('display.float_format', lambda x: f'{x:.3f}')"
   ]
  },
  {
   "cell_type": "code",
   "execution_count": null,
   "id": "inappropriate-resistance",
   "metadata": {
    "ExecuteTime": {
     "end_time": "2022-06-09T13:19:52.425282Z",
     "start_time": "2022-06-09T13:19:52.420763Z"
    }
   },
   "outputs": [],
   "source": [
    "# 거래금액을 10000으로 나누어 거래금액의 단위를 만원에서 억원으로 변경합니다.\n",
    "price['거래금액'] = price['거래금액'] / 10000\n",
    "price.head()"
   ]
  },
  {
   "cell_type": "code",
   "execution_count": null,
   "id": "1448488c",
   "metadata": {},
   "outputs": [],
   "source": [
    "# 거래일에서 년을 정수형으로 반환하여 거래년도를 생성합니다.\n",
    "price['거래년도'] = price['거래일'].dt.year"
   ]
  },
  {
   "cell_type": "code",
   "execution_count": null,
   "id": "916c0bba",
   "metadata": {},
   "outputs": [],
   "source": [
    "# 거래년도에서 건축년도를 뺀 경과년수를 생성합니다.\n",
    "price['경과년수'] = price['거래년도'] - price['건축년도']"
   ]
  },
  {
   "cell_type": "code",
   "execution_count": null,
   "id": "fdadf8f6",
   "metadata": {},
   "outputs": [],
   "source": [
    "# 거래일에서 월을 문자형으로 반환하여 거래월을 생성합니다.\n",
    "# [참고] 거래일에서 월을 '01월', '02월' 형태의 문자열로 반환합니다.\n",
    "price['거래월'] = price['거래일'].dt.strftime(date_format = '%m월')\n",
    "price.head()"
   ]
  },
  {
   "cell_type": "markdown",
   "id": "2f904c50",
   "metadata": {},
   "source": [
    "### 파생변수 생성 : 범주형 변수"
   ]
  },
  {
   "cell_type": "code",
   "execution_count": null,
   "id": "a1c6120a",
   "metadata": {},
   "outputs": [],
   "source": [
    "# 평당금액이 5000 이상이면 True, 아니면 False인 원소를 갖는 locs를 생성합니다.\n",
    "# [참고] locs는 True 또는 False를 원소로 갖는 부울형 시리즈입니다.\n",
    "locs = price['평당금액'].ge(5000)\n",
    "locs.head()"
   ]
  },
  {
   "cell_type": "code",
   "execution_count": null,
   "id": "lasting-chapter",
   "metadata": {
    "ExecuteTime": {
     "end_time": "2022-06-09T13:19:52.533779Z",
     "start_time": "2022-06-09T13:19:52.515776Z"
    },
    "scrolled": true
   },
   "outputs": [],
   "source": [
    "# 평당금액을 '5천 이상', '5천 미만'으로 구분한 금액구간을 생성합니다.\n",
    "# [참고] np.where()는 첫 번째 인수(조건)가 True일 때 두 번째 인수를, False일 때 \n",
    "# 세 번째 인수를 배열로 반환합니다. 조건만 지정하면 True인 인덱스를 반환합니다.\n",
    "price['금액구간'] = np.where(locs, '5천 이상', '5천 미만')\n",
    "price.head()"
   ]
  },
  {
   "cell_type": "markdown",
   "id": "fff071c5",
   "metadata": {},
   "source": [
    "### [참고] 구간화 함수"
   ]
  },
  {
   "cell_type": "code",
   "execution_count": null,
   "id": "43dd519d",
   "metadata": {
    "ExecuteTime": {
     "end_time": "2022-06-09T13:19:52.572007Z",
     "start_time": "2022-06-09T13:19:52.566721Z"
    }
   },
   "outputs": [],
   "source": [
    "# 연속형 변수를 세 개 이상으로 분리할 때 np.where()를 중첩합니다.\n",
    "np.where(price['평당금액'].ge(10000), \n",
    "         '1억 이상', \n",
    "         np.where(price['평당금액'].ge(5000), \n",
    "                  '5천 이상', \n",
    "                  '5천 미만'))"
   ]
  },
  {
   "cell_type": "code",
   "execution_count": null,
   "id": "8a0cdbce",
   "metadata": {
    "ExecuteTime": {
     "end_time": "2022-06-09T13:19:52.579320Z",
     "start_time": "2022-06-09T13:19:52.573685Z"
    }
   },
   "outputs": [],
   "source": [
    "# 연속형 변수를 세 개 이상으로 분리할 때 np.select()를 사용합니다.\n",
    "np.select(condlist = [price['평당금액'].ge(10000),\n",
    "                      price['평당금액'].ge(5000),\n",
    "                      price['평당금액'].ge(0)], \n",
    "          choicelist = ['1억 이상', '5천 이상', '5천 미만'])"
   ]
  },
  {
   "cell_type": "markdown",
   "id": "66493a72",
   "metadata": {},
   "source": [
    "### 파생변수 생성: 문자형 변수 결합"
   ]
  },
  {
   "cell_type": "code",
   "execution_count": null,
   "id": "blond-dryer",
   "metadata": {
    "ExecuteTime": {
     "end_time": "2022-06-09T13:19:52.612040Z",
     "start_time": "2022-06-09T13:19:52.581117Z"
    },
    "scrolled": true
   },
   "outputs": [],
   "source": [
    "# 여러 문자형 변수를 + 연산자로 결합하여 주소를 생성합니다.\n",
    "price['주소'] = price['시'] + ' ' + price['구'] + ' ' + \\\n",
    "                price['동'] + ' ' + price['지번']\n",
    "price.head()"
   ]
  },
  {
   "cell_type": "code",
   "execution_count": null,
   "id": "tamil-penny",
   "metadata": {
    "ExecuteTime": {
     "end_time": "2022-06-09T13:19:52.616345Z",
     "start_time": "2022-06-09T13:19:52.613944Z"
    }
   },
   "outputs": [],
   "source": [
    "# 문자열로 결합할 문자형 열이름으로 리스트를 생성합니다.\n",
    "cols = ['시', '구', '동', '지번']"
   ]
  },
  {
   "cell_type": "code",
   "execution_count": null,
   "id": "protective-illness",
   "metadata": {
    "ExecuteTime": {
     "end_time": "2022-06-09T13:19:52.875331Z",
     "start_time": "2022-06-09T13:19:52.618357Z"
    }
   },
   "outputs": [],
   "source": [
    "# 데이터프레임의 행(시리즈)별로 문자열을 결합하는 함수를 반복 실행합니다.\n",
    "price[cols].apply(func = lambda x: ' '.join(x), axis = 1)"
   ]
  },
  {
   "cell_type": "markdown",
   "id": "latest-insight",
   "metadata": {},
   "source": [
    "### [참고] 같은 함수를 반복 실행하는 apply() 사용법"
   ]
  },
  {
   "cell_type": "code",
   "execution_count": null,
   "id": "1c042697",
   "metadata": {
    "ExecuteTime": {
     "end_time": "2022-06-09T13:19:52.902701Z",
     "start_time": "2022-06-09T13:19:52.890225Z"
    }
   },
   "outputs": [],
   "source": [
    "# 데이터프레임의 열(시리즈)별 원소 개수를 반환합니다.\n",
    "price[cols].apply(func = len, axis = 0)"
   ]
  },
  {
   "cell_type": "code",
   "execution_count": null,
   "id": "thorough-monitoring",
   "metadata": {
    "ExecuteTime": {
     "end_time": "2022-06-09T13:19:53.082112Z",
     "start_time": "2022-06-09T13:19:52.904571Z"
    }
   },
   "outputs": [],
   "source": [
    "# 데이터프레임의 행(시리즈)별 원소 개수를 반환합니다.\n",
    "price[cols].apply(func = len, axis = 1)"
   ]
  },
  {
   "cell_type": "code",
   "execution_count": null,
   "id": "posted-wrestling",
   "metadata": {
    "ExecuteTime": {
     "end_time": "2022-06-09T13:19:52.888528Z",
     "start_time": "2022-06-09T13:19:52.877159Z"
    }
   },
   "outputs": [],
   "source": [
    "# 아파트(시리즈)의 원소(문자열)별 글자수를 반환합니다.\n",
    "price['아파트'].map(arg = len)"
   ]
  },
  {
   "cell_type": "code",
   "execution_count": null,
   "id": "88320cf5",
   "metadata": {},
   "outputs": [],
   "source": [
    "# 아파트(시리즈)의 원소(문자열)별 글자수를 반환합니다.\n",
    "price['아파트'].apply(func = len)"
   ]
  },
  {
   "cell_type": "code",
   "execution_count": null,
   "id": "different-juice",
   "metadata": {
    "ExecuteTime": {
     "end_time": "2022-06-09T13:19:53.131114Z",
     "start_time": "2022-06-09T13:19:53.084003Z"
    }
   },
   "outputs": [],
   "source": [
    "# 데이터프레임의 셀 값(문자열)별 글자수를 반환합니다.\n",
    "price[cols].applymap(func = len)"
   ]
  },
  {
   "cell_type": "markdown",
   "id": "handmade-virus",
   "metadata": {},
   "source": [
    "### 외부 파일로 저장"
   ]
  },
  {
   "cell_type": "code",
   "execution_count": null,
   "id": "beca2b92",
   "metadata": {},
   "outputs": [],
   "source": [
    "# 전역 변수 목록을 출력합니다.\n",
    "# [참고] 모든 자료형을 출력합니다.\n",
    "%whos"
   ]
  },
  {
   "cell_type": "code",
   "execution_count": null,
   "id": "2f1a34f1",
   "metadata": {},
   "outputs": [],
   "source": [
    "# 데이터프레임만 출력합니다.\n",
    "%whos -v DataFrame"
   ]
  },
  {
   "cell_type": "code",
   "execution_count": null,
   "id": "f0f4181a",
   "metadata": {},
   "outputs": [],
   "source": [
    "# 현재 작업 경로를 확인합니다.\n",
    "os.getcwd()"
   ]
  },
  {
   "cell_type": "code",
   "execution_count": null,
   "id": "af413190",
   "metadata": {
    "ExecuteTime": {
     "end_time": "2022-06-09T13:20:11.410350Z",
     "start_time": "2022-06-09T13:20:11.305253Z"
    }
   },
   "outputs": [],
   "source": [
    "# 일부 변수를 z 파일로 저장합니다.\n",
    "joblib.dump(value = [price, df1, df2], filename = 'APT_Price_Prep.z')"
   ]
  },
  {
   "cell_type": "markdown",
   "id": "vocational-sacrifice",
   "metadata": {},
   "source": [
    "## End of Document"
   ]
  }
 ],
 "metadata": {
  "kernelspec": {
   "display_name": "Python 3",
   "language": "python",
   "name": "python3"
  },
  "language_info": {
   "codemirror_mode": {
    "name": "ipython",
    "version": 3
   },
   "file_extension": ".py",
   "mimetype": "text/x-python",
   "name": "python",
   "nbconvert_exporter": "python",
   "pygments_lexer": "ipython3",
   "version": "3.11.1"
  },
  "toc": {
   "base_numbering": 1,
   "nav_menu": {},
   "number_sections": false,
   "sideBar": true,
   "skip_h1_title": false,
   "title_cell": "Table of Contents",
   "title_sidebar": "Contents",
   "toc_cell": false,
   "toc_position": {},
   "toc_section_display": true,
   "toc_window_display": false
  },
  "varInspector": {
   "cols": {
    "lenName": 16,
    "lenType": 16,
    "lenVar": 40
   },
   "kernels_config": {
    "python": {
     "delete_cmd_postfix": "",
     "delete_cmd_prefix": "del ",
     "library": "var_list.py",
     "varRefreshCmd": "print(var_dic_list())"
    },
    "r": {
     "delete_cmd_postfix": ") ",
     "delete_cmd_prefix": "rm(",
     "library": "var_list.r",
     "varRefreshCmd": "cat(var_dic_list()) "
    }
   },
   "types_to_exclude": [
    "module",
    "function",
    "builtin_function_or_method",
    "instance",
    "_Feature"
   ],
   "window_display": false
  }
 },
 "nbformat": 4,
 "nbformat_minor": 5
}
