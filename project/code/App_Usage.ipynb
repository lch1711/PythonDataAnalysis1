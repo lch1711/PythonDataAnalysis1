{
 "cells": [
  {
   "cell_type": "markdown",
   "id": "48935d6b",
   "metadata": {},
   "source": [
    "## 데이터 전처리 실습"
   ]
  },
  {
   "cell_type": "markdown",
   "id": "f3701b12",
   "metadata": {},
   "source": [
    "### 실습 데이터셋 안내\n",
    "\n",
    "- 2022년 1~12월에 앱 사용성 내역입니다.<br>\n",
    "\n",
    "- 변수(열)에 대한 간단한 설명입니다.\n",
    "\n",
    "| 열이름 | 설명 | 특징 |\n",
    "| :----- | :--- | :--- |\n",
    "| country | 국가 코드 | KR: 한국, JP: 일본, AU: 호주, US: 미국, <br> BR: 브라질, GB: 영국, DE: 독일, FR: 프랑스 |\n",
    "| product | webOS version | webOS6.0만 제공 |\n",
    "| chipset | TV 칩셋 정보 | lm21a, lm21u, o20, e60F20, k7lp |\n",
    "| inch | TV 화면 크기 | 43, 55, 65, 75 |\n",
    "| app_name | 앱 이름 | app1 ~ app5로 가명 처리 |\n",
    "| use_month | 앱 사용월 | 2022-1 ~ 2022-12 |\n",
    "| use_tv_cnt | 해당 월에 해당 앱을 사용한 TV 대수 | 수치형 |\n",
    "| total_use_count | 해당 월에 해당 앱을 실행한 전체 횟수 | 수치형 |\n",
    "| total_use_hour | 해당 월에 해당 앱을 사용한 전체 시간 | 수치형 |\n",
    "| monthly_avg_use_count | 해당 월에 평균 실행 횟수 | 수치형 |\n",
    "| monthly_avg_use_hour | 해당 월에 평균 사용 시간 | 수치형 |\n",
    "\n",
    "- 실습 데이터인 **'App_Usage.csv'** 파일은 data 폴더에 있습니다.\n",
    "  - 구분자는 콤마(,)이고 인코딩 방식은 **ASCII**입니다."
   ]
  },
  {
   "cell_type": "markdown",
   "id": "15d0fbcd",
   "metadata": {},
   "source": [
    "### 관련 라이브러리 호출"
   ]
  },
  {
   "cell_type": "code",
   "execution_count": 1,
   "id": "bc1e38b3",
   "metadata": {},
   "outputs": [],
   "source": [
    "# 관련 라이브러리를 호출합니다.\n",
    "import os\n",
    "import chardet\n",
    "import numpy as np\n",
    "import pandas as pd\n",
    "import joblib"
   ]
  },
  {
   "cell_type": "code",
   "execution_count": 2,
   "id": "7a163e86",
   "metadata": {},
   "outputs": [
    {
     "data": {
      "text/plain": [
       "'%.3f'"
      ]
     },
     "execution_count": 2,
     "metadata": {},
     "output_type": "execute_result"
    }
   ],
   "source": [
    "# Jupyter Notebook에서 실수를 소수점 셋째 자리까지 출력하도록 설정합니다.\n",
    "%precision 3"
   ]
  },
  {
   "cell_type": "code",
   "execution_count": 3,
   "id": "97e293d0",
   "metadata": {},
   "outputs": [],
   "source": [
    "# pandas 객체에서 실수를 소수점 셋째 자리까지 출력하도록 설정합니다.\n",
    "pd.options.display.precision = 3"
   ]
  },
  {
   "cell_type": "code",
   "execution_count": 4,
   "id": "0b32f6bb",
   "metadata": {},
   "outputs": [],
   "source": [
    "# pandas 객체에서 과학적 표기법 적용을 해제하도록 설정합니다.\n",
    "pd.options.display.float_format = lambda x: f'{x:.3f}'"
   ]
  },
  {
   "cell_type": "markdown",
   "id": "b4da1fe3",
   "metadata": {},
   "source": [
    "### 작업 경로 확인 및 변경"
   ]
  },
  {
   "cell_type": "code",
   "execution_count": 5,
   "id": "8d48444e",
   "metadata": {},
   "outputs": [
    {
     "data": {
      "text/plain": [
       "'/Users/hdsceokevin/Documents/Lectures/LGE-HE/project/code'"
      ]
     },
     "execution_count": 5,
     "metadata": {},
     "output_type": "execute_result"
    }
   ],
   "source": [
    "# 현재 작업 경로를 확인합니다.\n",
    "os.getcwd()"
   ]
  },
  {
   "cell_type": "code",
   "execution_count": 6,
   "id": "d35e2e35",
   "metadata": {},
   "outputs": [],
   "source": [
    "# data 폴더로 작업 경로를 변경합니다.\n",
    "os.chdir(path = '../data')"
   ]
  },
  {
   "cell_type": "code",
   "execution_count": 7,
   "id": "2c79487f",
   "metadata": {},
   "outputs": [
    {
     "data": {
      "text/plain": [
       "['Online_Mall_Prep.z',\n",
       " 'Online_Mall_Rawdat.xlsx',\n",
       " 'App_Usage.csv',\n",
       " 'Online_Mall_Merged.xlsx',\n",
       " 'Online_Mall.csv']"
      ]
     },
     "execution_count": 7,
     "metadata": {},
     "output_type": "execute_result"
    }
   ],
   "source": [
    "# 현재 작업 경로에 있는 폴더명과 파일명을 출력합니다.\n",
    "os.listdir()"
   ]
  },
  {
   "cell_type": "markdown",
   "id": "318a3026",
   "metadata": {},
   "source": [
    "### 문자 인코딩 방식 확인"
   ]
  },
  {
   "cell_type": "code",
   "execution_count": 8,
   "id": "d11deebf",
   "metadata": {},
   "outputs": [],
   "source": [
    "# csv 파일명을 변수에 할당합니다. 여러 번 재사용하기 위함입니다.\n",
    "fileName = 'App_Usage.csv'"
   ]
  },
  {
   "cell_type": "code",
   "execution_count": 9,
   "id": "dbdd695c",
   "metadata": {},
   "outputs": [],
   "source": [
    "# csv 파일을 bytes 문자열로 읽고 text에 할당합니다.\n",
    "# [힌트] with 문, open() 및 read() 함수를 사용하세요.\n",
    "with open(file = fileName, mode = 'rb') as file:\n",
    "    text = file.read()"
   ]
  },
  {
   "cell_type": "code",
   "execution_count": 10,
   "id": "ce16705c",
   "metadata": {},
   "outputs": [
    {
     "data": {
      "text/plain": [
       "{'encoding': 'ascii', 'confidence': 1.000, 'language': ''}"
      ]
     },
     "execution_count": 10,
     "metadata": {},
     "output_type": "execute_result"
    }
   ],
   "source": [
    "# 바이너리 텍스트의 인코딩 방식을 확인합니다.\n",
    "# [힌트] chardet.detect() 함수를 사용하세요.\n",
    "chardet.detect(text)"
   ]
  },
  {
   "cell_type": "markdown",
   "id": "7c98047a",
   "metadata": {},
   "source": [
    "### 실습 데이터셋 준비"
   ]
  },
  {
   "cell_type": "code",
   "execution_count": 11,
   "id": "081193e8",
   "metadata": {},
   "outputs": [],
   "source": [
    "# 링크를 읽고 데이터프레임 rawdat를 생성합니다.\n",
    "# [힌트] pd.read_csv() 함수를 사용하세요.\n",
    "# [참고] 문자 인코딩 방식이 ASCII와 UTF-8이면 encoding 매개변수를 생략할 수 있습니다.\n",
    "rawdat = pd.read_csv(filepath_or_buffer = fileName)"
   ]
  },
  {
   "cell_type": "code",
   "execution_count": 12,
   "id": "366f9cce",
   "metadata": {},
   "outputs": [
    {
     "name": "stdout",
     "output_type": "stream",
     "text": [
      "<class 'pandas.core.frame.DataFrame'>\n",
      "RangeIndex: 6824 entries, 0 to 6823\n",
      "Data columns (total 11 columns):\n",
      " #   Column                 Non-Null Count  Dtype  \n",
      "---  ------                 --------------  -----  \n",
      " 0   country                6824 non-null   object \n",
      " 1   product                6824 non-null   object \n",
      " 2   chipset                6824 non-null   object \n",
      " 3   inch                   6824 non-null   int64  \n",
      " 4   app_name               6824 non-null   object \n",
      " 5   use_month              6824 non-null   object \n",
      " 6   use_tv_cnt             6824 non-null   int64  \n",
      " 7   total_use_count        6824 non-null   float64\n",
      " 8   total_use_hour         6824 non-null   float64\n",
      " 9   monthly_avg_use_count  6824 non-null   float64\n",
      " 10  monthly_avg_use_hour   6824 non-null   float64\n",
      "dtypes: float64(4), int64(2), object(5)\n",
      "memory usage: 586.6+ KB\n"
     ]
    }
   ],
   "source": [
    "# rawdat의 정보를 확인합니다.\n",
    "# [힌트] info() 함수를 사용하세요.\n",
    "rawdat.info()"
   ]
  },
  {
   "cell_type": "code",
   "execution_count": 13,
   "id": "b07f555b",
   "metadata": {},
   "outputs": [
    {
     "data": {
      "text/html": [
       "<div>\n",
       "<style scoped>\n",
       "    .dataframe tbody tr th:only-of-type {\n",
       "        vertical-align: middle;\n",
       "    }\n",
       "\n",
       "    .dataframe tbody tr th {\n",
       "        vertical-align: top;\n",
       "    }\n",
       "\n",
       "    .dataframe thead th {\n",
       "        text-align: right;\n",
       "    }\n",
       "</style>\n",
       "<table border=\"1\" class=\"dataframe\">\n",
       "  <thead>\n",
       "    <tr style=\"text-align: right;\">\n",
       "      <th></th>\n",
       "      <th>country</th>\n",
       "      <th>product</th>\n",
       "      <th>chipset</th>\n",
       "      <th>inch</th>\n",
       "      <th>app_name</th>\n",
       "      <th>use_month</th>\n",
       "      <th>use_tv_cnt</th>\n",
       "      <th>total_use_count</th>\n",
       "      <th>total_use_hour</th>\n",
       "      <th>monthly_avg_use_count</th>\n",
       "      <th>monthly_avg_use_hour</th>\n",
       "    </tr>\n",
       "  </thead>\n",
       "  <tbody>\n",
       "    <tr>\n",
       "      <th>0</th>\n",
       "      <td>AU</td>\n",
       "      <td>webOSTV 6.0</td>\n",
       "      <td>lm21a</td>\n",
       "      <td>75</td>\n",
       "      <td>app2</td>\n",
       "      <td>2022-12</td>\n",
       "      <td>21875</td>\n",
       "      <td>666597.000</td>\n",
       "      <td>896872.021</td>\n",
       "      <td>24.371</td>\n",
       "      <td>32.414</td>\n",
       "    </tr>\n",
       "    <tr>\n",
       "      <th>1</th>\n",
       "      <td>KR</td>\n",
       "      <td>webOSTV 6.0</td>\n",
       "      <td>lm21u</td>\n",
       "      <td>55</td>\n",
       "      <td>app2</td>\n",
       "      <td>2022-9</td>\n",
       "      <td>29645</td>\n",
       "      <td>510344.000</td>\n",
       "      <td>694226.376</td>\n",
       "      <td>14.919</td>\n",
       "      <td>19.982</td>\n",
       "    </tr>\n",
       "    <tr>\n",
       "      <th>2</th>\n",
       "      <td>KR</td>\n",
       "      <td>webOSTV 6.0</td>\n",
       "      <td>o20</td>\n",
       "      <td>55</td>\n",
       "      <td>app4</td>\n",
       "      <td>2022-8</td>\n",
       "      <td>7690</td>\n",
       "      <td>171398.000</td>\n",
       "      <td>227124.473</td>\n",
       "      <td>18.450</td>\n",
       "      <td>23.849</td>\n",
       "    </tr>\n",
       "    <tr>\n",
       "      <th>3</th>\n",
       "      <td>JP</td>\n",
       "      <td>webOSTV 6.0</td>\n",
       "      <td>o20</td>\n",
       "      <td>55</td>\n",
       "      <td>app1</td>\n",
       "      <td>2022-12</td>\n",
       "      <td>5686</td>\n",
       "      <td>69985.000</td>\n",
       "      <td>71767.525</td>\n",
       "      <td>11.582</td>\n",
       "      <td>11.724</td>\n",
       "    </tr>\n",
       "    <tr>\n",
       "      <th>4</th>\n",
       "      <td>AU</td>\n",
       "      <td>webOSTV 6.0</td>\n",
       "      <td>lm21a</td>\n",
       "      <td>43</td>\n",
       "      <td>app5</td>\n",
       "      <td>2022-8</td>\n",
       "      <td>4721</td>\n",
       "      <td>35920.000</td>\n",
       "      <td>56835.776</td>\n",
       "      <td>6.628</td>\n",
       "      <td>9.649</td>\n",
       "    </tr>\n",
       "  </tbody>\n",
       "</table>\n",
       "</div>"
      ],
      "text/plain": [
       "  country      product chipset  inch app_name use_month  use_tv_cnt   \n",
       "0      AU  webOSTV 6.0   lm21a    75     app2   2022-12       21875  \\\n",
       "1      KR  webOSTV 6.0   lm21u    55     app2    2022-9       29645   \n",
       "2      KR  webOSTV 6.0     o20    55     app4    2022-8        7690   \n",
       "3      JP  webOSTV 6.0     o20    55     app1   2022-12        5686   \n",
       "4      AU  webOSTV 6.0   lm21a    43     app5    2022-8        4721   \n",
       "\n",
       "   total_use_count  total_use_hour  monthly_avg_use_count   \n",
       "0       666597.000      896872.021                 24.371  \\\n",
       "1       510344.000      694226.376                 14.919   \n",
       "2       171398.000      227124.473                 18.450   \n",
       "3        69985.000       71767.525                 11.582   \n",
       "4        35920.000       56835.776                  6.628   \n",
       "\n",
       "   monthly_avg_use_hour  \n",
       "0                32.414  \n",
       "1                19.982  \n",
       "2                23.849  \n",
       "3                11.724  \n",
       "4                 9.649  "
      ]
     },
     "execution_count": 13,
     "metadata": {},
     "output_type": "execute_result"
    }
   ],
   "source": [
    "# rawdat의 처음 5행을 출력합니다.\n",
    "# [힌트] head() 함수를 사용하세요.\n",
    "rawdat.head()"
   ]
  },
  {
   "cell_type": "code",
   "execution_count": 14,
   "id": "4a0385c6",
   "metadata": {},
   "outputs": [
    {
     "data": {
      "text/html": [
       "<div>\n",
       "<style scoped>\n",
       "    .dataframe tbody tr th:only-of-type {\n",
       "        vertical-align: middle;\n",
       "    }\n",
       "\n",
       "    .dataframe tbody tr th {\n",
       "        vertical-align: top;\n",
       "    }\n",
       "\n",
       "    .dataframe thead th {\n",
       "        text-align: right;\n",
       "    }\n",
       "</style>\n",
       "<table border=\"1\" class=\"dataframe\">\n",
       "  <thead>\n",
       "    <tr style=\"text-align: right;\">\n",
       "      <th></th>\n",
       "      <th>country</th>\n",
       "      <th>product</th>\n",
       "      <th>chipset</th>\n",
       "      <th>inch</th>\n",
       "      <th>app_name</th>\n",
       "      <th>use_month</th>\n",
       "      <th>use_tv_cnt</th>\n",
       "      <th>total_use_count</th>\n",
       "      <th>total_use_hour</th>\n",
       "      <th>monthly_avg_use_count</th>\n",
       "      <th>monthly_avg_use_hour</th>\n",
       "    </tr>\n",
       "  </thead>\n",
       "  <tbody>\n",
       "    <tr>\n",
       "      <th>6819</th>\n",
       "      <td>GB</td>\n",
       "      <td>webOSTV 6.0</td>\n",
       "      <td>k7lp</td>\n",
       "      <td>55</td>\n",
       "      <td>app3</td>\n",
       "      <td>2022-4</td>\n",
       "      <td>40</td>\n",
       "      <td>57.000</td>\n",
       "      <td>11.854</td>\n",
       "      <td>1.387</td>\n",
       "      <td>0.296</td>\n",
       "    </tr>\n",
       "    <tr>\n",
       "      <th>6820</th>\n",
       "      <td>FR</td>\n",
       "      <td>webOSTV 6.0</td>\n",
       "      <td>k7lp</td>\n",
       "      <td>65</td>\n",
       "      <td>app5</td>\n",
       "      <td>2022-3</td>\n",
       "      <td>12</td>\n",
       "      <td>21.000</td>\n",
       "      <td>2.160</td>\n",
       "      <td>1.750</td>\n",
       "      <td>0.180</td>\n",
       "    </tr>\n",
       "    <tr>\n",
       "      <th>6821</th>\n",
       "      <td>GB</td>\n",
       "      <td>webOSTV 6.0</td>\n",
       "      <td>e60F20</td>\n",
       "      <td>75</td>\n",
       "      <td>app3</td>\n",
       "      <td>2022-12</td>\n",
       "      <td>14</td>\n",
       "      <td>52.000</td>\n",
       "      <td>39.429</td>\n",
       "      <td>3.286</td>\n",
       "      <td>2.439</td>\n",
       "    </tr>\n",
       "    <tr>\n",
       "      <th>6822</th>\n",
       "      <td>DE</td>\n",
       "      <td>webOSTV 6.0</td>\n",
       "      <td>e60F20</td>\n",
       "      <td>55</td>\n",
       "      <td>app5</td>\n",
       "      <td>2022-7</td>\n",
       "      <td>1</td>\n",
       "      <td>17.000</td>\n",
       "      <td>17.758</td>\n",
       "      <td>17.000</td>\n",
       "      <td>17.758</td>\n",
       "    </tr>\n",
       "    <tr>\n",
       "      <th>6823</th>\n",
       "      <td>FR</td>\n",
       "      <td>webOSTV 6.0</td>\n",
       "      <td>o20</td>\n",
       "      <td>65</td>\n",
       "      <td>app3</td>\n",
       "      <td>2022-2</td>\n",
       "      <td>19</td>\n",
       "      <td>40.000</td>\n",
       "      <td>17.759</td>\n",
       "      <td>2.105</td>\n",
       "      <td>0.935</td>\n",
       "    </tr>\n",
       "  </tbody>\n",
       "</table>\n",
       "</div>"
      ],
      "text/plain": [
       "     country      product chipset  inch app_name use_month  use_tv_cnt   \n",
       "6819      GB  webOSTV 6.0    k7lp    55     app3    2022-4          40  \\\n",
       "6820      FR  webOSTV 6.0    k7lp    65     app5    2022-3          12   \n",
       "6821      GB  webOSTV 6.0  e60F20    75     app3   2022-12          14   \n",
       "6822      DE  webOSTV 6.0  e60F20    55     app5    2022-7           1   \n",
       "6823      FR  webOSTV 6.0     o20    65     app3    2022-2          19   \n",
       "\n",
       "      total_use_count  total_use_hour  monthly_avg_use_count   \n",
       "6819           57.000          11.854                  1.387  \\\n",
       "6820           21.000           2.160                  1.750   \n",
       "6821           52.000          39.429                  3.286   \n",
       "6822           17.000          17.758                 17.000   \n",
       "6823           40.000          17.759                  2.105   \n",
       "\n",
       "      monthly_avg_use_hour  \n",
       "6819                 0.296  \n",
       "6820                 0.180  \n",
       "6821                 2.439  \n",
       "6822                17.758  \n",
       "6823                 0.935  "
      ]
     },
     "execution_count": 14,
     "metadata": {},
     "output_type": "execute_result"
    }
   ],
   "source": [
    "# rawdat의 마지막 5행을 출력합니다.\n",
    "# [힌트] tail() 함수를 사용하세요.\n",
    "rawdat.tail()"
   ]
  },
  {
   "cell_type": "markdown",
   "id": "9b0bff47",
   "metadata": {},
   "source": [
    "### 실습 데이터셋 전처리"
   ]
  },
  {
   "cell_type": "code",
   "execution_count": 15,
   "id": "464e4926",
   "metadata": {},
   "outputs": [
    {
     "data": {
      "text/plain": [
       "0       75\n",
       "1       55\n",
       "2       55\n",
       "3       55\n",
       "4       43\n",
       "        ..\n",
       "6819    55\n",
       "6820    65\n",
       "6821    75\n",
       "6822    55\n",
       "6823    65\n",
       "Name: inch, Length: 6824, dtype: object"
      ]
     },
     "execution_count": 15,
     "metadata": {},
     "output_type": "execute_result"
    }
   ],
   "source": [
    "# inch 열의 자료형을 문자열로 변환합니다.\n",
    "rawdat['inch'].astype(str)"
   ]
  },
  {
   "cell_type": "code",
   "execution_count": 16,
   "id": "366cbc44",
   "metadata": {},
   "outputs": [],
   "source": [
    "# 위 코드 실행 결과를 inch 열에 재할당합니다.\n",
    "rawdat['inch'] = rawdat['inch'].astype(str)"
   ]
  },
  {
   "cell_type": "code",
   "execution_count": 17,
   "id": "4ddb97ef",
   "metadata": {},
   "outputs": [
    {
     "data": {
      "text/plain": [
       "0       2022-12-1\n",
       "1        2022-9-1\n",
       "2        2022-8-1\n",
       "3       2022-12-1\n",
       "4        2022-8-1\n",
       "          ...    \n",
       "6819     2022-4-1\n",
       "6820     2022-3-1\n",
       "6821    2022-12-1\n",
       "6822     2022-7-1\n",
       "6823     2022-2-1\n",
       "Name: use_month, Length: 6824, dtype: object"
      ]
     },
     "execution_count": 17,
     "metadata": {},
     "output_type": "execute_result"
    }
   ],
   "source": [
    "# use_month 열에 일(day)을 추가한 결과를 출력합니다.\n",
    "# [참고] 시리즈의 모든 원소가 문자열이면 결합할 수 있습니다.\n",
    "rawdat['use_month'] + '-1'"
   ]
  },
  {
   "cell_type": "code",
   "execution_count": 18,
   "id": "2a09348b",
   "metadata": {},
   "outputs": [
    {
     "data": {
      "text/plain": [
       "0       2022-12-1\n",
       "1        2022-9-1\n",
       "2        2022-8-1\n",
       "3       2022-12-1\n",
       "4        2022-8-1\n",
       "          ...    \n",
       "6819     2022-4-1\n",
       "6820     2022-3-1\n",
       "6821    2022-12-1\n",
       "6822     2022-7-1\n",
       "6823     2022-2-1\n",
       "Name: use_month, Length: 6824, dtype: object"
      ]
     },
     "execution_count": 18,
     "metadata": {},
     "output_type": "execute_result"
    }
   ],
   "source": [
    "# use_month 열에 일(day)을 추가한 결과를 출력합니다.\n",
    "# [참고] 시리즈의 map() 함수를 사용하면 원소마다 반복 실행합니다.\n",
    "# [참고] 람다 표현식에 익숙해지면 없는 함수를 만들어 사용할 수 있습니다.\n",
    "rawdat['use_month'].map(arg = lambda x: x + '-1')"
   ]
  },
  {
   "cell_type": "code",
   "execution_count": 19,
   "id": "3e45bf64",
   "metadata": {},
   "outputs": [],
   "source": [
    "# 위 코드 실행 결과를 새 변수 use_date 열에 할당합니다.\n",
    "rawdat['use_date'] = rawdat['use_month'].map(arg = lambda x: x + '-1')"
   ]
  },
  {
   "cell_type": "code",
   "execution_count": 20,
   "id": "7eb2f8cb",
   "metadata": {},
   "outputs": [
    {
     "data": {
      "text/plain": [
       "0      2022-12-01\n",
       "1      2022-09-01\n",
       "2      2022-08-01\n",
       "3      2022-12-01\n",
       "4      2022-08-01\n",
       "          ...    \n",
       "6819   2022-04-01\n",
       "6820   2022-03-01\n",
       "6821   2022-12-01\n",
       "6822   2022-07-01\n",
       "6823   2022-02-01\n",
       "Name: use_date, Length: 6824, dtype: datetime64[ns]"
      ]
     },
     "execution_count": 20,
     "metadata": {},
     "output_type": "execute_result"
    }
   ],
   "source": [
    "# use_date 열을 날짜시간형으로 변환한 결과를 출력합니다.\n",
    "# [힌트] astype() 함수에 'datetime64[ns]'을 지정하세요.\n",
    "rawdat['use_date'].astype('datetime64[ns]')"
   ]
  },
  {
   "cell_type": "code",
   "execution_count": 21,
   "id": "2a0ab493",
   "metadata": {},
   "outputs": [],
   "source": [
    "# 위 코드 실행 결과를 use_date 열에 할당하여 변경합니다.\n",
    "rawdat['use_date'] = rawdat['use_date'].astype(str).astype('datetime64[ns]')"
   ]
  },
  {
   "cell_type": "code",
   "execution_count": 22,
   "id": "495bfe43",
   "metadata": {},
   "outputs": [
    {
     "data": {
      "text/plain": [
       "0       2022년 12월\n",
       "1       2022년 09월\n",
       "2       2022년 08월\n",
       "3       2022년 12월\n",
       "4       2022년 08월\n",
       "          ...    \n",
       "6819    2022년 04월\n",
       "6820    2022년 03월\n",
       "6821    2022년 12월\n",
       "6822    2022년 07월\n",
       "6823    2022년 02월\n",
       "Name: use_date, Length: 6824, dtype: object"
      ]
     },
     "execution_count": 22,
     "metadata": {},
     "output_type": "execute_result"
    }
   ],
   "source": [
    "# use_date 열에서 'yyyy년 mm월' 형태의 문자열을 추출한 결과를 출력합니다.\n",
    "# [힌트] dt.strftime() 함수의 date_format 매개변수에 날짜 포맷을 지정하세요.\n",
    "rawdat['use_date'].dt.strftime(date_format = '%Y년 %m월')"
   ]
  },
  {
   "cell_type": "code",
   "execution_count": 23,
   "id": "15115d94",
   "metadata": {},
   "outputs": [],
   "source": [
    "# 위 코드 실행 결과를 use_month 열에 할당합니다.\n",
    "rawdat['use_month'] = rawdat['use_date'].dt.strftime(date_format = '%Y년 %m월')"
   ]
  },
  {
   "cell_type": "code",
   "execution_count": 24,
   "id": "3c505167",
   "metadata": {},
   "outputs": [
    {
     "data": {
      "text/html": [
       "<div>\n",
       "<style scoped>\n",
       "    .dataframe tbody tr th:only-of-type {\n",
       "        vertical-align: middle;\n",
       "    }\n",
       "\n",
       "    .dataframe tbody tr th {\n",
       "        vertical-align: top;\n",
       "    }\n",
       "\n",
       "    .dataframe thead th {\n",
       "        text-align: right;\n",
       "    }\n",
       "</style>\n",
       "<table border=\"1\" class=\"dataframe\">\n",
       "  <thead>\n",
       "    <tr style=\"text-align: right;\">\n",
       "      <th></th>\n",
       "      <th>country</th>\n",
       "      <th>product</th>\n",
       "      <th>chipset</th>\n",
       "      <th>inch</th>\n",
       "      <th>app_name</th>\n",
       "      <th>use_month</th>\n",
       "      <th>use_tv_cnt</th>\n",
       "      <th>total_use_count</th>\n",
       "      <th>total_use_hour</th>\n",
       "      <th>monthly_avg_use_count</th>\n",
       "      <th>monthly_avg_use_hour</th>\n",
       "      <th>use_date</th>\n",
       "    </tr>\n",
       "  </thead>\n",
       "  <tbody>\n",
       "    <tr>\n",
       "      <th>0</th>\n",
       "      <td>AU</td>\n",
       "      <td>webOSTV 6.0</td>\n",
       "      <td>lm21a</td>\n",
       "      <td>75</td>\n",
       "      <td>app2</td>\n",
       "      <td>2022년 12월</td>\n",
       "      <td>21875</td>\n",
       "      <td>666597.000</td>\n",
       "      <td>896872.021</td>\n",
       "      <td>24.371</td>\n",
       "      <td>32.414</td>\n",
       "      <td>2022-12-01</td>\n",
       "    </tr>\n",
       "    <tr>\n",
       "      <th>1</th>\n",
       "      <td>KR</td>\n",
       "      <td>webOSTV 6.0</td>\n",
       "      <td>lm21u</td>\n",
       "      <td>55</td>\n",
       "      <td>app2</td>\n",
       "      <td>2022년 09월</td>\n",
       "      <td>29645</td>\n",
       "      <td>510344.000</td>\n",
       "      <td>694226.376</td>\n",
       "      <td>14.919</td>\n",
       "      <td>19.982</td>\n",
       "      <td>2022-09-01</td>\n",
       "    </tr>\n",
       "    <tr>\n",
       "      <th>2</th>\n",
       "      <td>KR</td>\n",
       "      <td>webOSTV 6.0</td>\n",
       "      <td>o20</td>\n",
       "      <td>55</td>\n",
       "      <td>app4</td>\n",
       "      <td>2022년 08월</td>\n",
       "      <td>7690</td>\n",
       "      <td>171398.000</td>\n",
       "      <td>227124.473</td>\n",
       "      <td>18.450</td>\n",
       "      <td>23.849</td>\n",
       "      <td>2022-08-01</td>\n",
       "    </tr>\n",
       "    <tr>\n",
       "      <th>3</th>\n",
       "      <td>JP</td>\n",
       "      <td>webOSTV 6.0</td>\n",
       "      <td>o20</td>\n",
       "      <td>55</td>\n",
       "      <td>app1</td>\n",
       "      <td>2022년 12월</td>\n",
       "      <td>5686</td>\n",
       "      <td>69985.000</td>\n",
       "      <td>71767.525</td>\n",
       "      <td>11.582</td>\n",
       "      <td>11.724</td>\n",
       "      <td>2022-12-01</td>\n",
       "    </tr>\n",
       "    <tr>\n",
       "      <th>4</th>\n",
       "      <td>AU</td>\n",
       "      <td>webOSTV 6.0</td>\n",
       "      <td>lm21a</td>\n",
       "      <td>43</td>\n",
       "      <td>app5</td>\n",
       "      <td>2022년 08월</td>\n",
       "      <td>4721</td>\n",
       "      <td>35920.000</td>\n",
       "      <td>56835.776</td>\n",
       "      <td>6.628</td>\n",
       "      <td>9.649</td>\n",
       "      <td>2022-08-01</td>\n",
       "    </tr>\n",
       "  </tbody>\n",
       "</table>\n",
       "</div>"
      ],
      "text/plain": [
       "  country      product chipset inch app_name  use_month  use_tv_cnt   \n",
       "0      AU  webOSTV 6.0   lm21a   75     app2  2022년 12월       21875  \\\n",
       "1      KR  webOSTV 6.0   lm21u   55     app2  2022년 09월       29645   \n",
       "2      KR  webOSTV 6.0     o20   55     app4  2022년 08월        7690   \n",
       "3      JP  webOSTV 6.0     o20   55     app1  2022년 12월        5686   \n",
       "4      AU  webOSTV 6.0   lm21a   43     app5  2022년 08월        4721   \n",
       "\n",
       "   total_use_count  total_use_hour  monthly_avg_use_count   \n",
       "0       666597.000      896872.021                 24.371  \\\n",
       "1       510344.000      694226.376                 14.919   \n",
       "2       171398.000      227124.473                 18.450   \n",
       "3        69985.000       71767.525                 11.582   \n",
       "4        35920.000       56835.776                  6.628   \n",
       "\n",
       "   monthly_avg_use_hour   use_date  \n",
       "0                32.414 2022-12-01  \n",
       "1                19.982 2022-09-01  \n",
       "2                23.849 2022-08-01  \n",
       "3                11.724 2022-12-01  \n",
       "4                 9.649 2022-08-01  "
      ]
     },
     "execution_count": 24,
     "metadata": {},
     "output_type": "execute_result"
    }
   ],
   "source": [
    "# rawdat의 처음 5행을 출력합니다.\n",
    "rawdat.head()"
   ]
  },
  {
   "cell_type": "markdown",
   "id": "3cbceb0a",
   "metadata": {},
   "source": [
    "### 기술통계량 확인"
   ]
  },
  {
   "cell_type": "code",
   "execution_count": 25,
   "id": "fc3ad07d",
   "metadata": {},
   "outputs": [
    {
     "data": {
      "text/html": [
       "<div>\n",
       "<style scoped>\n",
       "    .dataframe tbody tr th:only-of-type {\n",
       "        vertical-align: middle;\n",
       "    }\n",
       "\n",
       "    .dataframe tbody tr th {\n",
       "        vertical-align: top;\n",
       "    }\n",
       "\n",
       "    .dataframe thead th {\n",
       "        text-align: right;\n",
       "    }\n",
       "</style>\n",
       "<table border=\"1\" class=\"dataframe\">\n",
       "  <thead>\n",
       "    <tr style=\"text-align: right;\">\n",
       "      <th></th>\n",
       "      <th>use_tv_cnt</th>\n",
       "      <th>total_use_count</th>\n",
       "      <th>total_use_hour</th>\n",
       "      <th>monthly_avg_use_count</th>\n",
       "      <th>monthly_avg_use_hour</th>\n",
       "      <th>use_date</th>\n",
       "    </tr>\n",
       "  </thead>\n",
       "  <tbody>\n",
       "    <tr>\n",
       "      <th>count</th>\n",
       "      <td>6824.000</td>\n",
       "      <td>6824.000</td>\n",
       "      <td>6824.000</td>\n",
       "      <td>6824.000</td>\n",
       "      <td>6824.000</td>\n",
       "      <td>6824</td>\n",
       "    </tr>\n",
       "    <tr>\n",
       "      <th>mean</th>\n",
       "      <td>11027.572</td>\n",
       "      <td>183405.346</td>\n",
       "      <td>262520.350</td>\n",
       "      <td>8.111</td>\n",
       "      <td>9.422</td>\n",
       "      <td>2022-06-23 23:43:07.104337664</td>\n",
       "    </tr>\n",
       "    <tr>\n",
       "      <th>min</th>\n",
       "      <td>1.000</td>\n",
       "      <td>1.000</td>\n",
       "      <td>0.003</td>\n",
       "      <td>1.000</td>\n",
       "      <td>0.003</td>\n",
       "      <td>2022-01-01 00:00:00</td>\n",
       "    </tr>\n",
       "    <tr>\n",
       "      <th>25%</th>\n",
       "      <td>59.000</td>\n",
       "      <td>268.000</td>\n",
       "      <td>183.612</td>\n",
       "      <td>2.656</td>\n",
       "      <td>1.638</td>\n",
       "      <td>2022-04-01 00:00:00</td>\n",
       "    </tr>\n",
       "    <tr>\n",
       "      <th>50%</th>\n",
       "      <td>898.500</td>\n",
       "      <td>5687.500</td>\n",
       "      <td>4931.092</td>\n",
       "      <td>5.614</td>\n",
       "      <td>5.734</td>\n",
       "      <td>2022-07-01 00:00:00</td>\n",
       "    </tr>\n",
       "    <tr>\n",
       "      <th>75%</th>\n",
       "      <td>10335.000</td>\n",
       "      <td>124937.000</td>\n",
       "      <td>153677.479</td>\n",
       "      <td>12.442</td>\n",
       "      <td>16.177</td>\n",
       "      <td>2022-10-01 00:00:00</td>\n",
       "    </tr>\n",
       "    <tr>\n",
       "      <th>max</th>\n",
       "      <td>216272.000</td>\n",
       "      <td>6285911.000</td>\n",
       "      <td>9443137.832</td>\n",
       "      <td>68.500</td>\n",
       "      <td>151.883</td>\n",
       "      <td>2022-12-01 00:00:00</td>\n",
       "    </tr>\n",
       "    <tr>\n",
       "      <th>std</th>\n",
       "      <td>23934.398</td>\n",
       "      <td>513982.727</td>\n",
       "      <td>789957.917</td>\n",
       "      <td>6.895</td>\n",
       "      <td>9.982</td>\n",
       "      <td>NaN</td>\n",
       "    </tr>\n",
       "  </tbody>\n",
       "</table>\n",
       "</div>"
      ],
      "text/plain": [
       "       use_tv_cnt  total_use_count  total_use_hour  monthly_avg_use_count   \n",
       "count    6824.000         6824.000        6824.000               6824.000  \\\n",
       "mean    11027.572       183405.346      262520.350                  8.111   \n",
       "min         1.000            1.000           0.003                  1.000   \n",
       "25%        59.000          268.000         183.612                  2.656   \n",
       "50%       898.500         5687.500        4931.092                  5.614   \n",
       "75%     10335.000       124937.000      153677.479                 12.442   \n",
       "max    216272.000      6285911.000     9443137.832                 68.500   \n",
       "std     23934.398       513982.727      789957.917                  6.895   \n",
       "\n",
       "       monthly_avg_use_hour                       use_date  \n",
       "count              6824.000                           6824  \n",
       "mean                  9.422  2022-06-23 23:43:07.104337664  \n",
       "min                   0.003            2022-01-01 00:00:00  \n",
       "25%                   1.638            2022-04-01 00:00:00  \n",
       "50%                   5.734            2022-07-01 00:00:00  \n",
       "75%                  16.177            2022-10-01 00:00:00  \n",
       "max                 151.883            2022-12-01 00:00:00  \n",
       "std                   9.982                            NaN  "
      ]
     },
     "execution_count": 25,
     "metadata": {},
     "output_type": "execute_result"
    }
   ],
   "source": [
    "# rawdat의 수치형(정수 또는 실수) 변수의 기술통계량을 확인합니다.\n",
    "# [힌트] describe() 함수를 사용하세요.\n",
    "rawdat.describe()"
   ]
  },
  {
   "cell_type": "code",
   "execution_count": 26,
   "id": "8d3f0f0b",
   "metadata": {},
   "outputs": [
    {
     "data": {
      "text/html": [
       "<div>\n",
       "<style scoped>\n",
       "    .dataframe tbody tr th:only-of-type {\n",
       "        vertical-align: middle;\n",
       "    }\n",
       "\n",
       "    .dataframe tbody tr th {\n",
       "        vertical-align: top;\n",
       "    }\n",
       "\n",
       "    .dataframe thead th {\n",
       "        text-align: right;\n",
       "    }\n",
       "</style>\n",
       "<table border=\"1\" class=\"dataframe\">\n",
       "  <thead>\n",
       "    <tr style=\"text-align: right;\">\n",
       "      <th></th>\n",
       "      <th>country</th>\n",
       "      <th>product</th>\n",
       "      <th>chipset</th>\n",
       "      <th>inch</th>\n",
       "      <th>app_name</th>\n",
       "      <th>use_month</th>\n",
       "    </tr>\n",
       "  </thead>\n",
       "  <tbody>\n",
       "    <tr>\n",
       "      <th>count</th>\n",
       "      <td>6824</td>\n",
       "      <td>6824</td>\n",
       "      <td>6824</td>\n",
       "      <td>6824</td>\n",
       "      <td>6824</td>\n",
       "      <td>6824</td>\n",
       "    </tr>\n",
       "    <tr>\n",
       "      <th>unique</th>\n",
       "      <td>8</td>\n",
       "      <td>1</td>\n",
       "      <td>5</td>\n",
       "      <td>4</td>\n",
       "      <td>5</td>\n",
       "      <td>12</td>\n",
       "    </tr>\n",
       "    <tr>\n",
       "      <th>top</th>\n",
       "      <td>GB</td>\n",
       "      <td>webOSTV 6.0</td>\n",
       "      <td>lm21a</td>\n",
       "      <td>65</td>\n",
       "      <td>app2</td>\n",
       "      <td>2022년 09월</td>\n",
       "    </tr>\n",
       "    <tr>\n",
       "      <th>freq</th>\n",
       "      <td>917</td>\n",
       "      <td>6824</td>\n",
       "      <td>1914</td>\n",
       "      <td>2206</td>\n",
       "      <td>1379</td>\n",
       "      <td>605</td>\n",
       "    </tr>\n",
       "  </tbody>\n",
       "</table>\n",
       "</div>"
      ],
      "text/plain": [
       "       country      product chipset  inch app_name  use_month\n",
       "count     6824         6824    6824  6824     6824       6824\n",
       "unique       8            1       5     4        5         12\n",
       "top         GB  webOSTV 6.0   lm21a    65     app2  2022년 09월\n",
       "freq       917         6824    1914  2206     1379        605"
      ]
     },
     "execution_count": 26,
     "metadata": {},
     "output_type": "execute_result"
    }
   ],
   "source": [
    "# rawdat의 범주형 변수의 기술통계량을 확인합니다.\n",
    "# [힌트] describe() 함수의 include 매개변수에 자료형을 지정하세요.\n",
    "rawdat.describe(include = object)"
   ]
  },
  {
   "cell_type": "code",
   "execution_count": 27,
   "id": "0ee3caf0",
   "metadata": {},
   "outputs": [
    {
     "data": {
      "text/plain": [
       "country\n",
       "AU    825\n",
       "BR    894\n",
       "DE    910\n",
       "FR    888\n",
       "GB    917\n",
       "JP    670\n",
       "KR    820\n",
       "US    900\n",
       "Name: count, dtype: int64"
      ]
     },
     "execution_count": 27,
     "metadata": {},
     "output_type": "execute_result"
    }
   ],
   "source": [
    "# country 열의 빈도수를 인덱스로 정렬하여 출력합니다.\n",
    "# [힌트] value_counts()와 sort_index() 함수를 사용하세요.\n",
    "rawdat['country'].value_counts().sort_index()"
   ]
  },
  {
   "cell_type": "code",
   "execution_count": 28,
   "id": "0963a6cd",
   "metadata": {},
   "outputs": [
    {
     "data": {
      "text/plain": [
       "chipset\n",
       "e60F20     937\n",
       "k7lp      1582\n",
       "lm21a     1914\n",
       "lm21u     1429\n",
       "o20        962\n",
       "Name: count, dtype: int64"
      ]
     },
     "execution_count": 28,
     "metadata": {},
     "output_type": "execute_result"
    }
   ],
   "source": [
    "# chipset 열의 빈도수를 인덱스로 정렬하여 출력합니다.\n",
    "rawdat['chipset'].value_counts().sort_index()"
   ]
  },
  {
   "cell_type": "code",
   "execution_count": 29,
   "id": "9a70fe35",
   "metadata": {},
   "outputs": [
    {
     "data": {
      "text/plain": [
       "inch\n",
       "43     849\n",
       "55    2097\n",
       "65    2206\n",
       "75    1672\n",
       "Name: count, dtype: int64"
      ]
     },
     "execution_count": 29,
     "metadata": {},
     "output_type": "execute_result"
    }
   ],
   "source": [
    "# inch 열의 빈도수를 인덱스로 정렬하여 출력합니다.\n",
    "rawdat['inch'].value_counts().sort_index()"
   ]
  },
  {
   "cell_type": "code",
   "execution_count": 30,
   "id": "840fa287",
   "metadata": {},
   "outputs": [
    {
     "data": {
      "text/plain": [
       "app_name\n",
       "app1    1371\n",
       "app2    1379\n",
       "app3    1332\n",
       "app4    1376\n",
       "app5    1366\n",
       "Name: count, dtype: int64"
      ]
     },
     "execution_count": 30,
     "metadata": {},
     "output_type": "execute_result"
    }
   ],
   "source": [
    "# app_name 열의 빈도수를 인덱스로 정렬하여 출력합니다.\n",
    "rawdat['app_name'].value_counts().sort_index()"
   ]
  },
  {
   "cell_type": "code",
   "execution_count": 31,
   "id": "1c7fb247",
   "metadata": {},
   "outputs": [
    {
     "data": {
      "text/plain": [
       "use_month\n",
       "2022년 01월    481\n",
       "2022년 02월    493\n",
       "2022년 03월    473\n",
       "2022년 04월    568\n",
       "2022년 05월    599\n",
       "2022년 06월    602\n",
       "2022년 07월    600\n",
       "2022년 08월    602\n",
       "2022년 09월    605\n",
       "2022년 10월    599\n",
       "2022년 11월    601\n",
       "2022년 12월    601\n",
       "Name: count, dtype: int64"
      ]
     },
     "execution_count": 31,
     "metadata": {},
     "output_type": "execute_result"
    }
   ],
   "source": [
    "# use_month 열의 빈도수를 인덱스로 정렬하여 출력합니다.\n",
    "rawdat['use_month'].value_counts().sort_index()"
   ]
  },
  {
   "cell_type": "markdown",
   "id": "a0f1b4b7",
   "metadata": {},
   "source": [
    "### 실습 항목 예시\n",
    "\n",
    "1. 국가(index)별 칩셋(columns)에 따른 use_tv_cnt(values)의 합계와 평균(aggfunc)\n",
    "1. 국가(index)별 인치(columns)에 따른 use_tv_cnt(values)의 합계와 평균(aggfunc)\n",
    "1. 국가(index)별 App(columns)에 따른 use_tv_cnt(values)의 합계와 평균(aggfunc)\n",
    "\n",
    "이외에 관심 있는 내용을 직접 확인해보세요."
   ]
  },
  {
   "cell_type": "code",
   "execution_count": null,
   "id": "151e7806",
   "metadata": {},
   "outputs": [],
   "source": []
  },
  {
   "cell_type": "markdown",
   "id": "24309bd5",
   "metadata": {},
   "source": [
    "## 데이터 시각화 실습\n",
    "\n",
    "- rawdat으로 다양한 그래프를 그립니다."
   ]
  },
  {
   "cell_type": "markdown",
   "id": "b2e69d45",
   "metadata": {},
   "source": [
    "### 관련 라이브러리 호출"
   ]
  },
  {
   "cell_type": "code",
   "execution_count": 32,
   "id": "18cff4c4",
   "metadata": {},
   "outputs": [],
   "source": [
    "# 관련 라이브러리를 호출합니다.\n",
    "import seaborn as sns\n",
    "import matplotlib.pyplot as plt"
   ]
  },
  {
   "cell_type": "code",
   "execution_count": 33,
   "id": "793696ba",
   "metadata": {},
   "outputs": [],
   "source": [
    "# 그래픽 파라미터를 설정합니다.\n",
    "plt.rc(group = 'font', family = 'Gowun Dodum', size = 10)\n",
    "plt.rc(group = 'figure', figsize = (8, 4), dpi = 100)\n",
    "plt.rc(group = 'axes', unicode_minus = False)\n",
    "plt.rc(group = 'legend', frameon = True, fc = '1', ec = '0')"
   ]
  },
  {
   "cell_type": "markdown",
   "id": "5df3b474",
   "metadata": {},
   "source": [
    "### 실습 항목 예시\n",
    "\n",
    "1. use_month(x축)별 use_tv_cnt(y축)의 변화량 비교\n",
    "1. use_month(x축)별 use_tv_cnt(y축)의 국가(hue)별 변화량 비교\n",
    "1. use_month(x축)별 use_tv_cnt(y축)의 칩셋(hue)별 변화량 비교\n",
    "1. use_month(x축)별 use_tv_cnt(y축)의 인치(hue)별 변화량 비교\n",
    "1. use_month(x축)별 use_tv_cnt(y축)의 App(hue)별 변화량 비교\n",
    "\n",
    "이외에 관심 있는 내용을 직접 확인해보세요."
   ]
  },
  {
   "cell_type": "code",
   "execution_count": null,
   "id": "fc8a5d8a",
   "metadata": {},
   "outputs": [],
   "source": []
  },
  {
   "cell_type": "markdown",
   "id": "ba0aa0b2",
   "metadata": {},
   "source": [
    "## End of Document"
   ]
  }
 ],
 "metadata": {
  "kernelspec": {
   "display_name": "Python 3",
   "language": "python",
   "name": "python3"
  },
  "language_info": {
   "codemirror_mode": {
    "name": "ipython",
    "version": 3
   },
   "file_extension": ".py",
   "mimetype": "text/x-python",
   "name": "python",
   "nbconvert_exporter": "python",
   "pygments_lexer": "ipython3",
   "version": "3.11.1"
  },
  "varInspector": {
   "cols": {
    "lenName": 16,
    "lenType": 16,
    "lenVar": 40
   },
   "kernels_config": {
    "python": {
     "delete_cmd_postfix": "",
     "delete_cmd_prefix": "del ",
     "library": "var_list.py",
     "varRefreshCmd": "print(var_dic_list())"
    },
    "r": {
     "delete_cmd_postfix": ") ",
     "delete_cmd_prefix": "rm(",
     "library": "var_list.r",
     "varRefreshCmd": "cat(var_dic_list()) "
    }
   },
   "types_to_exclude": [
    "module",
    "function",
    "builtin_function_or_method",
    "instance",
    "_Feature"
   ],
   "window_display": false
  }
 },
 "nbformat": 4,
 "nbformat_minor": 5
}
