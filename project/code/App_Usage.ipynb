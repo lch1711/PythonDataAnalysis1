{
 "cells": [
  {
   "cell_type": "markdown",
   "id": "48935d6b",
   "metadata": {},
   "source": [
    "## 데이터 전처리 실습"
   ]
  },
  {
   "cell_type": "markdown",
   "id": "f3701b12",
   "metadata": {},
   "source": [
    "### 실습 데이터셋 안내\n",
    "\n",
    "- 2022년 1~12월에 앱 사용성 내역입니다.<br>\n",
    "\n",
    "- 변수(열)에 대한 간단한 설명입니다.\n",
    "\n",
    "| 열이름 | 설명 | 특징 |\n",
    "| :----- | :--- | :--- |\n",
    "| country | 국가 코드 | KR: 한국, JP: 일본, AU: 호주, US: 미국, <br> BR: 브라질, GB: 영국, DE: 독일, FR: 프랑스 |\n",
    "| product | webOS version | webOS6.0만 제공 |\n",
    "| chipset | TV 칩셋 정보 | lm21a, lm21u, o20, e60F20, k7lp |\n",
    "| inch | TV 화면 크기 | 43, 55, 65, 75 |\n",
    "| app_name | 앱 이름 | app1 ~ app5로 가명 처리 |\n",
    "| use_month | 앱 사용월 | 2022-1 ~ 2022-12 |\n",
    "| use_tv_cnt | 해당 월에 해당 앱을 사용한 TV 대수 | 수치형 |\n",
    "| total_use_count | 해당 월에 해당 앱을 실행한 전체 횟수 | 수치형 |\n",
    "| total_use_hour | 해당 월에 해당 앱을 사용한 전체 시간 | 수치형 |\n",
    "| monthly_avg_use_count | 해당 월에 평균 실행 횟수 | 수치형 |\n",
    "| monthly_avg_use_hour | 해당 월에 평균 사용 시간 | 수치형 |\n",
    "\n",
    "- 실습 데이터인 **'App_Usage.csv'** 파일은 data 폴더에 있습니다.\n",
    "  - 구분자는 콤마(,)이고 인코딩 방식은 **ASCII**입니다."
   ]
  },
  {
   "cell_type": "markdown",
   "id": "15d0fbcd",
   "metadata": {},
   "source": [
    "### 관련 라이브러리 호출"
   ]
  },
  {
   "cell_type": "code",
   "execution_count": null,
   "id": "bc1e38b3",
   "metadata": {},
   "outputs": [],
   "source": [
    "# 관련 라이브러리를 호출합니다.\n",
    "import os\n",
    "import chardet\n",
    "import numpy as np\n",
    "import pandas as pd\n",
    "import joblib"
   ]
  },
  {
   "cell_type": "code",
   "execution_count": null,
   "id": "7a163e86",
   "metadata": {},
   "outputs": [],
   "source": [
    "# Jupyter Notebook에서 실수를 소수점 셋째 자리까지 출력하도록 설정합니다.\n",
    "%precision 3"
   ]
  },
  {
   "cell_type": "code",
   "execution_count": null,
   "id": "0b32f6bb",
   "metadata": {},
   "outputs": [],
   "source": [
    "# pandas 객체에서 실수 포맷을 설정합니다.\n",
    "# [참고] 실수 포맷을 설정하면 과학적 표기법 적용을 해제합니다.\n",
    "pd.options.display.float_format = lambda x: f'{x:.3f}'"
   ]
  },
  {
   "cell_type": "markdown",
   "id": "b4da1fe3",
   "metadata": {},
   "source": [
    "### 작업 경로 확인 및 변경"
   ]
  },
  {
   "cell_type": "code",
   "execution_count": null,
   "id": "8d48444e",
   "metadata": {},
   "outputs": [],
   "source": [
    "# 현재 작업 경로를 확인합니다.\n",
    "os.getcwd()"
   ]
  },
  {
   "cell_type": "code",
   "execution_count": null,
   "id": "d35e2e35",
   "metadata": {},
   "outputs": [],
   "source": [
    "# data 폴더로 작업 경로를 변경합니다.\n",
    "os.chdir(path = '../data')"
   ]
  },
  {
   "cell_type": "code",
   "execution_count": null,
   "id": "2c79487f",
   "metadata": {},
   "outputs": [],
   "source": [
    "# 현재 작업 경로에 있는 폴더명과 파일명을 출력합니다.\n",
    "os.listdir()"
   ]
  },
  {
   "cell_type": "markdown",
   "id": "318a3026",
   "metadata": {},
   "source": [
    "### 문자 인코딩 방식 확인"
   ]
  },
  {
   "cell_type": "code",
   "execution_count": null,
   "id": "d11deebf",
   "metadata": {},
   "outputs": [],
   "source": [
    "# csv 파일명을 변수에 할당합니다. 여러 번 재사용하기 위함입니다.\n",
    "fileName = 'App_Usage.csv'"
   ]
  },
  {
   "cell_type": "code",
   "execution_count": null,
   "id": "dbdd695c",
   "metadata": {},
   "outputs": [],
   "source": [
    "# csv 파일을 bytes 문자열로 읽고 text에 할당합니다.\n",
    "# [힌트] with 문, open() 및 read() 함수를 사용하세요.\n",
    "with open(file = fileName, mode = 'rb') as file:\n",
    "    text = file.read()"
   ]
  },
  {
   "cell_type": "code",
   "execution_count": null,
   "id": "ce16705c",
   "metadata": {},
   "outputs": [],
   "source": [
    "# 바이너리 텍스트의 인코딩 방식을 확인합니다.\n",
    "# [힌트] chardet.detect() 함수를 사용하세요.\n",
    "chardet.detect(text)"
   ]
  },
  {
   "cell_type": "markdown",
   "id": "7c98047a",
   "metadata": {},
   "source": [
    "### 실습 데이터셋 준비"
   ]
  },
  {
   "cell_type": "code",
   "execution_count": null,
   "id": "081193e8",
   "metadata": {},
   "outputs": [],
   "source": [
    "# 링크를 읽고 데이터프레임 rawdat를 생성합니다.\n",
    "# [힌트] pd.read_csv() 함수를 사용하세요.\n",
    "# [참고] 문자 인코딩 방식이 ASCII와 UTF-8이면 encoding 매개변수를 생략할 수 있습니다.\n",
    "rawdat = pd.read_csv(filepath_or_buffer = fileName)"
   ]
  },
  {
   "cell_type": "code",
   "execution_count": null,
   "id": "366f9cce",
   "metadata": {},
   "outputs": [],
   "source": [
    "# rawdat의 정보를 확인합니다.\n",
    "# [힌트] info() 함수를 사용하세요.\n",
    "rawdat.info()"
   ]
  },
  {
   "cell_type": "code",
   "execution_count": null,
   "id": "b07f555b",
   "metadata": {},
   "outputs": [],
   "source": [
    "# rawdat의 처음 5행을 출력합니다.\n",
    "# [힌트] head() 함수를 사용하세요.\n",
    "rawdat.head()"
   ]
  },
  {
   "cell_type": "code",
   "execution_count": null,
   "id": "4a0385c6",
   "metadata": {},
   "outputs": [],
   "source": [
    "# rawdat의 마지막 5행을 출력합니다.\n",
    "# [힌트] tail() 함수를 사용하세요.\n",
    "rawdat.tail()"
   ]
  },
  {
   "cell_type": "markdown",
   "id": "9b0bff47",
   "metadata": {},
   "source": [
    "### 실습 데이터셋 전처리"
   ]
  },
  {
   "cell_type": "code",
   "execution_count": null,
   "id": "464e4926",
   "metadata": {},
   "outputs": [],
   "source": [
    "# inch 열의 자료형을 문자열로 변환합니다.\n",
    "rawdat['inch'].astype(str)"
   ]
  },
  {
   "cell_type": "code",
   "execution_count": null,
   "id": "366cbc44",
   "metadata": {},
   "outputs": [],
   "source": [
    "# 위 코드 실행 결과를 inch 열에 재할당합니다.\n",
    "rawdat['inch'] = rawdat['inch'].astype(str)"
   ]
  },
  {
   "cell_type": "code",
   "execution_count": null,
   "id": "4ddb97ef",
   "metadata": {},
   "outputs": [],
   "source": [
    "# use_month 열에 일(day)을 추가한 결과를 출력합니다.\n",
    "# [참고] 시리즈의 모든 원소가 문자열이면 결합할 수 있습니다.\n",
    "rawdat['use_month'] + '-1'"
   ]
  },
  {
   "cell_type": "code",
   "execution_count": null,
   "id": "2a09348b",
   "metadata": {},
   "outputs": [],
   "source": [
    "# use_month 열에 일(day)을 추가한 결과를 출력합니다.\n",
    "# [참고] 시리즈의 map() 함수를 사용하면 원소마다 반복 실행합니다.\n",
    "# [참고] 람다 표현식에 익숙해지면 없는 함수를 만들어 사용할 수 있습니다.\n",
    "rawdat['use_month'].map(arg = lambda x: x + '-1')"
   ]
  },
  {
   "cell_type": "code",
   "execution_count": null,
   "id": "3e45bf64",
   "metadata": {},
   "outputs": [],
   "source": [
    "# 위 코드 실행 결과를 새 변수 use_date 열에 할당합니다.\n",
    "rawdat['use_date'] = rawdat['use_month'].map(arg = lambda x: x + '-1')"
   ]
  },
  {
   "cell_type": "code",
   "execution_count": null,
   "id": "7eb2f8cb",
   "metadata": {},
   "outputs": [],
   "source": [
    "# use_date 열을 날짜시간형으로 변환한 결과를 출력합니다.\n",
    "# [힌트] astype() 함수에 'datetime64[ns]'을 지정하세요.\n",
    "rawdat['use_date'].astype('datetime64[ns]')"
   ]
  },
  {
   "cell_type": "code",
   "execution_count": null,
   "id": "2a0ab493",
   "metadata": {},
   "outputs": [],
   "source": [
    "# 위 코드 실행 결과를 use_date 열에 할당하여 변경합니다.\n",
    "rawdat['use_date'] = rawdat['use_date'].astype(str).astype('datetime64[ns]')"
   ]
  },
  {
   "cell_type": "code",
   "execution_count": null,
   "id": "495bfe43",
   "metadata": {},
   "outputs": [],
   "source": [
    "# use_date 열에서 'yyyy년 mm월' 형태의 문자열을 추출한 결과를 출력합니다.\n",
    "# [힌트] dt.strftime() 함수의 date_format 매개변수에 날짜 포맷을 지정하세요.\n",
    "rawdat['use_date'].dt.strftime(date_format = '%Y년 %m월')"
   ]
  },
  {
   "cell_type": "code",
   "execution_count": null,
   "id": "15115d94",
   "metadata": {},
   "outputs": [],
   "source": [
    "# 위 코드 실행 결과를 use_month 열에 할당합니다.\n",
    "rawdat['use_month'] = rawdat['use_date'].dt.strftime(date_format = '%Y년 %m월')"
   ]
  },
  {
   "cell_type": "code",
   "execution_count": null,
   "id": "3c505167",
   "metadata": {},
   "outputs": [],
   "source": [
    "# rawdat의 처음 5행을 출력합니다.\n",
    "rawdat.head()"
   ]
  },
  {
   "cell_type": "markdown",
   "id": "3cbceb0a",
   "metadata": {},
   "source": [
    "### 기술통계량 확인"
   ]
  },
  {
   "cell_type": "code",
   "execution_count": null,
   "id": "fc3ad07d",
   "metadata": {},
   "outputs": [],
   "source": [
    "# rawdat의 수치형(정수 또는 실수) 변수의 기술통계량을 확인합니다.\n",
    "# [힌트] describe() 함수를 사용하세요.\n",
    "rawdat.describe()"
   ]
  },
  {
   "cell_type": "code",
   "execution_count": null,
   "id": "8d3f0f0b",
   "metadata": {},
   "outputs": [],
   "source": [
    "# rawdat의 범주형 변수의 기술통계량을 확인합니다.\n",
    "# [힌트] describe() 함수의 include 매개변수에 자료형을 지정하세요.\n",
    "rawdat.describe(include = object)"
   ]
  },
  {
   "cell_type": "code",
   "execution_count": null,
   "id": "0ee3caf0",
   "metadata": {},
   "outputs": [],
   "source": [
    "# country 열의 빈도수를 인덱스로 정렬하여 출력합니다.\n",
    "# [힌트] value_counts()와 sort_index() 함수를 사용하세요.\n",
    "rawdat['country'].value_counts().sort_index()"
   ]
  },
  {
   "cell_type": "code",
   "execution_count": null,
   "id": "0963a6cd",
   "metadata": {},
   "outputs": [],
   "source": [
    "# chipset 열의 빈도수를 인덱스로 정렬하여 출력합니다.\n",
    "rawdat['chipset'].value_counts().sort_index()"
   ]
  },
  {
   "cell_type": "code",
   "execution_count": null,
   "id": "9a70fe35",
   "metadata": {},
   "outputs": [],
   "source": [
    "# inch 열의 빈도수를 인덱스로 정렬하여 출력합니다.\n",
    "rawdat['inch'].value_counts().sort_index()"
   ]
  },
  {
   "cell_type": "code",
   "execution_count": null,
   "id": "840fa287",
   "metadata": {},
   "outputs": [],
   "source": [
    "# app_name 열의 빈도수를 인덱스로 정렬하여 출력합니다.\n",
    "rawdat['app_name'].value_counts().sort_index()"
   ]
  },
  {
   "cell_type": "code",
   "execution_count": null,
   "id": "1c7fb247",
   "metadata": {},
   "outputs": [],
   "source": [
    "# use_month 열의 빈도수를 인덱스로 정렬하여 출력합니다.\n",
    "rawdat['use_month'].value_counts().sort_index()"
   ]
  },
  {
   "cell_type": "markdown",
   "id": "a0f1b4b7",
   "metadata": {},
   "source": [
    "### 실습 항목 예시\n",
    "\n",
    "1. 국가(index)별 칩셋(columns)에 따른 use_tv_cnt(values)의 합계와 평균(aggfunc)\n",
    "1. 국가(index)별 인치(columns)에 따른 use_tv_cnt(values)의 합계와 평균(aggfunc)\n",
    "1. 국가(index)별 App(columns)에 따른 use_tv_cnt(values)의 합계와 평균(aggfunc)\n",
    "\n",
    "이외에 관심 있는 내용을 직접 확인해보세요."
   ]
  },
  {
   "cell_type": "code",
   "execution_count": null,
   "id": "151e7806",
   "metadata": {},
   "outputs": [],
   "source": []
  },
  {
   "cell_type": "markdown",
   "id": "24309bd5",
   "metadata": {},
   "source": [
    "## 데이터 시각화 실습\n",
    "\n",
    "- rawdat으로 다양한 그래프를 그립니다."
   ]
  },
  {
   "cell_type": "markdown",
   "id": "b2e69d45",
   "metadata": {},
   "source": [
    "### 관련 라이브러리 호출"
   ]
  },
  {
   "cell_type": "code",
   "execution_count": null,
   "id": "18cff4c4",
   "metadata": {},
   "outputs": [],
   "source": [
    "# 관련 라이브러리를 호출합니다.\n",
    "import seaborn as sns\n",
    "import matplotlib.pyplot as plt"
   ]
  },
  {
   "cell_type": "code",
   "execution_count": null,
   "id": "793696ba",
   "metadata": {},
   "outputs": [],
   "source": [
    "# 그래픽 파라미터를 설정합니다.\n",
    "plt.rc(group = 'font', family = 'Gowun Dodum', size = 10)\n",
    "plt.rc(group = 'figure', figsize = (8, 4), dpi = 100)\n",
    "plt.rc(group = 'axes', unicode_minus = False)\n",
    "plt.rc(group = 'legend', frameon = True, fc = '1', ec = '0')"
   ]
  },
  {
   "cell_type": "markdown",
   "id": "5df3b474",
   "metadata": {},
   "source": [
    "### 실습 항목 예시\n",
    "\n",
    "1. use_month(x축)별 use_tv_cnt(y축)의 변화량 비교\n",
    "1. use_month(x축)별 use_tv_cnt(y축)의 국가(hue)별 변화량 비교\n",
    "1. use_month(x축)별 use_tv_cnt(y축)의 칩셋(hue)별 변화량 비교\n",
    "1. use_month(x축)별 use_tv_cnt(y축)의 인치(hue)별 변화량 비교\n",
    "1. use_month(x축)별 use_tv_cnt(y축)의 App(hue)별 변화량 비교\n",
    "\n",
    "이외에 관심 있는 내용을 직접 확인해보세요."
   ]
  },
  {
   "cell_type": "code",
   "execution_count": null,
   "id": "fc8a5d8a",
   "metadata": {},
   "outputs": [],
   "source": []
  },
  {
   "cell_type": "markdown",
   "id": "ba0aa0b2",
   "metadata": {},
   "source": [
    "## End of Document"
   ]
  }
 ],
 "metadata": {
  "kernelspec": {
   "display_name": "Python 3",
   "language": "python",
   "name": "python3"
  },
  "language_info": {
   "codemirror_mode": {
    "name": "ipython",
    "version": 3
   },
   "file_extension": ".py",
   "mimetype": "text/x-python",
   "name": "python",
   "nbconvert_exporter": "python",
   "pygments_lexer": "ipython3",
   "version": "3.11.1"
  },
  "varInspector": {
   "cols": {
    "lenName": 16,
    "lenType": 16,
    "lenVar": 40
   },
   "kernels_config": {
    "python": {
     "delete_cmd_postfix": "",
     "delete_cmd_prefix": "del ",
     "library": "var_list.py",
     "varRefreshCmd": "print(var_dic_list())"
    },
    "r": {
     "delete_cmd_postfix": ") ",
     "delete_cmd_prefix": "rm(",
     "library": "var_list.r",
     "varRefreshCmd": "cat(var_dic_list()) "
    }
   },
   "types_to_exclude": [
    "module",
    "function",
    "builtin_function_or_method",
    "instance",
    "_Feature"
   ],
   "window_display": false
  }
 },
 "nbformat": 4,
 "nbformat_minor": 5
}
