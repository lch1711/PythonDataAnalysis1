{
 "cells": [
  {
   "cell_type": "markdown",
   "id": "48935d6b",
   "metadata": {},
   "source": [
    "## 데이터 전처리 실습"
   ]
  },
  {
   "cell_type": "markdown",
   "id": "c7ff2b2b",
   "metadata": {},
   "source": [
    "### 실습 데이터셋 안내\n",
    "\n",
    "- 2022년 1~12월 간 lg.com의 마케팅 실적 데이터입니다.<br>\n",
    "- 변수(열)에 대한 간단한 설명입니다.\n",
    "\n",
    "| 열이름 | 설명 | 특징 |\n",
    "| :----- | :--- | :--- |\n",
    "| country | 국가 코드 | au: 호주, br: 브라질, de: 독일, fr: 프랑스, it: 이탈리아, <br> uk: 영국 |\n",
    "| date | 웹 행동 발생 일자 | 20220101~20221231 |\n",
    "| product_category | 제품 대분류 | HE, HA, BS(LG전자 사업부별 분류) |\n",
    "| product_subcategory | 제품 소분류 | 13개 카테고리(제품별 분류) |\n",
    "| product_detail_page | 제품 상세 페이지 유입 수 | 수치형 |\n",
    "| add_to_cart | 장바구니 추가 클릭 수 | 수치형 |\n",
    "| sales_amt | 판매수량 | 수치형(단위: 개) |\n",
    "| sales_usd | 판매금액 | 수치형(단위: 달러) |\n",
    "\n",
    "- 실습 데이터인 **'Online_Mall.csv'** 파일은 data 폴더에 있습니다.\n",
    "  - 구분자는 콤마(,)이고 인코딩 방식은 **ASCII**입니다."
   ]
  },
  {
   "cell_type": "markdown",
   "id": "56bedabd",
   "metadata": {},
   "source": [
    "### 관련 라이브러리 호출"
   ]
  },
  {
   "cell_type": "code",
   "execution_count": null,
   "id": "bc1e38b3",
   "metadata": {},
   "outputs": [],
   "source": [
    "# 관련 라이브러리를 호출합니다.\n",
    "import os\n",
    "import chardet\n",
    "import numpy as np\n",
    "import pandas as pd\n",
    "import joblib"
   ]
  },
  {
   "cell_type": "code",
   "execution_count": null,
   "id": "1f596b4e",
   "metadata": {},
   "outputs": [],
   "source": [
    "# Jupyter Notebook에서 실수를 소수점 셋째 자리까지 출력하도록 설정합니다.\n",
    "%precision 3"
   ]
  },
  {
   "cell_type": "code",
   "execution_count": null,
   "id": "85d45183",
   "metadata": {},
   "outputs": [],
   "source": [
    "# pandas 객체에서 실수를 소수점 셋째 자리까지 출력하도록 설정합니다.\n",
    "pd.options.display.precision = 3"
   ]
  },
  {
   "cell_type": "markdown",
   "id": "040f24b0",
   "metadata": {},
   "source": [
    "### 작업 경로 확인 및 변경"
   ]
  },
  {
   "cell_type": "code",
   "execution_count": null,
   "id": "8d48444e",
   "metadata": {},
   "outputs": [],
   "source": [
    "# 현재 작업 경로를 확인합니다.\n",
    "os.getcwd()"
   ]
  },
  {
   "cell_type": "code",
   "execution_count": null,
   "id": "7df8f595",
   "metadata": {},
   "outputs": [],
   "source": [
    "# data 폴더로 작업 경로를 변경합니다.\n",
    "os.chdir(path = '../data')"
   ]
  },
  {
   "cell_type": "code",
   "execution_count": null,
   "id": "2c79487f",
   "metadata": {},
   "outputs": [],
   "source": [
    "# 현재 작업 경로에 있는 폴더명과 파일명을 출력합니다.\n",
    "sorted(os.listdir())"
   ]
  },
  {
   "cell_type": "markdown",
   "id": "420d76e7",
   "metadata": {},
   "source": [
    "### 문자 인코딩 방식 확인"
   ]
  },
  {
   "cell_type": "code",
   "execution_count": null,
   "id": "d11deebf",
   "metadata": {},
   "outputs": [],
   "source": [
    "# csv 파일명을 변수에 할당합니다. 여러 번 재사용하기 위함입니다.\n",
    "fileName = 'Online_Mall.csv'"
   ]
  },
  {
   "cell_type": "code",
   "execution_count": null,
   "id": "dbdd695c",
   "metadata": {},
   "outputs": [],
   "source": [
    "# csv 파일을 bytes 문자열로 읽고 text에 할당합니다.\n",
    "# [힌트] with 문, open() 및 read() 함수를 사용하세요.\n",
    "with open(file = fileName, mode = 'rb') as file:\n",
    "    text = file.read()"
   ]
  },
  {
   "cell_type": "code",
   "execution_count": null,
   "id": "ce16705c",
   "metadata": {},
   "outputs": [],
   "source": [
    "# 바이너리 텍스트의 인코딩 방식을 확인합니다.\n",
    "# [힌트] chardet.detect() 함수를 사용하세요.\n",
    "chardet.detect(text)"
   ]
  },
  {
   "cell_type": "markdown",
   "id": "1c5d239c",
   "metadata": {},
   "source": [
    "### 실습 데이터셋 준비"
   ]
  },
  {
   "cell_type": "code",
   "execution_count": null,
   "id": "081193e8",
   "metadata": {},
   "outputs": [],
   "source": [
    "# 링크를 읽고 데이터프레임 rawdat를 생성합니다.\n",
    "# [힌트] pd.read_csv() 함수를 사용하세요.\n",
    "# [참고] 문자 인코딩 방식이 ASCII와 UTF-8이면 encoding 매개변수를 생략할 수 있습니다.\n",
    "rawdat = pd.read_csv(filepath_or_buffer = fileName)"
   ]
  },
  {
   "cell_type": "code",
   "execution_count": null,
   "id": "366f9cce",
   "metadata": {},
   "outputs": [],
   "source": [
    "# rawdat의 정보를 확인합니다.\n",
    "# [힌트] info() 함수를 사용하세요.\n",
    "rawdat.info()"
   ]
  },
  {
   "cell_type": "code",
   "execution_count": null,
   "id": "b07f555b",
   "metadata": {},
   "outputs": [],
   "source": [
    "# rawdat의 처음 5행을 출력합니다.\n",
    "# [힌트] head() 함수를 사용하세요.\n",
    "rawdat.head()"
   ]
  },
  {
   "cell_type": "code",
   "execution_count": null,
   "id": "fad3a3e6",
   "metadata": {},
   "outputs": [],
   "source": [
    "# rawdat의 마지막 5행을 출력합니다.\n",
    "# [힌트] tail() 함수를 사용하세요.\n",
    "rawdat.tail()"
   ]
  },
  {
   "cell_type": "markdown",
   "id": "b641539e",
   "metadata": {},
   "source": [
    "### 실습 데이터셋 전처리"
   ]
  },
  {
   "cell_type": "code",
   "execution_count": null,
   "id": "b1773949",
   "metadata": {},
   "outputs": [],
   "source": [
    "# rawdat의 열이름을 출력합니다.\n",
    "# [힌트] columns 속성을 사용하세요.\n",
    "rawdat.columns"
   ]
  },
  {
   "cell_type": "code",
   "execution_count": null,
   "id": "febe5161",
   "metadata": {},
   "outputs": [],
   "source": [
    "# rawdat에서 불필요한 열인 'Unnamed: 0'을 삭제한 결과를 출력합니다.\n",
    "# [힌트] drop() 함수를 사용하세요.\n",
    "rawdat.drop(columns = ['Unnamed: 0'])"
   ]
  },
  {
   "cell_type": "code",
   "execution_count": null,
   "id": "c1a5bd5a",
   "metadata": {},
   "outputs": [],
   "source": [
    "# 위 코드 실행 결과를 rawdat에 재할당합니다.\n",
    "rawdat = rawdat.drop(columns = ['Unnamed: 0'])"
   ]
  },
  {
   "cell_type": "code",
   "execution_count": null,
   "id": "79c06d3c",
   "metadata": {},
   "outputs": [],
   "source": [
    "# rawdat의 처음 5행을 출력합니다.\n",
    "rawdat.head()"
   ]
  },
  {
   "cell_type": "code",
   "execution_count": null,
   "id": "100db0f6",
   "metadata": {},
   "outputs": [],
   "source": [
    "# rawdat의 열이름을 출력합니다.\n",
    "rawdat.columns"
   ]
  },
  {
   "cell_type": "code",
   "execution_count": null,
   "id": "8e4b41eb",
   "metadata": {},
   "outputs": [],
   "source": [
    "# rawdat의 열이름에서 'product_'를 삭제한 결과를 출력합니다.\n",
    "rawdat.columns.str.replace(pat = 'product_', repl = '')"
   ]
  },
  {
   "cell_type": "code",
   "execution_count": null,
   "id": "e8fb54ba",
   "metadata": {},
   "outputs": [],
   "source": [
    "# 위 코드 실행 결과를 rawdat 열이름에 할당하여 변경합니다.\n",
    "rawdat.columns = rawdat.columns.str.replace(pat = 'product_', repl = '')"
   ]
  },
  {
   "cell_type": "code",
   "execution_count": null,
   "id": "6e036591",
   "metadata": {},
   "outputs": [],
   "source": [
    "# rawdat의 처음 5행을 출력합니다.\n",
    "rawdat.head()"
   ]
  },
  {
   "cell_type": "code",
   "execution_count": null,
   "id": "a67721c9",
   "metadata": {},
   "outputs": [],
   "source": [
    "# rawdat의 열이름에서 일부를 변경하고 rawdat에 재할당합니다.\n",
    "# 'detail_page' -> 'page'\n",
    "# 'add_to_cart' -> 'cart'\n",
    "# 'sales_amt' -> 'vol'\n",
    "# 'sales_usd' -> 'usd'\n",
    "# [힌트] rename() 함수의 columns 매개변수에 딕셔너리를 지정하세요.\n",
    "rawdat = rawdat.rename(columns = {\n",
    "    'detail_page': 'page', \n",
    "    'add_to_cart': 'cart', \n",
    "    'sales_amt': 'vol', \n",
    "    'sales_usd': 'usd'\n",
    "})"
   ]
  },
  {
   "cell_type": "code",
   "execution_count": null,
   "id": "e3f8ea1d",
   "metadata": {},
   "outputs": [],
   "source": [
    "# rawdat의 열이름을 출력합니다.\n",
    "rawdat.columns"
   ]
  },
  {
   "cell_type": "code",
   "execution_count": null,
   "id": "8cd28b47",
   "metadata": {},
   "outputs": [],
   "source": [
    "# rawdat의 열별 자료형을 확인합니다.\n",
    "rawdat.dtypes"
   ]
  },
  {
   "cell_type": "code",
   "execution_count": null,
   "id": "9c1a269e",
   "metadata": {},
   "outputs": [],
   "source": [
    "# date 열을 날짜시간형으로 변환한 결과를 출력합니다.\n",
    "# [힌트] astype() 함수에 'datetime64[ns]'을 지정하세요.\n",
    "# [주의] 정수를 날짜시간형으로 변환하면 엉뚱한 결과를 반환할 수 있습니다.\n",
    "rawdat['date'].astype('datetime64[ns]')"
   ]
  },
  {
   "cell_type": "code",
   "execution_count": null,
   "id": "9030a71d",
   "metadata": {},
   "outputs": [],
   "source": [
    "# date 열을 날짜시간형으로 변환한 결과를 출력합니다.\n",
    "# [주의] 날짜시간형으로 변환할때 정수를 문자열로 먼저 변환해야 합니다.\n",
    "rawdat['date'].astype(str).astype('datetime64[ns]')"
   ]
  },
  {
   "cell_type": "code",
   "execution_count": null,
   "id": "44c265d6",
   "metadata": {},
   "outputs": [],
   "source": [
    "# 위 코드 실행 결과를 date 열에 할당하여 변경합니다.\n",
    "rawdat['date'] = rawdat['date'].astype(str).astype('datetime64[ns]')"
   ]
  },
  {
   "cell_type": "code",
   "execution_count": null,
   "id": "172a78f7",
   "metadata": {},
   "outputs": [],
   "source": [
    "# rawdat의 열별 자료형을 확인합니다.\n",
    "rawdat.dtypes"
   ]
  },
  {
   "cell_type": "code",
   "execution_count": null,
   "id": "f44d9f4e",
   "metadata": {},
   "outputs": [],
   "source": [
    "# date 열에서 월(month)을 정수로 추출한 결과를 출력합니다.\n",
    "rawdat['date'].dt.month"
   ]
  },
  {
   "cell_type": "code",
   "execution_count": null,
   "id": "a95e1e22",
   "metadata": {},
   "outputs": [],
   "source": [
    "# 위 코드 실행 결과를 새 변수 month 열에 할당합니다.\n",
    "rawdat['month'] = rawdat['date'].dt.month"
   ]
  },
  {
   "cell_type": "code",
   "execution_count": null,
   "id": "d5b2e49c",
   "metadata": {},
   "outputs": [],
   "source": [
    "# rawdat의 처음 5행을 출력합니다.\n",
    "rawdat.head()"
   ]
  },
  {
   "cell_type": "code",
   "execution_count": null,
   "id": "22afec88",
   "metadata": {},
   "outputs": [],
   "source": [
    "# date 열에서 월을 숫자(문자열)로 추출한 결과를 출력합니다.\n",
    "# [힌트] dt.strftime() 함수의 date_format 매개변수에 날짜 포맷을 지정하세요.\n",
    "# [힌트] 열을 숫자(문자열)로 반환하는 날짜 포맷은 '%m'입니다.\n",
    "rawdat['date'].dt.strftime(date_format = '%m')"
   ]
  },
  {
   "cell_type": "code",
   "execution_count": null,
   "id": "fec8adca",
   "metadata": {},
   "outputs": [],
   "source": [
    "# date 열에서 월을 영문자(문자열)로 추출한 결과를 출력합니다.\n",
    "# [힌트] dt.strftime() 함수의 date_format 매개변수에 날짜 포맷을 지정하세요.\n",
    "# [힌트] 열을 영문자(문자열)로 반환하는 날짜 포맷은 '%B' 또는 '%b'입니다.\n",
    "rawdat['date'].dt.strftime(date_format = '%b')"
   ]
  },
  {
   "cell_type": "markdown",
   "id": "350f56fa",
   "metadata": {},
   "source": [
    "### 기술통계량 확인"
   ]
  },
  {
   "cell_type": "code",
   "execution_count": null,
   "id": "a82e736b",
   "metadata": {},
   "outputs": [],
   "source": [
    "# rawdat의 수치형(정수 또는 실수) 변수의 기술통계량을 확인합니다.\n",
    "# [힌트] describe() 함수를 사용하세요.\n",
    "# [주의] include 매개변수에 자료형을 지정하지 않으면 날짜시간형도 포함됩니다.\n",
    "rawdat.describe()"
   ]
  },
  {
   "cell_type": "code",
   "execution_count": null,
   "id": "b9de475b",
   "metadata": {},
   "outputs": [],
   "source": [
    "# rawdat의 수치형(정수 또는 실수) 변수의 기술통계량을 확인합니다.\n",
    "# [주의] describe() 함수의 include 매개변수에 정수와 실수를 지정합니다.\n",
    "rawdat.describe(include = [int, float])"
   ]
  },
  {
   "cell_type": "code",
   "execution_count": null,
   "id": "0e04e068",
   "metadata": {},
   "outputs": [],
   "source": [
    "# rawdat의 범주형 변수의 기술통계량을 확인합니다.\n",
    "# [힌트] describe() 함수의 include 매개변수에 자료형을 지정하세요.\n",
    "rawdat.describe(include = object)"
   ]
  },
  {
   "cell_type": "code",
   "execution_count": null,
   "id": "64a28f14",
   "metadata": {},
   "outputs": [],
   "source": [
    "# country 열의 빈도수를 확인합니다.\n",
    "# [힌트] value_counts() 함수를 사용하세요.\n",
    "rawdat['country'].value_counts()"
   ]
  },
  {
   "cell_type": "code",
   "execution_count": null,
   "id": "a8c1557d",
   "metadata": {},
   "outputs": [],
   "source": [
    "# country 열의 상대도수를 확인합니다.\n",
    "# [힌트] value_counts() 함수의 normalize 매개변수에 True를 지정하세요.\n",
    "rawdat['country'].value_counts(normalize = True)"
   ]
  },
  {
   "cell_type": "code",
   "execution_count": null,
   "id": "b27b7122",
   "metadata": {},
   "outputs": [],
   "source": [
    "# category와 subcategory 열이름으로 리스트 cols에 할당합니다.\n",
    "# [참고] 데이터프레임에서 선택할 열이름을 리스트로 만들면 코딩에 편리합니다.\n",
    "cols = ['category', 'subcategory']"
   ]
  },
  {
   "cell_type": "code",
   "execution_count": null,
   "id": "c2308c4e",
   "metadata": {},
   "outputs": [],
   "source": [
    "# rawdat에서 cols를 선택한 결과를 출력합니다.\n",
    "rawdat[cols]"
   ]
  },
  {
   "cell_type": "code",
   "execution_count": null,
   "id": "4a090d23",
   "metadata": {},
   "outputs": [],
   "source": [
    "# category와 subcategory 열의 빈도수를 출력합니다.\n",
    "# [힌트] value_counts() 함수를 사용하세요.\n",
    "# [참고] value_counts() 함수는 빈도수를 내림차순 정렬합니다.\n",
    "rawdat[cols].value_counts()"
   ]
  },
  {
   "cell_type": "code",
   "execution_count": null,
   "id": "23760950",
   "metadata": {},
   "outputs": [],
   "source": [
    "# category와 subcategory 열의 빈도수를 인덱스로 정렬하여 출력합니다.\n",
    "# [힌트] sort_index() 함수를 사용하세요.\n",
    "rawdat[cols].value_counts().sort_index()"
   ]
  },
  {
   "cell_type": "code",
   "execution_count": null,
   "id": "0b9d630e",
   "metadata": {},
   "outputs": [],
   "source": [
    "# category와 subcategory 열의 상대도수를 인덱스로 정렬하여 출력합니다.\n",
    "# [참고] 1.234e-02는 과학적 표기법(scientific notation)을 적용한 것입니다.\n",
    "rawdat[cols].value_counts(normalize = True).sort_index()"
   ]
  },
  {
   "cell_type": "code",
   "execution_count": null,
   "id": "5e3942e3",
   "metadata": {},
   "outputs": [],
   "source": [
    "# pandas 객체에서 실수 포맷을 설정합니다.\n",
    "# [참고] 실수 포맷을 설정하면 과학적 표기법 적용을 해제합니다.\n",
    "pd.options.display.float_format = lambda x: f'{x:.3f}'"
   ]
  },
  {
   "cell_type": "code",
   "execution_count": null,
   "id": "b28e992b",
   "metadata": {},
   "outputs": [],
   "source": [
    "# category와 subcategory 열의 상대도수를 인덱스로 정렬하여 출력합니다.\n",
    "rawdat[cols].value_counts(normalize = True).sort_index()"
   ]
  },
  {
   "cell_type": "code",
   "execution_count": null,
   "id": "811cebff",
   "metadata": {},
   "outputs": [],
   "source": [
    "# category 열이 'HE'이고 subcategory 열이 'Monitor'이면 True, 아니면 False인\n",
    "# 논리형 시리즈를 locs에 할당합니다.\n",
    "# [힌트] 시리즈 비교 연산 함수와 비트 연산자를 사용하세요.\n",
    "locs = rawdat['category'].eq('HE') & rawdat['subcategory'].eq('Monitor')"
   ]
  },
  {
   "cell_type": "code",
   "execution_count": null,
   "id": "652cb836",
   "metadata": {},
   "outputs": [],
   "source": [
    "# locs를 출력합니다.\n",
    "# [참고] locs는 원소가 True 또는 False인 불리언 시리즈입니다.\n",
    "locs"
   ]
  },
  {
   "cell_type": "code",
   "execution_count": null,
   "id": "a49ee447",
   "metadata": {},
   "outputs": [],
   "source": [
    "# locs에서 True의 개수를 확인합니다.\n",
    "# [힌트] sum() 함수를 사용하세요.\n",
    "locs.sum()"
   ]
  },
  {
   "cell_type": "code",
   "execution_count": null,
   "id": "a749f593",
   "metadata": {},
   "outputs": [],
   "source": [
    "# locs의 원소를 True일 때 False, False일 때 True로 반전합니다.\n",
    "# [힌트] 비트 연산자 ~를 사용하세요.\n",
    "~locs"
   ]
  },
  {
   "cell_type": "code",
   "execution_count": null,
   "id": "c61373ab",
   "metadata": {},
   "outputs": [],
   "source": [
    "# rawdat에서 locs True인 행을 삭제하고 rawdat에 재할당합니다.\n",
    "# [참고] locs가 False인 행을 반전하여 True인 행을 남기는 것과 같습니다.\n",
    "rawdat = rawdat[~locs]"
   ]
  },
  {
   "cell_type": "code",
   "execution_count": null,
   "id": "fd39be44",
   "metadata": {},
   "outputs": [],
   "source": [
    "# rawdat의 행 개수를 출력합니다.\n",
    "# [힌트] shape 속성 결과에 0번 인덱스 원소를 선택하세요.\n",
    "# [참고] rawdat의 행 개수는 13908에서 13901로 감소합니다.\n",
    "rawdat.shape[0]"
   ]
  },
  {
   "cell_type": "markdown",
   "id": "924b5621",
   "metadata": {},
   "source": [
    "### 국가별 페이지 유입, 장바구니 담기 및 구매 건수 확인"
   ]
  },
  {
   "cell_type": "code",
   "execution_count": null,
   "id": "79ba485b",
   "metadata": {},
   "outputs": [],
   "source": [
    "# 아래 조건을 만족하는 피벗 테이블을 funnel_nation에 할당합니다.\n",
    "# [힌트] pd.pivot_table() 함수를 사용하세요.\n",
    "# 데이터(data)는 rawdat, \n",
    "# 값(values)은 ['page', 'cart', 'vol'], \n",
    "# 행이름(index)은 'country', \n",
    "# 열이름(columns)은 생략, \n",
    "# 집계함수(aggfunc)에 np.sum을 지정하세요.\n",
    "funnel_nation = pd.pivot_table(\n",
    "    data = rawdat, \n",
    "    values = ['page', 'cart', 'vol'],\n",
    "    index = 'country',\n",
    "    columns = None, \n",
    "    aggfunc = np.sum\n",
    ")"
   ]
  },
  {
   "cell_type": "code",
   "execution_count": null,
   "id": "53f37317",
   "metadata": {},
   "outputs": [],
   "source": [
    "# funnel_nation의 행 개수를 확인합니다.\n",
    "funnel_nation.shape[0]"
   ]
  },
  {
   "cell_type": "code",
   "execution_count": null,
   "id": "6542a3cd",
   "metadata": {},
   "outputs": [],
   "source": [
    "# funnel_nation을 출력합니다.\n",
    "# [참고] 열 순서를 열이름으로 오름차순 정렬했습니다.\n",
    "funnel_nation"
   ]
  },
  {
   "cell_type": "code",
   "execution_count": null,
   "id": "df877d90",
   "metadata": {},
   "outputs": [],
   "source": [
    "# 피벗 테이블을 생성할 때 지정했던 열이름 리스트를 cols에 할당합니다.\n",
    "cols = ['page', 'cart', 'vol']"
   ]
  },
  {
   "cell_type": "code",
   "execution_count": null,
   "id": "3e2377cb",
   "metadata": {},
   "outputs": [],
   "source": [
    "# funnel_nation에 cols로 인덱싱한 결과를 출력합니다.\n",
    "# [참고] cols의 원소(열이름) 순으로 열 순서를 변경할 수 있습니다.\n",
    "funnel_nation[cols]"
   ]
  },
  {
   "cell_type": "code",
   "execution_count": null,
   "id": "c36f0348",
   "metadata": {},
   "outputs": [],
   "source": [
    "# 위 코드 실행 결과를 funnel_nation에 재할당합니다.\n",
    "funnel_nation = funnel_nation[cols]"
   ]
  },
  {
   "cell_type": "code",
   "execution_count": null,
   "id": "4761362d",
   "metadata": {},
   "outputs": [],
   "source": [
    "# funnel_nation의 열이름을 출력합니다.\n",
    "funnel_nation.columns"
   ]
  },
  {
   "cell_type": "code",
   "execution_count": null,
   "id": "18d222d9",
   "metadata": {},
   "outputs": [],
   "source": [
    "# cart를 page로 나누고 100을 곱한 결과를 새 변수 page2cart 열에 할당합니다.\n",
    "funnel_nation['page2cart'] = funnel_nation['cart'] / funnel_nation['page'] * 100"
   ]
  },
  {
   "cell_type": "code",
   "execution_count": null,
   "id": "ca1af621",
   "metadata": {},
   "outputs": [],
   "source": [
    "# vol을 cart로 나누고 100을 곱한 결과를 새 변수 cart2buy에 할당합니다.\n",
    "funnel_nation['cart2buy'] = funnel_nation['vol'] / funnel_nation['cart'] * 100"
   ]
  },
  {
   "cell_type": "code",
   "execution_count": null,
   "id": "fa3370d0",
   "metadata": {},
   "outputs": [],
   "source": [
    "# vol을 page로 나누고 100을 곱한 결과를 새 변수 page2buy에 할당합니다.\n",
    "funnel_nation['page2buy'] = funnel_nation['vol'] / funnel_nation['page'] * 100"
   ]
  },
  {
   "cell_type": "code",
   "execution_count": null,
   "id": "e492676c",
   "metadata": {},
   "outputs": [],
   "source": [
    "# funnel_nation을 출력합니다.\n",
    "funnel_nation"
   ]
  },
  {
   "cell_type": "code",
   "execution_count": null,
   "id": "70cc9263",
   "metadata": {},
   "outputs": [],
   "source": [
    "# funnel_nation을 page2cart로 내림차순 정렬한 결과를 출력합니다.\n",
    "# [힌트] sort_values() 함수의 ascending 매개변수에 False를 지정하세요.\n",
    "funnel_nation.sort_values(by = ['page2cart'], ascending = False)"
   ]
  },
  {
   "cell_type": "code",
   "execution_count": null,
   "id": "fee0068e",
   "metadata": {},
   "outputs": [],
   "source": [
    "# funnel_nation을 cart2buy로 내림차순 정렬한 결과를 출력합니다.\n",
    "funnel_nation.sort_values(by = ['cart2buy'], ascending = False)"
   ]
  },
  {
   "cell_type": "code",
   "execution_count": null,
   "id": "b35fc5d9",
   "metadata": {},
   "outputs": [],
   "source": [
    "# funnel_nation을 page2buy로 내림차순 정렬한 결과를 출력합니다.\n",
    "funnel_nation.sort_values(by = ['page2buy'], ascending = False)"
   ]
  },
  {
   "cell_type": "markdown",
   "id": "e9d5cd26",
   "metadata": {},
   "source": [
    "### 제품별 페이지 유입, 장바구니 담기 및 구매 건수 확인"
   ]
  },
  {
   "cell_type": "code",
   "execution_count": null,
   "id": "c57f87f1",
   "metadata": {},
   "outputs": [],
   "source": [
    "# 아래 조건을 만족하는 피벗 테이블을 funnel_product에 할당합니다.\n",
    "# [힌트] pd.pivot_table() 함수를 사용하세요.\n",
    "# 데이터(data)는 rawdat, \n",
    "# 값(values)은 ['page', 'cart', 'vol'], \n",
    "# 행이름(index)은 ['category', 'subcategory'], \n",
    "# 열이름(columns)은 생략, \n",
    "# 집계함수(aggfunc)에 np.sum, \n",
    "# 정렬(sort)에 False를 지정하세요. 열 순서를 정렬하지 않습니다!\n",
    "funnel_product = pd.pivot_table(\n",
    "    data = rawdat, \n",
    "    values = ['page', 'cart', 'vol'],\n",
    "    index = ['category', 'subcategory'],\n",
    "    columns = None, \n",
    "    aggfunc = np.sum, \n",
    "    sort = False\n",
    ")"
   ]
  },
  {
   "cell_type": "code",
   "execution_count": null,
   "id": "3526da01",
   "metadata": {},
   "outputs": [],
   "source": [
    "# funnel_product의 행 개수를 확인합니다.\n",
    "funnel_product.shape[0]"
   ]
  },
  {
   "cell_type": "code",
   "execution_count": null,
   "id": "eebf2de0",
   "metadata": {},
   "outputs": [],
   "source": [
    "# funnel_product를 출력합니다.\n",
    "# [참고] 열 순서를 열이름으로 오름차순 정렬하지 않습니다.\n",
    "funnel_product"
   ]
  },
  {
   "cell_type": "code",
   "execution_count": null,
   "id": "da6d4aa3",
   "metadata": {},
   "outputs": [],
   "source": [
    "# funnel_product의 행이름을 출력합니다.\n",
    "# [참고] index 매개변수에 두 개 이상의 범주형 변수를 지정하면 멀티인덱스가 됩니다.\n",
    "funnel_product.index"
   ]
  },
  {
   "cell_type": "code",
   "execution_count": null,
   "id": "8338bb58",
   "metadata": {},
   "outputs": [],
   "source": [
    "# cart를 page로 나누고 100을 곱한 결과를 새 변수 page2cart 열에 할당합니다.\n",
    "funnel_product['page2cart'] = funnel_product['cart'] / funnel_product['page'] * 100"
   ]
  },
  {
   "cell_type": "code",
   "execution_count": null,
   "id": "658c134a",
   "metadata": {},
   "outputs": [],
   "source": [
    "# vol을 cart로 나누고 100을 곱한 결과를 새 변수 cart2buy에 할당합니다.\n",
    "funnel_product['cart2buy'] = funnel_product['vol'] / funnel_product['cart'] * 100"
   ]
  },
  {
   "cell_type": "code",
   "execution_count": null,
   "id": "cd7fbf97",
   "metadata": {},
   "outputs": [],
   "source": [
    "# vol을 page로 나누고 100을 곱한 결과를 새 변수 page2buy에 할당합니다.\n",
    "funnel_product['page2buy'] = funnel_product['vol'] / funnel_product['page'] * 100"
   ]
  },
  {
   "cell_type": "code",
   "execution_count": null,
   "id": "269db680",
   "metadata": {},
   "outputs": [],
   "source": [
    "# funnel_product를 출력합니다.\n",
    "funnel_product"
   ]
  },
  {
   "cell_type": "code",
   "execution_count": null,
   "id": "7f2964d9",
   "metadata": {},
   "outputs": [],
   "source": [
    "# funnel_product를 page2cart로 내림차순 정렬한 결과를 출력합니다.\n",
    "funnel_product.sort_values(by = ['page2cart'], ascending = False)"
   ]
  },
  {
   "cell_type": "code",
   "execution_count": null,
   "id": "30c554ce",
   "metadata": {},
   "outputs": [],
   "source": [
    "# funnel_product를 cart2buy로 내림차순 정렬한 결과를 출력합니다.\n",
    "funnel_product.sort_values(by = ['cart2buy'], ascending = False)"
   ]
  },
  {
   "cell_type": "code",
   "execution_count": null,
   "id": "873a66ee",
   "metadata": {},
   "outputs": [],
   "source": [
    "# funnel_product를 page2buy로 내림차순 정렬한 결과를 출력합니다.\n",
    "funnel_product.sort_values(by = ['page2buy'], ascending = False)"
   ]
  },
  {
   "cell_type": "markdown",
   "id": "e2357205",
   "metadata": {},
   "source": [
    "### 국가별 판매수량와 판매금액 합계 계산"
   ]
  },
  {
   "cell_type": "code",
   "execution_count": null,
   "id": "efb0a2d4",
   "metadata": {},
   "outputs": [],
   "source": [
    "# 아래 조건을 만족하는 피벗 테이블을 sales_nation에 할당합니다.\n",
    "# [힌트] pd.pivot_table() 함수를 사용하세요.\n",
    "# 데이터(data)는 rawdat, \n",
    "# 값(values)은 ['vol', 'usd'], \n",
    "# 행이름(index)은 'country', \n",
    "# 열이름(columns)은 생략, \n",
    "# 집계함수(aggfunc)에 np.sum\n",
    "# 정렬(sort)에 False를 지정하세요.\n",
    "sales_nation = pd.pivot_table(\n",
    "    data = rawdat, \n",
    "    values = ['vol', 'usd'],\n",
    "    index = 'country',\n",
    "    columns = None, \n",
    "    aggfunc = np.sum,\n",
    "    sort = False\n",
    ")"
   ]
  },
  {
   "cell_type": "code",
   "execution_count": null,
   "id": "26dc601e",
   "metadata": {},
   "outputs": [],
   "source": [
    "# sales_nation의 행 개수를 확인합니다.\n",
    "sales_nation.shape[0]"
   ]
  },
  {
   "cell_type": "code",
   "execution_count": null,
   "id": "ff0d307b",
   "metadata": {},
   "outputs": [],
   "source": [
    "# sales_nation을 출력합니다.\n",
    "sales_nation"
   ]
  },
  {
   "cell_type": "code",
   "execution_count": null,
   "id": "104da3c9",
   "metadata": {},
   "outputs": [],
   "source": [
    "# usd를 vol로 나눈 결과를 새 변수 usd_avg에 할당합니다.\n",
    "sales_nation['usd_avg'] = sales_nation['usd'] / sales_nation['vol']"
   ]
  },
  {
   "cell_type": "code",
   "execution_count": null,
   "id": "6a8e736f",
   "metadata": {},
   "outputs": [],
   "source": [
    "# sales_nation을 vol로 내림차순 정렬한 결과를 출력합니다.\n",
    "sales_nation.sort_values(by = ['vol'], ascending = False)"
   ]
  },
  {
   "cell_type": "code",
   "execution_count": null,
   "id": "a1f9e71b",
   "metadata": {},
   "outputs": [],
   "source": [
    "# sales_nation을 usd로 내림차순 정렬한 결과를 출력합니다.\n",
    "sales_nation.sort_values(by = ['usd'], ascending = False)"
   ]
  },
  {
   "cell_type": "code",
   "execution_count": null,
   "id": "32d9ee88",
   "metadata": {},
   "outputs": [],
   "source": [
    "# sales_nation을 usd_avg로 내림차순 정렬한 결과를 출력합니다.\n",
    "sales_nation.sort_values(by = ['usd_avg'], ascending = False)"
   ]
  },
  {
   "cell_type": "markdown",
   "id": "78371d3e",
   "metadata": {},
   "source": [
    "### 제품별 판매수량와 판매금액 합계 계산"
   ]
  },
  {
   "cell_type": "code",
   "execution_count": null,
   "id": "841d38bc",
   "metadata": {},
   "outputs": [],
   "source": [
    "# 아래 조건을 만족하는 피벗 테이블을 sales_product에 할당합니다.\n",
    "# [힌트] pd.pivot_table() 함수를 사용하세요.\n",
    "# 데이터(data)는 rawdat, \n",
    "# 값(values)은 ['vol', 'usd'], \n",
    "# 행이름(index)은 ['category', 'subcategory'], \n",
    "# 열이름(columns)은 생략, \n",
    "# 집계함수(aggfunc)에 np.sum\n",
    "# 정렬(sort)에 False를 지정하세요.\n",
    "sales_product = pd.pivot_table(\n",
    "    data = rawdat, \n",
    "    values = ['vol', 'usd'],\n",
    "    index = ['category', 'subcategory'],\n",
    "    columns = None, \n",
    "    aggfunc = np.sum, \n",
    "    sort = False\n",
    ")"
   ]
  },
  {
   "cell_type": "code",
   "execution_count": null,
   "id": "0b8a0312",
   "metadata": {},
   "outputs": [],
   "source": [
    "# sales_product의 행 개수를 확인합니다.\n",
    "sales_product.shape[0]"
   ]
  },
  {
   "cell_type": "code",
   "execution_count": null,
   "id": "4c78d6e5",
   "metadata": {},
   "outputs": [],
   "source": [
    "# sales_product를 출력합니다.\n",
    "sales_product"
   ]
  },
  {
   "cell_type": "code",
   "execution_count": null,
   "id": "785370c9",
   "metadata": {},
   "outputs": [],
   "source": [
    "# usd를 vol로 나눈 결과를 새 변수 usd_avg에 할당합니다.\n",
    "sales_product['usd_avg'] = sales_product['usd'] / sales_product['vol']"
   ]
  },
  {
   "cell_type": "code",
   "execution_count": null,
   "id": "745fada1",
   "metadata": {},
   "outputs": [],
   "source": [
    "# sales_product를 vol로 내림차순 정렬한 결과를 출력합니다.\n",
    "sales_product.sort_values(by = ['vol'], ascending = False)"
   ]
  },
  {
   "cell_type": "code",
   "execution_count": null,
   "id": "caf38e97",
   "metadata": {},
   "outputs": [],
   "source": [
    "# sales_product를 usd로 내림차순 정렬한 결과를 출력합니다.\n",
    "sales_product.sort_values(by = ['usd'], ascending = False)"
   ]
  },
  {
   "cell_type": "code",
   "execution_count": null,
   "id": "2ec0e57e",
   "metadata": {},
   "outputs": [],
   "source": [
    "# sales_product를 usd_avg로 내림차순 정렬한 결과를 출력합니다.\n",
    "sales_product.sort_values(by = ['usd_avg'], ascending = False)"
   ]
  },
  {
   "cell_type": "code",
   "execution_count": null,
   "id": "1d3774d6",
   "metadata": {},
   "outputs": [],
   "source": [
    "# 위 코드 실행 결과를 sales_product에 재할당합니다.\n",
    "sales_product = sales_product.sort_values(by = ['usd_avg'], ascending = False)"
   ]
  },
  {
   "cell_type": "code",
   "execution_count": null,
   "id": "01c50811",
   "metadata": {},
   "outputs": [],
   "source": [
    "# sales_product의 행이름을 초기화한 결과를 출력합니다.\n",
    "# [힌트] reset_index() 함수를 사용하세요.\n",
    "# [참고] 기존 행이름을 맨 처음 열로 추가합니다.\n",
    "# [참고] drop = True를 추가하면 기존 행이름을 삭제합니다.\n",
    "sales_product.reset_index()"
   ]
  },
  {
   "cell_type": "markdown",
   "id": "44ba95bb",
   "metadata": {},
   "source": [
    "### 제품별 국가의 판매수량와 판매금액 합계 계산"
   ]
  },
  {
   "cell_type": "code",
   "execution_count": null,
   "id": "ee818602",
   "metadata": {},
   "outputs": [],
   "source": [
    "# 아래 조건을 만족하는 피벗 테이블을 sales_matrix에 할당합니다.\n",
    "# [힌트] pd.pivot_table() 함수를 사용하세요.\n",
    "# 데이터(data)는 rawdat, \n",
    "# 값(values)은 ['vol', 'usd'], \n",
    "# 행이름(index)은 ['category', 'subcategory'], \n",
    "# 열이름(columns)은 'country', \n",
    "# 집계함수(aggfunc)에 np.sum\n",
    "# 정렬(sort)에 False를 지정하세요.\n",
    "sales_matrix = pd.pivot_table(\n",
    "    data = rawdat, \n",
    "    values = ['vol', 'usd'],\n",
    "    index = ['category', 'subcategory'],\n",
    "    columns = 'country', \n",
    "    aggfunc = np.sum, \n",
    "    sort = False\n",
    ")"
   ]
  },
  {
   "cell_type": "code",
   "execution_count": null,
   "id": "ab32705c",
   "metadata": {},
   "outputs": [],
   "source": [
    "# sales_matrix의 행 개수와 열 개수를 확인합니다.\n",
    "# [참고] 데이터프레임의 shape 속성은 행 개수와 열 개수를 튜플로 반환합니다.\n",
    "sales_matrix.shape"
   ]
  },
  {
   "cell_type": "code",
   "execution_count": null,
   "id": "44151a44",
   "metadata": {},
   "outputs": [],
   "source": [
    "# sales_matrix를 출력합니다.\n",
    "sales_matrix"
   ]
  },
  {
   "cell_type": "code",
   "execution_count": null,
   "id": "6ae0bc30",
   "metadata": {},
   "outputs": [],
   "source": [
    "# sales_matrix의 열이름을 출력합니다.\n",
    "# [참고] columns 매개변수에 범주형 변수를 지정하면 values 매개변수에 지정한 \n",
    "# 변수와 함께 멀티인덱스가 됩니다.\n",
    "sales_matrix.columns"
   ]
  },
  {
   "cell_type": "markdown",
   "id": "eff6dead",
   "metadata": {},
   "source": [
    "**sales_matrix**에서 국가별로 'usd_avg' 열을 생성하는 것은 복잡해보입니다.<br>\n",
    "국가를 지정하면 제품별 평균 가격을 반환하는 함수를 생성하는 것이 좋습니다.<br>\n",
    "**sales_product**를 생성하는 코드에 국가를 지정하는 부분을 추가하면 됩니다."
   ]
  },
  {
   "cell_type": "markdown",
   "id": "ab0058b8",
   "metadata": {},
   "source": [
    "### 지정한 국가의 제품별 평균 가격을 반환하는 함수 생성"
   ]
  },
  {
   "cell_type": "code",
   "execution_count": null,
   "id": "7ef15054",
   "metadata": {},
   "outputs": [],
   "source": [
    "# 국가명을 지정하면 제품별 평균 가격을 반환하는 함수를 생성합니다.\n",
    "def getAvgPrice(data, nation):\n",
    "    \n",
    "    # data에서 country 열이 nation인 행을 선택합니다.\n",
    "    data = data[data['country'].eq(nation)]\n",
    "    \n",
    "    # 피벗 테이블을 생성하고 sales_product에 할당합니다.\n",
    "    sales_product = pd.pivot_table(\n",
    "        data = data, \n",
    "        values = ['vol', 'usd'],\n",
    "        index = ['category', 'subcategory'],\n",
    "        columns = None, \n",
    "        aggfunc = np.sum, \n",
    "        sort = False\n",
    "    )\n",
    "        \n",
    "    # usd를 vol로 나눈 결과를 새 변수 usd_avg에 할당합니다.\n",
    "    sales_product['usd_avg'] = sales_product['usd'] / sales_product['vol']\n",
    "    \n",
    "    # sales_product를 usd_avg로 내림차순 정렬하고 sales_product에 재할당합니다.\n",
    "    sales_product = sales_product.sort_values(by = ['usd_avg'], ascending = False)\n",
    "    \n",
    "    # sales_product의 행이름을 초기화하고 sales_product에 재할당합니다.\n",
    "    sales_product = sales_product.reset_index()\n",
    "\n",
    "    # 결과를 반환합니다.\n",
    "    return sales_product"
   ]
  },
  {
   "cell_type": "code",
   "execution_count": null,
   "id": "ff81f9ec",
   "metadata": {},
   "outputs": [],
   "source": [
    "# 호주의 제품별 평균 가격을 출력합니다.\n",
    "getAvgPrice(data = rawdat, nation = 'au')"
   ]
  },
  {
   "cell_type": "code",
   "execution_count": null,
   "id": "15a95f08",
   "metadata": {},
   "outputs": [],
   "source": [
    "# 브라질의 제품별 평균 가격을 출력합니다.\n",
    "getAvgPrice(data = rawdat, nation = 'br')"
   ]
  },
  {
   "cell_type": "code",
   "execution_count": null,
   "id": "55f9a1ff",
   "metadata": {},
   "outputs": [],
   "source": [
    "# 독일의 제품별 평균 가격을 출력합니다.\n",
    "getAvgPrice(data = rawdat, nation = 'de')"
   ]
  },
  {
   "cell_type": "code",
   "execution_count": null,
   "id": "435aa04a",
   "metadata": {},
   "outputs": [],
   "source": [
    "# 프랑스의 제품별 평균 가격을 출력합니다.\n",
    "getAvgPrice(data = rawdat, nation = 'fr')"
   ]
  },
  {
   "cell_type": "code",
   "execution_count": null,
   "id": "99f9cf91",
   "metadata": {},
   "outputs": [],
   "source": [
    "# 이탈리아의 제품별 평균 가격을 출력합니다.\n",
    "getAvgPrice(data = rawdat, nation = 'it')"
   ]
  },
  {
   "cell_type": "code",
   "execution_count": null,
   "id": "71e51055",
   "metadata": {},
   "outputs": [],
   "source": [
    "# 영국의 제품별 평균 가격을 출력합니다.\n",
    "getAvgPrice(data = rawdat, nation = 'uk')"
   ]
  },
  {
   "cell_type": "markdown",
   "id": "3b612196",
   "metadata": {},
   "source": [
    "### 데이터 병합\n",
    "\n",
    "특정 국가의 제품별 평균 가격을 병합합니다.<br>\n",
    "외래키로 'category'와 'subcategory'를 사용합니다.<br>\n",
    "두 범주형 변수를 갖는 데이터프레임 merged를 미리 생성하고<br>\n",
    "for 반복문을 실행하면 간단하게 해결할 수 있습니다."
   ]
  },
  {
   "cell_type": "code",
   "execution_count": null,
   "id": "6ff78be5",
   "metadata": {},
   "outputs": [],
   "source": [
    "# category와 subcategory 열이름으로 리스트 cols에 할당합니다.\n",
    "cols = ['category', 'subcategory']"
   ]
  },
  {
   "cell_type": "code",
   "execution_count": null,
   "id": "cb949dcb",
   "metadata": {},
   "outputs": [],
   "source": [
    "# rawdat에서 cols로 인덱싱하고 빈도수를 출력합니다.\n",
    "# [참고] 두 개 이상의 범주형 변수로 빈도수를 계산하면 모든 가능한\n",
    "# 범주형 변수의 조합을 인덱스로 생성하고 빈도수를 내림차순 정렬합니다.\n",
    "rawdat[cols].value_counts()"
   ]
  },
  {
   "cell_type": "code",
   "execution_count": null,
   "id": "00358578",
   "metadata": {},
   "outputs": [],
   "source": [
    "# 위 코드 실행 결과를 merged에 할당합니다.\n",
    "merged = rawdat[cols].value_counts()"
   ]
  },
  {
   "cell_type": "code",
   "execution_count": null,
   "id": "cf6d4141",
   "metadata": {},
   "outputs": [],
   "source": [
    "# merged의 행이름을 초기화한 결과를 출력합니다.\n",
    "# [참고] 시리즈의 행이름을 초기화하면 데이터프레임을 반환합니다.\n",
    "merged.reset_index()"
   ]
  },
  {
   "cell_type": "code",
   "execution_count": null,
   "id": "fdc9fab6",
   "metadata": {},
   "outputs": [],
   "source": [
    "# 위 코드 실행 결과를 merged에 재할당합니다.\n",
    "merged = merged.reset_index()"
   ]
  },
  {
   "cell_type": "code",
   "execution_count": null,
   "id": "e2b1b512",
   "metadata": {},
   "outputs": [],
   "source": [
    "# merged에서 열이름이 'count'인 열을 삭제하고 merged에 재할당합니다.\n",
    "# [참고] pandas 최신 버전이 아니면 열이름을 'count' 대신 정수 0으로 생성합니다.\n",
    "merged = merged.drop(columns = ['count'])"
   ]
  },
  {
   "cell_type": "code",
   "execution_count": null,
   "id": "42114c40",
   "metadata": {},
   "outputs": [],
   "source": [
    "# merged의 처음 5행을 출력합니다.\n",
    "merged.head()"
   ]
  },
  {
   "cell_type": "code",
   "execution_count": null,
   "id": "7ee5052a",
   "metadata": {},
   "outputs": [],
   "source": [
    "# nation에 특정 국가명을 할당합니다.\n",
    "# 알파벳 순으로 호주의 국가명을 지정합니다.\n",
    "nation = 'au'"
   ]
  },
  {
   "cell_type": "code",
   "execution_count": null,
   "id": "bd35a6d3",
   "metadata": {},
   "outputs": [],
   "source": [
    "# 호주의 제품별 평균 가격 데이터를 sales_product로 생성합니다.\n",
    "sales_product = getAvgPrice(data = rawdat, nation = nation)"
   ]
  },
  {
   "cell_type": "code",
   "execution_count": null,
   "id": "7ce11d1c",
   "metadata": {},
   "outputs": [],
   "source": [
    "# sales_product를 출력합니다.\n",
    "sales_product"
   ]
  },
  {
   "cell_type": "code",
   "execution_count": null,
   "id": "10e47ef7",
   "metadata": {},
   "outputs": [],
   "source": [
    "# sales_product의 일부 열이름을 아래와 같이 변경합니다.\n",
    "# vol -> vol_au\n",
    "# usd -> usd_au\n",
    "# usd_avg -> avg_au\n",
    "# [힌트] rename() 함수와 f-문자열을 사용하세요.\n",
    "sales_product = sales_product.rename(columns = {\n",
    "    'vol': f'vol_{nation}', \n",
    "    'usd': f'usd_{nation}', \n",
    "    'usd_avg': f'avg_{nation}'\n",
    "})"
   ]
  },
  {
   "cell_type": "code",
   "execution_count": null,
   "id": "f865cc4e",
   "metadata": {},
   "outputs": [],
   "source": [
    "# sales_product의 처음 5행을 출력합니다.\n",
    "sales_product.head()"
   ]
  },
  {
   "cell_type": "code",
   "execution_count": null,
   "id": "503d916b",
   "metadata": {},
   "outputs": [],
   "source": [
    "# merged와 sales_product를 외부병합한 결과를 출력합니다.\n",
    "# [참고] 결측값(NaN)은 해당 국가에 관련 데이터가 없다는 것을 의미합니다.\n",
    "pd.merge(\n",
    "    left = merged, \n",
    "    right = sales_product, \n",
    "    how = 'outer', \n",
    "    on = ['category', 'subcategory']\n",
    ")"
   ]
  },
  {
   "cell_type": "code",
   "execution_count": null,
   "id": "f772fc26",
   "metadata": {},
   "outputs": [],
   "source": [
    "# 반복문을 실행할 범위(국가명 리스트)를 nations에 할당합니다.\n",
    "# [힌트] unique() 함수를 사용하세요.\n",
    "nations = rawdat['country'].unique()"
   ]
  },
  {
   "cell_type": "code",
   "execution_count": null,
   "id": "26c8e009",
   "metadata": {},
   "outputs": [],
   "source": [
    "# nations을 출력합니다.\n",
    "nations"
   ]
  },
  {
   "cell_type": "code",
   "execution_count": null,
   "id": "1a6ae989",
   "metadata": {},
   "outputs": [],
   "source": [
    "# for 반복문으로 nations의 원소를 바꿔가면서 merged에 병합합니다.\n",
    "for nation in nations:\n",
    "    \n",
    "    # nation의 제품별 평균 가격 데이터를 sales_product로 생성합니다.\n",
    "    sales_product = getAvgPrice(data = rawdat, nation = nation)\n",
    "    \n",
    "    # sales_product의 일부 열이름을 변경합니다.\n",
    "    sales_product = sales_product.rename(columns = {\n",
    "        'vol': f'vol_{nation}', \n",
    "        'usd': f'usd_{nation}', \n",
    "        'usd_avg': f'avg_{nation}'\n",
    "    })\n",
    "    \n",
    "    # merged와 sales_product의 제품별 평균 가격 데이터를 외부병합합니다.\n",
    "    merged = pd.merge(\n",
    "        left = merged, \n",
    "        right = sales_product, \n",
    "        how = 'outer', \n",
    "        on = ['category', 'subcategory']\n",
    "    )"
   ]
  },
  {
   "cell_type": "code",
   "execution_count": null,
   "id": "330bc881",
   "metadata": {},
   "outputs": [],
   "source": [
    "# merged를 출력합니다.\n",
    "merged"
   ]
  },
  {
   "cell_type": "code",
   "execution_count": null,
   "id": "da3a27e1",
   "metadata": {},
   "outputs": [],
   "source": [
    "# merged에서 category와 subcategory 열을 인덱스로 설정하고 merged에 재할당합니다.\n",
    "# [힌트] set_index() 함수를 사용하세요.\n",
    "merged = merged.set_index(keys = ['category', 'subcategory'])"
   ]
  },
  {
   "cell_type": "markdown",
   "id": "b6aa9976",
   "metadata": {},
   "source": [
    "### 데이터 결합"
   ]
  },
  {
   "cell_type": "code",
   "execution_count": null,
   "id": "a554a794",
   "metadata": {},
   "outputs": [],
   "source": [
    "# merged의 열이름을 출력합니다.\n",
    "merged.columns"
   ]
  },
  {
   "cell_type": "code",
   "execution_count": null,
   "id": "da0f7e16",
   "metadata": {},
   "outputs": [],
   "source": [
    "# merged의 열이름에서 'vol'을 포함하는 원소만 남겨 col_vol에 할당합니다.\n",
    "# [힌트] 리스트 컴프리헨션을 사용하세요.\n",
    "col_vol = [col for col in merged.columns if 'vol' in col]"
   ]
  },
  {
   "cell_type": "code",
   "execution_count": null,
   "id": "98416078",
   "metadata": {},
   "outputs": [],
   "source": [
    "# col_vol을 출력합니다.\n",
    "col_vol"
   ]
  },
  {
   "cell_type": "code",
   "execution_count": null,
   "id": "10b73c1f",
   "metadata": {},
   "outputs": [],
   "source": [
    "# merged에서 열이름이 col_vol인 원소를 선택하여 merged_vol에 할당합니다.\n",
    "merged_vol = merged[col_vol]"
   ]
  },
  {
   "cell_type": "code",
   "execution_count": null,
   "id": "6cbec974",
   "metadata": {},
   "outputs": [],
   "source": [
    "# merged_vol를 출력합니다.\n",
    "merged_vol"
   ]
  },
  {
   "cell_type": "code",
   "execution_count": null,
   "id": "2429d377",
   "metadata": {},
   "outputs": [],
   "source": [
    "# merged의 열이름에서 'usd'를 포함하는 원소만 남겨 col_usd에 할당합니다.\n",
    "col_usd = [col for col in merged.columns if 'usd' in col]"
   ]
  },
  {
   "cell_type": "code",
   "execution_count": null,
   "id": "a1706a84",
   "metadata": {},
   "outputs": [],
   "source": [
    "# col_usd를 출력합니다.\n",
    "col_usd"
   ]
  },
  {
   "cell_type": "code",
   "execution_count": null,
   "id": "6ac744db",
   "metadata": {},
   "outputs": [],
   "source": [
    "# merged에서 열이름이 col_usd인 원소를 선택하여 merged_usd에 할당합니다.\n",
    "merged_usd = merged[col_usd]"
   ]
  },
  {
   "cell_type": "code",
   "execution_count": null,
   "id": "27e2d6b7",
   "metadata": {},
   "outputs": [],
   "source": [
    "# merged_usd를 출력합니다.\n",
    "merged_usd"
   ]
  },
  {
   "cell_type": "code",
   "execution_count": null,
   "id": "180e9954",
   "metadata": {},
   "outputs": [],
   "source": [
    "# merged의 열이름에서 'avg'를 포함하는 원소만 남겨 col_avg에 할당합니다.\n",
    "col_avg = [col for col in merged.columns if 'avg' in col]"
   ]
  },
  {
   "cell_type": "code",
   "execution_count": null,
   "id": "1266c796",
   "metadata": {},
   "outputs": [],
   "source": [
    "# col_avg를 출력합니다.\n",
    "col_avg"
   ]
  },
  {
   "cell_type": "code",
   "execution_count": null,
   "id": "d3e51015",
   "metadata": {},
   "outputs": [],
   "source": [
    "# merged에서 열이름이 col_avg인 원소를 선택하여 merged_avg에 할당합니다.\n",
    "merged_avg = merged[col_avg]"
   ]
  },
  {
   "cell_type": "code",
   "execution_count": null,
   "id": "44322982",
   "metadata": {},
   "outputs": [],
   "source": [
    "# merged_avg를 출력합니다.\n",
    "merged_avg"
   ]
  },
  {
   "cell_type": "code",
   "execution_count": null,
   "id": "fdbe608c",
   "metadata": {},
   "outputs": [],
   "source": [
    "# merged_vol, merged_usd, merged_avg를 열 방향으로 결합하고 merged에 할당합니다.\n",
    "# [힌트] pd.concat() 함수를 사용하세요.\n",
    "# [주의] axis 매개변수의 기본값은 0(행)이므로 1(열)을 지정해야 합니다.\n",
    "merged = pd.concat(objs = [merged_vol, merged_usd, merged_avg], axis = 1)"
   ]
  },
  {
   "cell_type": "code",
   "execution_count": null,
   "id": "1793f98e",
   "metadata": {},
   "outputs": [],
   "source": [
    "# merged를 출력합니다.\n",
    "merged"
   ]
  },
  {
   "cell_type": "code",
   "execution_count": null,
   "id": "c886dad8",
   "metadata": {},
   "outputs": [],
   "source": [
    "# merged를 인덱스로 오름차순 정렬한 결과를 출력합니다.\n",
    "merged.sort_index()"
   ]
  },
  {
   "cell_type": "code",
   "execution_count": null,
   "id": "aaa58419",
   "metadata": {},
   "outputs": [],
   "source": [
    "# 위 코드 실행 결과를 merged에 재할당합니다.\n",
    "merged = merged.sort_index()"
   ]
  },
  {
   "cell_type": "markdown",
   "id": "5dcb715f",
   "metadata": {},
   "source": [
    "### 외부 파일로 저장"
   ]
  },
  {
   "cell_type": "code",
   "execution_count": null,
   "id": "996b33c0",
   "metadata": {},
   "outputs": [],
   "source": [
    "# 현재 작업 경로를 확인합니다.\n",
    "os.getcwd()"
   ]
  },
  {
   "cell_type": "code",
   "execution_count": null,
   "id": "588e7f05",
   "metadata": {},
   "outputs": [],
   "source": [
    "# 여러 객체를 하나의 압축 파일로 저장합니다.\n",
    "# 파일명은 'Online_Mall_Prep.z'으로 지정하세요.\n",
    "# [힌트] joblib.dump() 함수를 사용하세요.\n",
    "%time joblib.dump(value = [rawdat, merged], filename = 'Online_Mall_Prep.z')"
   ]
  },
  {
   "cell_type": "code",
   "execution_count": null,
   "id": "e6f18b83",
   "metadata": {},
   "outputs": [],
   "source": [
    "# rawdat를 xlsx 파일로 저장합니다.\n",
    "# [참고] 데이터프레임의 인덱스를 추가하지 않도록 설정합니다.\n",
    "%time rawdat.to_excel(excel_writer = 'Online_Mall_Rawdat.xlsx', index = False)"
   ]
  },
  {
   "cell_type": "code",
   "execution_count": null,
   "id": "1784fecf",
   "metadata": {},
   "outputs": [],
   "source": [
    "# merged를 xlsx 파일로 저장합니다.\n",
    "# [참고] 데이터프레임의 인덱스를 추가하도록 설정합니다.\n",
    "%time merged.to_excel(excel_writer = 'Online_Mall_Merged.xlsx', index = True)"
   ]
  },
  {
   "cell_type": "code",
   "execution_count": null,
   "id": "5acba19f",
   "metadata": {},
   "outputs": [],
   "source": [
    "# 작업 경로에 있는 폴더명과 파일명을 출력합니다.\n",
    "sorted(os.listdir())"
   ]
  },
  {
   "cell_type": "markdown",
   "id": "8030d8a4",
   "metadata": {},
   "source": [
    "여기까지 실습하고 Kernel을 **Restart & Clear Output** 합니다."
   ]
  },
  {
   "cell_type": "markdown",
   "id": "861f0fd3",
   "metadata": {},
   "source": [
    "## 데이터 시각화 실습"
   ]
  },
  {
   "cell_type": "markdown",
   "id": "a3e88f3e",
   "metadata": {},
   "source": [
    "### 실습 데이터셋 안내\n",
    "\n",
    "- 2022년 1~12월 간 lg.com의 마케팅 실적 데이터(rawdat)와 <br>\n",
    "  국가의 제품별 평균 가격을 계산한 피벗 테이블(merged)을 읽습니다.<br><br>\n",
    "\n",
    "- 위 데이터프레임으로 다양한 그래프를 그립니다."
   ]
  },
  {
   "cell_type": "markdown",
   "id": "a7c3038e",
   "metadata": {},
   "source": [
    "### 관련 라이브러리 호출"
   ]
  },
  {
   "cell_type": "code",
   "execution_count": null,
   "id": "cb520902",
   "metadata": {},
   "outputs": [],
   "source": [
    "# 관련 라이브러리를 호출합니다.\n",
    "import os\n",
    "import joblib\n",
    "import numpy as np\n",
    "import pandas as pd\n",
    "\n",
    "import seaborn as sns\n",
    "import matplotlib.pyplot as plt"
   ]
  },
  {
   "cell_type": "code",
   "execution_count": null,
   "id": "85592663",
   "metadata": {},
   "outputs": [],
   "source": [
    "# 그래픽 파라미터를 설정합니다.\n",
    "plt.rc(group = 'font', family = 'Gowun Dodum', size = 10)\n",
    "plt.rc(group = 'figure', figsize = (8, 4), dpi = 100)\n",
    "plt.rc(group = 'axes', unicode_minus = False)\n",
    "plt.rc(group = 'legend', frameon = True, fc = '1', ec = '0')"
   ]
  },
  {
   "cell_type": "raw",
   "id": "bb0ce413",
   "metadata": {},
   "source": [
    "# 시각화 관련 모듈을 호출합니다.\n",
    "from GraphicSetting import *"
   ]
  },
  {
   "cell_type": "markdown",
   "id": "b5d425d9",
   "metadata": {},
   "source": [
    "### 실습 데이터셋 준비"
   ]
  },
  {
   "cell_type": "code",
   "execution_count": null,
   "id": "85deaf38",
   "metadata": {},
   "outputs": [],
   "source": [
    "# 현재 작업 경로에 있는 폴더명과 파일명을 출력합니다.\n",
    "sorted(os.listdir())"
   ]
  },
  {
   "cell_type": "code",
   "execution_count": null,
   "id": "7cfb7e38",
   "metadata": {},
   "outputs": [],
   "source": [
    "# rawdat를 생성합니다.\n",
    "rawdat = pd.read_excel(io = 'Online_Mall_Rawdat.xlsx')"
   ]
  },
  {
   "cell_type": "code",
   "execution_count": null,
   "id": "0bc3fbfe",
   "metadata": {},
   "outputs": [],
   "source": [
    "# rawdat의 정보를 확인합니다.\n",
    "rawdat.info()"
   ]
  },
  {
   "cell_type": "code",
   "execution_count": null,
   "id": "fcadb8fb",
   "metadata": {},
   "outputs": [],
   "source": [
    "# rawdat의 처음 5행을 출력합니다.\n",
    "rawdat.head()"
   ]
  },
  {
   "cell_type": "code",
   "execution_count": null,
   "id": "65e1f8a8",
   "metadata": {},
   "outputs": [],
   "source": [
    "# merged를 생성합니다.\n",
    "merged = pd.read_excel(io = 'Online_Mall_Merged.xlsx')"
   ]
  },
  {
   "cell_type": "code",
   "execution_count": null,
   "id": "046a0ab3",
   "metadata": {},
   "outputs": [],
   "source": [
    "# merged의 정보를 확인합니다.\n",
    "merged.info()"
   ]
  },
  {
   "cell_type": "code",
   "execution_count": null,
   "id": "dc106a65",
   "metadata": {},
   "outputs": [],
   "source": [
    "# merged를 출력합니다.\n",
    "merged"
   ]
  },
  {
   "cell_type": "code",
   "execution_count": null,
   "id": "dd2f2307",
   "metadata": {},
   "outputs": [],
   "source": [
    "# category 열에 있는 결측값을 이전 값으로 채운 결과를 출력합니다.\n",
    "# [힌트] fillna() 함수의 method 매개변수에 'ffill'을 지정하세요.\n",
    "merged['category'].fillna(method = 'ffill')"
   ]
  },
  {
   "cell_type": "code",
   "execution_count": null,
   "id": "877bfcb1",
   "metadata": {},
   "outputs": [],
   "source": [
    "# 위 코드 실행 결과를 category 열에 재할당합니다.\n",
    "merged['category'] = merged['category'].fillna(method = 'ffill')"
   ]
  },
  {
   "cell_type": "code",
   "execution_count": null,
   "id": "7e64ead1",
   "metadata": {},
   "outputs": [],
   "source": [
    "# merged에서 category와 subcategory 열을 인덱스로 설정하고 merged에 재할당합니다.\n",
    "merged = merged.set_index(keys = ['category', 'subcategory'])"
   ]
  },
  {
   "cell_type": "code",
   "execution_count": null,
   "id": "86bbb0f3",
   "metadata": {},
   "outputs": [],
   "source": [
    "# merged를 출력합니다.\n",
    "merged"
   ]
  },
  {
   "cell_type": "markdown",
   "id": "1c8a1455",
   "metadata": {},
   "source": [
    "### [참고] joblib 압축파일 호출"
   ]
  },
  {
   "cell_type": "raw",
   "id": "c50d9b79",
   "metadata": {},
   "source": [
    "# 작업 경로에 있는 폴더명과 파일명을 출력합니다.\n",
    "sorted(os.listdir())"
   ]
  },
  {
   "cell_type": "raw",
   "id": "d46c9d82",
   "metadata": {
    "scrolled": true
   },
   "source": [
    "# 'Online_Mall_Prep.z' 파일을 호출합니다.\n",
    "# [힌트] joblib.load() 함수를 사용하세요.\n",
    "# [참고] 두 데이터프레임을 원소로 갖는 리스트를 반환합니다.\n",
    "joblib.load(filename = 'Online_Mall_Prep.z')"
   ]
  },
  {
   "cell_type": "raw",
   "id": "247591a6",
   "metadata": {},
   "source": [
    "# 압축 파일을 호출하고 rawdat, merged에 할당합니다.\n",
    "rawdat, merged = joblib.load(filename = 'Online_Mall_Prep.z')"
   ]
  },
  {
   "cell_type": "markdown",
   "id": "da7b7a5e",
   "metadata": {},
   "source": [
    "### 데이터 전처리\n",
    "\n",
    "rawdat에서 subcategory 열이 TV인 행을 선택합니다."
   ]
  },
  {
   "cell_type": "code",
   "execution_count": null,
   "id": "53011a2b",
   "metadata": {},
   "outputs": [],
   "source": [
    "# rawdat에서 subcategory 열이 TV인 행을 선택하여 raw_tv에 할당합니다.\n",
    "raw_tv = rawdat[rawdat['subcategory'].eq('TV')]"
   ]
  },
  {
   "cell_type": "code",
   "execution_count": null,
   "id": "03072804",
   "metadata": {},
   "outputs": [],
   "source": [
    "# raw_tv의 행 개수를 확인합니다.\n",
    "raw_tv.shape[0]"
   ]
  },
  {
   "cell_type": "code",
   "execution_count": null,
   "id": "4210cd11",
   "metadata": {},
   "outputs": [],
   "source": [
    "# raw_tv의 처음 5행을 출력합니다.\n",
    "raw_tv.head()"
   ]
  },
  {
   "cell_type": "markdown",
   "id": "ad53b255",
   "metadata": {},
   "source": [
    "### 히스토그램 시각화\n",
    "\n",
    "usd의 분포를 확인합니다."
   ]
  },
  {
   "cell_type": "code",
   "execution_count": null,
   "id": "e77ba161",
   "metadata": {},
   "outputs": [],
   "source": [
    "# raw_tv의 usd에 대한 기술통계량을 확인합니다.\n",
    "# [참고] 히스토그램을 그리기 전에 연속형 변수의 최솟값과 최댓값을 확인합니다.\n",
    "raw_tv['usd'].describe()[['min', 'max']]"
   ]
  },
  {
   "cell_type": "code",
   "execution_count": null,
   "id": "d37d45ec",
   "metadata": {},
   "outputs": [],
   "source": [
    "# raw_tv의 usd로 히스토그램을 그립니다.\n",
    "# [힌트] sns.histplot() 함수를 사용하세요.\n",
    "# [참고] binrange와 binwidth 매개변수를 추가하면 계급을 지정할 수 있습니다.\n",
    "# [참고] fc(채우기색) 및 ec(테두리색) 매개변수를 추가하면 색을 지정할 수 있습니다.\n",
    "sns.histplot(data = raw_tv, x = 'usd', \n",
    "             binrange = (0, 400000), binwidth = 10000,\n",
    "             fc = 'silver', ec = '0')\n",
    "\n",
    "# 그래프 제목을 'TV의 매출금액(USD) 분포'로 지정합니다.\n",
    "plt.title(label = 'TV의 매출금액(USD) 분포');"
   ]
  },
  {
   "cell_type": "code",
   "execution_count": null,
   "id": "c02d3afb",
   "metadata": {},
   "outputs": [],
   "source": [
    "# 위 그래프에서 binrange의 오른쪽 끝값을 15000으로 설정합니다.\n",
    "sns.histplot(data = raw_tv, x = 'usd', \n",
    "             binrange = (0, 150000), binwidth = 10000,\n",
    "             fc = 'silver', ec = '0')\n",
    "plt.title(label = 'TV의 매출금액(USD) 분포');"
   ]
  },
  {
   "cell_type": "markdown",
   "id": "4df577c7",
   "metadata": {},
   "source": [
    "usd를 vol로 나눈 usd_avg의 분포를 확인합니다."
   ]
  },
  {
   "cell_type": "code",
   "execution_count": null,
   "id": "e61371ef",
   "metadata": {
    "scrolled": false
   },
   "outputs": [],
   "source": [
    "# raw_tv에서 usd를 vol로 나눈 결과를 새 변수 usd_avg에 할당합니다.\n",
    "raw_tv['usd_avg'] = raw_tv['usd'] / raw_tv['vol']"
   ]
  },
  {
   "cell_type": "code",
   "execution_count": null,
   "id": "0a9cdfdb",
   "metadata": {},
   "outputs": [],
   "source": [
    "# raw_tv의 usd_avg에 대한 기술통계량을 확인합니다.\n",
    "raw_tv['usd_avg'].describe()[['min', 'max']]"
   ]
  },
  {
   "cell_type": "code",
   "execution_count": null,
   "id": "c0501a63",
   "metadata": {},
   "outputs": [],
   "source": [
    "# raw_tv의 usd_avg로 히스토그램을 그립니다.\n",
    "sns.histplot(data = raw_tv, x = 'usd_avg', \n",
    "             binrange = (0, 30000), binwidth = 500,\n",
    "             fc = 'silver', ec = '0')\n",
    "\n",
    "# 그래프 제목을 'TV의 평균 가격 분포'로 지정합니다.\n",
    "plt.title(label = 'TV의 평균 가격 분포');"
   ]
  },
  {
   "cell_type": "code",
   "execution_count": null,
   "id": "e051a2d0",
   "metadata": {},
   "outputs": [],
   "source": [
    "# 위 그래프에서 binrange의 오른쪽 끝값을 10000으로 설정합니다.\n",
    "sns.histplot(data = raw_tv, x = 'usd_avg', \n",
    "             binrange = (0, 10000), binwidth = 500,\n",
    "             fc = 'silver', ec = '0')\n",
    "plt.title(label = 'TV의 평균 가격 분포');"
   ]
  },
  {
   "cell_type": "code",
   "execution_count": null,
   "id": "88112fa5",
   "metadata": {},
   "outputs": [],
   "source": [
    "# 위 그래프에서 x축을 2000 기준으로 수직선을 추가합니다.\n",
    "sns.histplot(data = raw_tv, x = 'usd_avg', \n",
    "             binrange = (0, 10000), binwidth = 500,\n",
    "             fc = 'silver', ec = '0')\n",
    "plt.title(label = 'TV의 평균 가격 분포')\n",
    "plt.axvline(x = 2000, color = 'red', lw = 1, ls = '--');"
   ]
  },
  {
   "cell_type": "markdown",
   "id": "89a3c426",
   "metadata": {},
   "source": [
    "연속형 변수를 구간화하여 범주형 변수를 생성하고 막대 채우기 색을 다르게 설정합니다."
   ]
  },
  {
   "cell_type": "code",
   "execution_count": null,
   "id": "dac2da70",
   "metadata": {},
   "outputs": [],
   "source": [
    "# usd_avg가 2000 이상이면 'high', 아니면 'low'인 값을 새 변수 usd_grd에 할당합니다.\n",
    "raw_tv['usd_grd'] = np.where(raw_tv['usd_avg'].ge(2000), 'high', 'low')"
   ]
  },
  {
   "cell_type": "code",
   "execution_count": null,
   "id": "4dbd2a49",
   "metadata": {},
   "outputs": [],
   "source": [
    "# 위 그래프에서 usd_grd 기준으로 채우기 색을 다르게 설정합니다.\n",
    "sns.histplot(data = raw_tv, x = 'usd_avg', \n",
    "             binrange = (0, 10000), binwidth = 500, \n",
    "             hue = 'usd_grd', ec = '0')\n",
    "plt.title(label = 'TV의 평균 가격 분포')\n",
    "plt.axvline(x = 2000, color = 'red', lw = 1, ls = '--');"
   ]
  },
  {
   "cell_type": "code",
   "execution_count": null,
   "id": "554923c8",
   "metadata": {},
   "outputs": [],
   "source": [
    "# 위 그래프에서 팔레트를 'Set1'으로 변경합니다.\n",
    "sns.histplot(data = raw_tv, x = 'usd_avg', \n",
    "             binrange = (0, 10000), binwidth = 500, \n",
    "             hue = 'usd_grd', ec = '0', palette = 'Set1')\n",
    "plt.title(label = 'TV의 평균 가격 분포')\n",
    "plt.axvline(x = 2000, color = 'red', lw = 1, ls = '--');"
   ]
  },
  {
   "cell_type": "code",
   "execution_count": null,
   "id": "8e565bef",
   "metadata": {},
   "outputs": [],
   "source": [
    "# 사용자 팔레트를 생성합니다. 색은 'silver', 'red'로 설정합니다.\n",
    "myPal = ['silver', 'red']"
   ]
  },
  {
   "cell_type": "code",
   "execution_count": null,
   "id": "300969c1",
   "metadata": {},
   "outputs": [],
   "source": [
    "# 위 그래프에서 팔레트를 사용자 팔레트로 변경합니다.\n",
    "sns.histplot(data = raw_tv, x = 'usd_avg', \n",
    "             binrange = (0, 10000), binwidth = 500, \n",
    "             hue = 'usd_grd', ec = '0', palette = myPal)\n",
    "plt.title(label = 'TV의 평균 가격 분포')\n",
    "plt.axvline(x = 2000, color = 'red', lw = 1, ls = '--');"
   ]
  },
  {
   "cell_type": "code",
   "execution_count": null,
   "id": "6653b53b",
   "metadata": {},
   "outputs": [],
   "source": [
    "# raw_tv로 country의 범주별 usd_avg의 분포를 히스토그램으로 그립니다.\n",
    "sns.histplot(data = raw_tv, x = 'usd_avg', \n",
    "             binrange = (0, 5000), binwidth = 100, \n",
    "             hue = 'country', ec = '1');"
   ]
  },
  {
   "cell_type": "code",
   "execution_count": null,
   "id": "9cfc8f3b",
   "metadata": {},
   "outputs": [],
   "source": [
    "# raw_tv로 country의 범주별 usd_avg의 분포를 커널 밀도 추정곡선으로 그립니다.\n",
    "sns.kdeplot(data = raw_tv, x = 'usd_avg', hue = 'country', fill = True)\n",
    "plt.xlim(-250, 5250);"
   ]
  },
  {
   "cell_type": "markdown",
   "id": "f1304372",
   "metadata": {},
   "source": [
    "### 상자 수염 그림 그리기"
   ]
  },
  {
   "cell_type": "code",
   "execution_count": null,
   "id": "7f8db392",
   "metadata": {},
   "outputs": [],
   "source": [
    "# raw_tv의 usd로 국가별 상자 수염 그림을 그립니다.\n",
    "# [힌트] sns.boxplot() 함수를 사용하세요.\n",
    "# [참고] x 매개변수에 범주형, y 매개변수에 연속형 변수를 지정합니다.\n",
    "sns.boxplot(data = raw_tv, x = 'country', y = 'usd')\n",
    "\n",
    "# 그래프 제목을 '국가별 TV 매출금액(USD) 분포 비교'로 지정합니다.\n",
    "plt.title(label = '국가별 TV 매출금액(USD) 분포 비교');"
   ]
  },
  {
   "cell_type": "code",
   "execution_count": null,
   "id": "9d5980ed",
   "metadata": {},
   "outputs": [],
   "source": [
    "# raw_tv의 usd_avg로 국가별 상자 수염 그림을 그립니다.\n",
    "sns.boxplot(data = raw_tv, x = 'country', y = 'usd_avg')\n",
    "\n",
    "# 그래프 제목을 '국가별 TV 평균 가격 분포 비교'로 지정합니다.\n",
    "plt.title(label = '국가별 TV 평균 가격 분포 비교');"
   ]
  },
  {
   "cell_type": "code",
   "execution_count": null,
   "id": "0a964e47",
   "metadata": {},
   "outputs": [],
   "source": [
    "# 위 그래프에서 y축 범위를 0~7000으로 제한합니다.\n",
    "sns.boxplot(data = raw_tv, x = 'country', y = 'usd_avg')\n",
    "plt.title(label = '국가별 TV 평균 가격 분포 비교')\n",
    "plt.ylim(0, 7000);"
   ]
  },
  {
   "cell_type": "code",
   "execution_count": null,
   "id": "444e689c",
   "metadata": {},
   "outputs": [],
   "source": [
    "# 위 그래프에서 y축을 전체 중위수 기준으로 수평선을 추가합니다.\n",
    "sns.boxplot(data = raw_tv, x = 'country', y = 'usd_avg')\n",
    "plt.title(label = '국가별 TV 평균 가격 분포 비교')\n",
    "plt.ylim(0, 7000)\n",
    "plt.axhline(y = raw_tv['usd_avg'].median(), color = 'red', lw = 1, ls = '--');"
   ]
  },
  {
   "cell_type": "markdown",
   "id": "595c5310",
   "metadata": {},
   "source": [
    "### 막대 그래프 그리기"
   ]
  },
  {
   "cell_type": "code",
   "execution_count": null,
   "id": "96ab2934",
   "metadata": {},
   "outputs": [],
   "source": [
    "# merged를 출력합니다.\n",
    "merged"
   ]
  },
  {
   "cell_type": "code",
   "execution_count": null,
   "id": "099ce6c7",
   "metadata": {},
   "outputs": [],
   "source": [
    "# merged의 행이름에 'TV'를 포함하는 행이름을 lab_tv에 할당합니다.\n",
    "# [힌트] 리스트 컴프리헨션을 사용하세요.\n",
    "lab_tv = [index for index in merged.index if 'TV' in index]"
   ]
  },
  {
   "cell_type": "code",
   "execution_count": null,
   "id": "2e839c08",
   "metadata": {},
   "outputs": [],
   "source": [
    "# lab_tv를 출력합니다.\n",
    "lab_tv"
   ]
  },
  {
   "cell_type": "code",
   "execution_count": null,
   "id": "18a0106e",
   "metadata": {},
   "outputs": [],
   "source": [
    "# merged에서 행이름이 lab_tv인 행을 선택하여 mgd_tv에 할당합니다.\n",
    "# [주의] 행이름으로 인덱싱하려면 반드시 loc 인덱서를 사용해야 합니다!\n",
    "mgd_tv = merged.loc[lab_tv, :]"
   ]
  },
  {
   "cell_type": "code",
   "execution_count": null,
   "id": "52f37d1a",
   "metadata": {},
   "outputs": [],
   "source": [
    "# mgd_tv를 출력합니다.\n",
    "mgd_tv"
   ]
  },
  {
   "cell_type": "code",
   "execution_count": null,
   "id": "c027cb4a",
   "metadata": {},
   "outputs": [],
   "source": [
    "# mgd_tv의 열이름을 출력합니다.\n",
    "mgd_tv.columns"
   ]
  },
  {
   "cell_type": "code",
   "execution_count": null,
   "id": "e76f738e",
   "metadata": {},
   "outputs": [],
   "source": [
    "# mgd_tv의 열이름에서 'avg'를 포함하는 열이름을 남겨 lab_avg에 할당합니다.\n",
    "# [힌트] 리스트 컴프리헨션을 사용하세요.\n",
    "lab_avg = [col for col in mgd_tv.columns if 'avg' in col]"
   ]
  },
  {
   "cell_type": "code",
   "execution_count": null,
   "id": "2215f7b0",
   "metadata": {},
   "outputs": [],
   "source": [
    "# lab_avg를 출력합니다.\n",
    "lab_avg"
   ]
  },
  {
   "cell_type": "code",
   "execution_count": null,
   "id": "852a1489",
   "metadata": {},
   "outputs": [],
   "source": [
    "# mgd_tv의 열이름에서 'avg'를 포함하는 열만 선택한 결과를 출력합니다.\n",
    "mgd_tv[lab_avg]"
   ]
  },
  {
   "cell_type": "code",
   "execution_count": null,
   "id": "84076bce",
   "metadata": {},
   "outputs": [],
   "source": [
    "# mgd_tv의 열이름에서 'avg'를 포함하는 열을 Long Type으로 변환합니다.\n",
    "# [힌트] melt() 함수를 사용하세요.\n",
    "# [참고] 열이름으로 인덱싱할 때는 loc 인덱스를 생략할 수 있습니다.\n",
    "mgd_tv[lab_avg].melt()"
   ]
  },
  {
   "cell_type": "code",
   "execution_count": null,
   "id": "9c7aa8b0",
   "metadata": {},
   "outputs": [],
   "source": [
    "# 위 코드 실행 결과를 mgd_tv_avg에 할당합니다.\n",
    "mgd_tv_avg = mgd_tv[lab_avg].melt()"
   ]
  },
  {
   "cell_type": "code",
   "execution_count": null,
   "id": "59d540d8",
   "metadata": {},
   "outputs": [],
   "source": [
    "# mgd_tv_avg의 열이름을 'country', 'usd_avg'로 변경합니다.\n",
    "mgd_tv_avg.columns = ['country', 'usd_avg']"
   ]
  },
  {
   "cell_type": "code",
   "execution_count": null,
   "id": "cdae55d1",
   "metadata": {},
   "outputs": [],
   "source": [
    "# mgd_tv_avg를 출력합니다.\n",
    "mgd_tv_avg"
   ]
  },
  {
   "cell_type": "code",
   "execution_count": null,
   "id": "d8ce24ad",
   "metadata": {},
   "outputs": [],
   "source": [
    "# country 열의 원소에서 문자열 'avg_'를 삭제한 결과를 출력합니다.\n",
    "# [힌트] str.replace() 함수를 사용하세요.\n",
    "mgd_tv_avg['country'].str.replace(pat = 'avg_', repl = '')"
   ]
  },
  {
   "cell_type": "code",
   "execution_count": null,
   "id": "bb008d5f",
   "metadata": {},
   "outputs": [],
   "source": [
    "# 위 코드 실행 결과를 country 열에 재할당합니다.\n",
    "mgd_tv_avg['country'] = mgd_tv_avg['country'].str.replace(pat = 'avg_', repl = '')"
   ]
  },
  {
   "cell_type": "code",
   "execution_count": null,
   "id": "349fccbb",
   "metadata": {},
   "outputs": [],
   "source": [
    "# mgd_tv_avg를 출력합니다.\n",
    "mgd_tv_avg"
   ]
  },
  {
   "cell_type": "code",
   "execution_count": null,
   "id": "2133a6e0",
   "metadata": {},
   "outputs": [],
   "source": [
    "# mgd_tv_avg로 막대 그래프를 그립니다.\n",
    "# [힌트] sns.barplot() 함수를 사용하세요.\n",
    "# [참고] x 매개변수에 범주형, y 매개변수에 연속형 변수를 지정합니다.\n",
    "sns.barplot(data = mgd_tv_avg, x = 'country', y = 'usd_avg', fc = 'silver')\n",
    "\n",
    "# 그래프 제목을 '국가별 TV 평균 가격 비교'로 지정합니다.\n",
    "plt.title(label = '국가별 TV 평균 가격 비교');"
   ]
  },
  {
   "cell_type": "code",
   "execution_count": null,
   "id": "70ca7298",
   "metadata": {},
   "outputs": [],
   "source": [
    "# 위 그래프에서 y축을 0 ~ 1800로 제한합니다.\n",
    "sns.barplot(data = mgd_tv_avg, x = 'country', y = 'usd_avg', fc = 'silver')\n",
    "plt.title(label = '국가별 TV 평균 가격 비교')\n",
    "plt.ylim(0, 1800);"
   ]
  },
  {
   "cell_type": "code",
   "execution_count": null,
   "id": "c2e54394",
   "metadata": {},
   "outputs": [],
   "source": [
    "# 위 그래프에서 막대 위에 평균 가격을 텍스트로 추가합니다.\n",
    "# [참고] f-문자열로 평균 가격을 소수점 둘째 자리까지 남기면 보기에 좋습니다.\n",
    "sns.barplot(data = mgd_tv_avg, x = 'country', y = 'usd_avg', fc = 'silver')\n",
    "plt.title(label = '국가별 TV 평균 가격 비교')\n",
    "plt.ylim(0, 1800)\n",
    "for i, v in enumerate(mgd_tv_avg['usd_avg']):\n",
    "    plt.text(x = i, y = v, s = f'{v:,.2f}', ha = 'center', va = 'bottom')"
   ]
  },
  {
   "cell_type": "code",
   "execution_count": null,
   "id": "462c9f00",
   "metadata": {},
   "outputs": [],
   "source": [
    "# 사용자 팔레트를 생성합니다. 'silver'를 막대 개수만큼 반복합니다.\n",
    "myPal = np.tile(A = 'silver', reps = 6)"
   ]
  },
  {
   "cell_type": "code",
   "execution_count": null,
   "id": "b3b27025",
   "metadata": {},
   "outputs": [],
   "source": [
    "# 세 번째(2번 인덱스) 막대를 'red'로 변경합니다.\n",
    "myPal[2] = 'red'"
   ]
  },
  {
   "cell_type": "code",
   "execution_count": null,
   "id": "078f8f36",
   "metadata": {},
   "outputs": [],
   "source": [
    "# 위 그래프에서 팔레트를 사용자 팔레트로 변경합니다.\n",
    "sns.barplot(data = mgd_tv_avg, x = 'country', y = 'usd_avg', palette = myPal)\n",
    "plt.title(label = '국가별 TV 평균 가격 비교')\n",
    "plt.ylim(0, 1800)\n",
    "for i, v in enumerate(mgd_tv_avg['usd_avg']):\n",
    "    plt.text(x = i, y = v, s = f'{v:,.2f}', ha = 'center', va = 'bottom')"
   ]
  },
  {
   "cell_type": "code",
   "execution_count": null,
   "id": "4341c2dc",
   "metadata": {},
   "outputs": [],
   "source": [
    "# raw_tv의 처음 5행을 출력합니다.\n",
    "raw_tv.head()"
   ]
  },
  {
   "cell_type": "code",
   "execution_count": null,
   "id": "5afecf95",
   "metadata": {},
   "outputs": [],
   "source": [
    "# raw_tv의 date에서 요일을 문자열로 추출하여 새 변수 day_name에 할당합니다.\n",
    "raw_tv['day_name'] = raw_tv['date'].dt.strftime('%w-%a')"
   ]
  },
  {
   "cell_type": "code",
   "execution_count": null,
   "id": "5a45dfe3",
   "metadata": {},
   "outputs": [],
   "source": [
    "# raw_tv의 처음 5행을 출력합니다.\n",
    "raw_tv.head()"
   ]
  },
  {
   "cell_type": "code",
   "execution_count": null,
   "id": "e1984cdc",
   "metadata": {},
   "outputs": [],
   "source": [
    "# raw_tv의 day_name 범주별 usd의 평균을 계산하고 grp에 할당합니다.\n",
    "grp = raw_tv.groupby(by = ['day_name'])['usd'].mean()"
   ]
  },
  {
   "cell_type": "code",
   "execution_count": null,
   "id": "b8132a54",
   "metadata": {},
   "outputs": [],
   "source": [
    "# grp를 출력합니다.\n",
    "grp"
   ]
  },
  {
   "cell_type": "code",
   "execution_count": null,
   "id": "0b733679",
   "metadata": {},
   "outputs": [],
   "source": [
    "# raw_tv의 day_name 범주별 usd 평균으로 막대 그래프를 그립니다.\n",
    "sns.barplot(data = raw_tv, x = 'day_name', y = 'usd', fc = '0.3', \n",
    "            estimator = np.mean, errorbar = None, order = grp.index)\n",
    "plt.ylim(0, 20000)\n",
    "for i, v in enumerate(grp):\n",
    "    plt.text(x = i, y = v - 500, s = f'{int(v):,}', \n",
    "             ha = 'center', va = 'top', color = 'white');"
   ]
  },
  {
   "cell_type": "markdown",
   "id": "4b71298b",
   "metadata": {},
   "source": [
    "### 선 그래프 그리기"
   ]
  },
  {
   "cell_type": "code",
   "execution_count": null,
   "id": "bcfa5266",
   "metadata": {},
   "outputs": [],
   "source": [
    "# raw_tv의 처음 5행을 출력합니다.\n",
    "raw_tv.head()"
   ]
  },
  {
   "cell_type": "code",
   "execution_count": null,
   "id": "311c91b0",
   "metadata": {},
   "outputs": [],
   "source": [
    "# raw_tv의 month별 국가의 usd 평균을 선 그래프로 그립니다.\n",
    "# [힌트] sns.lineplot() 함수를 사용하세요.\n",
    "sns.lineplot(data = raw_tv, x = 'month', y = 'usd', \n",
    "             hue = 'country', estimator = np.mean, errorbar = None, \n",
    "             markers = True, style = 'country', lw = 0.5)\n",
    "\n",
    "# 그래프 제목을 '월별 TV 매출금액(USD) 평균'으로 지정합니다.\n",
    "plt.title(label = '월별 TV 매출금액(USD) 평균');"
   ]
  },
  {
   "cell_type": "code",
   "execution_count": null,
   "id": "c36ff522",
   "metadata": {},
   "outputs": [],
   "source": [
    "# 위 그래프에서 x축명을 '1월', '2월' 형태로 지정합니다.\n",
    "sns.lineplot(data = raw_tv, x = 'month', y = 'usd', \n",
    "             hue = 'country', estimator = np.mean, errorbar = None, \n",
    "             markers = True, style = 'country', lw = 0.5)\n",
    "plt.title(label = '월별 TV 매출금액(USD) 평균')\n",
    "plt.xticks(ticks = range(1, 13), labels = [f'{i}월' for i in range(1, 13)]);"
   ]
  },
  {
   "cell_type": "code",
   "execution_count": null,
   "id": "fb4dea6f",
   "metadata": {},
   "outputs": [],
   "source": [
    "# 위 그래프에서 범례의 위치를 오른쪽 바깥으로 변경합니다.\n",
    "sns.lineplot(data = raw_tv, x = 'month', y = 'usd', \n",
    "             hue = 'country', estimator = np.mean, errorbar = None, \n",
    "             markers = True, style = 'country', lw = 0.5)\n",
    "plt.title(label = '월별 TV 매출금액(USD) 평균')\n",
    "plt.xticks(ticks = range(1, 13), labels = [f'{i}월' for i in range(1, 13)])\n",
    "plt.legend(loc = 'center left', bbox_to_anchor = [1, 0.5]);"
   ]
  },
  {
   "cell_type": "markdown",
   "id": "e3fd69c0",
   "metadata": {},
   "source": [
    "## End of Document"
   ]
  }
 ],
 "metadata": {
  "kernelspec": {
   "display_name": "Python 3",
   "language": "python",
   "name": "python3"
  },
  "language_info": {
   "codemirror_mode": {
    "name": "ipython",
    "version": 3
   },
   "file_extension": ".py",
   "mimetype": "text/x-python",
   "name": "python",
   "nbconvert_exporter": "python",
   "pygments_lexer": "ipython3",
   "version": "3.11.1"
  },
  "varInspector": {
   "cols": {
    "lenName": 16,
    "lenType": 16,
    "lenVar": 40
   },
   "kernels_config": {
    "python": {
     "delete_cmd_postfix": "",
     "delete_cmd_prefix": "del ",
     "library": "var_list.py",
     "varRefreshCmd": "print(var_dic_list())"
    },
    "r": {
     "delete_cmd_postfix": ") ",
     "delete_cmd_prefix": "rm(",
     "library": "var_list.r",
     "varRefreshCmd": "cat(var_dic_list()) "
    }
   },
   "types_to_exclude": [
    "module",
    "function",
    "builtin_function_or_method",
    "instance",
    "_Feature"
   ],
   "window_display": false
  }
 },
 "nbformat": 4,
 "nbformat_minor": 5
}
