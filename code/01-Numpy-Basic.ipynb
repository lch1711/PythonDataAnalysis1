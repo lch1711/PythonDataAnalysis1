{
 "cells": [
  {
   "cell_type": "markdown",
   "id": "a97a133f",
   "metadata": {},
   "source": [
    "## numpy 기초"
   ]
  },
  {
   "cell_type": "markdown",
   "id": "human-lawrence",
   "metadata": {},
   "source": [
    "### 라이브러리 호출"
   ]
  },
  {
   "cell_type": "code",
   "execution_count": null,
   "id": "facial-pizza",
   "metadata": {
    "ExecuteTime": {
     "end_time": "2022-06-09T13:22:39.328857Z",
     "start_time": "2022-06-09T13:22:39.271009Z"
    }
   },
   "outputs": [],
   "source": [
    "# numpy 라이브러리를 호출합니다.\n",
    "import numpy as np"
   ]
  },
  {
   "cell_type": "markdown",
   "id": "coupled-assistant",
   "metadata": {},
   "source": [
    "### 1차원 배열 생성"
   ]
  },
  {
   "cell_type": "code",
   "execution_count": null,
   "id": "564e3da7",
   "metadata": {
    "scrolled": true
   },
   "outputs": [],
   "source": [
    "# 다양한 자료형을 원소로 갖는 리스트를 생성합니다.\n",
    "a = [1, 2.0, '3']"
   ]
  },
  {
   "cell_type": "code",
   "execution_count": null,
   "id": "b5e4d77d",
   "metadata": {},
   "outputs": [],
   "source": [
    "# a를 출력합니다.\n",
    "# [참고] 리스트는 다양한 자료형을 원소로 갖습니다.\n",
    "a"
   ]
  },
  {
   "cell_type": "code",
   "execution_count": null,
   "id": "published-rally",
   "metadata": {
    "ExecuteTime": {
     "end_time": "2022-06-09T13:22:39.333469Z",
     "start_time": "2022-06-09T13:22:39.331173Z"
    }
   },
   "outputs": [],
   "source": [
    "# 리스트를 1차원 배열로 변환합니다.\n",
    "# [참고] 배열은 원소의 자료형을 정수 -> 실수 -> 문자열로 통일시킵니다.\n",
    "ar1 = np.array(object = a)"
   ]
  },
  {
   "cell_type": "code",
   "execution_count": null,
   "id": "3d2b8fd2",
   "metadata": {},
   "outputs": [],
   "source": [
    "# ar1을 출력합니다. ar1의 원소 자료형은 '<U32'입니다.\n",
    "# [참고] '<U32'는 little-endian 32 character string이며 'U'는 Unicode string입니다.\n",
    "ar1"
   ]
  },
  {
   "cell_type": "code",
   "execution_count": null,
   "id": "above-radius",
   "metadata": {
    "ExecuteTime": {
     "end_time": "2022-06-09T13:22:39.348692Z",
     "start_time": "2022-06-09T13:22:39.345445Z"
    }
   },
   "outputs": [],
   "source": [
    "# ar1의 클래스를 확인합니다. ar1의 클래스는 numpy.ndarray입니다.\n",
    "type(ar1)"
   ]
  },
  {
   "cell_type": "markdown",
   "id": "849a02f8",
   "metadata": {},
   "source": [
    "### 1차원 배열 확인"
   ]
  },
  {
   "cell_type": "code",
   "execution_count": null,
   "id": "attractive-corps",
   "metadata": {
    "ExecuteTime": {
     "end_time": "2022-06-09T13:22:39.358801Z",
     "start_time": "2022-06-09T13:22:39.355526Z"
    }
   },
   "outputs": [],
   "source": [
    "# ar1의 형태(행 개수, 열 개수)를 확인합니다.\n",
    "ar1.shape"
   ]
  },
  {
   "cell_type": "code",
   "execution_count": null,
   "id": "c77c0fbd",
   "metadata": {},
   "outputs": [],
   "source": [
    "# ar1의 원소 개수를 확인합니다.\n",
    "ar1.size"
   ]
  },
  {
   "cell_type": "code",
   "execution_count": null,
   "id": "tested-consent",
   "metadata": {
    "ExecuteTime": {
     "end_time": "2022-06-09T13:22:39.364019Z",
     "start_time": "2022-06-09T13:22:39.360516Z"
    }
   },
   "outputs": [],
   "source": [
    "# ar1의 원소 자료형을 확인합니다.\n",
    "# ar1의 원소 자료형은 numpy.int64입니다.(MasOS 기준)\n",
    "# [참고] Windows에서는 정수를 numpy.int32로 생성합니다.\n",
    "ar1.dtype"
   ]
  },
  {
   "cell_type": "markdown",
   "id": "random-product",
   "metadata": {},
   "source": [
    "### 1차원 배열 원소의 자료형 변환"
   ]
  },
  {
   "cell_type": "raw",
   "id": "c87f227d",
   "metadata": {},
   "source": [
    "# ar1의 원소 자료형을 정수로 변환합니다.\n",
    "# [주의] 두 번째 원소인 '2.0' 때문에 에러를 반환합니다.\n",
    "ar1.astype(int)"
   ]
  },
  {
   "cell_type": "code",
   "execution_count": null,
   "id": "green-edinburgh",
   "metadata": {
    "ExecuteTime": {
     "end_time": "2022-06-09T13:22:39.384993Z",
     "start_time": "2022-06-09T13:22:39.381604Z"
    }
   },
   "outputs": [],
   "source": [
    "# ar1의 원소 자료형을 실수로 변환합니다.\n",
    "# [참고] astype()은 실행 결과를 배열로 반환합니다.\n",
    "ar1.astype(float)"
   ]
  },
  {
   "cell_type": "code",
   "execution_count": null,
   "id": "b14286e6",
   "metadata": {
    "ExecuteTime": {
     "end_time": "2022-06-09T13:22:39.390355Z",
     "start_time": "2022-06-09T13:22:39.386874Z"
    }
   },
   "outputs": [],
   "source": [
    "# ar1의 원소 자료형을 실수로 변환한 결과(배열)에 이어서 정수로 변환합니다.\n",
    "# [참고] 이런 코딩 방식을 method chaining이라고 합니다.\n",
    "ar1.astype(float).astype(int)"
   ]
  },
  {
   "cell_type": "markdown",
   "id": "9f6cb212",
   "metadata": {},
   "source": [
    "### [참고] 배열을 생성할 때 원소 자료형 지정"
   ]
  },
  {
   "cell_type": "code",
   "execution_count": null,
   "id": "8af01f56",
   "metadata": {
    "ExecuteTime": {
     "end_time": "2022-06-09T13:22:39.400829Z",
     "start_time": "2022-06-09T13:22:39.397449Z"
    }
   },
   "outputs": [],
   "source": [
    "# 배열의 원소 자료형을 정수로 지정합니다.\n",
    "np.array(object = a, dtype = int)"
   ]
  },
  {
   "cell_type": "code",
   "execution_count": null,
   "id": "179a174d",
   "metadata": {
    "ExecuteTime": {
     "end_time": "2022-06-09T13:22:39.395630Z",
     "start_time": "2022-06-09T13:22:39.392181Z"
    }
   },
   "outputs": [],
   "source": [
    "# 배열의 원소 자료형을 실수로 지정합니다.\n",
    "np.array(object = a, dtype = float)"
   ]
  },
  {
   "cell_type": "code",
   "execution_count": null,
   "id": "ddfa9a85",
   "metadata": {
    "ExecuteTime": {
     "end_time": "2022-06-09T13:22:39.405721Z",
     "start_time": "2022-06-09T13:22:39.402504Z"
    }
   },
   "outputs": [],
   "source": [
    "# 배열의 원소 자료형을 문자열로 지정합니다.\n",
    "np.array(object = a, dtype = str)"
   ]
  },
  {
   "cell_type": "code",
   "execution_count": null,
   "id": "349063f4",
   "metadata": {
    "ExecuteTime": {
     "end_time": "2022-06-09T13:22:39.411009Z",
     "start_time": "2022-06-09T13:22:39.407716Z"
    }
   },
   "outputs": [],
   "source": [
    "# 배열의 원소 자료형을 객체로 지정합니다.\n",
    "# [참고] object는 리스트 원소별 자료형을 유지합니다.\n",
    "np.array(object = a, dtype = object)"
   ]
  },
  {
   "cell_type": "markdown",
   "id": "7e37be6d",
   "metadata": {},
   "source": [
    "### 간격이 일정한 배열 생성"
   ]
  },
  {
   "cell_type": "code",
   "execution_count": null,
   "id": "innocent-think",
   "metadata": {
    "ExecuteTime": {
     "end_time": "2022-06-09T13:22:39.416087Z",
     "start_time": "2022-06-09T13:22:39.412784Z"
    }
   },
   "outputs": [],
   "source": [
    "# 0부터 5까지 연속하는 정수형 배열을 반환합니다.\n",
    "np.arange(6)"
   ]
  },
  {
   "cell_type": "code",
   "execution_count": null,
   "id": "dominican-classics",
   "metadata": {
    "ExecuteTime": {
     "end_time": "2022-06-09T13:22:39.420860Z",
     "start_time": "2022-06-09T13:22:39.417734Z"
    }
   },
   "outputs": [],
   "source": [
    "# 1부터 5까지 연속하는 정수형 배열을 반환합니다.\n",
    "np.arange(start = 1, stop = 6)"
   ]
  },
  {
   "cell_type": "code",
   "execution_count": null,
   "id": "destroyed-boundary",
   "metadata": {
    "ExecuteTime": {
     "end_time": "2022-06-09T13:22:39.425564Z",
     "start_time": "2022-06-09T13:22:39.422482Z"
    }
   },
   "outputs": [],
   "source": [
    "# 1부터 5까지 간격이 2인 (홀수를 원소로 갖는) 정수형 배열을 반환합니다.\n",
    "np.arange(start = 1, stop = 6, step = 2)"
   ]
  },
  {
   "cell_type": "code",
   "execution_count": null,
   "id": "dutch-fusion",
   "metadata": {
    "ExecuteTime": {
     "end_time": "2022-06-09T13:22:39.430361Z",
     "start_time": "2022-06-09T13:22:39.427165Z"
    }
   },
   "outputs": [],
   "source": [
    "# 0부터 1까지 간격이 0.1인 실수형 배열을 반환합니다.\n",
    "# [참고] 1을 포함하지 않습니다.\n",
    "np.arange(start = 0, stop = 1, step = 0.1)"
   ]
  },
  {
   "cell_type": "code",
   "execution_count": null,
   "id": "6895f6af",
   "metadata": {
    "ExecuteTime": {
     "end_time": "2022-06-09T13:22:39.438519Z",
     "start_time": "2022-06-09T13:22:39.432208Z"
    }
   },
   "outputs": [],
   "source": [
    "# 0부터 1까지 10등분하는 경계값인 실수형 배열을 반환합니다.\n",
    "np.linspace(start = 0, stop = 1, num = 10 + 1)"
   ]
  },
  {
   "cell_type": "code",
   "execution_count": null,
   "id": "51d0efca",
   "metadata": {
    "ExecuteTime": {
     "end_time": "2022-06-09T13:22:39.443948Z",
     "start_time": "2022-06-09T13:22:39.440304Z"
    },
    "scrolled": true
   },
   "outputs": [],
   "source": [
    "# 80부터 75까지 30등분하는 경계값인 실수형 배열을 반환합니다.\n",
    "np.linspace(start = 80, stop = 75, num = 30 + 1)"
   ]
  },
  {
   "cell_type": "markdown",
   "id": "60369222",
   "metadata": {},
   "source": [
    "### 원소를 반복한 배열 생성"
   ]
  },
  {
   "cell_type": "code",
   "execution_count": null,
   "id": "13beded3",
   "metadata": {
    "ExecuteTime": {
     "end_time": "2022-06-09T13:22:39.448851Z",
     "start_time": "2022-06-09T13:22:39.445636Z"
    }
   },
   "outputs": [],
   "source": [
    "# ar1의 전체 원소를 두 번 반복합니다.\n",
    "np.tile(A = ar1, reps = 2)"
   ]
  },
  {
   "cell_type": "code",
   "execution_count": null,
   "id": "434a9b35",
   "metadata": {
    "ExecuteTime": {
     "end_time": "2022-06-09T13:22:39.454994Z",
     "start_time": "2022-06-09T13:22:39.450680Z"
    }
   },
   "outputs": [],
   "source": [
    "# ar1의 각 원소를 두 번씩 반복합니다.\n",
    "np.repeat(a = ar1, repeats = 2)"
   ]
  },
  {
   "cell_type": "code",
   "execution_count": null,
   "id": "3a3dfa80",
   "metadata": {
    "ExecuteTime": {
     "end_time": "2022-06-09T13:22:39.462120Z",
     "start_time": "2022-06-09T13:22:39.457738Z"
    }
   },
   "outputs": [],
   "source": [
    "# ar1의 원소별로 반복할 횟수를 지정합니다.\n",
    "np.repeat(a = ar1, repeats = [3, 2, 1])"
   ]
  },
  {
   "cell_type": "markdown",
   "id": "fifth-medium",
   "metadata": {},
   "source": [
    "### 1차원 배열 인덱싱 및 슬라이싱"
   ]
  },
  {
   "cell_type": "code",
   "execution_count": null,
   "id": "statutory-resolution",
   "metadata": {
    "ExecuteTime": {
     "end_time": "2022-06-09T13:22:39.472078Z",
     "start_time": "2022-06-09T13:22:39.469764Z"
    }
   },
   "outputs": [],
   "source": [
    "# 1부터 11까지 홀수인 정수를 원소로 갖는 1차원 배열을 생성합니다. \n",
    "ar1 = np.arange(start = 1, stop = 12, step = 2)"
   ]
  },
  {
   "cell_type": "code",
   "execution_count": null,
   "id": "raised-richardson",
   "metadata": {
    "ExecuteTime": {
     "end_time": "2022-06-09T13:22:39.483677Z",
     "start_time": "2022-06-09T13:22:39.480279Z"
    }
   },
   "outputs": [],
   "source": [
    "# ar1의 0번 인덱스(첫 번째) 원소를 선택합니다.\n",
    "ar1[0]"
   ]
  },
  {
   "cell_type": "code",
   "execution_count": null,
   "id": "velvet-bottom",
   "metadata": {
    "ExecuteTime": {
     "end_time": "2022-06-09T13:22:39.488229Z",
     "start_time": "2022-06-09T13:22:39.485241Z"
    }
   },
   "outputs": [],
   "source": [
    "# ar1의 1번 인덱스(두 번째) 원소를 선택합니다.\n",
    "ar1[1]"
   ]
  },
  {
   "cell_type": "code",
   "execution_count": null,
   "id": "pressed-import",
   "metadata": {
    "ExecuteTime": {
     "end_time": "2022-06-09T13:22:39.492601Z",
     "start_time": "2022-06-09T13:22:39.489841Z"
    }
   },
   "outputs": [],
   "source": [
    "# ar1의 -1번 인덱스(마지막) 원소를 선택합니다.\n",
    "ar1[-1]"
   ]
  },
  {
   "cell_type": "code",
   "execution_count": null,
   "id": "checked-madonna",
   "metadata": {
    "ExecuteTime": {
     "end_time": "2022-06-09T13:22:39.497383Z",
     "start_time": "2022-06-09T13:22:39.494269Z"
    }
   },
   "outputs": [],
   "source": [
    "# ar1의 0~2번 인덱스 원소를 선택합니다. \n",
    "ar1[:3]"
   ]
  },
  {
   "cell_type": "code",
   "execution_count": null,
   "id": "thorough-jacket",
   "metadata": {
    "ExecuteTime": {
     "end_time": "2022-06-09T13:22:39.501975Z",
     "start_time": "2022-06-09T13:22:39.499067Z"
    }
   },
   "outputs": [],
   "source": [
    "# ar1의 3번 인덱스 원소부터 마지막 원소까지 선택합니다.\n",
    "ar1[3:]"
   ]
  },
  {
   "cell_type": "code",
   "execution_count": null,
   "id": "a1acfd61",
   "metadata": {},
   "outputs": [],
   "source": [
    "# ar1의 처음부터 마지막 원소까지 선택합니다.\n",
    "ar1[:]"
   ]
  },
  {
   "cell_type": "code",
   "execution_count": null,
   "id": "controlling-transparency",
   "metadata": {
    "ExecuteTime": {
     "end_time": "2022-06-09T13:22:39.506410Z",
     "start_time": "2022-06-09T13:22:39.503575Z"
    }
   },
   "outputs": [],
   "source": [
    "# 대괄호 안에 정수 또는 슬라이스 대신 리스트를 지정하는 배열 인덱싱이 가능합니다.\n",
    "# [주의] 리스트는 배열 인덱싱을 실행할 수 없습니다!\n",
    "ar1[[3, 2, 1]]"
   ]
  },
  {
   "cell_type": "code",
   "execution_count": null,
   "id": "controlled-binary",
   "metadata": {
    "ExecuteTime": {
     "end_time": "2022-06-09T13:22:39.516244Z",
     "start_time": "2022-06-09T13:22:39.512902Z"
    }
   },
   "outputs": [],
   "source": [
    "# 리스트 원소를 반복하면 같은 원소를 여러 번 선택합니다.\n",
    "ar1[[3, 3, 3]]"
   ]
  },
  {
   "cell_type": "markdown",
   "id": "neural-norman",
   "metadata": {},
   "source": [
    "### 2차원 배열 생성"
   ]
  },
  {
   "cell_type": "code",
   "execution_count": null,
   "id": "59b11c47",
   "metadata": {},
   "outputs": [],
   "source": [
    "# 같은 길이의 리스트를 원소로 갖는 리스트를 생성합니다.\n",
    "b = [[1, 2, 3], [4, 5, 6]]"
   ]
  },
  {
   "cell_type": "code",
   "execution_count": null,
   "id": "e3ad1471",
   "metadata": {},
   "outputs": [],
   "source": [
    "# b를 출력합니다. [참고] 리스트는 원소를 가로 방향으로 출력합니다.\n",
    "b"
   ]
  },
  {
   "cell_type": "code",
   "execution_count": null,
   "id": "spanish-flexibility",
   "metadata": {
    "ExecuteTime": {
     "end_time": "2022-06-09T13:22:39.525080Z",
     "start_time": "2022-06-09T13:22:39.522824Z"
    }
   },
   "outputs": [],
   "source": [
    "# 리스트를 2차원 배열로 변환합니다.\n",
    "# [참고] 2차원 배열은 원소를 행과 열로 표현합니다.\n",
    "ar2 = np.array(object = b)"
   ]
  },
  {
   "cell_type": "code",
   "execution_count": null,
   "id": "architectural-wallpaper",
   "metadata": {
    "ExecuteTime": {
     "end_time": "2022-06-09T13:22:39.530105Z",
     "start_time": "2022-06-09T13:22:39.526770Z"
    }
   },
   "outputs": [],
   "source": [
    "# ar2를 출력합니다.\n",
    "ar2"
   ]
  },
  {
   "cell_type": "code",
   "execution_count": null,
   "id": "dutch-saying",
   "metadata": {
    "ExecuteTime": {
     "end_time": "2022-06-09T13:22:39.535065Z",
     "start_time": "2022-06-09T13:22:39.531902Z"
    }
   },
   "outputs": [],
   "source": [
    "# ar2의 클래스를 확인합니다. ar2의 클래스는 numpy.ndarray입니다.\n",
    "type(ar2)"
   ]
  },
  {
   "cell_type": "markdown",
   "id": "e998169f",
   "metadata": {},
   "source": [
    "### 2차원 배열 확인"
   ]
  },
  {
   "cell_type": "code",
   "execution_count": null,
   "id": "minimal-allowance",
   "metadata": {
    "ExecuteTime": {
     "end_time": "2022-06-09T13:22:39.544449Z",
     "start_time": "2022-06-09T13:22:39.541126Z"
    }
   },
   "outputs": [],
   "source": [
    "# ar2의 형태(행 개수, 열 개수)를 확인합니다.\n",
    "ar2.shape"
   ]
  },
  {
   "cell_type": "code",
   "execution_count": null,
   "id": "f0609a42",
   "metadata": {},
   "outputs": [],
   "source": [
    "# ar2의 원소 개수를 확인합니다.\n",
    "ar2.size"
   ]
  },
  {
   "cell_type": "code",
   "execution_count": null,
   "id": "instant-solution",
   "metadata": {
    "ExecuteTime": {
     "end_time": "2022-06-09T13:22:39.550254Z",
     "start_time": "2022-06-09T13:22:39.546346Z"
    }
   },
   "outputs": [],
   "source": [
    "# ar2의 원소 자료형을 확인합니다. ar2의 원소 자료형은 numpy.int64입니다.\n",
    "ar2.dtype"
   ]
  },
  {
   "cell_type": "markdown",
   "id": "patent-recorder",
   "metadata": {},
   "source": [
    "### 배열의 재구조화"
   ]
  },
  {
   "cell_type": "code",
   "execution_count": null,
   "id": "stable-capital",
   "metadata": {
    "ExecuteTime": {
     "end_time": "2022-06-09T13:22:39.555432Z",
     "start_time": "2022-06-09T13:22:39.552765Z"
    }
   },
   "outputs": [],
   "source": [
    "# 0부터 11까지 12개의 정수를 원소로 갖는 1차원 배열을 생성합니다.\n",
    "ar1 = np.arange(12)"
   ]
  },
  {
   "cell_type": "code",
   "execution_count": null,
   "id": "utility-acrobat",
   "metadata": {
    "ExecuteTime": {
     "end_time": "2022-06-09T13:22:39.560477Z",
     "start_time": "2022-06-09T13:22:39.557219Z"
    }
   },
   "outputs": [],
   "source": [
    "# ar1을 4행 3열인 2차원 배열로 변환합니다. 원소 입력 방향은 가로입니다.\n",
    "# [주의] 1차원 배열 원소 개수의 약수만 행 또는 열 개수로 설정할 수 있습니다.\n",
    "ar1.reshape(4, 3)"
   ]
  },
  {
   "cell_type": "code",
   "execution_count": null,
   "id": "animal-professor",
   "metadata": {
    "ExecuteTime": {
     "end_time": "2022-06-09T13:22:39.565569Z",
     "start_time": "2022-06-09T13:22:39.562167Z"
    }
   },
   "outputs": [],
   "source": [
    "# order = 'F'를 추가하면 원소 입력 방향을 세로로 변경합니다.\n",
    "# [참고] order 매개변수에 전달하는 인수의 기본값은 'C'입니다.\n",
    "ar1.reshape(4, 3, order = 'F')"
   ]
  },
  {
   "cell_type": "code",
   "execution_count": null,
   "id": "lucky-stretch",
   "metadata": {
    "ExecuteTime": {
     "end_time": "2022-06-09T13:22:39.570743Z",
     "start_time": "2022-06-09T13:22:39.567100Z"
    }
   },
   "outputs": [],
   "source": [
    "# ar1을 4행 3열인 2차원 배열로 변환하고 ar2에 할당합니다.\n",
    "# [참고] 열 위치에 -1을 지정하면 열 개수를 자동 계산합니다.\n",
    "ar2 = ar1.reshape(4, -1)\n",
    "ar2"
   ]
  },
  {
   "cell_type": "code",
   "execution_count": null,
   "id": "8f394354",
   "metadata": {
    "ExecuteTime": {
     "end_time": "2022-06-09T13:22:39.576005Z",
     "start_time": "2022-06-09T13:22:39.572720Z"
    }
   },
   "outputs": [],
   "source": [
    "# 2차원 배열을 1차원 배열로 변환합니다.\n",
    "# [참고] order 매개변수를 추가할 수 있습니다.(기본값: 'C')\n",
    "ar2.flatten()"
   ]
  },
  {
   "cell_type": "markdown",
   "id": "3e891501",
   "metadata": {},
   "source": [
    "### [참고] 배열의 결합"
   ]
  },
  {
   "cell_type": "code",
   "execution_count": null,
   "id": "1250532c",
   "metadata": {},
   "outputs": [],
   "source": [
    "# 원소 개수가 같은 1차원 배열을 열(가로) 방향으로 쌓은 2차원 배열을 생성합니다.\n",
    "np.column_stack(tup = (ar1, ar1))"
   ]
  },
  {
   "cell_type": "code",
   "execution_count": null,
   "id": "5ab1dac9",
   "metadata": {},
   "outputs": [],
   "source": [
    "# 원소 개수가 같은 1차원 배열을 행(세로) 방향으로 쌓은 2차원 배열을 생성합니다.\n",
    "np.row_stack(tup = (ar1, ar1))"
   ]
  },
  {
   "cell_type": "code",
   "execution_count": null,
   "id": "b1a58ee5",
   "metadata": {},
   "outputs": [],
   "source": [
    "# 두 개 이상의 1차원 배열을 일렬로 결합한 1차원 배열을 생성합니다.\n",
    "# [참고] 리스트를 + 연산자로 결합하는 것과 같은 동작입니다.\n",
    "np.concatenate((ar1, ar1))"
   ]
  },
  {
   "cell_type": "markdown",
   "id": "visible-router",
   "metadata": {},
   "source": [
    "### 2차원 배열 인덱싱 및 슬라이싱"
   ]
  },
  {
   "cell_type": "code",
   "execution_count": null,
   "id": "lesbian-flooring",
   "metadata": {
    "ExecuteTime": {
     "end_time": "2022-06-09T13:22:39.580865Z",
     "start_time": "2022-06-09T13:22:39.577681Z"
    }
   },
   "outputs": [],
   "source": [
    "# ar2의 1행 1열 원소를 선택합니다.\n",
    "ar2[0, 0]"
   ]
  },
  {
   "cell_type": "code",
   "execution_count": null,
   "id": "legislative-horror",
   "metadata": {
    "ExecuteTime": {
     "end_time": "2022-06-09T13:22:39.585618Z",
     "start_time": "2022-06-09T13:22:39.582450Z"
    }
   },
   "outputs": [],
   "source": [
    "# ar2의 2행 2열 원소를 선택합니다. \n",
    "ar2[1, 1]"
   ]
  },
  {
   "cell_type": "code",
   "execution_count": null,
   "id": "answering-huntington",
   "metadata": {
    "ExecuteTime": {
     "end_time": "2022-06-09T13:22:39.590825Z",
     "start_time": "2022-06-09T13:22:39.587407Z"
    }
   },
   "outputs": [],
   "source": [
    "# ar2의 1~2행 1~2열 원소를 선택합니다.\n",
    "ar2[0:2, 0:2]"
   ]
  },
  {
   "cell_type": "code",
   "execution_count": null,
   "id": "fiscal-reaction",
   "metadata": {
    "ExecuteTime": {
     "end_time": "2022-06-09T13:22:39.595930Z",
     "start_time": "2022-06-09T13:22:39.592630Z"
    }
   },
   "outputs": [],
   "source": [
    "# ar2의 전체 행 2~3열 원소를 선택합니다.\n",
    "# [참고] 빈 콜론은 전체 행 또는 열을 선택합니다.\n",
    "ar2[:, 1:3]"
   ]
  },
  {
   "cell_type": "code",
   "execution_count": null,
   "id": "exotic-start",
   "metadata": {
    "ExecuteTime": {
     "end_time": "2022-06-09T13:22:39.600835Z",
     "start_time": "2022-06-09T13:22:39.597574Z"
    }
   },
   "outputs": [],
   "source": [
    "# ar2의 2번 인덱스와 1번 인덱스 열의 순서를 변경합니다.\n",
    "# [주의] 배열 인덱싱으로 행과 열 순서를 동시에 변경할 수 없습니다.\n",
    "ar2[:, [2, 1]]"
   ]
  },
  {
   "cell_type": "markdown",
   "id": "64515bb3",
   "metadata": {},
   "source": [
    "### 배열 산술 연산"
   ]
  },
  {
   "cell_type": "code",
   "execution_count": null,
   "id": "58af504e",
   "metadata": {
    "ExecuteTime": {
     "end_time": "2022-06-09T13:22:39.605769Z",
     "start_time": "2022-06-09T13:22:39.602353Z"
    }
   },
   "outputs": [],
   "source": [
    "# 원소가 3개인 1차원 배열을 생성합니다.\n",
    "ar1 = np.arange(3)"
   ]
  },
  {
   "cell_type": "code",
   "execution_count": null,
   "id": "ac043242",
   "metadata": {
    "ExecuteTime": {
     "end_time": "2022-06-09T13:22:39.610660Z",
     "start_time": "2022-06-09T13:22:39.607347Z"
    }
   },
   "outputs": [],
   "source": [
    "# 3행 1열인 2차원 배열을 생성합니다.\n",
    "ar2 = ar1.reshape(-1, 1)"
   ]
  },
  {
   "cell_type": "code",
   "execution_count": null,
   "id": "266a40e6",
   "metadata": {
    "ExecuteTime": {
     "end_time": "2022-06-09T13:22:39.615353Z",
     "start_time": "2022-06-09T13:22:39.612337Z"
    }
   },
   "outputs": [],
   "source": [
    "# ar1의 각 원소에 상수 1을 더합니다.\n",
    "ar1 + 1"
   ]
  },
  {
   "cell_type": "code",
   "execution_count": null,
   "id": "afdc62a2",
   "metadata": {
    "ExecuteTime": {
     "end_time": "2022-06-09T13:22:39.620105Z",
     "start_time": "2022-06-09T13:22:39.616947Z"
    }
   },
   "outputs": [],
   "source": [
    "# ar2의 각 원소에 상수 2를 곱합니다.\n",
    "ar2 * 2"
   ]
  },
  {
   "cell_type": "markdown",
   "id": "74f47377",
   "metadata": {},
   "source": [
    "### [참고] 행과 열 개수가 다른 배열의 산술 연산"
   ]
  },
  {
   "cell_type": "code",
   "execution_count": null,
   "id": "e24943b8",
   "metadata": {
    "ExecuteTime": {
     "end_time": "2022-06-09T13:22:39.625073Z",
     "start_time": "2022-06-09T13:22:39.621849Z"
    }
   },
   "outputs": [],
   "source": [
    "# ar1과 ar2를 더합니다.\n",
    "ar1 + ar2"
   ]
  },
  {
   "cell_type": "markdown",
   "id": "38b7b65c",
   "metadata": {},
   "source": [
    "### [참고] 수학 관련 값과 함수"
   ]
  },
  {
   "cell_type": "code",
   "execution_count": null,
   "id": "317c8c6f",
   "metadata": {
    "ExecuteTime": {
     "end_time": "2022-06-09T13:22:39.629746Z",
     "start_time": "2022-06-09T13:22:39.626768Z"
    }
   },
   "outputs": [],
   "source": [
    "# 자연상수(2.718...)를 반환합니다.\n",
    "np.e"
   ]
  },
  {
   "cell_type": "code",
   "execution_count": null,
   "id": "402a2af9",
   "metadata": {
    "ExecuteTime": {
     "end_time": "2022-06-09T13:22:39.634266Z",
     "start_time": "2022-06-09T13:22:39.631312Z"
    }
   },
   "outputs": [],
   "source": [
    "# 파이(3.142...)를 반환합니다.\n",
    "np.pi"
   ]
  },
  {
   "cell_type": "code",
   "execution_count": null,
   "id": "e85c2989",
   "metadata": {
    "ExecuteTime": {
     "end_time": "2022-06-09T13:22:39.638772Z",
     "start_time": "2022-06-09T13:22:39.635894Z"
    }
   },
   "outputs": [],
   "source": [
    "# 결측값을 반환합니다. [참고] pd.NA와 같습니다.\n",
    "np.NAN"
   ]
  },
  {
   "cell_type": "code",
   "execution_count": null,
   "id": "a58214a1",
   "metadata": {
    "ExecuteTime": {
     "end_time": "2022-06-09T13:22:39.643963Z",
     "start_time": "2022-06-09T13:22:39.640362Z"
    }
   },
   "outputs": [],
   "source": [
    "# 무한대를 반환합니다.\n",
    "np.Inf"
   ]
  },
  {
   "cell_type": "code",
   "execution_count": null,
   "id": "3e2fd127",
   "metadata": {},
   "outputs": [],
   "source": [
    "# 절대값을 반환합니다.\n",
    "np.abs(-1)"
   ]
  },
  {
   "cell_type": "code",
   "execution_count": null,
   "id": "7a7c0d78",
   "metadata": {
    "ExecuteTime": {
     "end_time": "2022-06-09T13:22:39.649277Z",
     "start_time": "2022-06-09T13:22:39.646094Z"
    }
   },
   "outputs": [],
   "source": [
    "# 소수점을 버립니다.\n",
    "np.floor(np.e)"
   ]
  },
  {
   "cell_type": "code",
   "execution_count": null,
   "id": "fd7d06b4",
   "metadata": {
    "ExecuteTime": {
     "end_time": "2022-06-09T13:22:39.654090Z",
     "start_time": "2022-06-09T13:22:39.650915Z"
    }
   },
   "outputs": [],
   "source": [
    "# 소수점을 올립니다.\n",
    "np.ceil(np.pi)"
   ]
  },
  {
   "cell_type": "code",
   "execution_count": null,
   "id": "fe6fa3d5",
   "metadata": {
    "ExecuteTime": {
     "end_time": "2022-06-09T13:22:39.659320Z",
     "start_time": "2022-06-09T13:22:39.656015Z"
    }
   },
   "outputs": [],
   "source": [
    "# 소수점 셋째자리까지 남도록 반올림합니다.\n",
    "np.round(a = np.e, decimals = 0)"
   ]
  },
  {
   "cell_type": "code",
   "execution_count": null,
   "id": "c4fb4e35",
   "metadata": {
    "ExecuteTime": {
     "end_time": "2022-06-09T13:22:39.664727Z",
     "start_time": "2022-06-09T13:22:39.661657Z"
    }
   },
   "outputs": [],
   "source": [
    "# 제곱근을 반환합니다.\n",
    "np.sqrt(4)"
   ]
  },
  {
   "cell_type": "code",
   "execution_count": null,
   "id": "05bd1458",
   "metadata": {
    "ExecuteTime": {
     "end_time": "2022-06-09T13:22:39.669655Z",
     "start_time": "2022-06-09T13:22:39.666423Z"
    }
   },
   "outputs": [],
   "source": [
    "# 거듭제곱을 반환합니다.\n",
    "np.power(2, 3)"
   ]
  },
  {
   "cell_type": "code",
   "execution_count": null,
   "id": "2638b184",
   "metadata": {
    "ExecuteTime": {
     "end_time": "2022-06-09T13:22:39.674132Z",
     "start_time": "2022-06-09T13:22:39.671294Z"
    }
   },
   "outputs": [],
   "source": [
    "# 자연상수 거듭제곱을 반환합니다.\n",
    "np.exp(1)"
   ]
  },
  {
   "cell_type": "code",
   "execution_count": null,
   "id": "b4df29e2",
   "metadata": {
    "ExecuteTime": {
     "end_time": "2022-06-09T13:22:39.678895Z",
     "start_time": "2022-06-09T13:22:39.675886Z"
    }
   },
   "outputs": [],
   "source": [
    "# 자연로그를 반환합니다.\n",
    "np.log(10)"
   ]
  },
  {
   "cell_type": "code",
   "execution_count": null,
   "id": "09d72f29",
   "metadata": {
    "ExecuteTime": {
     "end_time": "2022-06-09T13:22:39.693085Z",
     "start_time": "2022-06-09T13:22:39.689902Z"
    }
   },
   "outputs": [],
   "source": [
    "# 원소의 차이를 반환합니다.\n",
    "np.diff(a = ar1, n = 1)"
   ]
  },
  {
   "cell_type": "code",
   "execution_count": null,
   "id": "caad3e4b",
   "metadata": {
    "ExecuteTime": {
     "end_time": "2022-06-09T13:22:39.726316Z",
     "start_time": "2022-06-09T13:22:39.723349Z"
    }
   },
   "outputs": [],
   "source": [
    "# 원소 개수를 반환합니다.\n",
    "np.size(a = ar1)"
   ]
  },
  {
   "cell_type": "code",
   "execution_count": null,
   "id": "7b414f96",
   "metadata": {
    "ExecuteTime": {
     "end_time": "2022-06-09T13:22:39.683297Z",
     "start_time": "2022-06-09T13:22:39.680402Z"
    },
    "scrolled": true
   },
   "outputs": [],
   "source": [
    "# 모든 원소를 더합니다.\n",
    "np.sum(a = ar1)"
   ]
  },
  {
   "cell_type": "code",
   "execution_count": null,
   "id": "63e29631",
   "metadata": {
    "ExecuteTime": {
     "end_time": "2022-06-09T13:22:39.688278Z",
     "start_time": "2022-06-09T13:22:39.684964Z"
    }
   },
   "outputs": [],
   "source": [
    "# 모든 원소를 곱합니다.\n",
    "np.prod(a = ar1)"
   ]
  },
  {
   "cell_type": "code",
   "execution_count": null,
   "id": "440f9b71",
   "metadata": {
    "ExecuteTime": {
     "end_time": "2022-06-09T13:22:39.707500Z",
     "start_time": "2022-06-09T13:22:39.704390Z"
    }
   },
   "outputs": [],
   "source": [
    "# 평균을 반환합니다.\n",
    "np.mean(a = ar1)"
   ]
  },
  {
   "cell_type": "code",
   "execution_count": null,
   "id": "c927af65",
   "metadata": {
    "ExecuteTime": {
     "end_time": "2022-06-09T13:22:39.712142Z",
     "start_time": "2022-06-09T13:22:39.709115Z"
    }
   },
   "outputs": [],
   "source": [
    "# 중위수를 반환합니다.\n",
    "np.median(a = ar1)"
   ]
  },
  {
   "cell_type": "code",
   "execution_count": null,
   "id": "f18b3040",
   "metadata": {
    "ExecuteTime": {
     "end_time": "2022-06-09T13:22:39.717043Z",
     "start_time": "2022-06-09T13:22:39.713825Z"
    }
   },
   "outputs": [],
   "source": [
    "# 분산을 반환합니다.\n",
    "np.var(a = ar1)"
   ]
  },
  {
   "cell_type": "code",
   "execution_count": null,
   "id": "6c9ef401",
   "metadata": {
    "ExecuteTime": {
     "end_time": "2022-06-09T13:22:39.721738Z",
     "start_time": "2022-06-09T13:22:39.718596Z"
    }
   },
   "outputs": [],
   "source": [
    "# 표준편차를 반환합니다.\n",
    "np.std(a = ar1)"
   ]
  },
  {
   "cell_type": "code",
   "execution_count": null,
   "id": "f15dd6b8",
   "metadata": {
    "ExecuteTime": {
     "end_time": "2022-06-09T13:22:39.697987Z",
     "start_time": "2022-06-09T13:22:39.694745Z"
    }
   },
   "outputs": [],
   "source": [
    "# 최솟값을 반환합니다.\n",
    "np.min(a = ar1)"
   ]
  },
  {
   "cell_type": "code",
   "execution_count": null,
   "id": "67ca03a4",
   "metadata": {
    "ExecuteTime": {
     "end_time": "2022-06-09T13:22:39.702725Z",
     "start_time": "2022-06-09T13:22:39.699694Z"
    }
   },
   "outputs": [],
   "source": [
    "# 최댓값을 반환합니다.\n",
    "np.max(a = ar1)"
   ]
  },
  {
   "cell_type": "code",
   "execution_count": null,
   "id": "ca5e80f0",
   "metadata": {},
   "outputs": [],
   "source": [
    "# 최솟값의 인덱스를 반환합니다.\n",
    "np.argmin(a = ar1)"
   ]
  },
  {
   "cell_type": "code",
   "execution_count": null,
   "id": "88d5f3ff",
   "metadata": {},
   "outputs": [],
   "source": [
    "# 최댓값의 인덱스를 반환합니다.\n",
    "np.argmax(a = ar1)"
   ]
  },
  {
   "cell_type": "markdown",
   "id": "vocational-sacrifice",
   "metadata": {},
   "source": [
    "## End of Document"
   ]
  }
 ],
 "metadata": {
  "kernelspec": {
   "display_name": "Python 3",
   "language": "python",
   "name": "python3"
  },
  "language_info": {
   "codemirror_mode": {
    "name": "ipython",
    "version": 3
   },
   "file_extension": ".py",
   "mimetype": "text/x-python",
   "name": "python",
   "nbconvert_exporter": "python",
   "pygments_lexer": "ipython3",
   "version": "3.11.1"
  },
  "toc": {
   "base_numbering": 1,
   "nav_menu": {},
   "number_sections": false,
   "sideBar": true,
   "skip_h1_title": false,
   "title_cell": "Table of Contents",
   "title_sidebar": "Contents",
   "toc_cell": false,
   "toc_position": {},
   "toc_section_display": true,
   "toc_window_display": false
  },
  "varInspector": {
   "cols": {
    "lenName": 16,
    "lenType": 16,
    "lenVar": 40
   },
   "kernels_config": {
    "python": {
     "delete_cmd_postfix": "",
     "delete_cmd_prefix": "del ",
     "library": "var_list.py",
     "varRefreshCmd": "print(var_dic_list())"
    },
    "r": {
     "delete_cmd_postfix": ") ",
     "delete_cmd_prefix": "rm(",
     "library": "var_list.r",
     "varRefreshCmd": "cat(var_dic_list()) "
    }
   },
   "types_to_exclude": [
    "module",
    "function",
    "builtin_function_or_method",
    "instance",
    "_Feature"
   ],
   "window_display": false
  }
 },
 "nbformat": 4,
 "nbformat_minor": 5
}
