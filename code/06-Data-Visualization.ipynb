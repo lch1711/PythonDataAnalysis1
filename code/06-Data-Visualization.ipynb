{
 "cells": [
  {
   "cell_type": "markdown",
   "id": "4a126b4d",
   "metadata": {},
   "source": [
    "## 데이터 시각화"
   ]
  },
  {
   "cell_type": "markdown",
   "id": "c0d55f24",
   "metadata": {},
   "source": [
    "### 관련 라이브러리 호출"
   ]
  },
  {
   "cell_type": "code",
   "execution_count": null,
   "id": "36550452",
   "metadata": {
    "ExecuteTime": {
     "end_time": "2022-06-11T04:51:26.918915Z",
     "start_time": "2022-06-11T04:51:26.601731Z"
    }
   },
   "outputs": [],
   "source": [
    "# 관련 라이브러리를 호출합니다.\n",
    "import os\n",
    "import chardet\n",
    "import joblib\n",
    "import numpy as np\n",
    "import pandas as pd"
   ]
  },
  {
   "cell_type": "markdown",
   "id": "a65db77f",
   "metadata": {},
   "source": [
    "### 작업 경로 확인 및 변경"
   ]
  },
  {
   "cell_type": "code",
   "execution_count": null,
   "id": "cb66b080",
   "metadata": {
    "ExecuteTime": {
     "end_time": "2022-06-11T04:51:26.928915Z",
     "start_time": "2022-06-11T04:51:26.921244Z"
    }
   },
   "outputs": [],
   "source": [
    "# 현재 작업 경로를 확인합니다.\n",
    "os.getcwd()"
   ]
  },
  {
   "cell_type": "code",
   "execution_count": null,
   "id": "479ac0b2",
   "metadata": {
    "ExecuteTime": {
     "end_time": "2022-06-11T04:51:26.932995Z",
     "start_time": "2022-06-11T04:51:26.930689Z"
    }
   },
   "outputs": [],
   "source": [
    "# data 폴더로 작업 경로를 변경합니다.\n",
    "os.chdir(path = '../data')"
   ]
  },
  {
   "cell_type": "code",
   "execution_count": null,
   "id": "c5aea48f",
   "metadata": {
    "ExecuteTime": {
     "end_time": "2022-06-11T04:51:26.938997Z",
     "start_time": "2022-06-11T04:51:26.935649Z"
    }
   },
   "outputs": [],
   "source": [
    "# 현재 작업 경로에 있는 폴더명과 파일명을 출력합니다.\n",
    "os.listdir()"
   ]
  },
  {
   "cell_type": "markdown",
   "id": "6cd877d5",
   "metadata": {},
   "source": [
    "### 실습 데이터셋 준비"
   ]
  },
  {
   "cell_type": "code",
   "execution_count": null,
   "id": "eff1ecf2",
   "metadata": {
    "ExecuteTime": {
     "end_time": "2022-06-11T04:51:26.992117Z",
     "start_time": "2022-06-11T04:51:26.940544Z"
    }
   },
   "outputs": [],
   "source": [
    "# z 파일을 읽고 데이터프레임 apt에 할당합니다.\n",
    "apt = joblib.load(filename = 'APT_Price_Merged.z')"
   ]
  },
  {
   "cell_type": "code",
   "execution_count": null,
   "id": "4e7db604",
   "metadata": {
    "ExecuteTime": {
     "end_time": "2022-06-11T04:51:27.042699Z",
     "start_time": "2022-06-11T04:51:26.993733Z"
    },
    "scrolled": true
   },
   "outputs": [],
   "source": [
    "# apt의 정보를 확인합니다.\n",
    "apt.info()"
   ]
  },
  {
   "cell_type": "code",
   "execution_count": null,
   "id": "27ac8cff",
   "metadata": {
    "ExecuteTime": {
     "end_time": "2022-06-11T04:51:27.060171Z",
     "start_time": "2022-06-11T04:51:27.044412Z"
    },
    "scrolled": true
   },
   "outputs": [],
   "source": [
    "# apt의 처음 5행을 출력합니다.\n",
    "apt.head()"
   ]
  },
  {
   "cell_type": "markdown",
   "id": "ceb2bdd1",
   "metadata": {},
   "source": [
    "### 시각화 라이브러리 호출"
   ]
  },
  {
   "cell_type": "code",
   "execution_count": null,
   "id": "verified-houston",
   "metadata": {
    "ExecuteTime": {
     "end_time": "2022-06-11T04:51:27.924994Z",
     "start_time": "2022-06-11T04:51:27.067199Z"
    }
   },
   "outputs": [],
   "source": [
    "# 관련 라이브러리를 호출합니다.\n",
    "import seaborn as sns\n",
    "import matplotlib.pyplot as plt\n",
    "import matplotlib.font_manager as fm"
   ]
  },
  {
   "cell_type": "code",
   "execution_count": null,
   "id": "a56cebda",
   "metadata": {
    "ExecuteTime": {
     "end_time": "2022-06-11T04:51:28.398599Z",
     "start_time": "2022-06-11T04:51:27.930288Z"
    },
    "scrolled": false
   },
   "outputs": [],
   "source": [
    "# 테스트용 그래프를 그립니다.\n",
    "sns.histplot(data = apt, x = '거래금액');"
   ]
  },
  {
   "cell_type": "markdown",
   "id": "imposed-slave",
   "metadata": {},
   "source": [
    "### 한글폰트명 탐색"
   ]
  },
  {
   "cell_type": "code",
   "execution_count": null,
   "id": "separated-donna",
   "metadata": {
    "ExecuteTime": {
     "end_time": "2022-06-11T04:51:28.486094Z",
     "start_time": "2022-06-11T04:51:28.409923Z"
    },
    "scrolled": true,
    "tags": []
   },
   "outputs": [],
   "source": [
    "# 현재 사용 중인 컴퓨터에 설치한 전체 폰트 파일명을 리스트로 반환합니다.\n",
    "fontList = fm.findSystemFonts(fontext = 'ttf')"
   ]
  },
  {
   "cell_type": "code",
   "execution_count": null,
   "id": "informational-giant",
   "metadata": {
    "ExecuteTime": {
     "end_time": "2022-06-11T04:51:28.491466Z",
     "start_time": "2022-06-11T04:51:28.488507Z"
    }
   },
   "outputs": [],
   "source": [
    "# 리스트에서 특정 문자열(폰트명)을 포함하는 파일명만 선택합니다.\n",
    "fontPath = [font for font in fontList if 'Gowun' in font]"
   ]
  },
  {
   "cell_type": "code",
   "execution_count": null,
   "id": "eleven-wound",
   "metadata": {
    "ExecuteTime": {
     "end_time": "2022-06-11T04:51:28.500719Z",
     "start_time": "2022-06-11T04:51:28.497154Z"
    }
   },
   "outputs": [],
   "source": [
    "# 반복문으로 컴퓨터에 설치된 폰트명을 출력합니다.\n",
    "for font in fontPath:\n",
    "    print(fm.FontProperties(fname = font).get_name())"
   ]
  },
  {
   "cell_type": "markdown",
   "id": "378d8068",
   "metadata": {},
   "source": [
    "### 그래픽 파라미터 설정"
   ]
  },
  {
   "cell_type": "code",
   "execution_count": null,
   "id": "sized-citation",
   "metadata": {
    "ExecuteTime": {
     "end_time": "2022-06-11T04:51:28.508739Z",
     "start_time": "2022-06-11T04:51:28.506520Z"
    }
   },
   "outputs": [],
   "source": [
    "# 한글폰트와 글자 크기를 설정합니다.\n",
    "plt.rc(group = 'font', family = 'Gowun Dodum', size = 10)"
   ]
  },
  {
   "cell_type": "code",
   "execution_count": null,
   "id": "positive-reasoning",
   "metadata": {
    "ExecuteTime": {
     "end_time": "2022-06-11T04:51:28.504806Z",
     "start_time": "2022-06-11T04:51:28.502378Z"
    }
   },
   "outputs": [],
   "source": [
    "# 그래프 크기와 해상도를 설정합니다.\n",
    "plt.rc(group = 'figure', figsize = (8, 4), dpi = 150)"
   ]
  },
  {
   "cell_type": "code",
   "execution_count": null,
   "id": "38aa6c60",
   "metadata": {
    "ExecuteTime": {
     "end_time": "2022-06-11T04:51:28.513076Z",
     "start_time": "2022-06-11T04:51:28.510422Z"
    }
   },
   "outputs": [],
   "source": [
    "# 축에 유니코드 마이너스를 출력하지 않도록 설정합니다.\n",
    "plt.rc(group = 'axes', unicode_minus = False)"
   ]
  },
  {
   "cell_type": "code",
   "execution_count": null,
   "id": "35cf3eed",
   "metadata": {
    "ExecuteTime": {
     "end_time": "2022-06-11T04:51:28.518130Z",
     "start_time": "2022-06-11T04:51:28.515599Z"
    }
   },
   "outputs": [],
   "source": [
    "# 범례에 채우기 색과 테두리 색을 추가합니다.\n",
    "plt.rc(group = 'legend', frameon = True, fc = '1', ec = '0')"
   ]
  },
  {
   "cell_type": "markdown",
   "id": "located-cricket",
   "metadata": {},
   "source": [
    "### 히스토그램 그리기"
   ]
  },
  {
   "cell_type": "code",
   "execution_count": null,
   "id": "19387f18",
   "metadata": {
    "ExecuteTime": {
     "end_time": "2022-06-11T04:51:29.230791Z",
     "start_time": "2022-06-11T04:51:29.041166Z"
    }
   },
   "outputs": [],
   "source": [
    "# 막대 개수를 지정한 히스토그램을 그립니다.\n",
    "sns.histplot(data = apt, x = '거래금액', bins = 75, fc = '1', ec = '0');"
   ]
  },
  {
   "cell_type": "code",
   "execution_count": null,
   "id": "28ca75b2",
   "metadata": {
    "ExecuteTime": {
     "end_time": "2022-06-11T04:51:29.507418Z",
     "start_time": "2022-06-11T04:51:29.232837Z"
    }
   },
   "outputs": [],
   "source": [
    "# 막대 너비를 지정한 히스토그램을 그립니다.\n",
    "sns.histplot(data = apt, x = '거래금액', binwidth = 2, fc = '1', ec = '0');"
   ]
  },
  {
   "cell_type": "markdown",
   "id": "580304ab",
   "metadata": {},
   "source": [
    "### [참고] 색상 목록"
   ]
  },
  {
   "cell_type": "code",
   "execution_count": null,
   "id": "2e769e42",
   "metadata": {
    "ExecuteTime": {
     "end_time": "2022-06-11T04:51:29.511565Z",
     "start_time": "2022-06-11T04:51:29.509099Z"
    }
   },
   "outputs": [],
   "source": [
    "# 관련 모듈을 호출합니다.\n",
    "from matplotlib import colors"
   ]
  },
  {
   "cell_type": "code",
   "execution_count": null,
   "id": "490166f3",
   "metadata": {
    "ExecuteTime": {
     "end_time": "2022-06-11T04:51:29.520416Z",
     "start_time": "2022-06-11T04:51:29.513824Z"
    },
    "scrolled": true
   },
   "outputs": [],
   "source": [
    "# 148가지 색이름과 Hex Code를 딕셔너리로 출력합니다.\n",
    "colors.CSS4_COLORS"
   ]
  },
  {
   "cell_type": "markdown",
   "id": "90081572",
   "metadata": {},
   "source": [
    "### 히스토그램에 계급 추가"
   ]
  },
  {
   "cell_type": "code",
   "execution_count": null,
   "id": "dimensional-bermuda",
   "metadata": {
    "ExecuteTime": {
     "end_time": "2022-06-11T04:51:29.529750Z",
     "start_time": "2022-06-11T04:51:29.522268Z"
    },
    "scrolled": true
   },
   "outputs": [],
   "source": [
    "# 거래금액의 최솟값을 확인합니다.\n",
    "apt['거래금액'].min()"
   ]
  },
  {
   "cell_type": "code",
   "execution_count": null,
   "id": "1b064ace",
   "metadata": {},
   "outputs": [],
   "source": [
    "# 거래금액의 최댓값을 확인합니다.\n",
    "apt['거래금액'].max()"
   ]
  },
  {
   "cell_type": "code",
   "execution_count": null,
   "id": "88a2611d",
   "metadata": {},
   "outputs": [],
   "source": [
    "# 히스토그램에 막대 개수와 범위(막대 경계)로 계급을 지정합니다.\n",
    "sns.histplot(data = apt, x = '거래금액', bins = 30, binrange = (0, 60), \n",
    "             fc = '1', ec = '0');"
   ]
  },
  {
   "cell_type": "markdown",
   "id": "b316a863",
   "metadata": {},
   "source": [
    "### 히스토그램 막대 채우기 색 변경"
   ]
  },
  {
   "cell_type": "code",
   "execution_count": null,
   "id": "b3c2edf9",
   "metadata": {
    "ExecuteTime": {
     "end_time": "2022-06-11T04:51:30.129169Z",
     "start_time": "2022-06-11T04:51:29.770318Z"
    }
   },
   "outputs": [],
   "source": [
    "# 금액구간(범주형 변수)에 따라 채우기 색을 다르게 설정합니다.\n",
    "# [참고] hue 매개변수에 지정한 범주형 변수의 범주별로 채우기 색을 다르게 설정합니다.\n",
    "sns.histplot(data = apt, x = '거래금액', bins = 30, binrange = (0, 60), \n",
    "             hue = '금액구간', ec = '0');"
   ]
  },
  {
   "cell_type": "code",
   "execution_count": null,
   "id": "c9b78a72",
   "metadata": {
    "ExecuteTime": {
     "end_time": "2022-06-11T04:51:30.471869Z",
     "start_time": "2022-06-11T04:51:30.130977Z"
    }
   },
   "outputs": [],
   "source": [
    "# 채우기 색 배합을 다른 팔레트로 변경합니다.\n",
    "sns.histplot(data = apt, x = '거래금액', bins = 30, binrange = (0, 60), \n",
    "             hue = '금액구간', ec = '0', palette = 'Set1');"
   ]
  },
  {
   "cell_type": "markdown",
   "id": "lesser-adapter",
   "metadata": {},
   "source": [
    "### [참고] 팔레트 탐색: Color Brewer"
   ]
  },
  {
   "cell_type": "raw",
   "id": "570d2d6a",
   "metadata": {},
   "source": [
    "# 관련 라이브러리를 설치합니다.\n",
    "!pip install ipywidgets"
   ]
  },
  {
   "cell_type": "code",
   "execution_count": null,
   "id": "c36ebec2-17c9-4484-accf-ce38150ec2c9",
   "metadata": {
    "ExecuteTime": {
     "end_time": "2022-06-11T04:51:30.557094Z",
     "start_time": "2022-06-11T04:51:30.473504Z"
    },
    "scrolled": true
   },
   "outputs": [],
   "source": [
    "# Color Brewer Palettet를 탐색합니다.\n",
    "sns.choose_colorbrewer_palette(data_type = 'qualitative');"
   ]
  },
  {
   "cell_type": "markdown",
   "id": "7ce793ef",
   "metadata": {},
   "source": [
    "### [참고] 컬러맵 목록"
   ]
  },
  {
   "cell_type": "code",
   "execution_count": null,
   "id": "d584c6d4",
   "metadata": {},
   "outputs": [],
   "source": [
    "# plt.cm 모듈에 있는 속성 목록을 출력합니다. '_r'이 있는 문자열 쌍이 컬러맵입니다.\n",
    "# [참고] 마지막에 '_r'이 추가된 것은 색의 순서를 거꾸로 뒤집었다는 의미입니다.\n",
    "dir(plt.cm)"
   ]
  },
  {
   "cell_type": "code",
   "execution_count": null,
   "id": "eb22d92b",
   "metadata": {},
   "outputs": [],
   "source": [
    "# Sequential 범주의 대표적인 컬러맵의 색상을 확인합니다.\n",
    "plt.cm.Greys"
   ]
  },
  {
   "cell_type": "code",
   "execution_count": null,
   "id": "7c1d1462",
   "metadata": {},
   "outputs": [],
   "source": [
    "# Diverging 범주의 대표적인 컬러맵의 색상을 확인합니다.\n",
    "plt.cm.Spectral"
   ]
  },
  {
   "cell_type": "code",
   "execution_count": null,
   "id": "1379e986",
   "metadata": {},
   "outputs": [],
   "source": [
    "# Qualitative 범주의 대표적인 컬러맵의 색상을 확인합니다.\n",
    "plt.cm.Set1"
   ]
  },
  {
   "cell_type": "markdown",
   "id": "f17dd680",
   "metadata": {},
   "source": [
    "### 팔레트 설정"
   ]
  },
  {
   "cell_type": "code",
   "execution_count": null,
   "id": "obvious-syracuse",
   "metadata": {
    "ExecuteTime": {
     "end_time": "2022-06-11T04:51:30.563417Z",
     "start_time": "2022-06-11T04:51:30.559159Z"
    }
   },
   "outputs": [],
   "source": [
    "# 기본 팔레트 색을 출력합니다.\n",
    "# [참고] 기본 팔레트는 'tab10'입니다.\n",
    "sns.color_palette()"
   ]
  },
  {
   "cell_type": "code",
   "execution_count": null,
   "id": "838e21c1",
   "metadata": {
    "ExecuteTime": {
     "end_time": "2022-06-11T04:51:30.575197Z",
     "start_time": "2022-06-11T04:51:30.572674Z"
    }
   },
   "outputs": [],
   "source": [
    "# 기본 팔레트를 'Set1'으로 변경합니다.\n",
    "sns.set_palette(palette = 'Set1')"
   ]
  },
  {
   "cell_type": "code",
   "execution_count": null,
   "id": "3f3dcbe6",
   "metadata": {
    "ExecuteTime": {
     "end_time": "2022-06-11T04:51:30.581946Z",
     "start_time": "2022-06-11T04:51:30.576968Z"
    }
   },
   "outputs": [],
   "source": [
    "# 새로 설정한 기본 팔레트 색을 확인합니다.\n",
    "sns.color_palette()"
   ]
  },
  {
   "cell_type": "markdown",
   "id": "a40e7731",
   "metadata": {},
   "source": [
    "### 사용자 팔레트 적용"
   ]
  },
  {
   "cell_type": "code",
   "execution_count": null,
   "id": "837597e3",
   "metadata": {
    "ExecuteTime": {
     "end_time": "2022-06-11T04:51:30.587022Z",
     "start_time": "2022-06-11T04:51:30.583873Z"
    }
   },
   "outputs": [],
   "source": [
    "# 원하는 색이름을 원소로 갖는 리스트(사용자 팔레트)를 생성합니다.\n",
    "myPal1 = ['silver', 'red', 'darkred']"
   ]
  },
  {
   "cell_type": "code",
   "execution_count": null,
   "id": "6e6ae6d7",
   "metadata": {
    "ExecuteTime": {
     "end_time": "2022-06-11T04:51:30.953054Z",
     "start_time": "2022-06-11T04:51:30.589078Z"
    }
   },
   "outputs": [],
   "source": [
    "# 기존 그래프에 사용자 팔레트를 적용합니다.\n",
    "# [참고] hue_order 매개변수에 범주의 순서를 지정합니다.\n",
    "sns.histplot(data = apt, x = '거래금액', bins = 30, binrange = (0, 60), \n",
    "             hue = '금액구간', ec = '0', palette = myPal1, \n",
    "             hue_order = ['5천 이상', '5천 미만']);"
   ]
  },
  {
   "cell_type": "markdown",
   "id": "79241015",
   "metadata": {},
   "source": [
    "### [참고] 범주별 팔레트를 직접 지정"
   ]
  },
  {
   "cell_type": "code",
   "execution_count": null,
   "id": "bd2d3a8b",
   "metadata": {},
   "outputs": [],
   "source": [
    "# 금액구간별 채우기 색을 딕셔너리로 지정합니다.\n",
    "myPal2 = {'5천 이상': 'silver', '5천 미만': 'red'}\n",
    "\n",
    "# 금액구간별 채우기 색을 반영합니다.\n",
    "sns.histplot(data = apt, x = '거래금액', bins = 30, binrange = (0, 60), \n",
    "             hue = '금액구간', ec = '0', palette = myPal2);"
   ]
  },
  {
   "cell_type": "markdown",
   "id": "9f5f0111",
   "metadata": {},
   "source": [
    "### 히스토그램에 제목 및 축이름 추가"
   ]
  },
  {
   "cell_type": "code",
   "execution_count": null,
   "id": "98d663a6",
   "metadata": {
    "ExecuteTime": {
     "end_time": "2022-06-11T04:51:31.402625Z",
     "start_time": "2022-06-11T04:51:30.955045Z"
    }
   },
   "outputs": [],
   "source": [
    "# 히스토그램에 제목, x축이름 및 y축이름을 추가합니다.\n",
    "sns.histplot(data = apt, x = '거래금액', bins = 30, binrange = (0, 60), \n",
    "             hue = '금액구간', ec = '0', palette = myPal2)\n",
    "plt.title(label = '거래금액의 분포')\n",
    "plt.xlabel(xlabel = '매매가격')\n",
    "plt.ylabel(ylabel = '매매건수');"
   ]
  },
  {
   "cell_type": "markdown",
   "id": "3b278898",
   "metadata": {},
   "source": [
    "### 히스토그램에 커널 밀도 추정 곡선 추가"
   ]
  },
  {
   "cell_type": "code",
   "execution_count": null,
   "id": "311d3aad",
   "metadata": {
    "ExecuteTime": {
     "end_time": "2022-06-11T04:51:31.697931Z",
     "start_time": "2022-06-11T04:51:31.404520Z"
    }
   },
   "outputs": [],
   "source": [
    "# 히스토그램의 y축을 밀도로 변경합니다.\n",
    "sns.histplot(data = apt, x = '거래금액', bins = 30, binrange = (0, 60),\n",
    "             fc = '1', ec = '0.8', stat = 'density')\n",
    "\n",
    "# 커널 밀도 추정 곡선을 추가합니다.\n",
    "sns.kdeplot(data = apt, x = '거래금액', c = 'red', lw = 0.5, ls = '-')\n",
    "\n",
    "# x축을 제한합니다.\n",
    "plt.xlim(-3, 63);"
   ]
  },
  {
   "cell_type": "markdown",
   "id": "c7e40765",
   "metadata": {},
   "source": [
    "### 관심 지역 선택"
   ]
  },
  {
   "cell_type": "code",
   "execution_count": null,
   "id": "approved-garlic",
   "metadata": {
    "ExecuteTime": {
     "end_time": "2022-06-11T04:51:31.731569Z",
     "start_time": "2022-06-11T04:51:31.699676Z"
    }
   },
   "outputs": [],
   "source": [
    "# apt에서 관심 지역을 선택하고 sub에 할당합니다.\n",
    "sub = apt[apt['구'].str.contains(pat = '강[남동북]')]"
   ]
  },
  {
   "cell_type": "code",
   "execution_count": null,
   "id": "51b83e18",
   "metadata": {},
   "outputs": [],
   "source": [
    "# sub의 구별 빈도수, 거래금액 평균 및 표준편차를 확인합니다.\n",
    "pd.pivot_table(data = sub, \n",
    "               values = '거래금액', \n",
    "               index = '구', \n",
    "               aggfunc = [np.size, np.mean, np.std])"
   ]
  },
  {
   "cell_type": "markdown",
   "id": "69cd11d0",
   "metadata": {},
   "source": [
    "### 히스토그램을 겹쳐서 그리기"
   ]
  },
  {
   "cell_type": "code",
   "execution_count": null,
   "id": "afb96803",
   "metadata": {
    "ExecuteTime": {
     "end_time": "2022-06-11T04:51:32.404520Z",
     "start_time": "2022-06-11T04:51:31.756823Z"
    }
   },
   "outputs": [],
   "source": [
    "# 구별 히스토그램을 겹쳐서 그립니다.\n",
    "sns.histplot(data = sub, x = '거래금액', bins = 30, binrange = (0, 60),\n",
    "             hue = '구', ec = '0', palette = myPal1, \n",
    "             hue_order = ['강남구', '강동구', '강북구']);"
   ]
  },
  {
   "cell_type": "code",
   "execution_count": null,
   "id": "d071af40",
   "metadata": {
    "ExecuteTime": {
     "end_time": "2022-06-11T04:51:32.588940Z",
     "start_time": "2022-06-11T04:51:32.406201Z"
    }
   },
   "outputs": [],
   "source": [
    "# 커널 밀도 추정 곡선을 겹쳐서 그리는 것이 더 낫습니다.\n",
    "sns.kdeplot(data = sub, x = '거래금액', hue = '구', palette = myPal1, \n",
    "            hue_order = ['강남구', '강동구', '강북구'], fill = True)\n",
    "\n",
    "# x축을 제한합니다.\n",
    "plt.xlim(-3, 63);"
   ]
  },
  {
   "cell_type": "markdown",
   "id": "incorrect-tonight",
   "metadata": {},
   "source": [
    "### 일변량 상자 수염 그림 그리기"
   ]
  },
  {
   "cell_type": "code",
   "execution_count": null,
   "id": "destroyed-afternoon",
   "metadata": {
    "ExecuteTime": {
     "end_time": "2022-06-11T04:51:33.499652Z",
     "start_time": "2022-06-11T04:51:33.399958Z"
    }
   },
   "outputs": [],
   "source": [
    "# 거래금액으로 상자 수염 그림을 그립니다.\n",
    "sns.boxplot(data = apt, y = '거래금액', color = '0.8', linewidth = 0.5,\n",
    "            fliersize = 3);"
   ]
  },
  {
   "cell_type": "code",
   "execution_count": null,
   "id": "04fd3a25",
   "metadata": {},
   "outputs": [],
   "source": [
    "# 이상치 관련 속성을 딕셔너리로 생성합니다.\n",
    "outlier = {'marker': 'o', \n",
    "            'markersize': 3, \n",
    "            'markerfacecolor': 'pink',\n",
    "            'markeredgecolor': 'red', \n",
    "            'markeredgewidth': 0.5}"
   ]
  },
  {
   "cell_type": "code",
   "execution_count": null,
   "id": "2bb86c0d",
   "metadata": {
    "ExecuteTime": {
     "end_time": "2022-06-11T04:51:33.599716Z",
     "start_time": "2022-06-11T04:51:33.501504Z"
    }
   },
   "outputs": [],
   "source": [
    "# 상자 수염 그림에 이상치 관련 속성을 추가합니다.\n",
    "sns.boxplot(data = apt, y = '거래금액', color = '0.8', linewidth = 0.5, \n",
    "            flierprops = outlier);"
   ]
  },
  {
   "cell_type": "markdown",
   "id": "8566b93e",
   "metadata": {},
   "source": [
    "### 이변량 상자 수염 그림 그리기"
   ]
  },
  {
   "cell_type": "code",
   "execution_count": null,
   "id": "6c2af0f2",
   "metadata": {
    "ExecuteTime": {
     "end_time": "2022-06-11T04:51:33.617036Z",
     "start_time": "2022-06-11T04:51:33.601516Z"
    },
    "scrolled": true
   },
   "outputs": [],
   "source": [
    "# apt의 구별 거래금액 중위수를 오름차순 정렬한 grp를 생성합니다.\n",
    "grp = apt.groupby(by = '구')['거래금액'].median().sort_values()\n",
    "grp.head()"
   ]
  },
  {
   "cell_type": "code",
   "execution_count": null,
   "id": "4cc2b4c3",
   "metadata": {
    "ExecuteTime": {
     "end_time": "2022-06-11T04:51:33.980813Z",
     "start_time": "2022-06-11T04:51:33.619815Z"
    }
   },
   "outputs": [],
   "source": [
    "# x축에 구, y축에 거래금액을 지정하고 이변량 상자 수염 그림을 그립니다.\n",
    "sns.boxplot(data = apt, x = '구', y = '거래금액', linewidth = 0.5, \n",
    "            flierprops = outlier, order = grp.index)\n",
    "\n",
    "# 거래금액의 중위수를 가로 직선으로 추가합니다.\n",
    "plt.axhline(y = apt['거래금액'].median(), c = 'red', lw = 0.5)\n",
    "\n",
    "# x축 눈금명을 90도 회전시킵니다.\n",
    "plt.xticks(rotation = 90);"
   ]
  },
  {
   "cell_type": "markdown",
   "id": "victorian-listening",
   "metadata": {},
   "source": [
    "### 일변량 막대 그래프 그리기"
   ]
  },
  {
   "cell_type": "code",
   "execution_count": null,
   "id": "f2337b4a",
   "metadata": {
    "ExecuteTime": {
     "end_time": "2022-06-11T04:51:34.026437Z",
     "start_time": "2022-06-11T04:51:33.983072Z"
    },
    "scrolled": true
   },
   "outputs": [],
   "source": [
    "# apt의 구별 빈도수를 내림차순 정렬한 grp를 생성합니다.\n",
    "grp = apt['구'].value_counts()\n",
    "grp.head()"
   ]
  },
  {
   "cell_type": "code",
   "execution_count": null,
   "id": "4cc15ced",
   "metadata": {
    "ExecuteTime": {
     "end_time": "2022-06-11T04:51:34.312522Z",
     "start_time": "2022-06-11T04:51:34.028037Z"
    }
   },
   "outputs": [],
   "source": [
    "# 구별 빈도수로 일변량 막대 그래프를 그립니다.\n",
    "sns.countplot(data = apt, x = '구', width = 0.8, order = grp.index)\n",
    "\n",
    "# x축을 제한하여 텍스트가 axes 경계 바깥으로 넘어가지 않도록 공간을 확보합니다.\n",
    "# [주의] x축은 범주형 변수에서 중복을 제거한 개수만큼의 정수 인덱스로 결정됩니다.\n",
    "plt.xlim(-1, 25)\n",
    "\n",
    "# y축을 제한하여 막대 위에 텍스트를 출력할 공간을 확보합니다.\n",
    "# [주의] 데이터마다 빈도수 범위가 다르므로 미리 확인하고 설정합니다.\n",
    "plt.ylim(0, 14000)\n",
    "\n",
    "# x축 눈금명을 90도 회전시킵니다.\n",
    "plt.xticks(rotation = 90)\n",
    "\n",
    "# 막대 위에 구별 빈도수를 텍스트로 추가합니다.\n",
    "for i, v in enumerate(grp):\n",
    "    plt.text(x = i, y = v, s = f'{v:,}', \n",
    "             ha = 'center', va = 'bottom', \n",
    "             c = 'black', fontsize = 7, \n",
    "             fontweight = 'bold')"
   ]
  },
  {
   "cell_type": "markdown",
   "id": "fcf95733",
   "metadata": {},
   "source": [
    "### 특정 막대의 채우기 색 강조"
   ]
  },
  {
   "cell_type": "code",
   "execution_count": null,
   "id": "eba7e1d3",
   "metadata": {},
   "outputs": [],
   "source": [
    "# 모든 막대의 채우기 색을 밝은 회색으로 설정하는 사용자 팔레트를 생성합니다.\n",
    "myPal3 = np.tile(A = 'silver', reps = 25)\n",
    "\n",
    "# myPals3에서 0번 인덱스(첫 번째) 원소를 빨간색으로 변경합니다.\n",
    "myPal3[0] = 'red'\n",
    "\n",
    "# 세로 막대 그래프를 코드에 사용자 팔레트를 적용합니다.\n",
    "sns.countplot(data = apt, x = '구', width = 0.8, order = grp.index, \n",
    "              palette = myPal3)\n",
    "\n",
    "# x축을 제한하여 텍스트가 axes 경계 바깥으로 넘어가지 않도록 공간을 확보합니다.\n",
    "# [주의] x축은 범주형 변수에서 중복을 제거한 개수만큼의 정수 인덱스로 결정됩니다.\n",
    "plt.xlim(-1, 25)\n",
    "\n",
    "# y축을 제한하여 막대 위에 텍스트를 출력할 공간을 확보합니다.\n",
    "# [주의] 데이터마다 빈도수 범위가 다르므로 미리 확인하고 설정합니다.\n",
    "plt.ylim(0, 14000)\n",
    "\n",
    "# x축 눈금명을 90도 회전시킵니다.\n",
    "plt.xticks(rotation = 90)\n",
    "\n",
    "# 막대 위에 구별 빈도수를 텍스트로 추가합니다.\n",
    "for i, v in enumerate(grp):\n",
    "    plt.text(x = i, y = v, s = f'{v:,}', \n",
    "             ha = 'center', va = 'bottom', \n",
    "             c = 'black', fontsize = 7, \n",
    "             fontweight = 'bold')"
   ]
  },
  {
   "cell_type": "markdown",
   "id": "e05d917a",
   "metadata": {},
   "source": [
    "### 가로 막대 그래프 그리기"
   ]
  },
  {
   "cell_type": "code",
   "execution_count": null,
   "id": "2f251fd3",
   "metadata": {},
   "outputs": [],
   "source": [
    "# 현재 Cell의 그래프 크기를 설정합니다. [참고] 다른 Cell에는 적용되지 않습니다.\n",
    "plt.figure(figsize = (8, 8))\n",
    "\n",
    "# 가로 막대 그래프를 그립니다. [참고] x 매개변수를 y로 변경합니다.\n",
    "sns.countplot(data = apt, y = '구', order = grp.index)\n",
    "\n",
    "# x축을 제한하여 막대 오른쪽에 텍스트를 출력할 공간을 확보합니다.\n",
    "plt.xlim(0, 14000)\n",
    "\n",
    "# y축을 제한합니다. [참고] 가로 막대 그래프에서 y축은 바닥에서 시작합니다.\n",
    "plt.ylim(25, -1)\n",
    "\n",
    "# 막대 오른쪽에 구별 빈도수를 텍스트로 추가합니다.\n",
    "for i, v in enumerate(grp):\n",
    "    plt.text(x = v, y = i, s = f'{v:,}', ha = 'left', va = 'center', \n",
    "             c = 'black', fontsize = 7)"
   ]
  },
  {
   "cell_type": "markdown",
   "id": "42fc263b",
   "metadata": {},
   "source": [
    "### 특정 막대의 텍스트 색 강조"
   ]
  },
  {
   "cell_type": "code",
   "execution_count": null,
   "id": "b06c3d5f",
   "metadata": {},
   "outputs": [],
   "source": [
    "# 모든 막대의 텍스트 색을 검정색으로 설정하는 사용자 팔레트를 생성합니다.\n",
    "myPal4 = np.tile(A = 'black', reps = 25)\n",
    "\n",
    "# myPals4에서 0번 인덱스(첫 번째) 원소를 빨간색으로 변경합니다.\n",
    "myPal4[0] = 'red'\n",
    "\n",
    "# 현재 Cell의 그래프 크기를 설정합니다. [참고] 다른 Cell에는 적용되지 않습니다.\n",
    "plt.figure(figsize = (8, 8))\n",
    "\n",
    "# 가로 막대 그래프를 그립니다. [참고] x 매개변수를 y로 변경합니다.\n",
    "sns.countplot(data = apt, y = '구', order = grp.index)\n",
    "\n",
    "# x축을 제한하여 막대 오른쪽에 텍스트를 출력할 공간을 확보합니다.\n",
    "plt.xlim(0, 14000)\n",
    "\n",
    "# y축을 제한합니다. [참고] 가로 막대 그래프에서 y축은 바닥에서 시작합니다.\n",
    "plt.ylim(25, -1)\n",
    "\n",
    "# 가로 막대 그래프의 텍스트를 추가하는 코드에 zip() 함수를 추가합니다.\n",
    "for (i, v), c in zip(enumerate(grp), myPal4):\n",
    "    plt.text(x = v, y = i, s = f'{v:,}', ha = 'left', va = 'center', \n",
    "             color = c, fontsize = 7)"
   ]
  },
  {
   "cell_type": "markdown",
   "id": "de73b0c9",
   "metadata": {},
   "source": [
    "### [참고] 파이 차트 그리기"
   ]
  },
  {
   "cell_type": "code",
   "execution_count": null,
   "id": "fc3d4868",
   "metadata": {},
   "outputs": [],
   "source": [
    "# sub의 구별 빈도수를 내림차순 정렬한 grp를 생성합니다.\n",
    "grp = sub['구'].value_counts()\n",
    "grp.head()"
   ]
  },
  {
   "cell_type": "code",
   "execution_count": null,
   "id": "49a14e20",
   "metadata": {},
   "outputs": [],
   "source": [
    "# grp로 파이 차트를 그립니다.\n",
    "plt.pie(x = grp.values, \n",
    "        explode = [0, 0, 0.1], \n",
    "        labels = grp.index, \n",
    "        autopct = '%.1f%%');"
   ]
  },
  {
   "cell_type": "code",
   "execution_count": null,
   "id": "b358fe4f",
   "metadata": {},
   "outputs": [],
   "source": [
    "# 파이 차트의 다양한 그래픽 요소를 변경합니다.\n",
    "plt.pie(x = grp.values, explode = [0, 0, 0.1], \n",
    "        labels = grp.index, autopct = '%.1f%%', \n",
    "        colors = myPal1, \n",
    "        startangle = 90, \n",
    "        counterclock = False,\n",
    "        textprops = dict(c = '0', size = 12),\n",
    "        wedgeprops = dict(ec = '0', lw = 0.5));"
   ]
  },
  {
   "cell_type": "markdown",
   "id": "4207726a",
   "metadata": {},
   "source": [
    "### 이변량 막대 그래프 그리기"
   ]
  },
  {
   "cell_type": "code",
   "execution_count": null,
   "id": "73afd607",
   "metadata": {
    "ExecuteTime": {
     "end_time": "2022-06-11T04:51:34.600473Z",
     "start_time": "2022-06-11T04:51:34.589552Z"
    }
   },
   "outputs": [],
   "source": [
    "# apt의 구별 거래금액 평균을 오름차순 정렬한 grp를 생성합니다.\n",
    "grp = apt.groupby(by = '구')['거래금액'].mean().sort_values()\n",
    "grp.head()"
   ]
  },
  {
   "cell_type": "code",
   "execution_count": null,
   "id": "84ab7258",
   "metadata": {
    "ExecuteTime": {
     "end_time": "2022-06-11T04:51:34.882386Z",
     "start_time": "2022-06-11T04:51:34.602190Z"
    }
   },
   "outputs": [],
   "source": [
    "# 구별 거래금액 평균으로 이변량 막대 그래프를 그립니다.\n",
    "sns.barplot(data = apt, x = '구', y = '거래금액', order = grp.index, \n",
    "            estimator = np.mean, errorbar = None)\n",
    "\n",
    "# y축을 제한하여 막대 위에 텍스트를 출력할 공간을 확보합니다.\n",
    "plt.ylim(0, 22.5)\n",
    "\n",
    "# x축 눈금명을 90도 회전시킵니다.\n",
    "plt.xticks(rotation = 90)\n",
    "\n",
    "# 막대 위에 거래금액 평균을 텍스트로 추가합니다.\n",
    "for i, v in enumerate(grp):\n",
    "    plt.text(x = i, y = v, s = f'{v:.1f}', \n",
    "             ha = 'center', va = 'bottom',\n",
    "             c = 'black', fontsize = 7)"
   ]
  },
  {
   "cell_type": "markdown",
   "id": "artistic-hometown",
   "metadata": {},
   "source": [
    "### 선 그래프 그리기"
   ]
  },
  {
   "cell_type": "code",
   "execution_count": null,
   "id": "3353cc13",
   "metadata": {},
   "outputs": [],
   "source": [
    "# apt를 거래년도와 거래월로 오름차순 정렬하고 apt에 재할당합니다.\n",
    "apt = apt.sort_values(by = ['거래년도', '거래월'])"
   ]
  },
  {
   "cell_type": "code",
   "execution_count": null,
   "id": "7992ad28",
   "metadata": {},
   "outputs": [],
   "source": [
    "# 거래월별 거래금액 평균으로 선 그래프를 그립니다.\n",
    "sns.lineplot(data = apt, x = '거래월', y = '거래금액', c = 'red', \n",
    "             estimator = np.mean, errorbar = None);"
   ]
  },
  {
   "cell_type": "code",
   "execution_count": null,
   "id": "daa654f7",
   "metadata": {},
   "outputs": [],
   "source": [
    "# 선 그래프에 점을 추가합니다.\n",
    "sns.lineplot(data = apt, x = '거래월', y = '거래금액', c = 'red', \n",
    "             estimator = np.mean, errorbar = None, marker = 'o');"
   ]
  },
  {
   "cell_type": "markdown",
   "id": "99fff4fe",
   "metadata": {},
   "source": [
    "### 선 그래프를 겹쳐서 그리기"
   ]
  },
  {
   "cell_type": "code",
   "execution_count": null,
   "id": "84a19d89",
   "metadata": {},
   "outputs": [],
   "source": [
    "# 거래년도별로 선 그래프를 겹쳐서 그립니다.\n",
    "sns.lineplot(data = apt, x = '거래월', y = '거래금액', hue = '거래년도', \n",
    "             estimator = np.mean, errorbar = None, marker = 'o');"
   ]
  },
  {
   "cell_type": "code",
   "execution_count": null,
   "id": "smart-socket",
   "metadata": {
    "ExecuteTime": {
     "end_time": "2022-06-11T04:51:35.766800Z",
     "start_time": "2022-06-11T04:51:35.576189Z"
    }
   },
   "outputs": [],
   "source": [
    "# 거래년도별로 점의 모양과 선의 종류를 다르게 설정합니다.\n",
    "sns.lineplot(data = apt, x = '거래월', y = '거래금액', hue = '거래년도', \n",
    "             estimator = np.mean, errorbar = None, markers = True, \n",
    "             style = '거래년도');"
   ]
  },
  {
   "cell_type": "markdown",
   "id": "df75e65b",
   "metadata": {},
   "source": [
    "### [참고] 범주별 점의 모양을 직접 지정"
   ]
  },
  {
   "cell_type": "code",
   "execution_count": null,
   "id": "6d7c719d",
   "metadata": {},
   "outputs": [],
   "source": [
    "# 거래년도별 점의 모양을 리스트로 지정합니다.\n",
    "markers = ['o', '^', 's']\n",
    "\n",
    "# 거래년도별 점의 모양을 리스트로 지정합니다.\n",
    "sns.lineplot(data = apt, x = '거래월', y = '거래금액', hue = '거래년도', \n",
    "             estimator = np.mean, errorbar = None, markers = markers, \n",
    "             style = '거래년도', dashes = False);"
   ]
  },
  {
   "cell_type": "markdown",
   "id": "0bbd8abf",
   "metadata": {},
   "source": [
    "### [참고] 범주별 선의 종류를 직접 지정"
   ]
  },
  {
   "cell_type": "code",
   "execution_count": null,
   "id": "fe146e07",
   "metadata": {},
   "outputs": [],
   "source": [
    "# 거래년도별 선의 종류를 딕셔너리로 지정합니다.\n",
    "dashes = {2020: (4, 1.5), 2021: (1, 1), 2022: (3, 1, 1.5, 1)}\n",
    "\n",
    "# 거래년도별 선의 종류를 반영합니다.\n",
    "sns.lineplot(data = apt, x = '거래월', y = '거래금액', hue = '거래년도', \n",
    "             estimator = np.mean, errorbar = None, markers = markers, \n",
    "             style = '거래년도', dashes = dashes);"
   ]
  },
  {
   "cell_type": "markdown",
   "id": "eeb08dc5",
   "metadata": {},
   "source": [
    "### [참고] 범례 위치 변경"
   ]
  },
  {
   "cell_type": "code",
   "execution_count": null,
   "id": "19e65ffd",
   "metadata": {},
   "outputs": [],
   "source": [
    "# 거래년도별 선의 종류를 반영합니다.\n",
    "sns.lineplot(data = apt, x = '거래월', y = '거래금액', hue = '거래년도', \n",
    "             estimator = np.mean, errorbar = None, markers = markers, \n",
    "             style = '거래년도', dashes = dashes)\n",
    "\n",
    "# 범례를 그래프 바깥으로 이동시킵니다.\n",
    "plt.legend(loc = 'lower center', bbox_to_anchor = (0.5, 1), ncol = 3);"
   ]
  },
  {
   "cell_type": "markdown",
   "id": "48558094",
   "metadata": {},
   "source": [
    "### x축을 공유하는 두 그래프 그리기"
   ]
  },
  {
   "cell_type": "code",
   "execution_count": null,
   "id": "5203f1fa",
   "metadata": {},
   "outputs": [],
   "source": [
    "# 전체 그래프 영역을 설정합니다.\n",
    "# [참고] 현재 Cell에 적용할 figsize와 dpi 매개변수를 추가할 수 있습니다.\n",
    "fig = plt.figure()\n",
    "\n",
    "# 첫 번째 그래프를 그릴 영역을 추가합니다.\n",
    "# [참고] ax는 axes를 의미합니다. axes는 axis의 복수형입니다.\n",
    "ax1 = fig.add_subplot()\n",
    "\n",
    "# 첫 번째 그래프 영역에 막대 그래프를 그립니다.\n",
    "sns.barplot(data = apt, x = '거래월', y = '거래금액', fc = '0.8', \n",
    "            estimator = np.size, ax = ax1)\n",
    "\n",
    "# 왼쪽 y축을 제한하여 두 번째 그래프와 겹치는 부분을 최소화합니다.\n",
    "ax1.set_ylim(0, 30000)\n",
    "\n",
    "# 왼쪽 y축 이름을 변경합니다.\n",
    "ax1.set_ylabel(ylabel = '거래건수')\n",
    "\n",
    "# 첫 번째 그래프와 x축을 공유하는 두 번째 그래프를 그릴 영역을 설정합니다.\n",
    "# [참고] 두 번째 그래프의 y축을 오른쪽으로 적용합니다.\n",
    "ax2 = ax1.twinx()\n",
    "\n",
    "# 두 번째 그래프 영역에 선 그래프를 그립니다.\n",
    "# [참고] estimator 매개변수의 기본 인수는 평균입니다.\n",
    "sns.lineplot(data = apt, x = '거래월', y = '거래금액', marker = 'o', \n",
    "             errorbar = None, ax = ax2)\n",
    "\n",
    "# 오른쪽 y축을 제한하여 첫 번째 그래프와 겹치는 부분을 최소화합니다.\n",
    "ax2.set_ylim(0, 11)\n",
    "\n",
    "# 오른쪽 y축 이름을 변경합니다.\n",
    "ax2.set_ylabel(ylabel = '평균 거래금액')\n",
    "\n",
    "# 전체 그래프의 제목을 추가합니다.\n",
    "plt.title(label = '월별 거래건수와 평균 거래금액의 변화');"
   ]
  },
  {
   "cell_type": "markdown",
   "id": "14bcc7c6",
   "metadata": {},
   "source": [
    "### 영역을 분리하여 두 그래프 그리기"
   ]
  },
  {
   "cell_type": "code",
   "execution_count": null,
   "id": "2afc57df",
   "metadata": {},
   "outputs": [],
   "source": [
    "# 전체 그래프 영역을 2행 1열로 나누고 x축을 공유하도록 설정합니다.\n",
    "fig, (ax1, ax2) = plt.subplots(nrows = 2, ncols = 1, sharex = True)\n",
    "\n",
    "# 첫 번째 그래프 영역에 막대 그래프를 그립니다.\n",
    "sns.countplot(data = apt, x = '거래월', fc = '0.8', ax = ax1)\n",
    "\n",
    "# 첫 번째 y축을 제한합니다.\n",
    "ax1.set_ylim(0, 25000)\n",
    "\n",
    "# 첫 번째 y축 이름을 변경합니다.\n",
    "ax1.set_ylabel(ylabel = '거래건수')\n",
    "\n",
    "# 첫 번째 x축 이름을 삭제합니다.\n",
    "ax1.set_xlabel(xlabel = None)\n",
    "\n",
    "# 첫 번째 x축 눈금 표시를 제거합니다.\n",
    "ax1.tick_params(axis = 'x', which = 'both', bottom = False)\n",
    "\n",
    "# 두 번째 그래프 영역에 선 그래프를 그립니다.\n",
    "# [참고] estimator 매개변수의 기본 인수는 평균입니다.\n",
    "sns.lineplot(data = apt, x = '거래월', y = '거래금액', marker = 'o', \n",
    "             errorbar = None, ax = ax2)\n",
    "\n",
    "# 두 번째 y축을 제한합니다.\n",
    "ax2.set_ylim(7, 11)\n",
    "\n",
    "# 두 번째 y축 이름을 변경합니다.\n",
    "ax2.set_ylabel(ylabel = '평균 거래금액')\n",
    "\n",
    "# 두 그래프 사이의 여백을 조정합니다.\n",
    "# [참고] pad 매개변수에 여백의 크기를 지정합니다.(기본값: 1.08)\n",
    "plt.tight_layout(pad = 0)\n",
    "\n",
    "# 첫 번째 그래프 제목을 추가합니다.\n",
    "# [주의] plt.title()은 두 그래프 사이에 제목을 출력합니다.\n",
    "ax1.set_title(label = '월별 거래건수와 평균 거래금액 비교');"
   ]
  },
  {
   "cell_type": "markdown",
   "id": "stunning-witness",
   "metadata": {},
   "source": [
    "### 산점도 그리기"
   ]
  },
  {
   "cell_type": "code",
   "execution_count": null,
   "id": "e15a97c9",
   "metadata": {
    "ExecuteTime": {
     "end_time": "2022-06-11T04:51:35.950518Z",
     "start_time": "2022-06-11T04:51:35.769092Z"
    }
   },
   "outputs": [],
   "source": [
    "# 전용면적과 거래금액으로 산점도를 그립니다.\n",
    "sns.scatterplot(data = apt, x = '전용면적', y = '거래금액', \n",
    "                fc = '0.3', ec = '0.8', s = 20, alpha = 0.2);"
   ]
  },
  {
   "cell_type": "markdown",
   "id": "ca0980cd",
   "metadata": {},
   "source": [
    "### 점의 채우기 색 변경"
   ]
  },
  {
   "cell_type": "code",
   "execution_count": null,
   "id": "3ba480d2",
   "metadata": {},
   "outputs": [],
   "source": [
    "# apt를 세대수로 오름차순 정렬하고 apt에 재할당합니다.\n",
    "apt = apt.sort_values(by = '세대수')"
   ]
  },
  {
   "cell_type": "code",
   "execution_count": null,
   "id": "a06d035d",
   "metadata": {
    "ExecuteTime": {
     "end_time": "2022-06-11T04:51:36.883291Z",
     "start_time": "2022-06-11T04:51:35.952703Z"
    },
    "scrolled": true
   },
   "outputs": [],
   "source": [
    "# 세대수(연속형 변수)에 따라 채우기 색을 다르게 설정합니다.\n",
    "sns.scatterplot(data = apt, x = '전용면적', y = '거래금액', \n",
    "                hue = '세대수', ec = 'yellowgreen', \n",
    "                palette = 'YlGn', s = 20, alpha = 0.2);"
   ]
  },
  {
   "cell_type": "markdown",
   "id": "b2ef7f86",
   "metadata": {},
   "source": [
    "### 강남구 데이터로 산점도 그리기"
   ]
  },
  {
   "cell_type": "code",
   "execution_count": null,
   "id": "e4354c5f",
   "metadata": {
    "ExecuteTime": {
     "end_time": "2022-06-11T04:51:36.891445Z",
     "start_time": "2022-06-11T04:51:36.885370Z"
    }
   },
   "outputs": [],
   "source": [
    "# apt에서 강남구만 선택하고 gng에 할당합니다.\n",
    "gng = apt[apt['구'].eq('강남구')]"
   ]
  },
  {
   "cell_type": "code",
   "execution_count": null,
   "id": "0ef3ecc5",
   "metadata": {},
   "outputs": [],
   "source": [
    "# gng로 산점도를 그립니다.\n",
    "sns.scatterplot(data = gng, x = '전용면적', y = '거래금액', \n",
    "                hue = '세대수', ec = 'yellowgreen', \n",
    "                palette = 'YlGn', s = 20, alpha = 0.2);"
   ]
  },
  {
   "cell_type": "markdown",
   "id": "fe6f9ab7",
   "metadata": {},
   "source": [
    "### 산점도에 회귀직선, 수직선 및 수평선 추가"
   ]
  },
  {
   "cell_type": "code",
   "execution_count": null,
   "id": "9945e800",
   "metadata": {},
   "outputs": [],
   "source": [
    "# 점과 회귀직선 관련 그래픽 요소를 딕셔너리로 생성합니다.\n",
    "scatter = dict(fc = '0.3', ec = '0.8', s = 20, alpha = 0.2)\n",
    "regline = dict(color = 'red', lw = 1.5)"
   ]
  },
  {
   "cell_type": "code",
   "execution_count": null,
   "id": "3d6dc1aa",
   "metadata": {
    "ExecuteTime": {
     "end_time": "2022-06-11T04:51:37.172832Z",
     "start_time": "2022-06-11T04:51:37.031072Z"
    }
   },
   "outputs": [],
   "source": [
    "# 산점도에 회귀직선, 수직선(x 평균) 및 수평선(y 평균)을 추가합니다.\n",
    "sns.regplot(data = gng, x = '전용면적', y = '거래금액', ci = None, \n",
    "            scatter_kws = scatter, line_kws = regline)\n",
    "plt.axvline(x = gng['전용면적'].mean(), c = '0', lw = 0.5, ls = '--')\n",
    "plt.axhline(y = gng['거래금액'].mean(), c = '0', lw = 0.5, ls = '--');"
   ]
  },
  {
   "cell_type": "markdown",
   "id": "dietary-transparency",
   "metadata": {},
   "source": [
    "### 산점도 행렬 그리기"
   ]
  },
  {
   "cell_type": "code",
   "execution_count": null,
   "id": "9a9e102d",
   "metadata": {},
   "outputs": [],
   "source": [
    "# 산점도 행렬을 그릴 일부 변수명으로 리스트를 생성합니다.\n",
    "cols = ['전용면적', '층', '세대수', '거래금액']"
   ]
  },
  {
   "cell_type": "code",
   "execution_count": null,
   "id": "a2f0f115",
   "metadata": {},
   "outputs": [],
   "source": [
    "# 선택한 변수로 산점도 행렬을 그립니다.\n",
    "sns.pairplot(data = gng[cols], plot_kws = scatter);"
   ]
  },
  {
   "cell_type": "code",
   "execution_count": null,
   "id": "1d7bdaeb",
   "metadata": {
    "ExecuteTime": {
     "end_time": "2022-06-11T04:51:42.069662Z",
     "start_time": "2022-06-11T04:51:40.609593Z"
    }
   },
   "outputs": [],
   "source": [
    "# x축에 입력변수, y축에 목표변수를 지정하면 산점도 행렬을 간결하게 그립니다.\n",
    "sns.pairplot(data = gng, \n",
    "             x_vars = ['전용면적', '층', '세대수'], \n",
    "             y_vars = '거래금액', \n",
    "             kind = 'reg', \n",
    "             plot_kws = dict(scatter_kws = scatter,\n",
    "                             line_kws = regline));"
   ]
  },
  {
   "cell_type": "markdown",
   "id": "5f1a2540",
   "metadata": {},
   "source": [
    "### 히트맵 그리기"
   ]
  },
  {
   "cell_type": "code",
   "execution_count": null,
   "id": "5ac5ba93",
   "metadata": {},
   "outputs": [],
   "source": [
    "# 현재 Cell의 그래프 크기를 설정합니다.\n",
    "plt.figure(figsize = (8, 6))\n",
    "\n",
    "# 상관계수 행렬로 히트맵을 그립니다.\n",
    "sns.heatmap(data = gng.corr(numeric_only = True), \n",
    "            cmap = 'coolwarm_r', \n",
    "            annot = True, \n",
    "            annot_kws = dict(size = 8))\n",
    "plt.axhline(y = 3); plt.axhline(y = 4)\n",
    "plt.axvline(x = 3); plt.axvline(x = 4);"
   ]
  },
  {
   "cell_type": "markdown",
   "id": "portuguese-field",
   "metadata": {},
   "source": [
    "## End of Document"
   ]
  }
 ],
 "metadata": {
  "kernelspec": {
   "display_name": "Python 3",
   "language": "python",
   "name": "python3"
  },
  "language_info": {
   "codemirror_mode": {
    "name": "ipython",
    "version": 3
   },
   "file_extension": ".py",
   "mimetype": "text/x-python",
   "name": "python",
   "nbconvert_exporter": "python",
   "pygments_lexer": "ipython3",
   "version": "3.11.1"
  },
  "toc": {
   "base_numbering": 1,
   "nav_menu": {},
   "number_sections": false,
   "sideBar": true,
   "skip_h1_title": false,
   "title_cell": "Table of Contents",
   "title_sidebar": "Contents",
   "toc_cell": false,
   "toc_position": {},
   "toc_section_display": true,
   "toc_window_display": false
  },
  "varInspector": {
   "cols": {
    "lenName": 16,
    "lenType": 16,
    "lenVar": 40
   },
   "kernels_config": {
    "python": {
     "delete_cmd_postfix": "",
     "delete_cmd_prefix": "del ",
     "library": "var_list.py",
     "varRefreshCmd": "print(var_dic_list())"
    },
    "r": {
     "delete_cmd_postfix": ") ",
     "delete_cmd_prefix": "rm(",
     "library": "var_list.r",
     "varRefreshCmd": "cat(var_dic_list()) "
    }
   },
   "types_to_exclude": [
    "module",
    "function",
    "builtin_function_or_method",
    "instance",
    "_Feature"
   ],
   "window_display": false
  }
 },
 "nbformat": 4,
 "nbformat_minor": 5
}
