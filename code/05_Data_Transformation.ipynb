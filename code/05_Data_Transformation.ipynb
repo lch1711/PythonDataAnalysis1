{
 "cells": [
  {
   "cell_type": "markdown",
   "id": "a97a133f",
   "metadata": {},
   "source": [
    "## 데이터 변환 및 병합"
   ]
  },
  {
   "cell_type": "markdown",
   "id": "fbe39f19",
   "metadata": {},
   "source": [
    "### 관련 라이브러리 호출"
   ]
  },
  {
   "cell_type": "code",
   "execution_count": null,
   "id": "2e13bffb",
   "metadata": {
    "ExecuteTime": {
     "end_time": "2022-06-09T13:19:45.243532Z",
     "start_time": "2022-06-09T13:19:44.919275Z"
    }
   },
   "outputs": [],
   "source": [
    "# 관련 라이브러리를 호출합니다.\n",
    "import os\n",
    "import chardet\n",
    "import joblib\n",
    "import numpy as np\n",
    "import pandas as pd"
   ]
  },
  {
   "cell_type": "markdown",
   "id": "28f5cd4f",
   "metadata": {},
   "source": [
    "### 작업 경로 확인 및 변경"
   ]
  },
  {
   "cell_type": "code",
   "execution_count": null,
   "id": "712f520f",
   "metadata": {
    "ExecuteTime": {
     "end_time": "2022-06-09T13:19:45.253369Z",
     "start_time": "2022-06-09T13:19:45.245902Z"
    }
   },
   "outputs": [],
   "source": [
    "# 현재 작업 경로를 확인합니다.\n",
    "os.getcwd()"
   ]
  },
  {
   "cell_type": "code",
   "execution_count": null,
   "id": "bdcd919f",
   "metadata": {
    "ExecuteTime": {
     "end_time": "2022-06-09T13:19:45.257301Z",
     "start_time": "2022-06-09T13:19:45.255000Z"
    }
   },
   "outputs": [],
   "source": [
    "# data 폴더로 작업 경로를 변경합니다.\n",
    "os.chdir(path = '../data')"
   ]
  },
  {
   "cell_type": "code",
   "execution_count": null,
   "id": "billion-insider",
   "metadata": {
    "ExecuteTime": {
     "end_time": "2022-06-09T13:19:45.263021Z",
     "start_time": "2022-06-09T13:19:45.259794Z"
    }
   },
   "outputs": [],
   "source": [
    "# 현재 작업 경로에 있는 폴더명과 파일명을 출력합니다.\n",
    "sorted(os.listdir())"
   ]
  },
  {
   "cell_type": "markdown",
   "id": "4186817c",
   "metadata": {},
   "source": [
    "### 실습 데이터셋 준비"
   ]
  },
  {
   "cell_type": "code",
   "execution_count": null,
   "id": "3b2c5b1b",
   "metadata": {},
   "outputs": [],
   "source": [
    "# z 파일을 읽고 price, df1, df2에 할당합니다.\n",
    "price, df1, df2 = joblib.load(filename = 'APT_Price_Prep.z')"
   ]
  },
  {
   "cell_type": "code",
   "execution_count": null,
   "id": "eae603a5",
   "metadata": {},
   "outputs": [],
   "source": [
    "# price의 정보를 확인합니다.\n",
    "price.info()"
   ]
  },
  {
   "cell_type": "code",
   "execution_count": null,
   "id": "owned-possession",
   "metadata": {
    "ExecuteTime": {
     "end_time": "2022-06-09T13:19:51.402781Z",
     "start_time": "2022-06-09T13:19:51.398623Z"
    },
    "scrolled": true
   },
   "outputs": [],
   "source": [
    "# price의 처음 5행을 출력합니다.\n",
    "price.head()"
   ]
  },
  {
   "cell_type": "markdown",
   "id": "short-grenada",
   "metadata": {},
   "source": [
    "### Long type 데이터프레임 생성"
   ]
  },
  {
   "cell_type": "code",
   "execution_count": null,
   "id": "1c50fa6f",
   "metadata": {},
   "outputs": [],
   "source": [
    "# 두 범주형 변수의 빈도수를 elong에 할당합니다.\n",
    "# [참고] elong은 구와 금액구간이 멀티 인덱스(행이름)인 시리즈입니다.\n",
    "elong = price[['구', '금액구간']].value_counts().sort_index()\n",
    "elong.head()"
   ]
  },
  {
   "cell_type": "code",
   "execution_count": null,
   "id": "41f6a650",
   "metadata": {
    "ExecuteTime": {
     "end_time": "2022-06-09T13:19:53.777484Z",
     "start_time": "2022-06-09T13:19:53.770577Z"
    }
   },
   "outputs": [],
   "source": [
    "# elong의 행이름을 초기화하고 기존 행이름을 열로 추가합니다.\n",
    "# [참고] 마지막 열이름은 'count'로 자동 생성되었습니다.\n",
    "elong = elong.reset_index()\n",
    "elong.head()"
   ]
  },
  {
   "cell_type": "code",
   "execution_count": null,
   "id": "waiting-balance",
   "metadata": {
    "ExecuteTime": {
     "end_time": "2022-06-09T13:19:53.782572Z",
     "start_time": "2022-06-09T13:19:53.779443Z"
    }
   },
   "outputs": [],
   "source": [
    "# elong의 마지막 열이름을 변경합니다.\n",
    "elong = elong.rename(columns = {'count': '매매건수'})"
   ]
  },
  {
   "cell_type": "markdown",
   "id": "8fefe582",
   "metadata": {},
   "source": [
    "### Long type을 Wide type으로 변환"
   ]
  },
  {
   "cell_type": "code",
   "execution_count": null,
   "id": "absolute-flesh",
   "metadata": {
    "ExecuteTime": {
     "end_time": "2022-06-09T13:19:53.793454Z",
     "start_time": "2022-06-09T13:19:53.784653Z"
    }
   },
   "outputs": [],
   "source": [
    "# 범주형 변수로 행(인덱스)과 열(컬럼)을 설정하고 연속형 변수로 채웁니다.\n",
    "widen = elong.pivot(index = '구', \n",
    "                    columns = '금액구간', \n",
    "                    values = '매매건수')\n",
    "widen.head()"
   ]
  },
  {
   "cell_type": "code",
   "execution_count": null,
   "id": "0a444adc",
   "metadata": {
    "ExecuteTime": {
     "end_time": "2022-06-09T13:19:53.798837Z",
     "start_time": "2022-06-09T13:19:53.795228Z"
    }
   },
   "outputs": [],
   "source": [
    "# widen의 행이름을 출력합니다.\n",
    "# [참고] 행이름에 name(이름) 속성이 있고 값은 '구'입니다.\n",
    "widen.index"
   ]
  },
  {
   "cell_type": "code",
   "execution_count": null,
   "id": "d079b308",
   "metadata": {
    "ExecuteTime": {
     "end_time": "2022-06-09T13:19:53.803617Z",
     "start_time": "2022-06-09T13:19:53.800741Z"
    }
   },
   "outputs": [],
   "source": [
    "# 행이름의 name을 출력합니다.\n",
    "# [참고] widen의 행이름을 초기화하면 인덱스 name을 열이름으로 자동 적용합니다.\n",
    "widen.index.name"
   ]
  },
  {
   "cell_type": "markdown",
   "id": "aaf61e4e",
   "metadata": {},
   "source": [
    "### widen 행이름 초기화"
   ]
  },
  {
   "cell_type": "code",
   "execution_count": null,
   "id": "86b76ae3",
   "metadata": {
    "ExecuteTime": {
     "end_time": "2022-06-09T13:19:53.811520Z",
     "start_time": "2022-06-09T13:19:53.805336Z"
    }
   },
   "outputs": [],
   "source": [
    "# widen의 행이름을 초기화하고 기존 행이름을 열로 추가합니다.\n",
    "# [참고] 행이름의 name 값인 '구'를 열이름으로 자동 적용했습니다.\n",
    "widen = widen.reset_index()\n",
    "widen.head()"
   ]
  },
  {
   "cell_type": "code",
   "execution_count": null,
   "id": "31fad51d",
   "metadata": {
    "ExecuteTime": {
     "end_time": "2022-06-09T13:19:53.816863Z",
     "start_time": "2022-06-09T13:19:53.813192Z"
    }
   },
   "outputs": [],
   "source": [
    "# widen의 열이름을 출력합니다.\n",
    "# [참고] 열이름에 name(이름) 속성이 있고 값은 '금액구간'입니다.\n",
    "widen.columns"
   ]
  },
  {
   "cell_type": "code",
   "execution_count": null,
   "id": "9b5aea5a",
   "metadata": {
    "ExecuteTime": {
     "end_time": "2022-06-09T13:19:53.823523Z",
     "start_time": "2022-06-09T13:19:53.820067Z"
    }
   },
   "outputs": [],
   "source": [
    "# 열이름의 name을 출력합니다.\n",
    "widen.columns.name"
   ]
  },
  {
   "cell_type": "code",
   "execution_count": null,
   "id": "d9d457f8",
   "metadata": {
    "ExecuteTime": {
     "end_time": "2022-06-09T13:19:53.831913Z",
     "start_time": "2022-06-09T13:19:53.826071Z"
    }
   },
   "outputs": [],
   "source": [
    "# 열이름의 name에 None을 할당하여 삭제합니다.\n",
    "widen.columns.name = None\n",
    "widen.head()"
   ]
  },
  {
   "cell_type": "markdown",
   "id": "276805bf",
   "metadata": {},
   "source": [
    "### Wide type을 Long type으로 변환"
   ]
  },
  {
   "cell_type": "code",
   "execution_count": null,
   "id": "246d20e3",
   "metadata": {
    "scrolled": true
   },
   "outputs": [],
   "source": [
    "# 두 개 이상의 열이름을 지정하여 데이터프레임을 세로로 늘입니다.\n",
    "elong = widen.melt(id_vars = '구', \n",
    "                   value_vars = ['5천 미만', '5천 이상'], \n",
    "                   var_name = '구분', \n",
    "                   value_name = '건수')\n",
    "elong.head()"
   ]
  },
  {
   "cell_type": "code",
   "execution_count": null,
   "id": "254f32c4",
   "metadata": {},
   "outputs": [],
   "source": [
    "# elong을 구로 오름차순 정렬하고 행이름을 초기화한 다음 처음 5행을 출력합니다.\n",
    "elong.sort_values(by = ['구']).reset_index(drop = True).head()"
   ]
  },
  {
   "cell_type": "markdown",
   "id": "scenic-spirituality",
   "metadata": {},
   "source": [
    "### 데이터프레임 결합"
   ]
  },
  {
   "cell_type": "code",
   "execution_count": null,
   "id": "ee6330d8",
   "metadata": {
    "ExecuteTime": {
     "end_time": "2022-06-09T13:19:53.961040Z",
     "start_time": "2022-06-09T13:19:53.957802Z"
    }
   },
   "outputs": [],
   "source": [
    "# 두 데이터프레임의 열이름이 순서까지 정확하게 같은지 확인합니다.\n",
    "# [참고] equals() 함수는 원소의 순서만 달라도 False를 반환합니다.\n",
    "df1.columns.equals(other = df2.columns)"
   ]
  },
  {
   "cell_type": "code",
   "execution_count": null,
   "id": "b749386e",
   "metadata": {
    "ExecuteTime": {
     "end_time": "2022-06-09T13:19:53.974104Z",
     "start_time": "2022-06-09T13:19:53.962781Z"
    },
    "scrolled": true
   },
   "outputs": [],
   "source": [
    "# 열이름이 같은 두 데이터프레임을 행(세로) 방향으로 결합한 결과를 출력합니다.\n",
    "# [참고] 두 데이터프레임의 기존 행이름을 유지합니다.\n",
    "pd.concat(objs = [df1, df2])"
   ]
  },
  {
   "cell_type": "code",
   "execution_count": null,
   "id": "likely-messenger",
   "metadata": {
    "ExecuteTime": {
     "end_time": "2022-06-09T13:19:53.987781Z",
     "start_time": "2022-06-09T13:19:53.975825Z"
    },
    "scrolled": true
   },
   "outputs": [],
   "source": [
    "# 두 데이터프레임을 세로로 결합하고 행이름을 초기화합니다.\n",
    "pd.concat(objs = [df1, df2], ignore_index = True)"
   ]
  },
  {
   "cell_type": "code",
   "execution_count": null,
   "id": "played-private",
   "metadata": {
    "ExecuteTime": {
     "end_time": "2022-06-09T13:19:53.992152Z",
     "start_time": "2022-06-09T13:19:53.989411Z"
    }
   },
   "outputs": [],
   "source": [
    "# df2의 일부 열이름을 변경합니다.\n",
    "df2 = df2.rename(columns = {'아파트': '아파트명'})"
   ]
  },
  {
   "cell_type": "code",
   "execution_count": null,
   "id": "restricted-breakfast",
   "metadata": {
    "ExecuteTime": {
     "end_time": "2022-06-09T13:19:54.011513Z",
     "start_time": "2022-06-09T13:19:53.999095Z"
    },
    "scrolled": true
   },
   "outputs": [],
   "source": [
    "# 열이름이 다른 두 데이터프레임을 행(세로) 방향으로 결합한 결과를 출력합니다.\n",
    "pd.concat(objs = [df1, df2], ignore_index = True)"
   ]
  },
  {
   "cell_type": "markdown",
   "id": "a71ac3b8-76f2-444b-86b8-86e1c4930c8c",
   "metadata": {},
   "source": [
    "### 병합 데이터셋 준비"
   ]
  },
  {
   "cell_type": "code",
   "execution_count": null,
   "id": "50ccc2dd-c04a-4975-822c-d8bc9c0ae9be",
   "metadata": {},
   "outputs": [],
   "source": [
    "# 현재 작업 경로에 있는 폴더명과 파일명을 출력합니다.\n",
    "sorted(os.listdir())"
   ]
  },
  {
   "cell_type": "code",
   "execution_count": null,
   "id": "adaptive-password",
   "metadata": {
    "ExecuteTime": {
     "end_time": "2022-06-09T13:19:51.197617Z",
     "start_time": "2022-06-09T13:19:49.885698Z"
    },
    "tags": []
   },
   "outputs": [],
   "source": [
    "# 상세정보 xlsx 파일을 읽고 데이터프레임을 생성합니다.\n",
    "detail = pd.read_excel(io = 'APT_Detail_Seoul_2022.xlsx')"
   ]
  },
  {
   "cell_type": "code",
   "execution_count": null,
   "id": "meaningful-complement",
   "metadata": {
    "ExecuteTime": {
     "end_time": "2022-06-09T13:19:51.209952Z",
     "start_time": "2022-06-09T13:19:51.199298Z"
    }
   },
   "outputs": [],
   "source": [
    "# detail의 정보를 확인합니다.\n",
    "detail.info()"
   ]
  },
  {
   "cell_type": "code",
   "execution_count": null,
   "id": "powered-preservation",
   "metadata": {
    "ExecuteTime": {
     "end_time": "2022-06-09T13:19:51.222305Z",
     "start_time": "2022-06-09T13:19:51.213964Z"
    }
   },
   "outputs": [],
   "source": [
    "# detail의 처음 5행을 출력합니다.\n",
    "detail.head()"
   ]
  },
  {
   "cell_type": "markdown",
   "id": "previous-spanish",
   "metadata": {},
   "source": [
    "### 외래키 확인 및 전처리"
   ]
  },
  {
   "cell_type": "code",
   "execution_count": null,
   "id": "56a05009",
   "metadata": {},
   "outputs": [],
   "source": [
    "# price 아파트와 detail 아파트명에서 일치하는 원소 개수를 확인합니다.\n",
    "len(set(price['아파트']) & set(detail['아파트명']))"
   ]
  },
  {
   "cell_type": "code",
   "execution_count": null,
   "id": "1a59a22b",
   "metadata": {},
   "outputs": [],
   "source": [
    "# price 아파트에 있지만 detail 아파트명에 없는 원소 개수를 확인합니다.\n",
    "len(set(price['아파트']) - set(detail['아파트명']))"
   ]
  },
  {
   "cell_type": "code",
   "execution_count": null,
   "id": "occupational-numbers",
   "metadata": {
    "ExecuteTime": {
     "end_time": "2022-06-09T13:19:54.070735Z",
     "start_time": "2022-06-09T13:19:54.059868Z"
    }
   },
   "outputs": [],
   "source": [
    "# price 주소와 detail 지번주소에서 일치하는 원소 개수를 확인합니다.\n",
    "len(set(price['주소']) & set(detail['지번주소']))"
   ]
  },
  {
   "cell_type": "code",
   "execution_count": null,
   "id": "musical-isolation",
   "metadata": {
    "ExecuteTime": {
     "end_time": "2022-06-09T13:19:54.075907Z",
     "start_time": "2022-06-09T13:19:54.072277Z"
    }
   },
   "outputs": [],
   "source": [
    "# price의 처음 5행을 출력합니다.\n",
    "# [참고] price 주소가 '서울특별시'로 시작합니다.\n",
    "price['주소'].head()"
   ]
  },
  {
   "cell_type": "code",
   "execution_count": null,
   "id": "together-hungarian",
   "metadata": {
    "ExecuteTime": {
     "end_time": "2022-06-09T13:19:54.081711Z",
     "start_time": "2022-06-09T13:19:54.077759Z"
    }
   },
   "outputs": [],
   "source": [
    "# detail의 처음 5행을 출력합니다.\n",
    "# [참고] detail 지번주소는 '서울시'로 시작합니다.\n",
    "detail['지번주소'].head()"
   ]
  },
  {
   "cell_type": "code",
   "execution_count": null,
   "id": "yellow-crawford",
   "metadata": {
    "ExecuteTime": {
     "end_time": "2022-06-09T13:19:54.120896Z",
     "start_time": "2022-06-09T13:19:54.083601Z"
    }
   },
   "outputs": [],
   "source": [
    "# price 주소에서 '특별'을 삭제합니다.\n",
    "price['주소'] = price['주소'].str.replace(pat = '특별', repl = '')"
   ]
  },
  {
   "cell_type": "code",
   "execution_count": null,
   "id": "forty-cherry",
   "metadata": {
    "ExecuteTime": {
     "end_time": "2022-06-09T13:19:54.133767Z",
     "start_time": "2022-06-09T13:19:54.122642Z"
    }
   },
   "outputs": [],
   "source": [
    "# 외래키에서 일치하는 원소 개수를 다시 확인합니다.\n",
    "len(set(price['주소']) & set(detail['지번주소']))"
   ]
  },
  {
   "cell_type": "code",
   "execution_count": null,
   "id": "58aa2919",
   "metadata": {},
   "outputs": [],
   "source": [
    "# price 주소에 있지만 detail 지번주소에 없는 원소 개수를 확인합니다.\n",
    "len(set(price['주소']) - set(detail['지번주소']))"
   ]
  },
  {
   "cell_type": "markdown",
   "id": "e363126c",
   "metadata": {},
   "source": [
    "### [참고] 비복원추출"
   ]
  },
  {
   "cell_type": "code",
   "execution_count": null,
   "id": "9e37f976-4a7b-49ff-b492-6f3e412e3b13",
   "metadata": {},
   "outputs": [],
   "source": [
    "# 반복문으로 로또 번호를 10번 출력합니다.\n",
    "for i in range(10):\n",
    "    np.random.seed(seed = 1)\n",
    "    lotto = np.random.choice(a = range(1, 46), \n",
    "                             size = 6, \n",
    "                             replace = False)\n",
    "    lotto.sort()\n",
    "    print(lotto)"
   ]
  },
  {
   "cell_type": "markdown",
   "id": "fa566095",
   "metadata": {},
   "source": [
    "### [참고] 복원추출"
   ]
  },
  {
   "cell_type": "code",
   "execution_count": null,
   "id": "50374f7d",
   "metadata": {
    "ExecuteTime": {
     "end_time": "2022-06-09T13:19:54.145792Z",
     "start_time": "2022-06-09T13:19:54.143632Z"
    }
   },
   "outputs": [],
   "source": [
    "# 시드를 고정합니다.\n",
    "np.random.seed(seed = 1)"
   ]
  },
  {
   "cell_type": "code",
   "execution_count": null,
   "id": "6e341259",
   "metadata": {
    "ExecuteTime": {
     "end_time": "2022-06-09T13:19:54.149443Z",
     "start_time": "2022-06-09T13:19:54.147368Z"
    }
   },
   "outputs": [],
   "source": [
    "# 1~4의 정수에서 5개를 복원추출하여 nums에 할당합니다.\n",
    "nums = np.random.choice(a = range(1, 5), size = 5)\n",
    "nums"
   ]
  },
  {
   "cell_type": "code",
   "execution_count": null,
   "id": "57df28c5",
   "metadata": {
    "ExecuteTime": {
     "end_time": "2022-06-09T13:19:54.154705Z",
     "start_time": "2022-06-09T13:19:54.151060Z"
    }
   },
   "outputs": [],
   "source": [
    "# nums를 시리즈로 변환합니다.\n",
    "nums = pd.Series(data = nums)\n",
    "nums"
   ]
  },
  {
   "cell_type": "markdown",
   "id": "253551b9",
   "metadata": {},
   "source": [
    "### [참고] 중복 원소 확인 함수"
   ]
  },
  {
   "cell_type": "code",
   "execution_count": null,
   "id": "3f7a2814",
   "metadata": {
    "ExecuteTime": {
     "end_time": "2022-06-09T13:19:54.171552Z",
     "start_time": "2022-06-09T13:19:54.167876Z"
    }
   },
   "outputs": [],
   "source": [
    "# 시리즈 원소가 중복이면 True, 아니면 False를 반환합니다.\n",
    "# [참고] keep 매개변수에 'first'(기본값), 'last' 또는 False를 지정합니다.\n",
    "nums.duplicated(keep = False)"
   ]
  },
  {
   "cell_type": "code",
   "execution_count": null,
   "id": "1e01c122",
   "metadata": {},
   "outputs": [],
   "source": [
    "# nums의 중복 원소를 모두 선택합니다.\n",
    "nums[nums.duplicated(keep = False)]"
   ]
  },
  {
   "cell_type": "code",
   "execution_count": null,
   "id": "adbeaf28",
   "metadata": {
    "ExecuteTime": {
     "end_time": "2022-06-09T13:19:54.160014Z",
     "start_time": "2022-06-09T13:19:54.156277Z"
    }
   },
   "outputs": [],
   "source": [
    "# 시리즈의 중복 원소 중 첫 번째 원소만 False, 나머지 원소는 True를 반환합니다.\n",
    "# [참고] keep 매개변수에 'last'를 지정하면 시리즈의 중복 원소 중 마지막 원소만 False, \n",
    "# 나머지 원소는 True를 반환합니다.\n",
    "nums.duplicated()"
   ]
  },
  {
   "cell_type": "code",
   "execution_count": null,
   "id": "d239967e",
   "metadata": {},
   "outputs": [],
   "source": [
    "# nums의 중복 원소 중 첫 번째 원소를 제외한 나머지 원소를 선택합니다.\n",
    "# [참고] 중복이 아닌 원소는 False이므로 선택하지 않습니다.\n",
    "nums[nums.duplicated()]"
   ]
  },
  {
   "cell_type": "code",
   "execution_count": null,
   "id": "678b3c20",
   "metadata": {},
   "outputs": [],
   "source": [
    "# nums에서 중복이 아닌 원소와 중복 원소 중 첫 번째 원소만 선택합니다.\n",
    "# [참고] ~ 연산자는 진리값을 반전합니다.\n",
    "nums[~nums.duplicated()]"
   ]
  },
  {
   "cell_type": "markdown",
   "id": "vulnerable-teaching",
   "metadata": {},
   "source": [
    "### 데이터프레임 중복 확인 및 제거"
   ]
  },
  {
   "cell_type": "code",
   "execution_count": null,
   "id": "unauthorized-vision",
   "metadata": {
    "ExecuteTime": {
     "end_time": "2022-06-09T13:19:54.181303Z",
     "start_time": "2022-06-09T13:19:54.178339Z"
    }
   },
   "outputs": [],
   "source": [
    "# detail에서 지번주소의 원소가 중복이면 True, 아니면 False인 dup을 생성합니다.\n",
    "dup = detail['지번주소'].duplicated(keep = False)"
   ]
  },
  {
   "cell_type": "code",
   "execution_count": null,
   "id": "hawaiian-subscriber",
   "metadata": {
    "ExecuteTime": {
     "end_time": "2022-06-09T13:19:54.198663Z",
     "start_time": "2022-06-09T13:19:54.182918Z"
    },
    "scrolled": true
   },
   "outputs": [],
   "source": [
    "# detail에서 지번주소가 중복인 행을 선택하고 지번주소로 오름차순 정렬합니다.\n",
    "detail[dup].sort_values(by = ['지번주소'])"
   ]
  },
  {
   "cell_type": "code",
   "execution_count": null,
   "id": "13e0b917",
   "metadata": {},
   "outputs": [],
   "source": [
    "# detail에서 지번주소가 중복인 원소 중 첫 번째가 아닌 원소의 개수를 확인합니다.\n",
    "detail['지번주소'].duplicated().sum()"
   ]
  },
  {
   "cell_type": "code",
   "execution_count": null,
   "id": "perceived-heaven",
   "metadata": {
    "ExecuteTime": {
     "end_time": "2022-06-09T13:19:54.204195Z",
     "start_time": "2022-06-09T13:19:54.200273Z"
    }
   },
   "outputs": [],
   "source": [
    "# detail에서 지번주소가 중복이 아니거나 중복인 첫 번째 행만 남깁니다.\n",
    "# [참고] ~ 연산자는 진리값을 반전합니다.\n",
    "detail = detail[~detail['지번주소'].duplicated()]"
   ]
  },
  {
   "cell_type": "code",
   "execution_count": null,
   "id": "98c5b63f",
   "metadata": {
    "ExecuteTime": {
     "end_time": "2022-06-09T13:19:54.208748Z",
     "start_time": "2022-06-09T13:19:54.205756Z"
    }
   },
   "outputs": [],
   "source": [
    "# detail의 행 개수를 확인합니다.\n",
    "# [참고] detail의 행 개수가 감소했습니다.(10290 -> 10261)\n",
    "detail.shape[0]"
   ]
  },
  {
   "cell_type": "markdown",
   "id": "buried-sterling",
   "metadata": {},
   "source": [
    "### 데이터프레임 병합"
   ]
  },
  {
   "cell_type": "code",
   "execution_count": null,
   "id": "b72539dd",
   "metadata": {},
   "outputs": [],
   "source": [
    "# price와 detail에서 일치하는 열이름을 확인합니다.\n",
    "set(price.columns) & set(detail.columns)"
   ]
  },
  {
   "cell_type": "code",
   "execution_count": null,
   "id": "economic-kitty",
   "metadata": {
    "ExecuteTime": {
     "end_time": "2022-06-09T13:19:54.265350Z",
     "start_time": "2022-06-09T13:19:54.210268Z"
    },
    "scrolled": true,
    "tags": []
   },
   "outputs": [],
   "source": [
    "# price와 detail로 내부 병합을 실행합니다. 외래키는 '주소'와 '지번주소'입니다.\n",
    "pd.merge(left = price, \n",
    "         right = detail, \n",
    "         how = 'inner', \n",
    "         left_on = '주소', \n",
    "         right_on = '지번주소')"
   ]
  },
  {
   "cell_type": "code",
   "execution_count": null,
   "id": "stupid-float",
   "metadata": {
    "ExecuteTime": {
     "end_time": "2022-06-09T13:19:54.270979Z",
     "start_time": "2022-06-09T13:19:54.267175Z"
    }
   },
   "outputs": [],
   "source": [
    "# detail의 외래키 이름을 '주소'로 변경합니다.\n",
    "detail = detail.rename(columns = {'지번주소': '주소'})"
   ]
  },
  {
   "cell_type": "code",
   "execution_count": null,
   "id": "0bbb0d92",
   "metadata": {
    "ExecuteTime": {
     "end_time": "2022-06-09T13:19:54.275758Z",
     "start_time": "2022-06-09T13:19:54.272523Z"
    }
   },
   "outputs": [],
   "source": [
    "# price와 detail에서 일치하는 열이름을 확인합니다.\n",
    "set(price.columns) & set(detail.columns)"
   ]
  },
  {
   "cell_type": "code",
   "execution_count": null,
   "id": "adjustable-choir",
   "metadata": {
    "ExecuteTime": {
     "end_time": "2022-06-09T13:19:54.298433Z",
     "start_time": "2022-06-09T13:19:54.277406Z"
    }
   },
   "outputs": [],
   "source": [
    "# 외래키 이름이 같으면 on 매개변수를 사용합니다.\n",
    "# [참고] 두 데이터프레임에서 외래키 이름만 같으면 on 매개변수를 생략할 수 있습니다.\n",
    "apt = pd.merge(left = price, right = detail, how = 'inner', on = '주소')"
   ]
  },
  {
   "cell_type": "code",
   "execution_count": null,
   "id": "c71b835d",
   "metadata": {
    "ExecuteTime": {
     "end_time": "2022-06-09T13:19:54.393996Z",
     "start_time": "2022-06-09T13:19:54.300230Z"
    },
    "scrolled": true,
    "tags": []
   },
   "outputs": [],
   "source": [
    "# apt의 정보를 확인합니다.\n",
    "apt.info()"
   ]
  },
  {
   "cell_type": "markdown",
   "id": "handmade-virus",
   "metadata": {},
   "source": [
    "### 외부 파일로 저장"
   ]
  },
  {
   "cell_type": "code",
   "execution_count": null,
   "id": "a86919a2",
   "metadata": {},
   "outputs": [],
   "source": [
    "# apt에서 불필요한 일부 열을 삭제합니다.\n",
    "apt = apt.drop(columns = ['주소', '아파트ID', '아파트명'])"
   ]
  },
  {
   "cell_type": "code",
   "execution_count": null,
   "id": "e9d4727c",
   "metadata": {
    "ExecuteTime": {
     "end_time": "2022-06-09T13:20:10.495481Z",
     "start_time": "2022-06-09T13:19:54.395562Z"
    }
   },
   "outputs": [],
   "source": [
    "# apt를 xlsx 파일로 저장합니다.\n",
    "%time apt.to_excel(excel_writer = 'APT_Merged.xlsx', index = False)"
   ]
  },
  {
   "cell_type": "code",
   "execution_count": null,
   "id": "9e5599fc",
   "metadata": {
    "ExecuteTime": {
     "end_time": "2022-06-09T13:20:11.303697Z",
     "start_time": "2022-06-09T13:20:10.497400Z"
    }
   },
   "outputs": [],
   "source": [
    "# apt를 csv 파일로 저장합니다.\n",
    "%time apt.to_csv(path_or_buf = 'APT_Merged.csv', index = False)"
   ]
  },
  {
   "cell_type": "code",
   "execution_count": null,
   "id": "af413190",
   "metadata": {
    "ExecuteTime": {
     "end_time": "2022-06-09T13:20:11.410350Z",
     "start_time": "2022-06-09T13:20:11.305253Z"
    }
   },
   "outputs": [],
   "source": [
    "# apt를 z 파일로 저장합니다.\n",
    "%time joblib.dump(value = apt, filename = 'APT_Merged.z')"
   ]
  },
  {
   "cell_type": "markdown",
   "id": "vocational-sacrifice",
   "metadata": {},
   "source": [
    "## End of Document"
   ]
  }
 ],
 "metadata": {
  "kernelspec": {
   "display_name": "Python 3",
   "language": "python",
   "name": "python3"
  },
  "language_info": {
   "codemirror_mode": {
    "name": "ipython",
    "version": 3
   },
   "file_extension": ".py",
   "mimetype": "text/x-python",
   "name": "python",
   "nbconvert_exporter": "python",
   "pygments_lexer": "ipython3",
   "version": "3.11.1"
  },
  "toc": {
   "base_numbering": 1,
   "nav_menu": {},
   "number_sections": false,
   "sideBar": true,
   "skip_h1_title": false,
   "title_cell": "Table of Contents",
   "title_sidebar": "Contents",
   "toc_cell": false,
   "toc_position": {},
   "toc_section_display": true,
   "toc_window_display": false
  },
  "varInspector": {
   "cols": {
    "lenName": 16,
    "lenType": 16,
    "lenVar": 40
   },
   "kernels_config": {
    "python": {
     "delete_cmd_postfix": "",
     "delete_cmd_prefix": "del ",
     "library": "var_list.py",
     "varRefreshCmd": "print(var_dic_list())"
    },
    "r": {
     "delete_cmd_postfix": ") ",
     "delete_cmd_prefix": "rm(",
     "library": "var_list.r",
     "varRefreshCmd": "cat(var_dic_list()) "
    }
   },
   "types_to_exclude": [
    "module",
    "function",
    "builtin_function_or_method",
    "instance",
    "_Feature"
   ],
   "window_display": false
  }
 },
 "nbformat": 4,
 "nbformat_minor": 5
}
