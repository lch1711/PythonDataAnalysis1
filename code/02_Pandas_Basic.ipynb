{
 "cells": [
  {
   "cell_type": "markdown",
   "id": "a97a133f",
   "metadata": {},
   "source": [
    "## pandas 기초"
   ]
  },
  {
   "cell_type": "markdown",
   "id": "exciting-springfield",
   "metadata": {},
   "source": [
    "### 라이브러리 호출"
   ]
  },
  {
   "cell_type": "code",
   "execution_count": null,
   "id": "absolute-reasoning",
   "metadata": {},
   "outputs": [],
   "source": [
    "# pandas 라이브러리를 호출합니다.\n",
    "# [참고] numpy 라이브러리도 함께 호출하는 것이 좋습니다.\n",
    "import numpy as np\n",
    "import pandas as pd"
   ]
  },
  {
   "cell_type": "markdown",
   "id": "palestinian-savannah",
   "metadata": {},
   "source": [
    "### 시리즈 생성"
   ]
  },
  {
   "cell_type": "code",
   "execution_count": null,
   "id": "f8eb8a80",
   "metadata": {},
   "outputs": [],
   "source": [
    "# 다양한 자료형을 원소로 갖는 리스트를 생성합니다.\n",
    "a = [1, 2.0, '3']"
   ]
  },
  {
   "cell_type": "code",
   "execution_count": null,
   "id": "660aac2e",
   "metadata": {},
   "outputs": [],
   "source": [
    "# 리스트를 1차원 배열로 변환합니다.\n",
    "# [참고] 1차원 배열은 원소의 자료형을 통일시킵니다.\n",
    "np.array(object = a)"
   ]
  },
  {
   "cell_type": "code",
   "execution_count": null,
   "id": "lovely-tsunami",
   "metadata": {},
   "outputs": [],
   "source": [
    "# 리스트(또는 1차원 배열)를 시리즈로 변환합니다.\n",
    "# [참고] 시리즈는 원소의 자료형을 유지시킵니다.\n",
    "sr = pd.Series(data = a)"
   ]
  },
  {
   "cell_type": "code",
   "execution_count": null,
   "id": "agricultural-period",
   "metadata": {},
   "outputs": [],
   "source": [
    "# sr을 출력합니다. sr의 원소 자료형은 object이므로 원소별 자료형이 다를 수 있습니다.\n",
    "# [참고] 시리즈는 인덱스와 값을 세로로 출력하고 원소 자료형을 아래에 추가합니다.\n",
    "sr"
   ]
  },
  {
   "cell_type": "code",
   "execution_count": null,
   "id": "funded-metadata",
   "metadata": {},
   "outputs": [],
   "source": [
    "# sr의 클래스를 확인합니다. sr의 클래스는 pandas.core.series.Series입니다.\n",
    "type(sr)"
   ]
  },
  {
   "cell_type": "markdown",
   "id": "b2a23999",
   "metadata": {},
   "source": [
    "### 시리즈 확인"
   ]
  },
  {
   "cell_type": "code",
   "execution_count": null,
   "id": "lyric-bottom",
   "metadata": {},
   "outputs": [],
   "source": [
    "# sr의 형태(행 개수, 열 개수)를 확인합니다.\n",
    "sr.shape"
   ]
  },
  {
   "cell_type": "code",
   "execution_count": null,
   "id": "5faaefb0",
   "metadata": {},
   "outputs": [],
   "source": [
    "# sr의 원소 개수를 확인합니다.\n",
    "sr.size"
   ]
  },
  {
   "cell_type": "code",
   "execution_count": null,
   "id": "under-peninsula",
   "metadata": {},
   "outputs": [],
   "source": [
    "# sr의 원소 자료형을 확인합니다. sr의 원소 자료형은 'O'입니다.\n",
    "sr.dtype"
   ]
  },
  {
   "cell_type": "code",
   "execution_count": null,
   "id": "anonymous-treatment",
   "metadata": {},
   "outputs": [],
   "source": [
    "# sr의 값(원소)을 확인합니다. sr의 값은 numpy.ndarray입니다.\n",
    "sr.values"
   ]
  },
  {
   "cell_type": "code",
   "execution_count": null,
   "id": "metric-evans",
   "metadata": {},
   "outputs": [],
   "source": [
    "# sr의 인덱스를 확인합니다.\n",
    "# [참고] 시리즈를 생성할 때 인덱스를 지정하지 않으면 정수 인덱스를 자동 적용합니다.\n",
    "sr.index"
   ]
  },
  {
   "cell_type": "markdown",
   "id": "d48481d0",
   "metadata": {},
   "source": [
    "### 시리즈 원소별 자료형 확인"
   ]
  },
  {
   "cell_type": "code",
   "execution_count": null,
   "id": "b153973a",
   "metadata": {},
   "outputs": [],
   "source": [
    "# 반복문으로 sr의 원소별 클래스를 출력합니다. 원소별 자료형이 제각각입니다.\n",
    "# [주의] sr로 산술 연산 또는 문자열 결합을 시도하면 에러를 반환할 수 있습니다.\n",
    "for i in sr:\n",
    "    print(type(i))"
   ]
  },
  {
   "cell_type": "code",
   "execution_count": null,
   "id": "53214905",
   "metadata": {
    "scrolled": true
   },
   "outputs": [],
   "source": [
    "# 원소별 클래스가 다른 시리즈로 산술 연산을 시도합니다.\n",
    "# [주의] sr의 세 번째 원소가 문자열이므로 에러를 반환합니다.\n",
    "sr + 1"
   ]
  },
  {
   "cell_type": "code",
   "execution_count": null,
   "id": "1a3f46c1",
   "metadata": {
    "scrolled": true
   },
   "outputs": [],
   "source": [
    "# 원소별 클래스가 다른 시리즈로 문자열 결합을 시도합니다.\n",
    "# [주의] sr의 1~2번째 원소가 정수와 실수이므로 에러를 반환합니다.\n",
    "sr + '1'"
   ]
  },
  {
   "cell_type": "markdown",
   "id": "f9b9e49c",
   "metadata": {},
   "source": [
    "### 시리즈 원소의 자료형 변환"
   ]
  },
  {
   "cell_type": "code",
   "execution_count": null,
   "id": "bb783cda",
   "metadata": {},
   "outputs": [],
   "source": [
    "# sr의 원소 자료형을 정수로 변환하고 산술 연산을 실행합니다.\n",
    "# [참고] 두 번째 원소가 실수(2.0)이므로 에러를 반환하지 않습니다.\n",
    "sr.astype(int) + 1"
   ]
  },
  {
   "cell_type": "code",
   "execution_count": null,
   "id": "green-edinburgh",
   "metadata": {
    "ExecuteTime": {
     "end_time": "2022-06-09T13:22:39.384993Z",
     "start_time": "2022-06-09T13:22:39.381604Z"
    }
   },
   "outputs": [],
   "source": [
    "# sr의 원소 자료형을 실수로 변환하고 산술 연산을 실행합니다.\n",
    "sr.astype(float) + 1"
   ]
  },
  {
   "cell_type": "code",
   "execution_count": null,
   "id": "b14286e6",
   "metadata": {
    "ExecuteTime": {
     "end_time": "2022-06-09T13:22:39.390355Z",
     "start_time": "2022-06-09T13:22:39.386874Z"
    }
   },
   "outputs": [],
   "source": [
    "# sr의 원소 자료형을 문자열로 변환하고 문자열 결합을 실행합니다.\n",
    "sr.astype(str) + '1'"
   ]
  },
  {
   "cell_type": "code",
   "execution_count": null,
   "id": "0dc20ccd",
   "metadata": {},
   "outputs": [],
   "source": [
    "# sr의 원소 자료형을 실수로 변환한 결과를 sr에 재할당합니다.\n",
    "# [참고] 불리언 인덱싱을 실습하기 위함입니다.\n",
    "sr = sr.astype(float)"
   ]
  },
  {
   "cell_type": "markdown",
   "id": "8cbc0a5a",
   "metadata": {},
   "source": [
    "### [참고] 시리즈를 생성하는 다른 방법"
   ]
  },
  {
   "cell_type": "code",
   "execution_count": null,
   "id": "71ced9a8",
   "metadata": {},
   "outputs": [],
   "source": [
    "# 리스트 또는 1차원 배열로 시리즈를 생성할 때 인덱스를 지정할 수 있습니다.\n",
    "# [참고] index 매개변수에 원하는 인덱스를 리스트로 지정합니다.\n",
    "pd.Series(data = a, index = ['a', 'b', 'c'])"
   ]
  },
  {
   "cell_type": "code",
   "execution_count": null,
   "id": "protected-donna",
   "metadata": {},
   "outputs": [],
   "source": [
    "# 딕셔너리로 시리즈를 생성합니다.\n",
    "# [주의] 딕셔너리의 키를 인덱스로 자동 적용하므로 인덱스를 추가 지정할 수 없습니다!\n",
    "pd.Series(data = {'a': 1, 'b': 3, 'c': 5})"
   ]
  },
  {
   "cell_type": "markdown",
   "id": "funded-copyright",
   "metadata": {},
   "source": [
    "### 시리즈 인덱스 변경"
   ]
  },
  {
   "cell_type": "code",
   "execution_count": null,
   "id": "46fe8cf0",
   "metadata": {},
   "outputs": [],
   "source": [
    "# sr 인덱스를 정수로 변경합니다.\n",
    "sr.index = [1, 2, 3]\n",
    "sr"
   ]
  },
  {
   "cell_type": "code",
   "execution_count": null,
   "id": "under-london",
   "metadata": {},
   "outputs": [],
   "source": [
    "# sr 인덱스를 문자열로 변경합니다.\n",
    "sr.index = ['a', 'b', 'c']\n",
    "sr"
   ]
  },
  {
   "cell_type": "markdown",
   "id": "2e93b662",
   "metadata": {},
   "source": [
    "### 시리즈 인덱싱 및 슬라이싱"
   ]
  },
  {
   "cell_type": "code",
   "execution_count": null,
   "id": "d5716e1c",
   "metadata": {},
   "outputs": [],
   "source": [
    "# 정수 인덱스로 sr의 첫 번째 원소를 선택합니다.\n",
    "# [주의] 시리즈의 인덱스가 정수일 때 왼쪽 코드를 실행하면 에러를 반환할 수 있습니다.\n",
    "sr[0]"
   ]
  },
  {
   "cell_type": "code",
   "execution_count": null,
   "id": "cc777928",
   "metadata": {},
   "outputs": [],
   "source": [
    "# 행이름으로 sr의 첫 번째 원소를 선택합니다.\n",
    "# [참고] 시리즈는 딕셔너리처럼 대괄호 안에 행이름을 지정할 수 있습니다.\n",
    "sr['a']"
   ]
  },
  {
   "cell_type": "code",
   "execution_count": null,
   "id": "adbfe656",
   "metadata": {},
   "outputs": [],
   "source": [
    "# 정수 인덱스로 sr을 슬라이싱합니다.\n",
    "# [참고] 시리즈를 정수 인덱스로 슬라이싱하면 콜론 오른쪽 인덱스를 포함하지 않습니다.\n",
    "sr[0:3]"
   ]
  },
  {
   "cell_type": "code",
   "execution_count": null,
   "id": "ce45f298",
   "metadata": {},
   "outputs": [],
   "source": [
    "# 행이름으로 sr을 슬라이싱합니다.\n",
    "# [참고] 시리즈를 행이름으로 슬라이싱하면 콜론 오른쪽 행이름을 포함합니다.\n",
    "sr['a':'c']"
   ]
  },
  {
   "cell_type": "code",
   "execution_count": null,
   "id": "40aa541e",
   "metadata": {},
   "outputs": [],
   "source": [
    "# 대괄호 안에 정수 인덱스를 원소로 갖는 리스트를 지정합니다.(배열 인덱싱)\n",
    "# [참고] 정수 인덱스 대신 행이름 ['b', 'c']를 지정해도 같은 결과를 얻습니다.\n",
    "sr[[1, 2]]"
   ]
  },
  {
   "cell_type": "markdown",
   "id": "laughing-effects",
   "metadata": {},
   "source": [
    "### iloc 인덱서"
   ]
  },
  {
   "cell_type": "code",
   "execution_count": null,
   "id": "proof-governor",
   "metadata": {},
   "outputs": [],
   "source": [
    "# 대괄호 안에 정수 인덱스를 스칼라로 지정하면 해당 원소를 반환합니다.\n",
    "sr.iloc[0]"
   ]
  },
  {
   "cell_type": "code",
   "execution_count": null,
   "id": "cloudy-wildlife",
   "metadata": {},
   "outputs": [],
   "source": [
    "# 대괄호 안에 정수 인덱스를 리스트로 지정하면 해당 원소를 시리즈로 반환합니다.\n",
    "sr.iloc[[0]]"
   ]
  },
  {
   "cell_type": "code",
   "execution_count": null,
   "id": "latest-involvement",
   "metadata": {},
   "outputs": [],
   "source": [
    "# 연속하지 않는 두 개 이상의 정수를 지정하려면 반드시 리스트로 묶어야 합니다.\n",
    "# [참고] 아래 코드를 실행하면 sr의 0, 2번 인덱스 원소를 시리즈로 반환합니다.\n",
    "sr.iloc[[0, 2]]"
   ]
  },
  {
   "cell_type": "code",
   "execution_count": null,
   "id": "dramatic-associate",
   "metadata": {},
   "outputs": [],
   "source": [
    "# 대괄호 안에 정수를 슬라이스로 지정하면 연속하는 원소를 시리즈로 반환합니다.\n",
    "# [참고] iloc 인덱서는 콜론 오른쪽 인덱스를 포함하지 않습니다.\n",
    "sr.iloc[0:2]"
   ]
  },
  {
   "cell_type": "markdown",
   "id": "de1175a6",
   "metadata": {},
   "source": [
    "### loc 인덱서"
   ]
  },
  {
   "cell_type": "code",
   "execution_count": null,
   "id": "closing-concept",
   "metadata": {},
   "outputs": [],
   "source": [
    "# 대괄호 안에 행이름을 스칼라로 지정하면 해당 원소를 반환합니다.\n",
    "sr.loc['a']"
   ]
  },
  {
   "cell_type": "code",
   "execution_count": null,
   "id": "infinite-fireplace",
   "metadata": {},
   "outputs": [],
   "source": [
    "# 대괄호 안에 행이름을 리스트로 지정하면 해당 원소를 시리즈로 반환합니다.\n",
    "sr.loc[['a']]"
   ]
  },
  {
   "cell_type": "code",
   "execution_count": null,
   "id": "genetic-delay",
   "metadata": {},
   "outputs": [],
   "source": [
    "# 연속하지 않는 두 개 이상의 행이름을 지정하려면 반드시 리스트로 묶어야 합니다.\n",
    "# [참고] 아래 코드를 실행하면 sr의 행이름이 'a'와 'c'인 원소를 시리즈로 반환합니다.\n",
    "sr.loc[['a', 'c']]"
   ]
  },
  {
   "cell_type": "code",
   "execution_count": null,
   "id": "emerging-federal",
   "metadata": {},
   "outputs": [],
   "source": [
    "# 대괄호 안에 행이름을 슬라이스로 지정하면 연속하는 원소를 시리즈로 반환합니다.\n",
    "# [참고] loc 인덱서는 콜론 오른쪽 행이름을 포함합니다!\n",
    "sr.loc['a':'c']"
   ]
  },
  {
   "cell_type": "markdown",
   "id": "f9edcc80",
   "metadata": {},
   "source": [
    "### [참고] 인덱서를 반드시 사용해야 하나?"
   ]
  },
  {
   "cell_type": "code",
   "execution_count": null,
   "id": "5c562fb4",
   "metadata": {},
   "outputs": [],
   "source": [
    "# 인덱스가 정수 1부터 시작하는 시리즈를 생성합니다.\n",
    "sr1 = pd.Series(data = range(3), index = range(1, 4))\n",
    "sr1"
   ]
  },
  {
   "cell_type": "code",
   "execution_count": null,
   "id": "e709c021",
   "metadata": {
    "scrolled": true
   },
   "outputs": [],
   "source": [
    "# sr1의 첫 번째 원소를 인덱싱합니다.\n",
    "# [주의] sr1의 행이름에 정수 0이 없으므로 에러를 반환합니다.\n",
    "sr1[0]"
   ]
  },
  {
   "cell_type": "code",
   "execution_count": null,
   "id": "e0c2aa0d",
   "metadata": {},
   "outputs": [],
   "source": [
    "# sr1에 iloc 인덱서를 추가하면 0번 인덱스(첫 번째) 원소를 선택할 수 있습니다.\n",
    "sr1.iloc[0]"
   ]
  },
  {
   "cell_type": "code",
   "execution_count": null,
   "id": "f8d3b058",
   "metadata": {},
   "outputs": [],
   "source": [
    "# sr1에 loc 인덱서를 추가하면 첫 번째 행이름으로 원소를 선택할 수 있습니다.\n",
    "# [참고] 아래 코드에서 loc 인덱서를 생략해도 되지만 인덱서를 추가하는 것이 좋습니다.\n",
    "sr1.loc[1]"
   ]
  },
  {
   "cell_type": "code",
   "execution_count": null,
   "id": "c132666b",
   "metadata": {},
   "outputs": [],
   "source": [
    "# 중복 인덱스를 갖는 시리즈를 생성합니다.\n",
    "sr2 = pd.Series(data = range(3), index = np.tile(A = 1, reps = 3))\n",
    "sr2"
   ]
  },
  {
   "cell_type": "code",
   "execution_count": null,
   "id": "da52e17d",
   "metadata": {},
   "outputs": [],
   "source": [
    "# sr2에서 행이름이 정수 1인 원소를 모두 선택합니다.\n",
    "sr2[1]"
   ]
  },
  {
   "cell_type": "code",
   "execution_count": null,
   "id": "67e360eb",
   "metadata": {},
   "outputs": [],
   "source": [
    "# sr2에 iloc 인덱서를 추가하면 0번 인덱스(첫 번째) 원소를 선택할 수 있습니다.\n",
    "sr2.iloc[0]"
   ]
  },
  {
   "cell_type": "markdown",
   "id": "47453313",
   "metadata": {},
   "source": [
    "### 시리즈의 비교 연산"
   ]
  },
  {
   "cell_type": "code",
   "execution_count": null,
   "id": "interstate-range",
   "metadata": {},
   "outputs": [],
   "source": [
    "# 시리즈로 비교 연산을 실행합니다.\n",
    "# [참고] 왼쪽 코드를 실행하면 원소가 True 또는 False인 부울형 시리즈를 반환합니다.\n",
    "sr >= 1"
   ]
  },
  {
   "cell_type": "code",
   "execution_count": null,
   "id": "a34c9977",
   "metadata": {},
   "outputs": [],
   "source": [
    "# 부울형 시리즈 사이에 논리 연산자를 사용하면 에러를 반환합니다.\n",
    "# [주의] 논리 연산자는 진리값 사이에서 정상적으로 동작합니다.\n",
    "# [참고] 부울형 시리즈를 True 또는 False로 판단할 수 없어서 에러를 반환합니다.\n",
    "sr >= 1 and sr < 3"
   ]
  },
  {
   "cell_type": "code",
   "execution_count": null,
   "id": "115965e5",
   "metadata": {},
   "outputs": [],
   "source": [
    "# 반복문으로 시리즈의 원소마다 비교 연산을 실행하면 진리값을 반환합니다.\n",
    "for i in sr:\n",
    "    print(i >= 1 and i < 3)"
   ]
  },
  {
   "cell_type": "markdown",
   "id": "cbd4501c",
   "metadata": {},
   "source": [
    "### 비트 연산자"
   ]
  },
  {
   "cell_type": "code",
   "execution_count": null,
   "id": "dc34f9cf",
   "metadata": {},
   "outputs": [],
   "source": [
    "# [논리곱] 대응하는 원소가 모두 True면 True, 아니면 False를 반환합니다.\n",
    "# [참고] 비트 연산자의 우선순위가 비교 연산자보다 높습니다.\n",
    "(sr >= 1) & (sr < 3)"
   ]
  },
  {
   "cell_type": "code",
   "execution_count": null,
   "id": "513149a3",
   "metadata": {},
   "outputs": [],
   "source": [
    "# [논리합] 대응하는 원소 중 하나라도 True면 True, 아니면 False를 반환합니다.\n",
    "(sr >= 1) | (sr < 3)"
   ]
  },
  {
   "cell_type": "code",
   "execution_count": null,
   "id": "39f8a1a7",
   "metadata": {},
   "outputs": [],
   "source": [
    "# [배타적 논리합] 대응하는 원소가 다르면 True, 같으면 False를 반환합니다.\n",
    "(sr >= 1) ^ (sr < 3)"
   ]
  },
  {
   "cell_type": "code",
   "execution_count": null,
   "id": "a79baf36",
   "metadata": {},
   "outputs": [],
   "source": [
    "# [논리부정] True를 False로, False를 True로 반전합니다.\n",
    "# [참고] 전체 코드를 괄호로 감싸지 않으면 결과가 달라집니다.\n",
    "~((sr >= 1) & (sr < 3))"
   ]
  },
  {
   "cell_type": "markdown",
   "id": "46c3a812",
   "metadata": {},
   "source": [
    "### 시리즈의 불리언 인덱싱"
   ]
  },
  {
   "cell_type": "code",
   "execution_count": null,
   "id": "paperback-stupid",
   "metadata": {},
   "outputs": [],
   "source": [
    "# 대괄호 안에 비교 연산 코드를 지정하면 True에 해당하는 원소를 선택합니다.\n",
    "sr.loc[sr >= 1]"
   ]
  },
  {
   "cell_type": "code",
   "execution_count": null,
   "id": "be480945",
   "metadata": {
    "scrolled": true
   },
   "outputs": [],
   "source": [
    "# [주의] iloc 인덱서를 사용하면 에러를 반환합니다.\n",
    "sr.iloc[sr >= 1]"
   ]
  },
  {
   "cell_type": "code",
   "execution_count": null,
   "id": "4960687a",
   "metadata": {},
   "outputs": [],
   "source": [
    "# [참고] 시리즈를 불리언 인덱싱할 때 loc 인덱서를 생략할 수 있습니다.\n",
    "sr[sr >= 1]"
   ]
  },
  {
   "cell_type": "code",
   "execution_count": null,
   "id": "7e946e12",
   "metadata": {},
   "outputs": [],
   "source": [
    "# 두 개 이상의 조건을 고려하려면 비트 연산자를 추가합니다.\n",
    "sr.loc[(sr >= 1) & (sr < 3)]"
   ]
  },
  {
   "cell_type": "markdown",
   "id": "2a5b7129",
   "metadata": {},
   "source": [
    "### [참고] 얕은 복사"
   ]
  },
  {
   "cell_type": "code",
   "execution_count": null,
   "id": "b5e11547",
   "metadata": {},
   "outputs": [],
   "source": [
    "# sr1을 얕은 복사한 sr3를 생성합니다.\n",
    "sr3 = sr1"
   ]
  },
  {
   "cell_type": "code",
   "execution_count": null,
   "id": "461ab582",
   "metadata": {},
   "outputs": [],
   "source": [
    "# 두 변수가 가리키는 객체의 메모리 주소가 같은지 확인합니다.\n",
    "id(sr1) == id(sr3)"
   ]
  },
  {
   "cell_type": "code",
   "execution_count": null,
   "id": "5d1b874b",
   "metadata": {},
   "outputs": [],
   "source": [
    "# sr3의 첫 번째 원소를 2로 변경합니다.\n",
    "sr3.iloc[0] = 2"
   ]
  },
  {
   "cell_type": "code",
   "execution_count": null,
   "id": "f938287d",
   "metadata": {},
   "outputs": [],
   "source": [
    "# sr1의 첫 번째 원소도 바뀌었습니다.\n",
    "sr1"
   ]
  },
  {
   "cell_type": "markdown",
   "id": "cab796e8",
   "metadata": {},
   "source": [
    "### [참고] 깊은 복사"
   ]
  },
  {
   "cell_type": "code",
   "execution_count": null,
   "id": "cd272613",
   "metadata": {},
   "outputs": [],
   "source": [
    "# sr1을 깊은 복사한 sr4를 생성합니다.\n",
    "sr4 = sr1.copy()"
   ]
  },
  {
   "cell_type": "code",
   "execution_count": null,
   "id": "debf6742",
   "metadata": {},
   "outputs": [],
   "source": [
    "# 두 변수가 가리키는 객체의 메모리 주소가 같은지 확인합니다.\n",
    "id(sr1) == id(sr4)"
   ]
  },
  {
   "cell_type": "code",
   "execution_count": null,
   "id": "9d0aa9c0",
   "metadata": {},
   "outputs": [],
   "source": [
    "# sr4의 첫 번째 원소를 1로 변경합니다.\n",
    "sr4.iloc[0] = 1"
   ]
  },
  {
   "cell_type": "code",
   "execution_count": null,
   "id": "3535ea8d",
   "metadata": {},
   "outputs": [],
   "source": [
    "# sr1의 첫 번째 원소가 바뀌지 않았습니다.\n",
    "# [참고] 객체의 복사본이 필요하면 반드시 깊은 복사를 해야 합니다.\n",
    "sr1"
   ]
  },
  {
   "cell_type": "markdown",
   "id": "associate-parker",
   "metadata": {},
   "source": [
    "### 데이터프레임 생성"
   ]
  },
  {
   "cell_type": "code",
   "execution_count": null,
   "id": "fb97506c",
   "metadata": {},
   "outputs": [],
   "source": [
    "# 같은 길이의 리스트를 원소로 갖는 리스트를 생성합니다.\n",
    "b = [[1, 2], [3, 4], [5, 6]]"
   ]
  },
  {
   "cell_type": "code",
   "execution_count": null,
   "id": "cc82da57",
   "metadata": {},
   "outputs": [],
   "source": [
    "# 리스트를 2차원 배열로 변환합니다.\n",
    "np.array(object = b)"
   ]
  },
  {
   "cell_type": "code",
   "execution_count": null,
   "id": "426452db",
   "metadata": {},
   "outputs": [],
   "source": [
    "# 리스트를 데이터프레임으로 변환합니다.\n",
    "df = pd.DataFrame(data = b)"
   ]
  },
  {
   "cell_type": "code",
   "execution_count": null,
   "id": "inner-hindu",
   "metadata": {},
   "outputs": [],
   "source": [
    "# df를 출력합니다. 데이터프레임은 인덱스(행이름)와 컬럼명(열이름)을 출력합니다.\n",
    "# [참고] 데이터프레임을 생성할 때 인덱스와 컬럼명을 지정하지 않으면 정수 인덱스를 \n",
    "# 자동 적용합니다.\n",
    "df"
   ]
  },
  {
   "cell_type": "code",
   "execution_count": null,
   "id": "promising-composer",
   "metadata": {},
   "outputs": [],
   "source": [
    "# df의 클래스를 확인합니다. df의 클래스는 pandas.core.frame.DataFrame입니다.\n",
    "type(df)"
   ]
  },
  {
   "cell_type": "markdown",
   "id": "ea20aec4",
   "metadata": {},
   "source": [
    "### [참고] 데이터프레임을 생성하는 다른 방법"
   ]
  },
  {
   "cell_type": "code",
   "execution_count": null,
   "id": "immune-commons",
   "metadata": {},
   "outputs": [],
   "source": [
    "# 데이터프레임을 생성할 때 인덱스와 컬럼명을 리스트로 지정할 수 있습니다.\n",
    "# [참고] 리스트 대신 range()를 지정할 수 있습니다.\n",
    "df = pd.DataFrame(data = b, index = range(1, 4), columns = ['A', 'B'])\n",
    "df"
   ]
  },
  {
   "cell_type": "code",
   "execution_count": null,
   "id": "eleven-minutes",
   "metadata": {},
   "outputs": [],
   "source": [
    "# 딕셔너리로 데이터프레임을 생성합니다.\n",
    "# [참고] 딕셔너리의 키를 열이름으로 적용하고 값을 세로로 입력합니다.\n",
    "pd.DataFrame(data = {'A': [1, 2], 'B': [3, 4]})"
   ]
  },
  {
   "cell_type": "code",
   "execution_count": null,
   "id": "focused-sustainability",
   "metadata": {},
   "outputs": [],
   "source": [
    "# 딕셔너리를 원소로 갖는 리스트로 데이터프레임을 생성합니다.\n",
    "# [참고] 딕셔너리의 키를 열이름으로 적용하고 값을 가로로 입력합니다.\n",
    "pd.DataFrame(data = [{'A': 1, 'B': 2}, {'A': 3, 'B': 4}])"
   ]
  },
  {
   "cell_type": "markdown",
   "id": "separate-clarity",
   "metadata": {},
   "source": [
    "### 데이터프레임 확인"
   ]
  },
  {
   "cell_type": "code",
   "execution_count": null,
   "id": "waiting-camel",
   "metadata": {},
   "outputs": [],
   "source": [
    "# df의 형태(행 개수, 열 개수)를 확인합니다.\n",
    "df.shape"
   ]
  },
  {
   "cell_type": "code",
   "execution_count": null,
   "id": "individual-hardwood",
   "metadata": {},
   "outputs": [],
   "source": [
    "# df의 열별 자료형을 확인합니다. [참고] 데이터프레임의 원소는 열(시리즈)입니다.\n",
    "df.dtypes"
   ]
  },
  {
   "cell_type": "code",
   "execution_count": null,
   "id": "composite-bible",
   "metadata": {},
   "outputs": [],
   "source": [
    "# df의 셀 값을 확인합니다. [참고] 데이터프레임의 셀 값은 2차원 배열입니다.\n",
    "df.values"
   ]
  },
  {
   "cell_type": "code",
   "execution_count": null,
   "id": "beneficial-latest",
   "metadata": {},
   "outputs": [],
   "source": [
    "# df의 인덱스(행이름)를 확인합니다. \n",
    "df.index"
   ]
  },
  {
   "cell_type": "code",
   "execution_count": null,
   "id": "iraqi-morgan",
   "metadata": {},
   "outputs": [],
   "source": [
    "# df의 컬럼명(열이름)을 확인합니다. \n",
    "df.columns"
   ]
  },
  {
   "cell_type": "code",
   "execution_count": null,
   "id": "collaborative-spirituality",
   "metadata": {},
   "outputs": [],
   "source": [
    "# df의 정보를 확인합니다.\n",
    "# (행 개수, 열 개수, 행이름, 열이름, 열별 결측값 아닌 원소 개수 및 자료형)\n",
    "# [주의] info()에서 괄호를 생략하면 출력 결과가 달라집니다.\n",
    "df.info()"
   ]
  },
  {
   "cell_type": "markdown",
   "id": "healthy-nowhere",
   "metadata": {},
   "source": [
    "### 데이터프레임 인덱싱 및 슬라이싱: iloc 인덱서"
   ]
  },
  {
   "cell_type": "code",
   "execution_count": null,
   "id": "material-venice",
   "metadata": {},
   "outputs": [],
   "source": [
    "# 대괄호 안에 정수 인덱스를 스칼라로 지정하면 해당 행을 시리즈로 반환합니다.\n",
    "df.iloc[0]"
   ]
  },
  {
   "cell_type": "code",
   "execution_count": null,
   "id": "noble-earthquake",
   "metadata": {},
   "outputs": [],
   "source": [
    "# 대괄호 안에 정수 인덱스를 리스트로 지정하면 해당 행을 데이터프레임으로 반환합니다.\n",
    "df.iloc[[0]]"
   ]
  },
  {
   "cell_type": "code",
   "execution_count": null,
   "id": "promotional-fight",
   "metadata": {},
   "outputs": [],
   "source": [
    "# 대괄호 안에 정수 인덱스를 슬라이스로 지정하면 해당 행을 데이터프레임으로 반환합니다.\n",
    "# [주의] 마지막 인덱스를 포함하지 않습니다.\n",
    "df.iloc[0:2]"
   ]
  },
  {
   "cell_type": "code",
   "execution_count": null,
   "id": "abstract-richards",
   "metadata": {},
   "outputs": [],
   "source": [
    "# 대괄호 안에 콤마를 추가하고 콤마 뒤에 선택할 열의 정수 인덱스를 지정합니다.\n",
    "# [참고] 전체 열을 선택하려면 콤마 오른쪽에 빈 콜론을 추가합니다.\n",
    "df.iloc[0:2, :]"
   ]
  },
  {
   "cell_type": "code",
   "execution_count": null,
   "id": "driving-curtis",
   "metadata": {},
   "outputs": [],
   "source": [
    "# 행은 전체, 열 인덱스가 0~1인 열을 데이터프레임으로 반환합니다.\n",
    "df.iloc[:, 0:2]"
   ]
  },
  {
   "cell_type": "code",
   "execution_count": null,
   "id": "early-rings",
   "metadata": {
    "scrolled": true
   },
   "outputs": [],
   "source": [
    "# 행은 전체, 열은 리스트의 원소(인덱스) 순으로 데이터프레임을 반환합니다.\n",
    "df.iloc[:, [1, 0]]"
   ]
  },
  {
   "cell_type": "markdown",
   "id": "62e56cb1",
   "metadata": {},
   "source": [
    "### 데이터프레임 인덱싱 및 슬라이싱: loc 인덱서"
   ]
  },
  {
   "cell_type": "code",
   "execution_count": null,
   "id": "wrapped-commissioner",
   "metadata": {},
   "outputs": [],
   "source": [
    "# 대괄호 안에 행이름을 스칼라로 지정하면 해당 행을 시리즈로 반환합니다.\n",
    "df.loc[1]"
   ]
  },
  {
   "cell_type": "code",
   "execution_count": null,
   "id": "worse-interface",
   "metadata": {},
   "outputs": [],
   "source": [
    "# 대괄호 안에 행이름을 리스트로 지정하면 해당 행을 데이터프레임으로 반환합니다.\n",
    "df.loc[[1]]"
   ]
  },
  {
   "cell_type": "code",
   "execution_count": null,
   "id": "confidential-veteran",
   "metadata": {},
   "outputs": [],
   "source": [
    "# 대괄호 안에 행이름을 슬라이스를 지정하면 해당 행을 데이터프레임으로 반환합니다.\n",
    "# [주의] 마지막 행이름을 포함합니다.\n",
    "df.loc[1:2]"
   ]
  },
  {
   "cell_type": "code",
   "execution_count": null,
   "id": "ancient-rapid",
   "metadata": {},
   "outputs": [],
   "source": [
    "# 대괄호 안에 콤마를 추가하고 콤마 뒤에 선택할 열이름을 지정합니다.\n",
    "# [참고] 전체 열을 선택하려면 콤마 오른쪽에 빈 콜론을 추가합니다.\n",
    "df.loc[1:2, :]"
   ]
  },
  {
   "cell_type": "code",
   "execution_count": null,
   "id": "wrapped-subdivision",
   "metadata": {},
   "outputs": [],
   "source": [
    "# 행은 전체, 열이름이 'A'~'B'인 열을 데이터프레임으로 반환합니다.\n",
    "df.loc[:, 'A':'B']"
   ]
  },
  {
   "cell_type": "code",
   "execution_count": null,
   "id": "impressed-weight",
   "metadata": {
    "scrolled": true
   },
   "outputs": [],
   "source": [
    "# 행은 전체, 열은 리스트의 원소(열이름) 순으로 데이터프레임을 반환합니다.\n",
    "df.loc[:, ['B', 'A']]"
   ]
  },
  {
   "cell_type": "markdown",
   "id": "vocational-sacrifice",
   "metadata": {},
   "source": [
    "## End of Document"
   ]
  }
 ],
 "metadata": {
  "kernelspec": {
   "display_name": "Python 3",
   "language": "python",
   "name": "python3"
  },
  "language_info": {
   "codemirror_mode": {
    "name": "ipython",
    "version": 3
   },
   "file_extension": ".py",
   "mimetype": "text/x-python",
   "name": "python",
   "nbconvert_exporter": "python",
   "pygments_lexer": "ipython3",
   "version": "3.11.1"
  },
  "toc": {
   "base_numbering": 1,
   "nav_menu": {},
   "number_sections": false,
   "sideBar": true,
   "skip_h1_title": false,
   "title_cell": "Table of Contents",
   "title_sidebar": "Contents",
   "toc_cell": false,
   "toc_position": {},
   "toc_section_display": true,
   "toc_window_display": false
  },
  "varInspector": {
   "cols": {
    "lenName": 16,
    "lenType": 16,
    "lenVar": 40
   },
   "kernels_config": {
    "python": {
     "delete_cmd_postfix": "",
     "delete_cmd_prefix": "del ",
     "library": "var_list.py",
     "varRefreshCmd": "print(var_dic_list())"
    },
    "r": {
     "delete_cmd_postfix": ") ",
     "delete_cmd_prefix": "rm(",
     "library": "var_list.r",
     "varRefreshCmd": "cat(var_dic_list()) "
    }
   },
   "types_to_exclude": [
    "module",
    "function",
    "builtin_function_or_method",
    "instance",
    "_Feature"
   ],
   "window_display": false
  }
 },
 "nbformat": 4,
 "nbformat_minor": 5
}
