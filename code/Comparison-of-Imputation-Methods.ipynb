{
 "cells": [
  {
   "cell_type": "markdown",
   "id": "b95667b0",
   "metadata": {},
   "source": [
    "## 결측값 처리\n",
    "\n",
    "무작위로 발생한 결측값에 대해 세 가지 처리 결과를 비교합니다.\n",
    "- 단순대체: 평균, 중위수\n",
    "- 회귀추정\n",
    "- 다중대체"
   ]
  },
  {
   "cell_type": "markdown",
   "id": "e0a8cd02",
   "metadata": {},
   "source": [
    "### 실습 데이터셋 준비"
   ]
  },
  {
   "cell_type": "code",
   "execution_count": null,
   "id": "0237af2e",
   "metadata": {},
   "outputs": [],
   "source": [
    "# 관련 라이브러리를 호출합니다.\n",
    "import numpy as np\n",
    "import pandas as pd\n",
    "import seaborn as sns"
   ]
  },
  {
   "cell_type": "code",
   "execution_count": null,
   "id": "00c38851",
   "metadata": {},
   "outputs": [],
   "source": [
    "# iris 데이터셋을 호출하여 df에 할당합니다.\n",
    "df = sns.load_dataset(name = 'iris')"
   ]
  },
  {
   "cell_type": "code",
   "execution_count": null,
   "id": "21e45f65",
   "metadata": {},
   "outputs": [],
   "source": [
    "# df의 정보를 확인합니다.\n",
    "df.info()"
   ]
  },
  {
   "cell_type": "code",
   "execution_count": null,
   "id": "8b02f39b",
   "metadata": {},
   "outputs": [],
   "source": [
    "# df의 처음 5행을 출력합니다.\n",
    "df.head()"
   ]
  },
  {
   "cell_type": "code",
   "execution_count": null,
   "id": "37aaba9b",
   "metadata": {
    "scrolled": true
   },
   "outputs": [],
   "source": [
    "# df에서 species가 'setosa'인 행을 선택하고 범주형 변수인 species를 삭제합니다.\n",
    "df = df[df['species'].eq('setosa')].drop(columns = ['species'])"
   ]
  },
  {
   "cell_type": "markdown",
   "id": "e394de41",
   "metadata": {},
   "source": [
    "### 무작위로 결측값 생성"
   ]
  },
  {
   "cell_type": "code",
   "execution_count": null,
   "id": "249863bc",
   "metadata": {},
   "outputs": [],
   "source": [
    "# df(원본)을 깊은 복사한 df1(복사본)을 생성합니다.\n",
    "df1 = df.copy()"
   ]
  },
  {
   "cell_type": "code",
   "execution_count": null,
   "id": "d28b65b8",
   "metadata": {},
   "outputs": [],
   "source": [
    "# 재현 가능한 결과를 얻기 위해 초기값을 설정합니다.\n",
    "np.random.seed(seed = 1)"
   ]
  },
  {
   "cell_type": "code",
   "execution_count": null,
   "id": "4fab7de7",
   "metadata": {},
   "outputs": [],
   "source": [
    "# df1의 열별로 행 길이의 20%를 무작위 결측값으로 대체합니다.\n",
    "for i in range(df.shape[1]):\n",
    "    n = int(df.shape[0] * 0.2)\n",
    "    locs = np.random.choice(a = df.index, size = n, replace = False)\n",
    "    df1.iloc[locs, i] = pd.NA"
   ]
  },
  {
   "cell_type": "code",
   "execution_count": null,
   "id": "2426cc67",
   "metadata": {
    "scrolled": true
   },
   "outputs": [],
   "source": [
    "# 결측값을 강조하도록 설정합니다.\n",
    "df1.style.highlight_null(color = 'red')"
   ]
  },
  {
   "cell_type": "markdown",
   "id": "7b963f28",
   "metadata": {},
   "source": [
    "### 결측값 패턴 확인"
   ]
  },
  {
   "cell_type": "raw",
   "id": "76896199",
   "metadata": {},
   "source": [
    "# missingno 라이브러리를 설치합니다.\n",
    "!pip install missingno"
   ]
  },
  {
   "cell_type": "code",
   "execution_count": null,
   "id": "cc61fe4b",
   "metadata": {},
   "outputs": [],
   "source": [
    "# 관련 라이브러리를 호출합니다.\n",
    "import missingno as msno"
   ]
  },
  {
   "cell_type": "code",
   "execution_count": null,
   "id": "5c3460cf",
   "metadata": {},
   "outputs": [],
   "source": [
    "# 결측값(흰색) 패턴을 확인합니다.\n",
    "# [참고] 여러 열에서 결측값이 있다면 열(변수)의 관계를 확인해야 합니다.\n",
    "msno.matrix(df = df1);"
   ]
  },
  {
   "cell_type": "markdown",
   "id": "49ea172b",
   "metadata": {},
   "source": [
    "### 단순대체\n",
    "\n",
    "- mean: 평균\n",
    "- median: 중위수\n",
    "- most_frequent: 최빈값\n",
    "- constant: 상수"
   ]
  },
  {
   "cell_type": "raw",
   "id": "88dda7b0",
   "metadata": {},
   "source": [
    "# scikit 라이브러리를 설치합니다.\n",
    "!pip install scikit_learn"
   ]
  },
  {
   "cell_type": "code",
   "execution_count": null,
   "id": "23299a13",
   "metadata": {},
   "outputs": [],
   "source": [
    "# 관련 라이브러리를 호출합니다.\n",
    "from sklearn.impute import SimpleImputer"
   ]
  },
  {
   "cell_type": "code",
   "execution_count": null,
   "id": "a1460b1d",
   "metadata": {},
   "outputs": [],
   "source": [
    "# 결측값을 대체하는 함수를 생성합니다.\n",
    "# [주의] X 매개변수에 수치형 변수만 데이터프레임 또는 2차원 배열로 지정해야 합니다.\n",
    "def imputation(imputer, X):\n",
    "    imputed = imputer.fit_transform(X)\n",
    "    imputed = pd.DataFrame(data = imputed, columns = X.columns)\n",
    "    return imputed"
   ]
  },
  {
   "cell_type": "code",
   "execution_count": null,
   "id": "3f96c293",
   "metadata": {
    "scrolled": true
   },
   "outputs": [],
   "source": [
    "# 평균으로 단순대체한 결과를 si에 할당합니다.\n",
    "si = imputation(\n",
    "    imputer = SimpleImputer(strategy = 'mean'), \n",
    "    X = df1\n",
    ")"
   ]
  },
  {
   "cell_type": "code",
   "execution_count": null,
   "id": "3ea93d16",
   "metadata": {},
   "outputs": [],
   "source": [
    "# si의 처음 5행을 출력합니다.\n",
    "si.head()"
   ]
  },
  {
   "cell_type": "markdown",
   "id": "7eb67b49",
   "metadata": {},
   "source": [
    "### 다중대체\n",
    "\n",
    "더이상 mice 라이브러리를 지원하지 않는 것으로 보임"
   ]
  },
  {
   "cell_type": "code",
   "execution_count": null,
   "id": "bdcf84d1",
   "metadata": {},
   "outputs": [],
   "source": [
    "# 관련 라이브러리를 호출합니다.\n",
    "from sklearn.experimental import enable_iterative_imputer\n",
    "from sklearn.impute import IterativeImputer"
   ]
  },
  {
   "cell_type": "code",
   "execution_count": null,
   "id": "71c63b46",
   "metadata": {},
   "outputs": [],
   "source": [
    "# 회귀추정값으로 다중대체한 결과를 multi1에 할당합니다.\n",
    "mi = imputation(\n",
    "    imputer = IterativeImputer(max_iter = 100, random_state = 0),\n",
    "    X = df1\n",
    ")"
   ]
  },
  {
   "cell_type": "code",
   "execution_count": null,
   "id": "1e37d39a",
   "metadata": {},
   "outputs": [],
   "source": [
    "# mi의 처음 5행을 출력합니다.\n",
    "mi.head()"
   ]
  },
  {
   "cell_type": "markdown",
   "id": "8e5287e7",
   "metadata": {},
   "source": [
    "### 원본과 대체값 비교"
   ]
  },
  {
   "cell_type": "code",
   "execution_count": null,
   "id": "58e35887",
   "metadata": {},
   "outputs": [],
   "source": [
    "# 원본과 대체값을 비교하는 함수를 생성합니다.\n",
    "def comparison(varname, origin = df, missing = df1, single = si, multi = mi):\n",
    "    \n",
    "    # df1의 열이름에서 결측값인 인덱스를 생성합니다.\n",
    "    locs = np.where(missing[varname].isna())\n",
    "    \n",
    "    # origin과 single, multi imputed의 지정된 열을 가로 방향으로 결합합니다.\n",
    "    merged = pd.concat(\n",
    "        objs = [origin[varname], single[varname], multi[varname]], \n",
    "        axis = 1\n",
    "    )\n",
    "    \n",
    "    # merged의 열이름을 변경합니다.\n",
    "    merged.columns = ['원본', '단순대체', '다중대체']\n",
    "    \n",
    "    # 결측값인 행만 반환합니다.\n",
    "    return merged.loc[locs]"
   ]
  },
  {
   "cell_type": "code",
   "execution_count": null,
   "id": "3f0f85cf",
   "metadata": {
    "scrolled": true
   },
   "outputs": [],
   "source": [
    "# sepal_length를 평균으로 단순대체한 결과를 원본과 비교합니다.\n",
    "comparison(varname = 'sepal_length')"
   ]
  },
  {
   "cell_type": "markdown",
   "id": "d2a6c9c5",
   "metadata": {},
   "source": [
    "## End of Document"
   ]
  }
 ],
 "metadata": {
  "kernelspec": {
   "display_name": "Python 3",
   "language": "python",
   "name": "python3"
  },
  "language_info": {
   "codemirror_mode": {
    "name": "ipython",
    "version": 3
   },
   "file_extension": ".py",
   "mimetype": "text/x-python",
   "name": "python",
   "nbconvert_exporter": "python",
   "pygments_lexer": "ipython3",
   "version": "3.11.1"
  },
  "varInspector": {
   "cols": {
    "lenName": 16,
    "lenType": 16,
    "lenVar": 40
   },
   "kernels_config": {
    "python": {
     "delete_cmd_postfix": "",
     "delete_cmd_prefix": "del ",
     "library": "var_list.py",
     "varRefreshCmd": "print(var_dic_list())"
    },
    "r": {
     "delete_cmd_postfix": ") ",
     "delete_cmd_prefix": "rm(",
     "library": "var_list.r",
     "varRefreshCmd": "cat(var_dic_list()) "
    }
   },
   "types_to_exclude": [
    "module",
    "function",
    "builtin_function_or_method",
    "instance",
    "_Feature"
   ],
   "window_display": false
  }
 },
 "nbformat": 4,
 "nbformat_minor": 5
}
