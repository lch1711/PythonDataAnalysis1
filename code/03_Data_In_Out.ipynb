{
 "cells": [
  {
   "cell_type": "markdown",
   "id": "a97a133f",
   "metadata": {},
   "source": [
    "## 데이터 입출력"
   ]
  },
  {
   "cell_type": "markdown",
   "id": "6112dd7f",
   "metadata": {},
   "source": [
    "### 관련 라이브러리 호출"
   ]
  },
  {
   "cell_type": "code",
   "execution_count": null,
   "id": "119f04a1",
   "metadata": {},
   "outputs": [],
   "source": [
    "# 관련 라이브러리를 호출합니다.\n",
    "import os\n",
    "import chardet\n",
    "import joblib\n",
    "import numpy as np\n",
    "import pandas as pd"
   ]
  },
  {
   "cell_type": "markdown",
   "id": "7cfe26c4",
   "metadata": {},
   "source": [
    "### 작업 경로 확인 및 변경"
   ]
  },
  {
   "cell_type": "code",
   "execution_count": null,
   "id": "a2915472",
   "metadata": {},
   "outputs": [],
   "source": [
    "# 현재 작업 경로를 확인합니다.\n",
    "# [참고] Jupyter Notebook 파일이 있는 폴더로 현재 작업 경로를 자동 설정합니다.\n",
    "os.getcwd()"
   ]
  },
  {
   "cell_type": "code",
   "execution_count": null,
   "id": "a31e3814",
   "metadata": {},
   "outputs": [],
   "source": [
    "# 데이터 파일이 있는 폴더로 작업 경로를 변경합니다.(절대 경로)\n",
    "os.chdir(path = '여기에 data 폴더를 지정하세요.')\n",
    "os.getcwd()"
   ]
  },
  {
   "cell_type": "code",
   "execution_count": null,
   "id": "175403cf",
   "metadata": {},
   "outputs": [],
   "source": [
    "# 현재 작업 경로의 부모 폴더로 작업 경로를 변경합니다.(상대 경로)\n",
    "os.chdir(path = '..')\n",
    "os.getcwd()"
   ]
  },
  {
   "cell_type": "code",
   "execution_count": null,
   "id": "dc0f5f20",
   "metadata": {},
   "outputs": [],
   "source": [
    "# 현재 작업 경로의 자식 폴더로 작업 경로를 변경합니다.(상대 경로)\n",
    "# [참고] './'를 생략할 수 있습니다.\n",
    "os.chdir(path = './code')\n",
    "os.getcwd()"
   ]
  },
  {
   "cell_type": "code",
   "execution_count": null,
   "id": "ddab53dc",
   "metadata": {},
   "outputs": [],
   "source": [
    "# 현재 작업 경로의 형제 폴더로 작업 경로를 변경합니다.(상대 경로)\n",
    "# [주의] '..'을 생략할 수 없습니다.\n",
    "os.chdir(path = '../data')\n",
    "os.getcwd()"
   ]
  },
  {
   "cell_type": "markdown",
   "id": "24d583b6",
   "metadata": {},
   "source": [
    "### 작업 경로에 있는 폴더명, 파일명 확인"
   ]
  },
  {
   "cell_type": "code",
   "execution_count": null,
   "id": "cde6ff5b",
   "metadata": {},
   "outputs": [],
   "source": [
    "# 현재 작업 경로에 임시 폴더를 생성합니다.\n",
    "os.mkdir(path = 'temp')"
   ]
  },
  {
   "cell_type": "code",
   "execution_count": null,
   "id": "3e57e1ad",
   "metadata": {},
   "outputs": [],
   "source": [
    "# 현재 작업 경로에 있는 폴더명과 파일명을 출력합니다.\n",
    "# [참고] Windows에서 왼쪽 코드를 실행하면 오름차순 정렬한 결과를 반환합니다.\n",
    "os.listdir()"
   ]
  },
  {
   "cell_type": "code",
   "execution_count": null,
   "id": "deb74835",
   "metadata": {},
   "outputs": [],
   "source": [
    "# [참고] MacOS은 오름차순 정렬하지 않으므로 sorted()를 추가 실행합니다.\n",
    "sorted(os.listdir())"
   ]
  },
  {
   "cell_type": "code",
   "execution_count": null,
   "id": "75bd8f4b",
   "metadata": {},
   "outputs": [],
   "source": [
    "# 현재 작업 경로에 있는 빈 폴더를 삭제합니다.\n",
    "os.rmdir(path = 'temp')"
   ]
  },
  {
   "cell_type": "markdown",
   "id": "a23a31cb",
   "metadata": {},
   "source": [
    "### [참고] 특정 문자열을 포함하는 파일명 선택"
   ]
  },
  {
   "cell_type": "code",
   "execution_count": null,
   "id": "10e7372d",
   "metadata": {},
   "outputs": [],
   "source": [
    "# for 반복문으로 'xlsx'을 포함하는 파일명을 리스트로 반환합니다.\n",
    "for file in os.listdir():\n",
    "    if 'xlsx' in file:\n",
    "        print(file)"
   ]
  },
  {
   "cell_type": "code",
   "execution_count": null,
   "id": "1b35f53e",
   "metadata": {},
   "outputs": [],
   "source": [
    "# 리스트 컴프리헨션으로 'xlsx'을 포함하는 파일명을 리스트로 반환합니다.\n",
    "[file for file in os.listdir() if 'xlsx' in file]"
   ]
  },
  {
   "cell_type": "markdown",
   "id": "a9a27e9e",
   "metadata": {},
   "source": [
    "### xlsx 파일 읽기"
   ]
  },
  {
   "cell_type": "code",
   "execution_count": null,
   "id": "d8bc7b6d",
   "metadata": {},
   "outputs": [],
   "source": [
    "# xlsx 파일명을 재사용할 수 있도록 변수에 할당합니다.\n",
    "fileName = 'APT_Price_Seoul_2020_2022.xlsx'"
   ]
  },
  {
   "cell_type": "code",
   "execution_count": null,
   "id": "sustained-blank",
   "metadata": {
    "scrolled": true
   },
   "outputs": [],
   "source": [
    "# xlsx 파일을 읽고 데이터프레임을 생성합니다.\n",
    "pd.read_excel(io = fileName)"
   ]
  },
  {
   "cell_type": "markdown",
   "id": "israeli-water",
   "metadata": {},
   "source": [
    "### xlsx 파일 입출력"
   ]
  },
  {
   "cell_type": "code",
   "execution_count": null,
   "id": "9f167bdd",
   "metadata": {},
   "outputs": [],
   "source": [
    "%%time\n",
    "\n",
    "# xlsx 파일의 모든 시트를 읽고 데이터프레임이 값인 딕셔너리를 반환합니다.\n",
    "dfs = pd.read_excel(io = fileName, \n",
    "                    sheet_name = None, \n",
    "                    usecols = range(1, 12), \n",
    "                    skiprows = 3, \n",
    "                    thousands = ',')"
   ]
  },
  {
   "cell_type": "code",
   "execution_count": null,
   "id": "1d1f39bd",
   "metadata": {},
   "outputs": [],
   "source": [
    "# dfs를 출력합니다.\n",
    "# [참고] dfs는 키가 시트명이고 값이 데이터프레임인 딕셔너리입니다.\n",
    "dfs"
   ]
  },
  {
   "cell_type": "code",
   "execution_count": null,
   "id": "da9d2a75",
   "metadata": {},
   "outputs": [],
   "source": [
    "# 최종 결과를 저장할 빈 데이터프레임을 생성합니다.\n",
    "df1 = pd.DataFrame()\n",
    "\n",
    "# 반복문으로 dfs의 값(데이터프레임)을 행(세로) 방향으로 결합합니다.\n",
    "for key in dfs.keys():\n",
    "    df1 = pd.concat(objs = [df1, dfs[key]], ignore_index = True)"
   ]
  },
  {
   "cell_type": "code",
   "execution_count": null,
   "id": "18773439",
   "metadata": {},
   "outputs": [],
   "source": [
    "# df1의 정보를 확인합니다.\n",
    "df1.info()"
   ]
  },
  {
   "cell_type": "code",
   "execution_count": null,
   "id": "derived-result",
   "metadata": {},
   "outputs": [],
   "source": [
    "# df1을 xlsx 파일로 저장합니다.\n",
    "# [참고] index 매개변수에 False를 지정하면 인덱스를 생략합니다.\n",
    "%time df1.to_excel(excel_writer = 'test.xlsx', index = False)"
   ]
  },
  {
   "cell_type": "markdown",
   "id": "b14579d6",
   "metadata": {},
   "source": [
    "### [참고] 데이터프레임 행/열 최대 출력 옵션 변경"
   ]
  },
  {
   "cell_type": "raw",
   "id": "c6bfb080",
   "metadata": {
    "scrolled": true
   },
   "source": [
    "# 최대 행 출력 옵션을 확인합니다.\n",
    "# [참고] 최대 열 출력 개수는 max_columns를 사용합니다.\n",
    "pd.get_option('display.max_rows')"
   ]
  },
  {
   "cell_type": "raw",
   "id": "e536149f",
   "metadata": {},
   "source": [
    "# 전체 행을 출력하도록 최대 행 출력 옵션을 변경합니다.\n",
    "pd.set_option('display.max_rows', None)"
   ]
  },
  {
   "cell_type": "raw",
   "id": "270e493b",
   "metadata": {},
   "source": [
    "# 데이터프레임을 실행하면 전체 행을 출력합니다.\n",
    "# [주의] 전체 행을 출력하면 Jupyter Notebook이 느려지고 경우에 따라 다운됩니다.\n",
    "df1"
   ]
  },
  {
   "cell_type": "raw",
   "id": "ca40febc",
   "metadata": {},
   "source": [
    "# 최대 행 출력 옵션을 초기화합니다.\n",
    "# [참고] 전체 옵션을 초기화하려면 'display.max_rows' 대신 'all'을 지정합니다.\n",
    "pd.reset_option('display.max_rows')"
   ]
  },
  {
   "cell_type": "markdown",
   "id": "8c5abbc0",
   "metadata": {},
   "source": [
    "### 데이터프레임 미리보기"
   ]
  },
  {
   "cell_type": "code",
   "execution_count": null,
   "id": "fcab08cb",
   "metadata": {},
   "outputs": [],
   "source": [
    "# df1의 처음 5행을 출력합니다.\n",
    "# [참고] n 매개변수에 지정한 정수만큼 출력합니다.(기본값: 5)\n",
    "df1.head()"
   ]
  },
  {
   "cell_type": "code",
   "execution_count": null,
   "id": "4360bfc1",
   "metadata": {
    "scrolled": true
   },
   "outputs": [],
   "source": [
    "# df1의 처음 10행을 출력합니다.\n",
    "df1.head(n = 10)"
   ]
  },
  {
   "cell_type": "code",
   "execution_count": null,
   "id": "a0f2902e",
   "metadata": {},
   "outputs": [],
   "source": [
    "# df1의 마지막 5행을 출력합니다.\n",
    "df1.tail()"
   ]
  },
  {
   "cell_type": "code",
   "execution_count": null,
   "id": "7238ce41",
   "metadata": {},
   "outputs": [],
   "source": [
    "# df1에서 무작위로 1행을 선택합니다.\n",
    "# [참고] n 매개변수에 지정한 정수만큼 출력합니다.(기본값: None)\n",
    "# [참고] random_state 매개변수에 같은 정수를 지정하면 항상 같은 결과를 반환합니다.\n",
    "df1.sample()"
   ]
  },
  {
   "cell_type": "markdown",
   "id": "e0fbc2e7",
   "metadata": {},
   "source": [
    "### csv 파일 읽기"
   ]
  },
  {
   "cell_type": "code",
   "execution_count": null,
   "id": "3a25e18b",
   "metadata": {},
   "outputs": [],
   "source": [
    "# 현재 작업 경로에 있는 폴더명과 파일명을 files에 할당합니다.\n",
    "files = os.listdir()"
   ]
  },
  {
   "cell_type": "code",
   "execution_count": null,
   "id": "887fb7f7",
   "metadata": {},
   "outputs": [],
   "source": [
    "# 'csv'와 'Price'를 함께 포함하는 파일명을 fileNames에 할당합니다.\n",
    "fileNames = [file for file in files if 'csv' in file and 'Price' in file]\n",
    "fileNames"
   ]
  },
  {
   "cell_type": "code",
   "execution_count": null,
   "id": "3e9f59fa",
   "metadata": {
    "scrolled": true
   },
   "outputs": [],
   "source": [
    "# fileNames의 첫 번째 원소(csv 파일명)를 읽고 데이터프레임을 생성합니다.\n",
    "# [주의] csv 파일의 문자 인코딩 방식이 'ASCII' 또는 'UTF-8'이 아니면 에러를 반환합니다.\n",
    "pd.read_csv(filepath_or_buffer = fileNames[0])"
   ]
  },
  {
   "cell_type": "markdown",
   "id": "d81853cb",
   "metadata": {},
   "source": [
    "### csv 파일의 문자 인코딩 방식 확인"
   ]
  },
  {
   "cell_type": "code",
   "execution_count": null,
   "id": "willing-transcription",
   "metadata": {},
   "outputs": [],
   "source": [
    "# csv 파일을 bytes로 읽고 text에 할당합니다.\n",
    "# [참고] with 문에서 나오면서 close()를 호출합니다.\n",
    "with open(file = fileNames[0], mode = 'rb') as file:\n",
    "    text = file.read()"
   ]
  },
  {
   "cell_type": "code",
   "execution_count": null,
   "id": "bdd2fa21",
   "metadata": {},
   "outputs": [],
   "source": [
    "# text의 일부를 출력합니다.\n",
    "# [참고] text는 ASCII로 인코딩된 문자열이므로 사람이 읽기 어렵습니다.\n",
    "# [참고] 따옴표 왼쪽에 b가 보이면 bytes 자료형입니다.\n",
    "text[:100]"
   ]
  },
  {
   "cell_type": "code",
   "execution_count": null,
   "id": "45aae9ba",
   "metadata": {},
   "outputs": [],
   "source": [
    "# text의 일부에 사용된 문자 인코딩 방식과 신뢰도를 확인합니다.\n",
    "# [주의] 지정한 문자열에 따라 결과가 달라질 수 있습니다.\n",
    "chardet.detect(text[:100])"
   ]
  },
  {
   "cell_type": "markdown",
   "id": "664c4ced",
   "metadata": {},
   "source": [
    "### csv 파일 입출력"
   ]
  },
  {
   "cell_type": "code",
   "execution_count": null,
   "id": "3d3ce0d3",
   "metadata": {},
   "outputs": [],
   "source": [
    "%%time\n",
    "\n",
    "# 최종 결과를 저장할 빈 데이터프레임을 생성합니다.\n",
    "df2 = pd.DataFrame()\n",
    "\n",
    "# 반복문으로 csv 파일을 읽고 데이터프레임을 행(세로) 방향으로 결합합니다.\n",
    "for fileName in fileNames:\n",
    "    df = pd.read_csv(filepath_or_buffer = fileName, \n",
    "                     encoding = 'CP949', \n",
    "                     parse_dates = ['거래일'])\n",
    "    df2 = pd.concat(objs = [df2, df], ignore_index = True)"
   ]
  },
  {
   "cell_type": "code",
   "execution_count": null,
   "id": "755dbbf5",
   "metadata": {},
   "outputs": [],
   "source": [
    "# df2의 정보를 확인합니다.\n",
    "df2.info()"
   ]
  },
  {
   "cell_type": "code",
   "execution_count": null,
   "id": "endless-operator",
   "metadata": {},
   "outputs": [],
   "source": [
    "# df2를 csv 파일로 저장합니다.\n",
    "%time df2.to_csv(path_or_buf = 'APT_Price_Seoul_2020_2022.csv', \\\n",
    "                 encoding = 'UTF-8', \\\n",
    "                 index = False)"
   ]
  },
  {
   "cell_type": "markdown",
   "id": "7cdcbc16",
   "metadata": {},
   "source": [
    "### 압축 파일 입출력"
   ]
  },
  {
   "cell_type": "code",
   "execution_count": null,
   "id": "75ea3245",
   "metadata": {},
   "outputs": [],
   "source": [
    "# df2를 확장자가 z인 압축 파일로 저장합니다.\n",
    "%time joblib.dump(value = df2, filename = 'test.z')"
   ]
  },
  {
   "cell_type": "code",
   "execution_count": null,
   "id": "2ebedc2e",
   "metadata": {},
   "outputs": [],
   "source": [
    "# z 파일을 읽고 df3에 할당합니다.\n",
    "%time df3 = joblib.load(filename = 'test.z')"
   ]
  },
  {
   "cell_type": "code",
   "execution_count": null,
   "id": "03985f03",
   "metadata": {},
   "outputs": [],
   "source": [
    "# df3의 정보를 확인합니다.\n",
    "df3.info()"
   ]
  },
  {
   "cell_type": "markdown",
   "id": "02bdd250",
   "metadata": {},
   "source": [
    "### [참고] 여러 개의 파이썬 객체를 압축 파일로 저장"
   ]
  },
  {
   "cell_type": "code",
   "execution_count": null,
   "id": "2e7f97c8",
   "metadata": {},
   "outputs": [],
   "source": [
    "# 여러 개의 파이썬 객체를 리스트로 묶어서 압축 파일로 저장합니다.\n",
    "joblib.dump(value = [df1, df2, df3], filename = 'testAll.z')"
   ]
  },
  {
   "cell_type": "code",
   "execution_count": null,
   "id": "ee0de559",
   "metadata": {},
   "outputs": [],
   "source": [
    "# z 파일을 읽으면 파이썬 객체를 원소로 갖는 리스트를 반환합니다.\n",
    "joblib.load(filename = 'testAll.z')"
   ]
  },
  {
   "cell_type": "code",
   "execution_count": null,
   "id": "6e8bd96c",
   "metadata": {},
   "outputs": [],
   "source": [
    "# z 파일을 읽은 결과(리스트)를 여러 변수명으로 언패킹합니다.\n",
    "df4, df5, df6 = joblib.load(filename = 'testAll.z')"
   ]
  },
  {
   "cell_type": "markdown",
   "id": "983e9fef",
   "metadata": {},
   "source": [
    "### [참고] 실습 파일 삭제"
   ]
  },
  {
   "cell_type": "code",
   "execution_count": null,
   "id": "73b35402",
   "metadata": {},
   "outputs": [],
   "source": [
    "# 현재 작업 경로에서 'test'를 포함하는 파일명을 fileNames에 할당합니다.\n",
    "fileNames = [file for file in os.listdir() if 'test' in file]\n",
    "fileNames"
   ]
  },
  {
   "cell_type": "code",
   "execution_count": null,
   "id": "ec7f1f6c",
   "metadata": {},
   "outputs": [],
   "source": [
    "# 반복문으로 해당 파일을 모두 삭제합니다.\n",
    "for fileName in fileNames:\n",
    "    os.remove(path = fileName)"
   ]
  },
  {
   "cell_type": "markdown",
   "id": "vocational-sacrifice",
   "metadata": {},
   "source": [
    "## End of Document"
   ]
  }
 ],
 "metadata": {
  "kernelspec": {
   "display_name": "Python 3",
   "language": "python",
   "name": "python3"
  },
  "language_info": {
   "codemirror_mode": {
    "name": "ipython",
    "version": 3
   },
   "file_extension": ".py",
   "mimetype": "text/x-python",
   "name": "python",
   "nbconvert_exporter": "python",
   "pygments_lexer": "ipython3",
   "version": "3.11.1"
  },
  "toc": {
   "base_numbering": 1,
   "nav_menu": {},
   "number_sections": false,
   "sideBar": true,
   "skip_h1_title": false,
   "title_cell": "Table of Contents",
   "title_sidebar": "Contents",
   "toc_cell": false,
   "toc_position": {},
   "toc_section_display": true,
   "toc_window_display": false
  },
  "varInspector": {
   "cols": {
    "lenName": 16,
    "lenType": 16,
    "lenVar": 40
   },
   "kernels_config": {
    "python": {
     "delete_cmd_postfix": "",
     "delete_cmd_prefix": "del ",
     "library": "var_list.py",
     "varRefreshCmd": "print(var_dic_list())"
    },
    "r": {
     "delete_cmd_postfix": ") ",
     "delete_cmd_prefix": "rm(",
     "library": "var_list.r",
     "varRefreshCmd": "cat(var_dic_list()) "
    }
   },
   "types_to_exclude": [
    "module",
    "function",
    "builtin_function_or_method",
    "instance",
    "_Feature"
   ],
   "window_display": false
  }
 },
 "nbformat": 4,
 "nbformat_minor": 5
}
